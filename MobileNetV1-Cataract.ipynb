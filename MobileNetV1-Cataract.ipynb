{
 "cells": [
  {
   "cell_type": "code",
   "execution_count": 1,
   "id": "b5e2968b",
   "metadata": {},
   "outputs": [],
   "source": [
    "from keras.layers import Input, Lambda, Dense, Flatten\n",
    "from keras.models import Model\n",
    "from keras.applications.mobilenet import MobileNet\n",
    "from keras.applications.vgg16 import preprocess_input\n",
    "from keras.preprocessing import image\n",
    "from keras.preprocessing.image import ImageDataGenerator\n",
    "from keras.models import Sequential\n",
    "import numpy as np\n",
    "from glob import glob\n",
    "import matplotlib.pyplot as plt"
   ]
  },
  {
   "cell_type": "code",
   "execution_count": 2,
   "id": "c00a89f6",
   "metadata": {},
   "outputs": [],
   "source": [
    "# re-size all the images to this\n",
    "IMAGE_SIZE = [224, 224]\n",
    "\n",
    "\n",
    "train_path = 'D:/CatractImagesMobileNet/cataract/CatractDataset/Training-dataset/'\n",
    "valid_path = 'D:/CatractImagesMobileNet/cataract/CatractDataset/Test-Dataset/'\n",
    "\n",
    "# add preprocessing layer to the front of VGG\n",
    "mbnt = MobileNet(input_shape=IMAGE_SIZE + [3], weights='imagenet', include_top=False)"
   ]
  },
  {
   "cell_type": "code",
   "execution_count": 3,
   "id": "4ada9778",
   "metadata": {},
   "outputs": [
    {
     "name": "stdout",
     "output_type": "stream",
     "text": [
      "D:\\CatractImagesMobileNet\\cataract\\CatractDataset\\Test-Dataset\\cataract\\cataract_061.png\n",
      "D:\\CatractImagesMobileNet\\cataract\\CatractDataset\\Test-Dataset\\cataract\\cataract_062.png\n",
      "D:\\CatractImagesMobileNet\\cataract\\CatractDataset\\Test-Dataset\\cataract\\cataract_063.png\n",
      "D:\\CatractImagesMobileNet\\cataract\\CatractDataset\\Test-Dataset\\cataract\\cataract_064.png\n",
      "D:\\CatractImagesMobileNet\\cataract\\CatractDataset\\Test-Dataset\\cataract\\cataract_065.png\n",
      "D:\\CatractImagesMobileNet\\cataract\\CatractDataset\\Test-Dataset\\cataract\\cataract_066.png\n",
      "D:\\CatractImagesMobileNet\\cataract\\CatractDataset\\Test-Dataset\\cataract\\cataract_067.png\n",
      "D:\\CatractImagesMobileNet\\cataract\\CatractDataset\\Test-Dataset\\cataract\\cataract_068.png\n",
      "D:\\CatractImagesMobileNet\\cataract\\CatractDataset\\Test-Dataset\\cataract\\cataract_069.png\n",
      "D:\\CatractImagesMobileNet\\cataract\\CatractDataset\\Test-Dataset\\cataract\\cataract_070.png\n",
      "D:\\CatractImagesMobileNet\\cataract\\CatractDataset\\Test-Dataset\\cataract\\cataract_071.png\n",
      "D:\\CatractImagesMobileNet\\cataract\\CatractDataset\\Test-Dataset\\cataract\\cataract_072.png\n",
      "D:\\CatractImagesMobileNet\\cataract\\CatractDataset\\Test-Dataset\\cataract\\cataract_073.png\n",
      "D:\\CatractImagesMobileNet\\cataract\\CatractDataset\\Test-Dataset\\cataract\\cataract_074.png\n",
      "D:\\CatractImagesMobileNet\\cataract\\CatractDataset\\Test-Dataset\\cataract\\cataract_075.png\n",
      "D:\\CatractImagesMobileNet\\cataract\\CatractDataset\\Test-Dataset\\cataract\\cataract_076.png\n",
      "D:\\CatractImagesMobileNet\\cataract\\CatractDataset\\Test-Dataset\\cataract\\cataract_077.png\n",
      "D:\\CatractImagesMobileNet\\cataract\\CatractDataset\\Test-Dataset\\cataract\\cataract_078.png\n",
      "D:\\CatractImagesMobileNet\\cataract\\CatractDataset\\Test-Dataset\\cataract\\cataract_079.png\n",
      "D:\\CatractImagesMobileNet\\cataract\\CatractDataset\\Test-Dataset\\cataract\\cataract_080.png\n",
      "D:\\CatractImagesMobileNet\\cataract\\CatractDataset\\Test-Dataset\\normal\\NL_061.png\n",
      "D:\\CatractImagesMobileNet\\cataract\\CatractDataset\\Test-Dataset\\normal\\NL_062.png\n",
      "D:\\CatractImagesMobileNet\\cataract\\CatractDataset\\Test-Dataset\\normal\\NL_063.png\n",
      "D:\\CatractImagesMobileNet\\cataract\\CatractDataset\\Test-Dataset\\normal\\NL_064.png\n",
      "D:\\CatractImagesMobileNet\\cataract\\CatractDataset\\Test-Dataset\\normal\\NL_065.png\n",
      "D:\\CatractImagesMobileNet\\cataract\\CatractDataset\\Test-Dataset\\normal\\NL_066.png\n",
      "D:\\CatractImagesMobileNet\\cataract\\CatractDataset\\Test-Dataset\\normal\\NL_067.png\n",
      "D:\\CatractImagesMobileNet\\cataract\\CatractDataset\\Test-Dataset\\normal\\NL_068.png\n",
      "D:\\CatractImagesMobileNet\\cataract\\CatractDataset\\Test-Dataset\\normal\\NL_069.png\n",
      "D:\\CatractImagesMobileNet\\cataract\\CatractDataset\\Test-Dataset\\normal\\NL_070.png\n",
      "D:\\CatractImagesMobileNet\\cataract\\CatractDataset\\Test-Dataset\\normal\\NL_071.png\n",
      "D:\\CatractImagesMobileNet\\cataract\\CatractDataset\\Test-Dataset\\normal\\NL_072.png\n",
      "D:\\CatractImagesMobileNet\\cataract\\CatractDataset\\Test-Dataset\\normal\\NL_073.png\n",
      "D:\\CatractImagesMobileNet\\cataract\\CatractDataset\\Test-Dataset\\normal\\NL_074.png\n",
      "D:\\CatractImagesMobileNet\\cataract\\CatractDataset\\Test-Dataset\\normal\\NL_075.png\n",
      "D:\\CatractImagesMobileNet\\cataract\\CatractDataset\\Test-Dataset\\normal\\NL_076.png\n",
      "D:\\CatractImagesMobileNet\\cataract\\CatractDataset\\Test-Dataset\\normal\\NL_077.png\n",
      "D:\\CatractImagesMobileNet\\cataract\\CatractDataset\\Test-Dataset\\normal\\NL_078.png\n",
      "D:\\CatractImagesMobileNet\\cataract\\CatractDataset\\Test-Dataset\\normal\\NL_079.png\n",
      "D:\\CatractImagesMobileNet\\cataract\\CatractDataset\\Test-Dataset\\normal\\NL_080.png\n"
     ]
    }
   ],
   "source": [
    "import xlsxwriter\n",
    "workbook = xlsxwriter.Workbook('D:/CatractImagesMobileNet/cataract/files/MobileNetCatractImagesAnalysis.xlsx')\n",
    "worksheet1 = workbook.add_worksheet()\n",
    "row=0\n",
    "col=0\n",
    "imageCount=0\n",
    "worksheet1.write(row, 0, str(\"Analysis of Image\"))\n",
    "worksheet1.write(row, 1, str(\"Actual Object\"))\n",
    "worksheet1.write(row, 2, str(\"Percentage for Detected Object\"))\n",
    "worksheet1.write(row, 3, str(\"Detected Object\"))\n",
    "import os\n",
    "\n",
    "row=1\n",
    "for path, currentDirectory, files in os.walk(\"D:\\CatractImagesMobileNet\\cataract\\CatractDataset\\Test-Dataset\"):\n",
    "    for file in files:\n",
    "        print(os.path.join(path, file))\n",
    "        imageCount=imageCount + 1\n",
    "        worksheet1.write(row, 0, str(\"Image-\" + str(imageCount)))\n",
    "        row=row+1\n",
    "        "
   ]
  },
  {
   "cell_type": "code",
   "execution_count": 4,
   "id": "08fc6f09",
   "metadata": {},
   "outputs": [
    {
     "data": {
      "text/plain": [
       "40"
      ]
     },
     "execution_count": 4,
     "metadata": {},
     "output_type": "execute_result"
    }
   ],
   "source": [
    "imageCount"
   ]
  },
  {
   "cell_type": "code",
   "execution_count": 5,
   "id": "0f3da374",
   "metadata": {},
   "outputs": [],
   "source": [
    "# don't train existing weights\n",
    "for layer in mbnt.layers:\n",
    "    layer.trainable = False"
   ]
  },
  {
   "cell_type": "code",
   "execution_count": 6,
   "id": "70b443ae",
   "metadata": {},
   "outputs": [
    {
     "name": "stdout",
     "output_type": "stream",
     "text": [
      "2\n"
     ]
    }
   ],
   "source": [
    "  # useful for getting number of classes\n",
    "folders = glob('D:/CatractImagesMobileNet/cataract/CatractDataset/Training-dataset/*')\n",
    "print(len(folders))"
   ]
  },
  {
   "cell_type": "code",
   "execution_count": 7,
   "id": "d2a04a2f",
   "metadata": {},
   "outputs": [],
   "source": [
    "# our layers - you can add more if you want\n",
    "x = Flatten()(mbnt.output)\n",
    "x = Dense(200, activation='relu')(x)\n",
    "x = Dense(100, activation='relu')(x)\n",
    "prediction = Dense(len(folders), activation='softmax')(x)\n",
    "#prediction = Dense(1, activation='sigmoid')(x)\n"
   ]
  },
  {
   "cell_type": "code",
   "execution_count": null,
   "id": "24278b59",
   "metadata": {},
   "outputs": [],
   "source": []
  },
  {
   "cell_type": "code",
   "execution_count": 8,
   "id": "203ef353",
   "metadata": {},
   "outputs": [],
   "source": [
    "# create a model object\n",
    "model = Model(inputs=mbnt.input, outputs=prediction)"
   ]
  },
  {
   "cell_type": "code",
   "execution_count": 9,
   "id": "0c502cb2",
   "metadata": {},
   "outputs": [
    {
     "name": "stdout",
     "output_type": "stream",
     "text": [
      "Model: \"functional_1\"\n",
      "_________________________________________________________________\n",
      "Layer (type)                 Output Shape              Param #   \n",
      "=================================================================\n",
      "input_1 (InputLayer)         [(None, 224, 224, 3)]     0         \n",
      "_________________________________________________________________\n",
      "conv1_pad (ZeroPadding2D)    (None, 225, 225, 3)       0         \n",
      "_________________________________________________________________\n",
      "conv1 (Conv2D)               (None, 112, 112, 32)      864       \n",
      "_________________________________________________________________\n",
      "conv1_bn (BatchNormalization (None, 112, 112, 32)      128       \n",
      "_________________________________________________________________\n",
      "conv1_relu (ReLU)            (None, 112, 112, 32)      0         \n",
      "_________________________________________________________________\n",
      "conv_dw_1 (DepthwiseConv2D)  (None, 112, 112, 32)      288       \n",
      "_________________________________________________________________\n",
      "conv_dw_1_bn (BatchNormaliza (None, 112, 112, 32)      128       \n",
      "_________________________________________________________________\n",
      "conv_dw_1_relu (ReLU)        (None, 112, 112, 32)      0         \n",
      "_________________________________________________________________\n",
      "conv_pw_1 (Conv2D)           (None, 112, 112, 64)      2048      \n",
      "_________________________________________________________________\n",
      "conv_pw_1_bn (BatchNormaliza (None, 112, 112, 64)      256       \n",
      "_________________________________________________________________\n",
      "conv_pw_1_relu (ReLU)        (None, 112, 112, 64)      0         \n",
      "_________________________________________________________________\n",
      "conv_pad_2 (ZeroPadding2D)   (None, 113, 113, 64)      0         \n",
      "_________________________________________________________________\n",
      "conv_dw_2 (DepthwiseConv2D)  (None, 56, 56, 64)        576       \n",
      "_________________________________________________________________\n",
      "conv_dw_2_bn (BatchNormaliza (None, 56, 56, 64)        256       \n",
      "_________________________________________________________________\n",
      "conv_dw_2_relu (ReLU)        (None, 56, 56, 64)        0         \n",
      "_________________________________________________________________\n",
      "conv_pw_2 (Conv2D)           (None, 56, 56, 128)       8192      \n",
      "_________________________________________________________________\n",
      "conv_pw_2_bn (BatchNormaliza (None, 56, 56, 128)       512       \n",
      "_________________________________________________________________\n",
      "conv_pw_2_relu (ReLU)        (None, 56, 56, 128)       0         \n",
      "_________________________________________________________________\n",
      "conv_dw_3 (DepthwiseConv2D)  (None, 56, 56, 128)       1152      \n",
      "_________________________________________________________________\n",
      "conv_dw_3_bn (BatchNormaliza (None, 56, 56, 128)       512       \n",
      "_________________________________________________________________\n",
      "conv_dw_3_relu (ReLU)        (None, 56, 56, 128)       0         \n",
      "_________________________________________________________________\n",
      "conv_pw_3 (Conv2D)           (None, 56, 56, 128)       16384     \n",
      "_________________________________________________________________\n",
      "conv_pw_3_bn (BatchNormaliza (None, 56, 56, 128)       512       \n",
      "_________________________________________________________________\n",
      "conv_pw_3_relu (ReLU)        (None, 56, 56, 128)       0         \n",
      "_________________________________________________________________\n",
      "conv_pad_4 (ZeroPadding2D)   (None, 57, 57, 128)       0         \n",
      "_________________________________________________________________\n",
      "conv_dw_4 (DepthwiseConv2D)  (None, 28, 28, 128)       1152      \n",
      "_________________________________________________________________\n",
      "conv_dw_4_bn (BatchNormaliza (None, 28, 28, 128)       512       \n",
      "_________________________________________________________________\n",
      "conv_dw_4_relu (ReLU)        (None, 28, 28, 128)       0         \n",
      "_________________________________________________________________\n",
      "conv_pw_4 (Conv2D)           (None, 28, 28, 256)       32768     \n",
      "_________________________________________________________________\n",
      "conv_pw_4_bn (BatchNormaliza (None, 28, 28, 256)       1024      \n",
      "_________________________________________________________________\n",
      "conv_pw_4_relu (ReLU)        (None, 28, 28, 256)       0         \n",
      "_________________________________________________________________\n",
      "conv_dw_5 (DepthwiseConv2D)  (None, 28, 28, 256)       2304      \n",
      "_________________________________________________________________\n",
      "conv_dw_5_bn (BatchNormaliza (None, 28, 28, 256)       1024      \n",
      "_________________________________________________________________\n",
      "conv_dw_5_relu (ReLU)        (None, 28, 28, 256)       0         \n",
      "_________________________________________________________________\n",
      "conv_pw_5 (Conv2D)           (None, 28, 28, 256)       65536     \n",
      "_________________________________________________________________\n",
      "conv_pw_5_bn (BatchNormaliza (None, 28, 28, 256)       1024      \n",
      "_________________________________________________________________\n",
      "conv_pw_5_relu (ReLU)        (None, 28, 28, 256)       0         \n",
      "_________________________________________________________________\n",
      "conv_pad_6 (ZeroPadding2D)   (None, 29, 29, 256)       0         \n",
      "_________________________________________________________________\n",
      "conv_dw_6 (DepthwiseConv2D)  (None, 14, 14, 256)       2304      \n",
      "_________________________________________________________________\n",
      "conv_dw_6_bn (BatchNormaliza (None, 14, 14, 256)       1024      \n",
      "_________________________________________________________________\n",
      "conv_dw_6_relu (ReLU)        (None, 14, 14, 256)       0         \n",
      "_________________________________________________________________\n",
      "conv_pw_6 (Conv2D)           (None, 14, 14, 512)       131072    \n",
      "_________________________________________________________________\n",
      "conv_pw_6_bn (BatchNormaliza (None, 14, 14, 512)       2048      \n",
      "_________________________________________________________________\n",
      "conv_pw_6_relu (ReLU)        (None, 14, 14, 512)       0         \n",
      "_________________________________________________________________\n",
      "conv_dw_7 (DepthwiseConv2D)  (None, 14, 14, 512)       4608      \n",
      "_________________________________________________________________\n",
      "conv_dw_7_bn (BatchNormaliza (None, 14, 14, 512)       2048      \n",
      "_________________________________________________________________\n",
      "conv_dw_7_relu (ReLU)        (None, 14, 14, 512)       0         \n",
      "_________________________________________________________________\n",
      "conv_pw_7 (Conv2D)           (None, 14, 14, 512)       262144    \n",
      "_________________________________________________________________\n",
      "conv_pw_7_bn (BatchNormaliza (None, 14, 14, 512)       2048      \n",
      "_________________________________________________________________\n",
      "conv_pw_7_relu (ReLU)        (None, 14, 14, 512)       0         \n",
      "_________________________________________________________________\n",
      "conv_dw_8 (DepthwiseConv2D)  (None, 14, 14, 512)       4608      \n",
      "_________________________________________________________________\n",
      "conv_dw_8_bn (BatchNormaliza (None, 14, 14, 512)       2048      \n",
      "_________________________________________________________________\n",
      "conv_dw_8_relu (ReLU)        (None, 14, 14, 512)       0         \n",
      "_________________________________________________________________\n",
      "conv_pw_8 (Conv2D)           (None, 14, 14, 512)       262144    \n",
      "_________________________________________________________________\n",
      "conv_pw_8_bn (BatchNormaliza (None, 14, 14, 512)       2048      \n",
      "_________________________________________________________________\n",
      "conv_pw_8_relu (ReLU)        (None, 14, 14, 512)       0         \n",
      "_________________________________________________________________\n",
      "conv_dw_9 (DepthwiseConv2D)  (None, 14, 14, 512)       4608      \n",
      "_________________________________________________________________\n",
      "conv_dw_9_bn (BatchNormaliza (None, 14, 14, 512)       2048      \n",
      "_________________________________________________________________\n",
      "conv_dw_9_relu (ReLU)        (None, 14, 14, 512)       0         \n",
      "_________________________________________________________________\n",
      "conv_pw_9 (Conv2D)           (None, 14, 14, 512)       262144    \n",
      "_________________________________________________________________\n",
      "conv_pw_9_bn (BatchNormaliza (None, 14, 14, 512)       2048      \n",
      "_________________________________________________________________\n",
      "conv_pw_9_relu (ReLU)        (None, 14, 14, 512)       0         \n",
      "_________________________________________________________________\n",
      "conv_dw_10 (DepthwiseConv2D) (None, 14, 14, 512)       4608      \n",
      "_________________________________________________________________\n",
      "conv_dw_10_bn (BatchNormaliz (None, 14, 14, 512)       2048      \n",
      "_________________________________________________________________\n",
      "conv_dw_10_relu (ReLU)       (None, 14, 14, 512)       0         \n",
      "_________________________________________________________________\n",
      "conv_pw_10 (Conv2D)          (None, 14, 14, 512)       262144    \n",
      "_________________________________________________________________\n",
      "conv_pw_10_bn (BatchNormaliz (None, 14, 14, 512)       2048      \n",
      "_________________________________________________________________\n",
      "conv_pw_10_relu (ReLU)       (None, 14, 14, 512)       0         \n",
      "_________________________________________________________________\n",
      "conv_dw_11 (DepthwiseConv2D) (None, 14, 14, 512)       4608      \n",
      "_________________________________________________________________\n",
      "conv_dw_11_bn (BatchNormaliz (None, 14, 14, 512)       2048      \n",
      "_________________________________________________________________\n",
      "conv_dw_11_relu (ReLU)       (None, 14, 14, 512)       0         \n",
      "_________________________________________________________________\n",
      "conv_pw_11 (Conv2D)          (None, 14, 14, 512)       262144    \n",
      "_________________________________________________________________\n",
      "conv_pw_11_bn (BatchNormaliz (None, 14, 14, 512)       2048      \n",
      "_________________________________________________________________\n",
      "conv_pw_11_relu (ReLU)       (None, 14, 14, 512)       0         \n",
      "_________________________________________________________________\n",
      "conv_pad_12 (ZeroPadding2D)  (None, 15, 15, 512)       0         \n",
      "_________________________________________________________________\n",
      "conv_dw_12 (DepthwiseConv2D) (None, 7, 7, 512)         4608      \n",
      "_________________________________________________________________\n",
      "conv_dw_12_bn (BatchNormaliz (None, 7, 7, 512)         2048      \n",
      "_________________________________________________________________\n",
      "conv_dw_12_relu (ReLU)       (None, 7, 7, 512)         0         \n",
      "_________________________________________________________________\n",
      "conv_pw_12 (Conv2D)          (None, 7, 7, 1024)        524288    \n",
      "_________________________________________________________________\n",
      "conv_pw_12_bn (BatchNormaliz (None, 7, 7, 1024)        4096      \n",
      "_________________________________________________________________\n",
      "conv_pw_12_relu (ReLU)       (None, 7, 7, 1024)        0         \n",
      "_________________________________________________________________\n",
      "conv_dw_13 (DepthwiseConv2D) (None, 7, 7, 1024)        9216      \n",
      "_________________________________________________________________\n",
      "conv_dw_13_bn (BatchNormaliz (None, 7, 7, 1024)        4096      \n",
      "_________________________________________________________________\n",
      "conv_dw_13_relu (ReLU)       (None, 7, 7, 1024)        0         \n",
      "_________________________________________________________________\n",
      "conv_pw_13 (Conv2D)          (None, 7, 7, 1024)        1048576   \n",
      "_________________________________________________________________\n",
      "conv_pw_13_bn (BatchNormaliz (None, 7, 7, 1024)        4096      \n",
      "_________________________________________________________________\n",
      "conv_pw_13_relu (ReLU)       (None, 7, 7, 1024)        0         \n",
      "_________________________________________________________________\n",
      "flatten (Flatten)            (None, 50176)             0         \n",
      "_________________________________________________________________\n",
      "dense (Dense)                (None, 200)               10035400  \n",
      "_________________________________________________________________\n",
      "dense_1 (Dense)              (None, 100)               20100     \n",
      "_________________________________________________________________\n",
      "dense_2 (Dense)              (None, 2)                 202       \n",
      "=================================================================\n",
      "Total params: 13,284,566\n",
      "Trainable params: 10,055,702\n",
      "Non-trainable params: 3,228,864\n",
      "_________________________________________________________________\n"
     ]
    }
   ],
   "source": [
    "# view the structure of the model\n",
    "model.summary()\n"
   ]
  },
  {
   "cell_type": "code",
   "execution_count": 10,
   "id": "d5bc5fe7",
   "metadata": {},
   "outputs": [],
   "source": [
    "model.compile(\n",
    "  loss='categorical_crossentropy',\n",
    "  optimizer='adam',\n",
    "  metrics=['accuracy']\n",
    ")"
   ]
  },
  {
   "cell_type": "code",
   "execution_count": 11,
   "id": "8928f2d7",
   "metadata": {},
   "outputs": [
    {
     "name": "stdout",
     "output_type": "stream",
     "text": [
      "Found 80 images belonging to 2 classes.\n",
      "Found 40 images belonging to 2 classes.\n"
     ]
    }
   ],
   "source": [
    "from keras.preprocessing.image import ImageDataGenerator\n",
    "\n",
    "train_datagen = ImageDataGenerator(rescale = 1./255,\n",
    "                                   shear_range = 0.2,\n",
    "                                   zoom_range = 0.2,\n",
    "                                   horizontal_flip = True)\n",
    "\n",
    "test_datagen = ImageDataGenerator(rescale = 1./255)\n",
    "  \n",
    "training_set = train_datagen.flow_from_directory('D:/CatractImagesMobileNet/cataract/CatractDataset/Training-dataset/',\n",
    "                                                 target_size = (224, 224),\n",
    "                                                 batch_size = 32,\n",
    "                                                 class_mode = 'categorical')\n",
    "\n",
    "test_set = test_datagen.flow_from_directory('D:/CatractImagesMobileNet/cataract/CatractDataset/Test-Dataset/',\n",
    "                                            target_size = (224, 224),\n",
    "                                            batch_size = 32,\n",
    "                                            class_mode = 'categorical')"
   ]
  },
  {
   "cell_type": "code",
   "execution_count": 12,
   "id": "9281fa52",
   "metadata": {},
   "outputs": [
    {
     "name": "stdout",
     "output_type": "stream",
     "text": [
      "cataract\n",
      "normal\n",
      "['cataract', 'normal']\n"
     ]
    }
   ],
   "source": [
    "import os\n",
    "cats=[]\n",
    "cat=[]\n",
    "for path, currentDirectory, files in os.walk(\"D:\\CatractImagesMobileNet\\cataract\\CatractDataset\\Training-dataset\"):\n",
    "    for file in files:\n",
    "        #print(os.path.join(path, file))\n",
    "        #print(file)\n",
    "        cats=path.split(\"\\\\\")\n",
    "        cats=cats[len(cats)-1]\n",
    "        if cats not in cat:\n",
    "            cat.append(cats)\n",
    "            print(cats)\n",
    "cat.sort()\n",
    "print(cat)\n",
    "\n",
    "#images,cls = next(test_set)\n",
    "\n"
   ]
  },
  {
   "cell_type": "code",
   "execution_count": 13,
   "id": "0949ed3e",
   "metadata": {},
   "outputs": [],
   "source": [
    "#plt.imshow(images[3])\n",
    "#plt.savefig('D:\\\\imageeee.png')\n",
    "#print(\"ok\")\n",
    "#plt.show()"
   ]
  },
  {
   "cell_type": "code",
   "execution_count": 14,
   "id": "14bdb1b2",
   "metadata": {},
   "outputs": [
    {
     "data": {
      "text/plain": [
       "2"
      ]
     },
     "execution_count": 14,
     "metadata": {},
     "output_type": "execute_result"
    }
   ],
   "source": [
    "len(test_set)"
   ]
  },
  {
   "cell_type": "code",
   "execution_count": 15,
   "id": "8f1d7de4",
   "metadata": {},
   "outputs": [
    {
     "name": "stdout",
     "output_type": "stream",
     "text": [
      "Epoch 1/20\n",
      "3/3 [==============================] - 19s 6s/step - loss: 2.1422 - accuracy: 0.6375 - val_loss: 8.5272 - val_accuracy: 0.6500\n",
      "Epoch 2/20\n",
      "3/3 [==============================] - 17s 6s/step - loss: 4.9833 - accuracy: 0.8000 - val_loss: 8.8650 - val_accuracy: 0.7250\n",
      "Epoch 3/20\n",
      "3/3 [==============================] - 17s 6s/step - loss: 6.9269 - accuracy: 0.7750 - val_loss: 2.8639 - val_accuracy: 0.8750\n",
      "Epoch 4/20\n",
      "3/3 [==============================] - 26s 9s/step - loss: 2.6082 - accuracy: 0.8750 - val_loss: 3.3831 - val_accuracy: 0.9000\n",
      "Epoch 5/20\n",
      "3/3 [==============================] - 24s 8s/step - loss: 3.3956 - accuracy: 0.8500 - val_loss: 1.5033 - val_accuracy: 0.9000\n",
      "Epoch 6/20\n",
      "3/3 [==============================] - 34s 11s/step - loss: 1.4969 - accuracy: 0.8875 - val_loss: 8.5129 - val_accuracy: 0.7250\n",
      "Epoch 7/20\n",
      "3/3 [==============================] - 30s 10s/step - loss: 1.9412 - accuracy: 0.9125 - val_loss: 2.3421 - val_accuracy: 0.9000\n",
      "Epoch 8/20\n",
      "3/3 [==============================] - 26s 9s/step - loss: 0.7418 - accuracy: 0.9750 - val_loss: 1.9399 - val_accuracy: 0.9000\n",
      "Epoch 9/20\n",
      "3/3 [==============================] - 24s 8s/step - loss: 1.1699 - accuracy: 0.9125 - val_loss: 1.3010 - val_accuracy: 0.9000\n",
      "Epoch 10/20\n",
      "3/3 [==============================] - 23s 8s/step - loss: 0.7592 - accuracy: 0.9375 - val_loss: 3.7686 - val_accuracy: 0.8000\n",
      "Epoch 11/20\n",
      "3/3 [==============================] - 28s 9s/step - loss: 0.8655 - accuracy: 0.9375 - val_loss: 4.5149 - val_accuracy: 0.8000\n",
      "Epoch 12/20\n",
      "3/3 [==============================] - 29s 10s/step - loss: 0.5385 - accuracy: 0.9750 - val_loss: 1.4262 - val_accuracy: 0.9000\n",
      "Epoch 13/20\n",
      "3/3 [==============================] - 25s 8s/step - loss: 0.9518 - accuracy: 0.9375 - val_loss: 0.9790 - val_accuracy: 0.9250\n",
      "Epoch 14/20\n",
      "3/3 [==============================] - 25s 8s/step - loss: 0.2213 - accuracy: 0.9875 - val_loss: 0.7049 - val_accuracy: 0.9250\n",
      "Epoch 15/20\n",
      "3/3 [==============================] - 24s 8s/step - loss: 0.1519 - accuracy: 0.9750 - val_loss: 0.4379 - val_accuracy: 0.9500\n",
      "Epoch 16/20\n",
      "3/3 [==============================] - 26s 9s/step - loss: 0.0833 - accuracy: 0.9625 - val_loss: 0.6058 - val_accuracy: 0.9000\n",
      "Epoch 17/20\n",
      "3/3 [==============================] - 25s 8s/step - loss: 0.1071 - accuracy: 0.9875 - val_loss: 1.0223 - val_accuracy: 0.9000\n",
      "Epoch 18/20\n",
      "3/3 [==============================] - 24s 8s/step - loss: 0.1331 - accuracy: 0.9750 - val_loss: 0.5628 - val_accuracy: 0.9000\n",
      "Epoch 19/20\n",
      "3/3 [==============================] - 30s 10s/step - loss: 0.2560 - accuracy: 0.9625 - val_loss: 0.4804 - val_accuracy: 0.9250\n",
      "Epoch 20/20\n",
      "3/3 [==============================] - 25s 8s/step - loss: 0.0022 - accuracy: 1.0000 - val_loss: 0.7053 - val_accuracy: 0.9000\n"
     ]
    }
   ],
   "source": [
    "# fit the model\n",
    "r = model.fit(\n",
    "  training_set,\n",
    "  validation_data=test_set,\n",
    "  epochs=20,\n",
    "  steps_per_epoch=len(training_set),\n",
    "  validation_steps=len(test_set)\n",
    ")"
   ]
  },
  {
   "cell_type": "code",
   "execution_count": 19,
   "id": "5b6b92e2",
   "metadata": {},
   "outputs": [
    {
     "data": {
      "image/png": "[encoded data removed]",
      "text/plain": [
       "<Figure size 432x288 with 1 Axes>"
      ]
     },
     "metadata": {
      "needs_background": "light"
     },
     "output_type": "display_data"
    }
   ],
   "source": [
    "# loss\n",
    "#import matplotlib.pyplot as plt\n",
    "plt.plot(r.history['loss'], label='train loss')\n",
    "plt.plot(r.history['val_loss'], label='val loss')\n",
    "plt.legend()\n",
    "plt.show()\n",
    "#plt.savefig('LossVal_loss')"
   ]
  },
  {
   "cell_type": "code",
   "execution_count": 20,
   "id": "9221b340",
   "metadata": {},
   "outputs": [
    {
     "data": {
      "image/png": "[encoded data removed]",
      "text/plain": [
       "<Figure size 432x288 with 1 Axes>"
      ]
     },
     "metadata": {
      "needs_background": "light"
     },
     "output_type": "display_data"
    }
   ],
   "source": [
    "# accuracies\n",
    "plt.plot(r.history['accuracy'], label='train acc')\n",
    "plt.plot(r.history['val_accuracy'], label='val acc')\n",
    "plt.legend()\n",
    "plt.show()\n",
    "#plt.savefig('AccVal_acc')"
   ]
  },
  {
   "cell_type": "code",
   "execution_count": 37,
   "id": "d4d5ac6f",
   "metadata": {},
   "outputs": [
    {
     "name": "stdout",
     "output_type": "stream",
     "text": [
      "2/2 [==============================] - 1s 287ms/step - loss: 1.0410 - accuracy: 0.9000\n",
      "0.8999999761581421\n",
      "1.041049599647522\n"
     ]
    }
   ],
   "source": [
    "a, acc = model.evaluate(test_set)\n",
    "print(acc)\n",
    "print(a)"
   ]
  },
  {
   "cell_type": "code",
   "execution_count": 38,
   "id": "548eb945",
   "metadata": {},
   "outputs": [
    {
     "name": "stdout",
     "output_type": "stream",
     "text": [
      "WARNING:tensorflow:From C:\\Users\\saqib\\anaconda3\\envs\\TF\\lib\\site-packages\\tensorflow\\python\\training\\tracking\\tracking.py:111: Model.state_updates (from tensorflow.python.keras.engine.training) is deprecated and will be removed in a future version.\n",
      "Instructions for updating:\n",
      "This property should not be used in TensorFlow 2.0, as updates are applied automatically.\n",
      "WARNING:tensorflow:From C:\\Users\\saqib\\anaconda3\\envs\\TF\\lib\\site-packages\\tensorflow\\python\\training\\tracking\\tracking.py:111: Layer.updates (from tensorflow.python.keras.engine.base_layer) is deprecated and will be removed in a future version.\n",
      "Instructions for updating:\n",
      "This property should not be used in TensorFlow 2.0, as updates are applied automatically.\n",
      "INFO:tensorflow:Assets written to: D:/CatractImagesMobileNet/cataract/Mobile114Model.h4\\assets\n"
     ]
    }
   ],
   "source": [
    "model.save(\"D:/CatractImagesMobileNet/cataract/Mobile114Model.h4\")"
   ]
  },
  {
   "cell_type": "code",
   "execution_count": null,
   "id": "d8dfe263",
   "metadata": {},
   "outputs": [],
   "source": []
  },
  {
   "cell_type": "code",
   "execution_count": 21,
   "id": "8961a368",
   "metadata": {},
   "outputs": [
    {
     "name": "stdout",
     "output_type": "stream",
     "text": [
      "Found 40 images belonging to 2 classes.\n",
      "[[1.0000000e+00 6.8171773e-14]\n",
      " [9.8119515e-01 1.8804921e-02]\n",
      " [1.0000000e+00 5.1756675e-08]\n",
      " [1.0000000e+00 2.2646173e-11]\n",
      " [1.4882896e-05 9.9998510e-01]\n",
      " [1.0000000e+00 7.8071577e-10]\n",
      " [1.0000000e+00 9.7352668e-11]\n",
      " [3.7264688e-06 9.9999630e-01]\n",
      " [6.1613217e-04 9.9938381e-01]\n",
      " [9.9999988e-01 1.6871778e-07]\n",
      " [1.0000000e+00 4.6403158e-15]\n",
      " [9.9996257e-01 3.7408867e-05]\n",
      " [3.1958236e-10 1.0000000e+00]\n",
      " [1.9860056e-06 9.9999797e-01]\n",
      " [1.0000000e+00 1.8282067e-09]\n",
      " [2.7334842e-30 1.0000000e+00]\n",
      " [9.9999988e-01 9.1882512e-08]\n",
      " [1.0000000e+00 2.8104920e-15]\n",
      " [2.1630369e-01 7.8369635e-01]\n",
      " [9.9999988e-01 9.6200260e-08]\n",
      " [2.3631794e-02 9.7636819e-01]\n",
      " [1.0000000e+00 3.6492480e-08]\n",
      " [7.1743226e-23 1.0000000e+00]\n",
      " [1.0000000e+00 1.5027228e-10]\n",
      " [2.1141313e-04 9.9978858e-01]\n",
      " [3.5999764e-12 1.0000000e+00]\n",
      " [9.9999952e-01 5.3606618e-07]\n",
      " [8.5400992e-28 1.0000000e+00]\n",
      " [1.2622866e-06 9.9999869e-01]\n",
      " [4.0372026e-18 1.0000000e+00]\n",
      " [1.0000000e+00 5.8255756e-09]\n",
      " [1.0000000e+00 9.6844386e-13]\n",
      " [1.3467741e-19 1.0000000e+00]\n",
      " [1.1712754e-21 1.0000000e+00]\n",
      " [9.9992895e-01 7.1027593e-05]\n",
      " [9.9999797e-01 1.9830022e-06]\n",
      " [2.0036604e-17 1.0000000e+00]\n",
      " [9.9999833e-01 1.6476383e-06]\n",
      " [9.9999821e-01 1.7456899e-06]\n",
      " [4.0110563e-20 1.0000000e+00]]\n"
     ]
    }
   ],
   "source": [
    "test_set = test_datagen.flow_from_directory(\"D:\\CatractImagesMobileNet\\cataract\\CatractDataset\\\\Test-Dataset\",\n",
    "                                            target_size = (224, 224),\n",
    "                                            batch_size = 40,\n",
    "                                            class_mode = 'categorical')\n",
    "\n",
    "pred = model.predict(test_set)\n",
    "print(pred)\n",
    "     "
   ]
  },
  {
   "cell_type": "code",
   "execution_count": 24,
   "id": "8b6cc28d",
   "metadata": {},
   "outputs": [
    {
     "name": "stdout",
     "output_type": "stream",
     "text": [
      "Found 1 images belonging to 2 classes.\n",
      "[[1.3467639e-19 1.0000000e+00]]\n"
     ]
    }
   ],
   "source": [
    "test_set = test_datagen.flow_from_directory(\"D:\\CatractImagesMobileNet\\cataract\\CatractDataset\\\\TestC\",\n",
    "                                            target_size = (224, 224),\n",
    "                                            batch_size = 40,\n",
    "                                            class_mode = 'categorical')\n",
    "\n",
    "pred = model.predict(test_set)\n",
    "print(pred)\n",
    "     "
   ]
  },
  {
   "cell_type": "code",
   "execution_count": 25,
   "id": "75c51fa0",
   "metadata": {},
   "outputs": [
    {
     "data": {
      "text/plain": [
       "<matplotlib.image.AxesImage at 0x21e8c2343d0>"
      ]
     },
     "execution_count": 25,
     "metadata": {},
     "output_type": "execute_result"
    },
    {
     "data": {
      "image/png": "[encoded data removed]",
      "text/plain": [
       "<Figure size 432x288 with 1 Axes>"
      ]
     },
     "metadata": {
      "needs_background": "light"
     },
     "output_type": "display_data"
    }
   ],
   "source": [
    "images,cls = next(test_set)\n",
    "plt.imshow(images[0])"
   ]
  },
  {
   "cell_type": "code",
   "execution_count": null,
   "id": "42b35ab7",
   "metadata": {},
   "outputs": [],
   "source": []
  },
  {
   "cell_type": "code",
   "execution_count": null,
   "id": "b0fb4913",
   "metadata": {},
   "outputs": [],
   "source": []
  },
  {
   "cell_type": "code",
   "execution_count": null,
   "id": "d8e9449e",
   "metadata": {},
   "outputs": [],
   "source": []
  },
  {
   "cell_type": "code",
   "execution_count": null,
   "id": "cbadf067",
   "metadata": {},
   "outputs": [],
   "source": []
  },
  {
   "cell_type": "code",
   "execution_count": null,
   "id": "18962ff4",
   "metadata": {},
   "outputs": [],
   "source": []
  },
  {
   "cell_type": "code",
   "execution_count": 40,
   "id": "a3cb4c87",
   "metadata": {},
   "outputs": [
    {
     "name": "stdout",
     "output_type": "stream",
     "text": [
      "1 Actual: normal\n",
      "File: cataract\\cataract_061.png\n",
      "1predicted: normal\n",
      "[0. 1.]\n",
      "[2.3513030411592695e-10, 1.0]\n",
      "1 Actual: normal\n",
      "File: cataract\\cataract_062.png\n",
      "0predicted: cataract\n",
      "[0. 1.]\n",
      "[1.0, 1.3782768743669878e-17]\n",
      "1 Actual: normal\n",
      "File: cataract\\cataract_063.png\n",
      "1predicted: normal\n",
      "[0. 1.]\n",
      "[8.489675976108835e-12, 1.0]\n",
      "0 Actual: cataract\n",
      "File: cataract\\cataract_064.png\n",
      "0predicted: cataract\n",
      "[1. 0.]\n",
      "[1.0, 1.0855814858157231e-10]\n",
      "0 Actual: cataract\n",
      "File: cataract\\cataract_065.png\n",
      "0predicted: cataract\n",
      "[1. 0.]\n",
      "[1.0, 9.090485586504826e-10]\n",
      "0 Actual: cataract\n",
      "File: cataract\\cataract_066.png\n",
      "1predicted: normal\n",
      "[1. 0.]\n",
      "[1.7081206783210734e-13, 1.0]\n",
      "0 Actual: cataract\n",
      "File: cataract\\cataract_067.png\n",
      "1predicted: normal\n",
      "[1. 0.]\n",
      "[6.351243420077424e-10, 1.0]\n",
      "1 Actual: normal\n",
      "File: cataract\\cataract_068.png\n",
      "0predicted: cataract\n",
      "[0. 1.]\n",
      "[1.0, 1.9556726016389803e-08]\n",
      "1 Actual: normal\n",
      "File: cataract\\cataract_069.png\n",
      "1predicted: normal\n",
      "[0. 1.]\n",
      "[0.0001455802412237972, 0.9998544454574585]\n",
      "0 Actual: cataract\n",
      "File: cataract\\cataract_070.png\n",
      "1predicted: normal\n",
      "[1. 0.]\n",
      "[0.4128796458244324, 0.5871203541755676]\n",
      "1 Actual: normal\n",
      "File: cataract\\cataract_071.png\n",
      "0predicted: cataract\n",
      "[0. 1.]\n",
      "[0.9999983310699463, 1.6746082565077813e-06]\n",
      "1 Actual: normal\n",
      "File: cataract\\cataract_072.png\n",
      "0predicted: cataract\n",
      "[0. 1.]\n",
      "[1.0, 2.5433073493749322e-20]\n",
      "1 Actual: normal\n",
      "File: cataract\\cataract_073.png\n",
      "1predicted: normal\n",
      "[0. 1.]\n",
      "[5.715815597521698e-14, 1.0]\n",
      "0 Actual: cataract\n",
      "File: cataract\\cataract_074.png\n",
      "0predicted: cataract\n",
      "[1. 0.]\n",
      "[1.0, 7.950397007405741e-10]\n",
      "0 Actual: cataract\n",
      "File: cataract\\cataract_075.png\n",
      "0predicted: cataract\n",
      "[1. 0.]\n",
      "[0.9975115060806274, 0.002488471334800124]\n",
      "0 Actual: cataract\n",
      "File: cataract\\cataract_076.png\n",
      "0predicted: cataract\n",
      "[1. 0.]\n",
      "[0.9999977350234985, 2.309440105818794e-06]\n",
      "0 Actual: cataract\n",
      "File: cataract\\cataract_077.png\n",
      "0predicted: cataract\n",
      "[1. 0.]\n",
      "[1.0, 1.683211348080249e-09]\n",
      "0 Actual: cataract\n",
      "File: cataract\\cataract_078.png\n",
      "1predicted: normal\n",
      "[1. 0.]\n",
      "[2.744314784390641e-18, 1.0]\n",
      "1 Actual: normal\n",
      "File: cataract\\cataract_079.png\n",
      "0predicted: cataract\n",
      "[0. 1.]\n",
      "[1.0, 3.723029384783416e-10]\n",
      "1 Actual: normal\n",
      "File: cataract\\cataract_080.png\n",
      "1predicted: normal\n",
      "[0. 1.]\n",
      "[1.0040594083424325e-30, 1.0]\n",
      "1 Actual: normal\n",
      "File: normal\\NL_061.png\n",
      "0predicted: cataract\n",
      "[0. 1.]\n",
      "[1.0, 1.0936811456474516e-09]\n",
      "1 Actual: normal\n",
      "File: normal\\NL_062.png\n",
      "1predicted: normal\n",
      "[0. 1.]\n",
      "[0.0, 1.0]\n",
      "0 Actual: cataract\n",
      "File: normal\\NL_063.png\n",
      "1predicted: normal\n",
      "[1. 0.]\n",
      "[9.376870880556458e-24, 1.0]\n",
      "0 Actual: cataract\n",
      "File: normal\\NL_064.png\n",
      "0predicted: cataract\n",
      "[1. 0.]\n",
      "[1.0, 3.2375756806382605e-13]\n",
      "0 Actual: cataract\n",
      "File: normal\\NL_065.png\n",
      "0predicted: cataract\n",
      "[1. 0.]\n",
      "[0.9998464584350586, 0.00015357337542809546]\n",
      "0 Actual: cataract\n",
      "File: normal\\NL_066.png\n",
      "1predicted: normal\n",
      "[1. 0.]\n",
      "[4.523765755301614e-25, 1.0]\n",
      "1 Actual: normal\n",
      "File: normal\\NL_067.png\n",
      "0predicted: cataract\n",
      "[0. 1.]\n",
      "[1.0, 8.675115205185324e-13]\n",
      "1 Actual: normal\n",
      "File: normal\\NL_068.png\n",
      "0predicted: cataract\n",
      "[0. 1.]\n",
      "[1.0, 9.880561402690266e-15]\n",
      "0 Actual: cataract\n",
      "File: normal\\NL_069.png\n",
      "1predicted: normal\n",
      "[1. 0.]\n",
      "[3.5415347874314016e-31, 1.0]\n",
      "1 Actual: normal\n",
      "File: normal\\NL_070.png\n",
      "1predicted: normal\n",
      "[0. 1.]\n",
      "[1.7283539028345834e-36, 1.0]\n",
      "0 Actual: cataract\n",
      "File: normal\\NL_071.png\n",
      "0predicted: cataract\n",
      "[1. 0.]\n",
      "[1.0, 1.1234230776549503e-12]\n",
      "1 Actual: normal\n",
      "File: normal\\NL_072.png\n",
      "0predicted: cataract\n",
      "[0. 1.]\n",
      "[0.9999970197677612, 2.947125267382944e-06]\n",
      "0 Actual: cataract\n",
      "File: normal\\NL_073.png\n",
      "1predicted: normal\n",
      "[1. 0.]\n",
      "[6.059486535656629e-21, 1.0]\n",
      "1 Actual: normal\n",
      "File: normal\\NL_074.png\n",
      "1predicted: normal\n",
      "[0. 1.]\n",
      "[7.864691536907387e-12, 1.0]\n",
      "0 Actual: cataract\n",
      "File: normal\\NL_075.png\n",
      "1predicted: normal\n",
      "[1. 0.]\n",
      "[1.3153139072389558e-21, 1.0]\n",
      "1 Actual: normal\n",
      "File: normal\\NL_076.png\n",
      "1predicted: normal\n",
      "[0. 1.]\n",
      "[1.5053375631156765e-27, 1.0]\n",
      "1 Actual: normal\n",
      "File: normal\\NL_077.png\n",
      "0predicted: cataract\n",
      "[0. 1.]\n",
      "[1.0, 1.2279537592770002e-22]\n",
      "1 Actual: normal\n",
      "File: normal\\NL_078.png\n",
      "0predicted: cataract\n",
      "[0. 1.]\n",
      "[1.0, 2.401729093381988e-10]\n",
      "0 Actual: cataract\n",
      "File: normal\\NL_079.png\n",
      "0predicted: cataract\n",
      "[1. 0.]\n",
      "[1.0, 4.889041255173865e-11]\n",
      "0 Actual: cataract\n",
      "File: normal\\NL_080.png\n",
      "0predicted: cataract\n",
      "[1. 0.]\n",
      "[1.0, 3.20043680446247e-09]\n"
     ]
    },
    {
     "data": {
      "image/png": "[encoded data removed]",
      "text/plain": [
       "<Figure size 432x288 with 1 Axes>"
      ]
     },
     "metadata": {
      "needs_background": "light"
     },
     "output_type": "display_data"
    }
   ],
   "source": [
    "images,cls = next(test_set)\n",
    "filename=test_set.filenames\n",
    "\n",
    "#plt.imshow(images[0])\n",
    "#print(cls[0])\n",
    "#print(filename[0])\n",
    "i=0\n",
    "actual=[]\n",
    "predicted=[]\n",
    "for cl in cls:\n",
    "    c=cl.tolist()\n",
    "    max_value = max(c)\n",
    "    max_index = c.index(max_value)\n",
    "    print(str(max_index) + \" Actual: \" + cat[max_index])\n",
    "    print(\"File: \"  + filename[i])\n",
    "    plt.imshow(images[i])\n",
    "    actual.append(cat[max_index])\n",
    "    \n",
    "    pd=pred[i].tolist()\n",
    "    m_value = max(pd)\n",
    "    #print(max_value)\n",
    "    m_index = pd.index(m_value)\n",
    "    #print(max_index)\n",
    "    print(str(m_index) + \"predicted: \" + cat[m_index])\n",
    "    predicted.append(cat[m_index])\n",
    "    print(cl)\n",
    "    print(pd)\n",
    "    plt.savefig('D:\\\\CatractImagesMobileNet\\cataract\\Predicted\\Actual-' + str(cat[max_index]) + ' Predicted-' + str(cat[m_index])+ '-' + str(i) +'.png')\n",
    "    i=i+1\n",
    "    \n",
    "#print(pd)\n",
    "#plt.savefig('D:\\\\imageeee.png')\n",
    "#print(\"ok\")\n",
    "#plt.show()\n"
   ]
  },
  {
   "cell_type": "code",
   "execution_count": 41,
   "id": "7715d09d",
   "metadata": {},
   "outputs": [
    {
     "name": "stdout",
     "output_type": "stream",
     "text": [
      "[0. 1.]\n",
      "cataract\\cataract_062.png\n"
     ]
    },
    {
     "data": {
      "image/png": "[encoded data removed]",
      "text/plain": [
       "<Figure size 432x288 with 1 Axes>"
      ]
     },
     "metadata": {
      "needs_background": "light"
     },
     "output_type": "display_data"
    }
   ],
   "source": [
    "plt.imshow(images[1])\n",
    "print(cls[1])\n",
    "print(filename[1])\n"
   ]
  },
  {
   "cell_type": "code",
   "execution_count": 42,
   "id": "410e07f0",
   "metadata": {},
   "outputs": [
    {
     "name": "stdout",
     "output_type": "stream",
     "text": [
      "[0. 1.]\n",
      "cataract\\cataract_063.png\n"
     ]
    },
    {
     "data": {
      "image/png": "[encoded data removed]",
      "text/plain": [
       "<Figure size 432x288 with 1 Axes>"
      ]
     },
     "metadata": {
      "needs_background": "light"
     },
     "output_type": "display_data"
    }
   ],
   "source": [
    "plt.imshow(images[2])\n",
    "print(cls[2])\n",
    "print(filename[2])"
   ]
  },
  {
   "cell_type": "code",
   "execution_count": 43,
   "id": "30d4c81e",
   "metadata": {},
   "outputs": [
    {
     "name": "stdout",
     "output_type": "stream",
     "text": [
      "[1. 0.]\n",
      "cataract\\cataract_064.png\n"
     ]
    },
    {
     "data": {
      "image/png": "[encoded data removed]",
      "text/plain": [
       "<Figure size 432x288 with 1 Axes>"
      ]
     },
     "metadata": {
      "needs_background": "light"
     },
     "output_type": "display_data"
    }
   ],
   "source": [
    "plt.imshow(images[3])\n",
    "print(cls[3])\n",
    "print(filename[3])"
   ]
  },
  {
   "cell_type": "code",
   "execution_count": null,
   "id": "a33e78c3",
   "metadata": {},
   "outputs": [],
   "source": []
  },
  {
   "cell_type": "code",
   "execution_count": 44,
   "id": "2a75e84d",
   "metadata": {},
   "outputs": [
    {
     "data": {
      "text/plain": [
       "['normal',\n",
       " 'normal',\n",
       " 'normal',\n",
       " 'cataract',\n",
       " 'cataract',\n",
       " 'cataract',\n",
       " 'cataract',\n",
       " 'normal',\n",
       " 'normal',\n",
       " 'cataract',\n",
       " 'normal',\n",
       " 'normal',\n",
       " 'normal',\n",
       " 'cataract',\n",
       " 'cataract',\n",
       " 'cataract',\n",
       " 'cataract',\n",
       " 'cataract',\n",
       " 'normal',\n",
       " 'normal',\n",
       " 'normal',\n",
       " 'normal',\n",
       " 'cataract',\n",
       " 'cataract',\n",
       " 'cataract',\n",
       " 'cataract',\n",
       " 'normal',\n",
       " 'normal',\n",
       " 'cataract',\n",
       " 'normal',\n",
       " 'cataract',\n",
       " 'normal',\n",
       " 'cataract',\n",
       " 'normal',\n",
       " 'cataract',\n",
       " 'normal',\n",
       " 'normal',\n",
       " 'normal',\n",
       " 'cataract',\n",
       " 'cataract']"
      ]
     },
     "execution_count": 44,
     "metadata": {},
     "output_type": "execute_result"
    }
   ],
   "source": [
    "actual"
   ]
  },
  {
   "cell_type": "code",
   "execution_count": 45,
   "id": "af57b7f4",
   "metadata": {
    "scrolled": false
   },
   "outputs": [
    {
     "name": "stdout",
     "output_type": "stream",
     "text": [
      "[2.3513030411592695e-10, 1.0]\n",
      "1predicted: normal\n",
      "[1.0, 1.3782768743669878e-17]\n",
      "0predicted: cataract\n",
      "[8.489675976108835e-12, 1.0]\n",
      "1predicted: normal\n",
      "[1.0, 1.0855814858157231e-10]\n",
      "0predicted: cataract\n",
      "[1.0, 9.090485586504826e-10]\n",
      "0predicted: cataract\n",
      "[1.7081206783210734e-13, 1.0]\n",
      "1predicted: normal\n",
      "[6.351243420077424e-10, 1.0]\n",
      "1predicted: normal\n",
      "[1.0, 1.9556726016389803e-08]\n",
      "0predicted: cataract\n",
      "[0.0001455802412237972, 0.9998544454574585]\n",
      "1predicted: normal\n",
      "[0.4128796458244324, 0.5871203541755676]\n",
      "1predicted: normal\n",
      "[0.9999983310699463, 1.6746082565077813e-06]\n",
      "0predicted: cataract\n",
      "[1.0, 2.5433073493749322e-20]\n",
      "0predicted: cataract\n",
      "[5.715815597521698e-14, 1.0]\n",
      "1predicted: normal\n",
      "[1.0, 7.950397007405741e-10]\n",
      "0predicted: cataract\n",
      "[0.9975115060806274, 0.002488471334800124]\n",
      "0predicted: cataract\n",
      "[0.9999977350234985, 2.309440105818794e-06]\n",
      "0predicted: cataract\n",
      "[1.0, 1.683211348080249e-09]\n",
      "0predicted: cataract\n",
      "[2.744314784390641e-18, 1.0]\n",
      "1predicted: normal\n",
      "[1.0, 3.723029384783416e-10]\n",
      "0predicted: cataract\n",
      "[1.0040594083424325e-30, 1.0]\n",
      "1predicted: normal\n",
      "[1.0, 1.0936811456474516e-09]\n",
      "0predicted: cataract\n",
      "[0.0, 1.0]\n",
      "1predicted: normal\n",
      "[9.376870880556458e-24, 1.0]\n",
      "1predicted: normal\n",
      "[1.0, 3.2375756806382605e-13]\n",
      "0predicted: cataract\n",
      "[0.9998464584350586, 0.00015357337542809546]\n",
      "0predicted: cataract\n",
      "[4.523765755301614e-25, 1.0]\n",
      "1predicted: normal\n",
      "[1.0, 8.675115205185324e-13]\n",
      "0predicted: cataract\n",
      "[1.0, 9.880561402690266e-15]\n",
      "0predicted: cataract\n",
      "[3.5415347874314016e-31, 1.0]\n",
      "1predicted: normal\n",
      "[1.7283539028345834e-36, 1.0]\n",
      "1predicted: normal\n",
      "[1.0, 1.1234230776549503e-12]\n",
      "0predicted: cataract\n",
      "[0.9999970197677612, 2.947125267382944e-06]\n",
      "0predicted: cataract\n",
      "[6.059486535656629e-21, 1.0]\n",
      "1predicted: normal\n",
      "[7.864691536907387e-12, 1.0]\n",
      "1predicted: normal\n",
      "[1.3153139072389558e-21, 1.0]\n",
      "1predicted: normal\n",
      "[1.5053375631156765e-27, 1.0]\n",
      "1predicted: normal\n",
      "[1.0, 1.2279537592770002e-22]\n",
      "0predicted: cataract\n",
      "[1.0, 2.401729093381988e-10]\n",
      "0predicted: cataract\n",
      "[1.0, 4.889041255173865e-11]\n",
      "0predicted: cataract\n",
      "[1.0, 3.20043680446247e-09]\n",
      "0predicted: cataract\n"
     ]
    }
   ],
   "source": [
    "predicted=[]\n",
    "pre=pred.tolist()\n",
    "for pd in pre:\n",
    "    max_value = max(pd)\n",
    "    print(pd)\n",
    "    #print(max_value)\n",
    "    max_index = pd.index(max_value)\n",
    "    #print(max_index)\n",
    "    print(str(max_index) + \"predicted: \" + cat[max_index])\n",
    "    predicted.append(cat[max_index])"
   ]
  },
  {
   "cell_type": "code",
   "execution_count": 46,
   "id": "98472e41",
   "metadata": {},
   "outputs": [
    {
     "data": {
      "text/plain": [
       "40"
      ]
     },
     "execution_count": 46,
     "metadata": {},
     "output_type": "execute_result"
    }
   ],
   "source": [
    "len(actual)"
   ]
  },
  {
   "cell_type": "code",
   "execution_count": 47,
   "id": "2fe02c95",
   "metadata": {},
   "outputs": [
    {
     "name": "stdout",
     "output_type": "stream",
     "text": [
      "              precision    recall  f1-score   support\n",
      "\n",
      "    cataract       0.50      0.55      0.52        20\n",
      "      normal       0.50      0.45      0.47        20\n",
      "\n",
      "    accuracy                           0.50        40\n",
      "   macro avg       0.50      0.50      0.50        40\n",
      "weighted avg       0.50      0.50      0.50        40\n",
      "\n"
     ]
    }
   ],
   "source": [
    "from sklearn.metrics import classification_report\n",
    "print(classification_report(actual,predicted))"
   ]
  },
  {
   "cell_type": "code",
   "execution_count": null,
   "id": "b3761ef7",
   "metadata": {},
   "outputs": [],
   "source": []
  },
  {
   "cell_type": "raw",
   "id": "d3553a7e",
   "metadata": {},
   "source": []
  },
  {
   "cell_type": "code",
   "execution_count": 208,
   "id": "fa2da6e0",
   "metadata": {},
   "outputs": [],
   "source": [
    "#for file in test_set.filenames:\n",
    " #   print(file)"
   ]
  },
  {
   "cell_type": "code",
   "execution_count": null,
   "id": "eb32cc09",
   "metadata": {},
   "outputs": [],
   "source": []
  },
  {
   "cell_type": "code",
   "execution_count": null,
   "id": "8300836f",
   "metadata": {},
   "outputs": [],
   "source": []
  },
  {
   "cell_type": "code",
   "execution_count": null,
   "id": "66922b25",
   "metadata": {},
   "outputs": [],
   "source": [
    "\n"
   ]
  },
  {
   "cell_type": "code",
   "execution_count": null,
   "id": "21f2bdba",
   "metadata": {
    "scrolled": true
   },
   "outputs": [],
   "source": []
  },
  {
   "cell_type": "code",
   "execution_count": null,
   "id": "62c4139d",
   "metadata": {},
   "outputs": [],
   "source": []
  },
  {
   "cell_type": "code",
   "execution_count": null,
   "id": "764e0bf0",
   "metadata": {},
   "outputs": [],
   "source": []
  },
  {
   "cell_type": "code",
   "execution_count": null,
   "id": "3c19ae7f",
   "metadata": {},
   "outputs": [],
   "source": []
  },
  {
   "cell_type": "code",
   "execution_count": null,
   "id": "0c298a00",
   "metadata": {},
   "outputs": [],
   "source": []
  },
  {
   "cell_type": "code",
   "execution_count": null,
   "id": "ef9e09eb",
   "metadata": {},
   "outputs": [],
   "source": []
  },
  {
   "cell_type": "code",
   "execution_count": 210,
   "id": "62e60424",
   "metadata": {},
   "outputs": [],
   "source": [
    "\n",
    "\n",
    "#plt.savefig('D:\\\\imageeee.png')\n",
    "#print(\"ok\")\n",
    "#plt.show()"
   ]
  },
  {
   "cell_type": "code",
   "execution_count": null,
   "id": "0298da14",
   "metadata": {},
   "outputs": [],
   "source": []
  },
  {
   "cell_type": "code",
   "execution_count": null,
   "id": "14c7a3d4",
   "metadata": {},
   "outputs": [],
   "source": []
  },
  {
   "cell_type": "code",
   "execution_count": null,
   "id": "9d6a9e24",
   "metadata": {},
   "outputs": [],
   "source": []
  },
  {
   "cell_type": "code",
   "execution_count": null,
   "id": "291779d4",
   "metadata": {},
   "outputs": [],
   "source": []
  },
  {
   "cell_type": "code",
   "execution_count": null,
   "id": "3b1be98e",
   "metadata": {},
   "outputs": [],
   "source": []
  },
  {
   "cell_type": "code",
   "execution_count": null,
   "id": "d17dfe9e",
   "metadata": {},
   "outputs": [],
   "source": []
  },
  {
   "cell_type": "code",
   "execution_count": 211,
   "id": "4d57e81a",
   "metadata": {},
   "outputs": [],
   "source": []
  },
  {
   "cell_type": "code",
   "execution_count": null,
   "id": "0a63555a",
   "metadata": {},
   "outputs": [],
   "source": []
  },
  {
   "cell_type": "code",
   "execution_count": 20,
   "id": "07f0acb1",
   "metadata": {},
   "outputs": [],
   "source": [
    "#for t in test_set:\n",
    " #   print(t)"
   ]
  },
  {
   "cell_type": "code",
   "execution_count": null,
   "id": "c1caacb0",
   "metadata": {},
   "outputs": [],
   "source": []
  },
  {
   "cell_type": "code",
   "execution_count": null,
   "id": "26a93cfb",
   "metadata": {},
   "outputs": [],
   "source": []
  },
  {
   "cell_type": "code",
   "execution_count": null,
   "id": "2d55fcb4",
   "metadata": {},
   "outputs": [],
   "source": []
  },
  {
   "cell_type": "code",
   "execution_count": 24,
   "id": "b7de3798",
   "metadata": {},
   "outputs": [
    {
     "name": "stdout",
     "output_type": "stream",
     "text": [
      "32\n",
      "Index0\n",
      "Actual: cataract\n",
      "class [1.0, 0.0]\n",
      "Index0\n",
      "Actual: cataract\n",
      "class [1.0, 0.0]\n",
      "Index0\n",
      "Actual: cataract\n",
      "class [1.0, 0.0]\n",
      "Index0\n",
      "Actual: cataract\n",
      "class [1.0, 0.0]\n",
      "Index1\n",
      "Actual: normal\n",
      "class [0.0, 1.0]\n",
      "Index1\n",
      "Actual: normal\n",
      "class [0.0, 1.0]\n",
      "Index1\n",
      "Actual: normal\n",
      "class [0.0, 1.0]\n",
      "Index1\n",
      "Actual: normal\n",
      "class [0.0, 1.0]\n",
      "Index0\n",
      "Actual: cataract\n",
      "class [1.0, 0.0]\n",
      "Index1\n",
      "Actual: normal\n",
      "class [0.0, 1.0]\n",
      "Index1\n",
      "Actual: normal\n",
      "class [0.0, 1.0]\n",
      "Index0\n",
      "Actual: cataract\n",
      "class [1.0, 0.0]\n",
      "Index0\n",
      "Actual: cataract\n",
      "class [1.0, 0.0]\n",
      "Index0\n",
      "Actual: cataract\n",
      "class [1.0, 0.0]\n",
      "Index0\n",
      "Actual: cataract\n",
      "class [1.0, 0.0]\n",
      "Index0\n",
      "Actual: cataract\n",
      "class [1.0, 0.0]\n",
      "Index1\n",
      "Actual: normal\n",
      "class [0.0, 1.0]\n",
      "Index0\n",
      "Actual: cataract\n",
      "class [1.0, 0.0]\n",
      "Index0\n",
      "Actual: cataract\n",
      "class [1.0, 0.0]\n",
      "Index0\n",
      "Actual: cataract\n",
      "class [1.0, 0.0]\n",
      "Index1\n",
      "Actual: normal\n",
      "class [0.0, 1.0]\n",
      "Index1\n",
      "Actual: normal\n",
      "class [0.0, 1.0]\n",
      "Index1\n",
      "Actual: normal\n",
      "class [0.0, 1.0]\n",
      "Index0\n",
      "Actual: cataract\n",
      "class [1.0, 0.0]\n",
      "Index0\n",
      "Actual: cataract\n",
      "class [1.0, 0.0]\n",
      "Index1\n",
      "Actual: normal\n",
      "class [0.0, 1.0]\n",
      "Index1\n",
      "Actual: normal\n",
      "class [0.0, 1.0]\n",
      "Index1\n",
      "Actual: normal\n",
      "class [0.0, 1.0]\n",
      "Index0\n",
      "Actual: cataract\n",
      "class [1.0, 0.0]\n",
      "Index1\n",
      "Actual: normal\n",
      "class [0.0, 1.0]\n",
      "Index1\n",
      "Actual: normal\n",
      "class [0.0, 1.0]\n",
      "Index1\n",
      "Actual: normal\n",
      "class [0.0, 1.0]\n",
      "8\n",
      "Index1\n",
      "Actual: normal\n",
      "class [0.0, 1.0]\n",
      "Index0\n",
      "Actual: cataract\n",
      "class [1.0, 0.0]\n",
      "Index0\n",
      "Actual: cataract\n",
      "class [1.0, 0.0]\n",
      "Index0\n",
      "Actual: cataract\n",
      "class [1.0, 0.0]\n",
      "Index1\n",
      "Actual: normal\n",
      "class [0.0, 1.0]\n",
      "Index1\n",
      "Actual: normal\n",
      "class [0.0, 1.0]\n",
      "Index1\n",
      "Actual: normal\n",
      "class [0.0, 1.0]\n",
      "Index0\n",
      "Actual: cataract\n",
      "class [1.0, 0.0]\n",
      "32\n",
      "Index0\n",
      "Actual: cataract\n",
      "class [1.0, 0.0]\n",
      "Index0\n",
      "Actual: cataract\n",
      "class [1.0, 0.0]\n",
      "Index1\n",
      "Actual: normal\n",
      "class [0.0, 1.0]\n",
      "Index1\n",
      "Actual: normal\n",
      "class [0.0, 1.0]\n",
      "Index0\n",
      "Actual: cataract\n",
      "class [1.0, 0.0]\n",
      "Index0\n",
      "Actual: cataract\n",
      "class [1.0, 0.0]\n",
      "Index0\n",
      "Actual: cataract\n",
      "class [1.0, 0.0]\n",
      "Index0\n",
      "Actual: cataract\n",
      "class [1.0, 0.0]\n",
      "Index0\n",
      "Actual: cataract\n",
      "class [1.0, 0.0]\n",
      "Index0\n",
      "Actual: cataract\n",
      "class [1.0, 0.0]\n",
      "Index1\n",
      "Actual: normal\n",
      "class [0.0, 1.0]\n",
      "Index1\n",
      "Actual: normal\n",
      "class [0.0, 1.0]\n",
      "Index0\n",
      "Actual: cataract\n",
      "class [1.0, 0.0]\n",
      "Index1\n",
      "Actual: normal\n",
      "class [0.0, 1.0]\n",
      "Index1\n",
      "Actual: normal\n",
      "class [0.0, 1.0]\n",
      "Index1\n",
      "Actual: normal\n",
      "class [0.0, 1.0]\n",
      "Index1\n",
      "Actual: normal\n",
      "class [0.0, 1.0]\n",
      "Index1\n",
      "Actual: normal\n",
      "class [0.0, 1.0]\n",
      "Index1\n",
      "Actual: normal\n",
      "class [0.0, 1.0]\n",
      "Index0\n",
      "Actual: cataract\n",
      "class [1.0, 0.0]\n",
      "Index1\n",
      "Actual: normal\n",
      "class [0.0, 1.0]\n",
      "Index1\n",
      "Actual: normal\n",
      "class [0.0, 1.0]\n",
      "Index0\n",
      "Actual: cataract\n",
      "class [1.0, 0.0]\n",
      "Index1\n",
      "Actual: normal\n",
      "class [0.0, 1.0]\n",
      "Index0\n",
      "Actual: cataract\n",
      "class [1.0, 0.0]\n",
      "Index0\n",
      "Actual: cataract\n",
      "class [1.0, 0.0]\n",
      "Index0\n",
      "Actual: cataract\n",
      "class [1.0, 0.0]\n",
      "Index1\n",
      "Actual: normal\n",
      "class [0.0, 1.0]\n",
      "Index1\n",
      "Actual: normal\n",
      "class [0.0, 1.0]\n",
      "Index1\n",
      "Actual: normal\n",
      "class [0.0, 1.0]\n",
      "Index1\n",
      "Actual: normal\n",
      "class [0.0, 1.0]\n",
      "Index0\n",
      "Actual: cataract\n",
      "class [1.0, 0.0]\n",
      "8\n",
      "Index0\n",
      "Actual: cataract\n",
      "class [1.0, 0.0]\n",
      "Index1\n",
      "Actual: normal\n",
      "class [0.0, 1.0]\n",
      "Index1\n",
      "Actual: normal\n",
      "class [0.0, 1.0]\n",
      "Index0\n",
      "Actual: cataract\n",
      "class [1.0, 0.0]\n",
      "Index0\n",
      "Actual: cataract\n",
      "class [1.0, 0.0]\n",
      "Index1\n",
      "Actual: normal\n",
      "class [0.0, 1.0]\n",
      "Index0\n",
      "Actual: cataract\n",
      "class [1.0, 0.0]\n",
      "Index0\n",
      "Actual: cataract\n",
      "class [1.0, 0.0]\n",
      "32\n",
      "Index0\n",
      "Actual: cataract\n",
      "class [1.0, 0.0]\n",
      "Index1\n",
      "Actual: normal\n",
      "class [0.0, 1.0]\n",
      "Index0\n",
      "Actual: cataract\n",
      "class [1.0, 0.0]\n",
      "Index0\n",
      "Actual: cataract\n",
      "class [1.0, 0.0]\n",
      "Index0\n",
      "Actual: cataract\n",
      "class [1.0, 0.0]\n",
      "Index1\n",
      "Actual: normal\n",
      "class [0.0, 1.0]\n",
      "Index0\n",
      "Actual: cataract\n",
      "class [1.0, 0.0]\n",
      "Index1\n",
      "Actual: normal\n",
      "class [0.0, 1.0]\n",
      "Index0\n",
      "Actual: cataract\n",
      "class [1.0, 0.0]\n",
      "Index1\n",
      "Actual: normal\n",
      "class [0.0, 1.0]\n",
      "Index0\n",
      "Actual: cataract\n",
      "class [1.0, 0.0]\n",
      "Index1\n",
      "Actual: normal\n",
      "class [0.0, 1.0]\n",
      "Index0\n",
      "Actual: cataract\n",
      "class [1.0, 0.0]\n",
      "Index1\n",
      "Actual: normal\n",
      "class [0.0, 1.0]\n",
      "Index1\n",
      "Actual: normal\n",
      "class [0.0, 1.0]\n",
      "Index1\n",
      "Actual: normal\n",
      "class [0.0, 1.0]\n",
      "Index0\n",
      "Actual: cataract\n",
      "class [1.0, 0.0]\n",
      "Index0\n",
      "Actual: cataract\n",
      "class [1.0, 0.0]\n",
      "Index1\n",
      "Actual: normal\n",
      "class [0.0, 1.0]\n",
      "Index1\n",
      "Actual: normal\n",
      "class [0.0, 1.0]\n",
      "Index0\n",
      "Actual: cataract\n",
      "class [1.0, 0.0]\n",
      "Index1\n",
      "Actual: normal\n",
      "class [0.0, 1.0]\n",
      "Index1\n",
      "Actual: normal\n",
      "class [0.0, 1.0]\n",
      "Index0\n",
      "Actual: cataract\n",
      "class [1.0, 0.0]\n",
      "Index0\n",
      "Actual: cataract\n",
      "class [1.0, 0.0]\n",
      "Index1\n",
      "Actual: normal\n",
      "class [0.0, 1.0]\n",
      "Index1\n",
      "Actual: normal\n",
      "class [0.0, 1.0]\n",
      "Index0\n",
      "Actual: cataract\n",
      "class [1.0, 0.0]\n",
      "Index1\n",
      "Actual: normal\n",
      "class [0.0, 1.0]\n",
      "Index1\n",
      "Actual: normal\n",
      "class [0.0, 1.0]\n",
      "Index1\n",
      "Actual: normal\n",
      "class [0.0, 1.0]\n",
      "Index0\n",
      "Actual: cataract\n",
      "class [1.0, 0.0]\n"
     ]
    }
   ],
   "source": [
    "actual=[]\n",
    "img=1\n",
    "row=1\n",
    "for i in range(int(imageCount/8)):\n",
    "    images,cls = next(test_set)\n",
    "    print(len(cls))\n",
    "    #print(\"In in first batch at 3\")\n",
    "    j=0\n",
    "    for c in cls:\n",
    "        cl=c.tolist()\n",
    "        m_value = max(cl)\n",
    "        m_index = cl.index(m_value)\n",
    "        print(\"Index\" + str(m_index))\n",
    "        print(\"Actual: \" + cat[m_index])\n",
    "        print(\"class\", cl)\n",
    "        actual.append(cat[m_index])\n",
    "        worksheet1.write(row, 1, str(cat[m_index]))\n",
    "        \n",
    "        #plt.imshow(images[j])\n",
    "        #plt.savefig(\"D:\\\\ImagesForCocoAssesment\\\\MobileNet\\\\TagsForInputImagesGeneratedByProgram\\\\\" + str(img) + \"-\" + str(cat[m_index]) + \".png\")\n",
    "        img=img+1\n",
    "        j=j+1\n",
    "        row=row+1\n",
    "    i=i+1\n",
    " \n"
   ]
  },
  {
   "cell_type": "code",
   "execution_count": 72,
   "id": "65868711",
   "metadata": {},
   "outputs": [
    {
     "name": "stderr",
     "output_type": "stream",
     "text": [
      "C:\\Users\\saqib\\anaconda3\\envs\\TF\\lib\\site-packages\\xlsxwriter\\workbook.py:338: UserWarning: Calling close() on already closed file.\n",
      "  warn(\"Calling close() on already closed file.\")\n"
     ]
    }
   ],
   "source": [
    "workbook.close()    \n",
    "    "
   ]
  },
  {
   "cell_type": "code",
   "execution_count": 227,
   "id": "7f8c0ac7",
   "metadata": {},
   "outputs": [
    {
     "data": {
      "text/plain": [
       "['cataract',\n",
       " 'cataract',\n",
       " 'cataract',\n",
       " 'cataract',\n",
       " 'normal',\n",
       " 'normal',\n",
       " 'normal',\n",
       " 'normal',\n",
       " 'cataract',\n",
       " 'normal',\n",
       " 'normal',\n",
       " 'cataract',\n",
       " 'cataract',\n",
       " 'cataract',\n",
       " 'cataract',\n",
       " 'cataract',\n",
       " 'normal',\n",
       " 'cataract',\n",
       " 'cataract',\n",
       " 'cataract',\n",
       " 'normal',\n",
       " 'normal',\n",
       " 'normal',\n",
       " 'cataract',\n",
       " 'cataract',\n",
       " 'normal',\n",
       " 'normal',\n",
       " 'normal',\n",
       " 'cataract',\n",
       " 'normal',\n",
       " 'normal',\n",
       " 'normal',\n",
       " 'normal',\n",
       " 'cataract',\n",
       " 'cataract',\n",
       " 'cataract',\n",
       " 'normal',\n",
       " 'normal',\n",
       " 'normal',\n",
       " 'cataract',\n",
       " 'cataract',\n",
       " 'cataract',\n",
       " 'normal',\n",
       " 'normal',\n",
       " 'cataract',\n",
       " 'cataract',\n",
       " 'cataract',\n",
       " 'cataract',\n",
       " 'cataract',\n",
       " 'cataract',\n",
       " 'normal',\n",
       " 'normal',\n",
       " 'cataract',\n",
       " 'normal',\n",
       " 'normal',\n",
       " 'normal',\n",
       " 'normal',\n",
       " 'normal',\n",
       " 'normal',\n",
       " 'cataract',\n",
       " 'normal',\n",
       " 'normal',\n",
       " 'cataract',\n",
       " 'normal',\n",
       " 'cataract',\n",
       " 'cataract',\n",
       " 'cataract',\n",
       " 'normal',\n",
       " 'normal',\n",
       " 'normal',\n",
       " 'normal',\n",
       " 'cataract',\n",
       " 'cataract',\n",
       " 'normal',\n",
       " 'normal',\n",
       " 'cataract',\n",
       " 'cataract',\n",
       " 'normal',\n",
       " 'cataract',\n",
       " 'cataract',\n",
       " 'cataract',\n",
       " 'normal',\n",
       " 'cataract',\n",
       " 'cataract',\n",
       " 'cataract',\n",
       " 'normal',\n",
       " 'cataract',\n",
       " 'normal',\n",
       " 'cataract',\n",
       " 'normal',\n",
       " 'cataract',\n",
       " 'normal',\n",
       " 'cataract',\n",
       " 'normal',\n",
       " 'normal',\n",
       " 'normal',\n",
       " 'cataract',\n",
       " 'cataract',\n",
       " 'normal',\n",
       " 'normal',\n",
       " 'cataract',\n",
       " 'normal',\n",
       " 'normal',\n",
       " 'cataract',\n",
       " 'cataract',\n",
       " 'normal',\n",
       " 'normal',\n",
       " 'cataract',\n",
       " 'normal',\n",
       " 'normal',\n",
       " 'normal',\n",
       " 'cataract']"
      ]
     },
     "execution_count": 227,
     "metadata": {},
     "output_type": "execute_result"
    }
   ],
   "source": [
    "actual"
   ]
  },
  {
   "cell_type": "code",
   "execution_count": 242,
   "id": "0c497178",
   "metadata": {},
   "outputs": [
    {
     "name": "stdout",
     "output_type": "stream",
     "text": [
      "              precision    recall  f1-score   support\n",
      "\n",
      "    cataract       1.00      1.00      1.00         2\n",
      "      normal       1.00      1.00      1.00         1\n",
      "\n",
      "    accuracy                           1.00         3\n",
      "   macro avg       1.00      1.00      1.00         3\n",
      "weighted avg       1.00      1.00      1.00         3\n",
      "\n"
     ]
    }
   ],
   "source": []
  },
  {
   "cell_type": "code",
   "execution_count": null,
   "id": "1234de94",
   "metadata": {},
   "outputs": [],
   "source": []
  },
  {
   "cell_type": "code",
   "execution_count": null,
   "id": "ad39bc21",
   "metadata": {},
   "outputs": [],
   "source": []
  },
  {
   "cell_type": "code",
   "execution_count": null,
   "id": "7e02db07",
   "metadata": {},
   "outputs": [],
   "source": []
  },
  {
   "cell_type": "code",
   "execution_count": 208,
   "id": "be63c6e8",
   "metadata": {},
   "outputs": [
    {
     "data": {
      "text/plain": [
       "32"
      ]
     },
     "execution_count": 208,
     "metadata": {},
     "output_type": "execute_result"
    }
   ],
   "source": []
  },
  {
   "cell_type": "code",
   "execution_count": null,
   "id": "384f47f0",
   "metadata": {},
   "outputs": [],
   "source": []
  },
  {
   "cell_type": "code",
   "execution_count": null,
   "id": "c8e8d9b4",
   "metadata": {},
   "outputs": [],
   "source": []
  },
  {
   "cell_type": "code",
   "execution_count": null,
   "id": "da72f2ad",
   "metadata": {},
   "outputs": [],
   "source": []
  },
  {
   "cell_type": "code",
   "execution_count": null,
   "id": "3ae78213",
   "metadata": {},
   "outputs": [],
   "source": []
  },
  {
   "cell_type": "code",
   "execution_count": null,
   "id": "42ad0160",
   "metadata": {},
   "outputs": [],
   "source": []
  },
  {
   "cell_type": "code",
   "execution_count": null,
   "id": "56a1bcb0",
   "metadata": {},
   "outputs": [],
   "source": []
  },
  {
   "cell_type": "code",
   "execution_count": null,
   "id": "534ab73a",
   "metadata": {},
   "outputs": [],
   "source": []
  },
  {
   "cell_type": "code",
   "execution_count": null,
   "id": "8edef539",
   "metadata": {},
   "outputs": [],
   "source": []
  },
  {
   "cell_type": "code",
   "execution_count": null,
   "id": "193fad91",
   "metadata": {},
   "outputs": [],
   "source": [
    "\n"
   ]
  },
  {
   "cell_type": "code",
   "execution_count": null,
   "id": "42771e1b",
   "metadata": {},
   "outputs": [],
   "source": []
  },
  {
   "cell_type": "code",
   "execution_count": null,
   "id": "fc4149ad",
   "metadata": {},
   "outputs": [],
   "source": []
  },
  {
   "cell_type": "code",
   "execution_count": null,
   "id": "48ef9454",
   "metadata": {},
   "outputs": [],
   "source": []
  },
  {
   "cell_type": "code",
   "execution_count": null,
   "id": "1ee7e7cb",
   "metadata": {},
   "outputs": [],
   "source": []
  }
 ],
 "metadata": {
  "kernelspec": {
   "display_name": "Python 3 (ipykernel)",
   "language": "python",
   "name": "python3"
  },
  "language_info": {
   "codemirror_mode": {
    "name": "ipython",
    "version": 3
   },
   "file_extension": ".py",
   "mimetype": "text/x-python",
   "name": "python",
   "nbconvert_exporter": "python",
   "pygments_lexer": "ipython3",
   "version": "3.8.13"
  }
 },
 "nbformat": 4,
 "nbformat_minor": 5
}
