{
  "cells": [
    {
      "cell_type": "code",
      "execution_count": 12,
      "id": "b5e2968b",
      "metadata": {
        "id": "b5e2968b"
      },
      "outputs": [],
      "source": [
        "from keras.layers import Input, Lambda, Dense, Flatten\n",
        "from keras.models import Model\n",
        "from keras.applications.mobilenet_v2 import MobileNetV2\n",
        "from keras.applications.vgg16 import preprocess_input\n",
        "from keras.preprocessing import image\n",
        "from keras.preprocessing.image import ImageDataGenerator\n",
        "from keras.models import Sequential\n",
        "import numpy as np\n",
        "from glob import glob\n",
        "import matplotlib.pyplot as plt"
      ]
    },
    {
      "cell_type": "code",
      "source": [
        "from google.colab import drive\n",
        "drive.mount('/content/drive')"
      ],
      "metadata": {
        "colab": {
          "base_uri": "https://localhost:8080/"
        },
        "id": "xf3eU3n_V3g0",
        "outputId": "02e19927-9575-4c68-b624-48891da9c5e5"
      },
      "id": "xf3eU3n_V3g0",
      "execution_count": 14,
      "outputs": [
        {
          "output_type": "stream",
          "name": "stdout",
          "text": [
            "Mounted at /content/drive\n"
          ]
        }
      ]
    },
    {
      "cell_type": "code",
      "execution_count": 15,
      "id": "c00a89f6",
      "metadata": {
        "id": "c00a89f6"
      },
      "outputs": [],
      "source": [
        "# re-size all the images to this\n",
        "IMAGE_SIZE = [224, 224]\n",
        "\n",
        "\n",
        "train_path = '/content/drive/MyDrive/CatractImagesMobileNet/dataset2/CatractDataset/Training-Dataset/'\n",
        "valid_path = '/content/drive/MyDrive/CatractImagesMobileNet/dataset2/CatractDataset/Test-Dataset/'\n",
        "\n",
        "# add preprocessing layer to the front of VGG\n",
        "mbnt = MobileNetV2(input_shape=IMAGE_SIZE + [3], weights='imagenet', include_top=False)"
      ]
    },
    {
      "cell_type": "code",
      "source": [
        "pip install xlsxwriter"
      ],
      "metadata": {
        "colab": {
          "base_uri": "https://localhost:8080/"
        },
        "id": "C-KTCucQjuas",
        "outputId": "8fb6af11-3c33-4dbe-f0ce-096bf3e8e872"
      },
      "id": "C-KTCucQjuas",
      "execution_count": 16,
      "outputs": [
        {
          "output_type": "stream",
          "name": "stdout",
          "text": [
            "Requirement already satisfied: xlsxwriter in /usr/local/lib/python3.10/dist-packages (3.2.0)\n"
          ]
        }
      ]
    },
    {
      "cell_type": "code",
      "execution_count": 17,
      "id": "4ada9778",
      "metadata": {
        "id": "4ada9778"
      },
      "outputs": [],
      "source": [
        "import xlsxwriter\n",
        "workbook = xlsxwriter.Workbook('/content/drive/MyDrive/CatractImagesMobileNet/dataset2/files/MobileNetV2CatractImagesAnalysis.xlsx')\n",
        "worksheet1 = workbook.add_worksheet()\n",
        "row=0\n",
        "col=0\n",
        "imageCount=0\n",
        "worksheet1.write(row, 0, str(\"Analysis of Image\"))\n",
        "worksheet1.write(row, 1, str(\"Actual Object\"))\n",
        "worksheet1.write(row, 2, str(\"Percentage for Detected Object\"))\n",
        "worksheet1.write(row, 3, str(\"Detected Object\"))\n",
        "import os\n",
        "\n",
        "row=1\n",
        "for path, currentDirectory, files in os.walk(\"/content/drive/MyDrive/CatractImagesMobileNet\\dataset2\\CatractDataset\\Test-Dataset\"):\n",
        "    for file in files:\n",
        "        print(os.path.join(path, file))\n",
        "        imageCount=imageCount + 1\n",
        "        worksheet1.write(row, 0, str(\"Image-\" + str(imageCount)))\n",
        "        row=row+1\n"
      ]
    },
    {
      "cell_type": "code",
      "execution_count": 18,
      "id": "08fc6f09",
      "metadata": {
        "colab": {
          "base_uri": "https://localhost:8080/"
        },
        "id": "08fc6f09",
        "outputId": "5fe57696-2a9a-4685-de01-b1082556d768"
      },
      "outputs": [
        {
          "output_type": "execute_result",
          "data": {
            "text/plain": [
              "0"
            ]
          },
          "metadata": {},
          "execution_count": 18
        }
      ],
      "source": [
        "imageCount"
      ]
    },
    {
      "cell_type": "code",
      "execution_count": 19,
      "id": "0f3da374",
      "metadata": {
        "id": "0f3da374"
      },
      "outputs": [],
      "source": [
        "# don't train existing weights\n",
        "for layer in mbnt.layers:\n",
        "    layer.trainable = False"
      ]
    },
    {
      "cell_type": "code",
      "execution_count": 20,
      "id": "70b443ae",
      "metadata": {
        "colab": {
          "base_uri": "https://localhost:8080/"
        },
        "id": "70b443ae",
        "outputId": "ce087a75-9345-4a76-d623-47d576a435f7"
      },
      "outputs": [
        {
          "output_type": "stream",
          "name": "stdout",
          "text": [
            "2\n"
          ]
        }
      ],
      "source": [
        "  # useful for getting number of classes\n",
        "folders = glob('/content/drive/MyDrive/CatractImagesMobileNet/dataset2/CatractDataset/Training-Dataset/*')\n",
        "print(len(folders))"
      ]
    },
    {
      "cell_type": "code",
      "execution_count": 21,
      "id": "d2a04a2f",
      "metadata": {
        "id": "d2a04a2f"
      },
      "outputs": [],
      "source": [
        "# our layers - you can add more if you want\n",
        "x = Flatten()(mbnt.output)\n",
        "x = Dense(200, activation='relu')(x)\n",
        "x = Dense(100, activation='relu')(x)\n",
        "prediction = Dense(len(folders), activation='softmax')(x)\n",
        "#prediction = Dense(1, activation='sigmoid')(x)\n"
      ]
    },
    {
      "cell_type": "code",
      "execution_count": null,
      "id": "24278b59",
      "metadata": {
        "id": "24278b59"
      },
      "outputs": [],
      "source": []
    },
    {
      "cell_type": "code",
      "execution_count": 36,
      "id": "203ef353",
      "metadata": {
        "id": "203ef353"
      },
      "outputs": [],
      "source": [
        "# create a model object\n",
        "model = Model(inputs=mbnt.input, outputs=prediction)"
      ]
    },
    {
      "cell_type": "code",
      "execution_count": 23,
      "id": "0c502cb2",
      "metadata": {
        "colab": {
          "base_uri": "https://localhost:8080/"
        },
        "id": "0c502cb2",
        "outputId": "fc0f3225-46d5-4d0c-f2a9-c4edccb908c4"
      },
      "outputs": [
        {
          "output_type": "stream",
          "name": "stdout",
          "text": [
            "Model: \"model_1\"\n",
            "__________________________________________________________________________________________________\n",
            " Layer (type)                Output Shape                 Param #   Connected to                  \n",
            "==================================================================================================\n",
            " input_3 (InputLayer)        [(None, 224, 224, 3)]        0         []                            \n",
            "                                                                                                  \n",
            " Conv1 (Conv2D)              (None, 112, 112, 32)         864       ['input_3[0][0]']             \n",
            "                                                                                                  \n",
            " bn_Conv1 (BatchNormalizati  (None, 112, 112, 32)         128       ['Conv1[0][0]']               \n",
            " on)                                                                                              \n",
            "                                                                                                  \n",
            " Conv1_relu (ReLU)           (None, 112, 112, 32)         0         ['bn_Conv1[0][0]']            \n",
            "                                                                                                  \n",
            " expanded_conv_depthwise (D  (None, 112, 112, 32)         288       ['Conv1_relu[0][0]']          \n",
            " epthwiseConv2D)                                                                                  \n",
            "                                                                                                  \n",
            " expanded_conv_depthwise_BN  (None, 112, 112, 32)         128       ['expanded_conv_depthwise[0][0\n",
            "  (BatchNormalization)                                              ]']                           \n",
            "                                                                                                  \n",
            " expanded_conv_depthwise_re  (None, 112, 112, 32)         0         ['expanded_conv_depthwise_BN[0\n",
            " lu (ReLU)                                                          ][0]']                        \n",
            "                                                                                                  \n",
            " expanded_conv_project (Con  (None, 112, 112, 16)         512       ['expanded_conv_depthwise_relu\n",
            " v2D)                                                               [0][0]']                      \n",
            "                                                                                                  \n",
            " expanded_conv_project_BN (  (None, 112, 112, 16)         64        ['expanded_conv_project[0][0]'\n",
            " BatchNormalization)                                                ]                             \n",
            "                                                                                                  \n",
            " block_1_expand (Conv2D)     (None, 112, 112, 96)         1536      ['expanded_conv_project_BN[0][\n",
            "                                                                    0]']                          \n",
            "                                                                                                  \n",
            " block_1_expand_BN (BatchNo  (None, 112, 112, 96)         384       ['block_1_expand[0][0]']      \n",
            " rmalization)                                                                                     \n",
            "                                                                                                  \n",
            " block_1_expand_relu (ReLU)  (None, 112, 112, 96)         0         ['block_1_expand_BN[0][0]']   \n",
            "                                                                                                  \n",
            " block_1_pad (ZeroPadding2D  (None, 113, 113, 96)         0         ['block_1_expand_relu[0][0]'] \n",
            " )                                                                                                \n",
            "                                                                                                  \n",
            " block_1_depthwise (Depthwi  (None, 56, 56, 96)           864       ['block_1_pad[0][0]']         \n",
            " seConv2D)                                                                                        \n",
            "                                                                                                  \n",
            " block_1_depthwise_BN (Batc  (None, 56, 56, 96)           384       ['block_1_depthwise[0][0]']   \n",
            " hNormalization)                                                                                  \n",
            "                                                                                                  \n",
            " block_1_depthwise_relu (Re  (None, 56, 56, 96)           0         ['block_1_depthwise_BN[0][0]']\n",
            " LU)                                                                                              \n",
            "                                                                                                  \n",
            " block_1_project (Conv2D)    (None, 56, 56, 24)           2304      ['block_1_depthwise_relu[0][0]\n",
            "                                                                    ']                            \n",
            "                                                                                                  \n",
            " block_1_project_BN (BatchN  (None, 56, 56, 24)           96        ['block_1_project[0][0]']     \n",
            " ormalization)                                                                                    \n",
            "                                                                                                  \n",
            " block_2_expand (Conv2D)     (None, 56, 56, 144)          3456      ['block_1_project_BN[0][0]']  \n",
            "                                                                                                  \n",
            " block_2_expand_BN (BatchNo  (None, 56, 56, 144)          576       ['block_2_expand[0][0]']      \n",
            " rmalization)                                                                                     \n",
            "                                                                                                  \n",
            " block_2_expand_relu (ReLU)  (None, 56, 56, 144)          0         ['block_2_expand_BN[0][0]']   \n",
            "                                                                                                  \n",
            " block_2_depthwise (Depthwi  (None, 56, 56, 144)          1296      ['block_2_expand_relu[0][0]'] \n",
            " seConv2D)                                                                                        \n",
            "                                                                                                  \n",
            " block_2_depthwise_BN (Batc  (None, 56, 56, 144)          576       ['block_2_depthwise[0][0]']   \n",
            " hNormalization)                                                                                  \n",
            "                                                                                                  \n",
            " block_2_depthwise_relu (Re  (None, 56, 56, 144)          0         ['block_2_depthwise_BN[0][0]']\n",
            " LU)                                                                                              \n",
            "                                                                                                  \n",
            " block_2_project (Conv2D)    (None, 56, 56, 24)           3456      ['block_2_depthwise_relu[0][0]\n",
            "                                                                    ']                            \n",
            "                                                                                                  \n",
            " block_2_project_BN (BatchN  (None, 56, 56, 24)           96        ['block_2_project[0][0]']     \n",
            " ormalization)                                                                                    \n",
            "                                                                                                  \n",
            " block_2_add (Add)           (None, 56, 56, 24)           0         ['block_1_project_BN[0][0]',  \n",
            "                                                                     'block_2_project_BN[0][0]']  \n",
            "                                                                                                  \n",
            " block_3_expand (Conv2D)     (None, 56, 56, 144)          3456      ['block_2_add[0][0]']         \n",
            "                                                                                                  \n",
            " block_3_expand_BN (BatchNo  (None, 56, 56, 144)          576       ['block_3_expand[0][0]']      \n",
            " rmalization)                                                                                     \n",
            "                                                                                                  \n",
            " block_3_expand_relu (ReLU)  (None, 56, 56, 144)          0         ['block_3_expand_BN[0][0]']   \n",
            "                                                                                                  \n",
            " block_3_pad (ZeroPadding2D  (None, 57, 57, 144)          0         ['block_3_expand_relu[0][0]'] \n",
            " )                                                                                                \n",
            "                                                                                                  \n",
            " block_3_depthwise (Depthwi  (None, 28, 28, 144)          1296      ['block_3_pad[0][0]']         \n",
            " seConv2D)                                                                                        \n",
            "                                                                                                  \n",
            " block_3_depthwise_BN (Batc  (None, 28, 28, 144)          576       ['block_3_depthwise[0][0]']   \n",
            " hNormalization)                                                                                  \n",
            "                                                                                                  \n",
            " block_3_depthwise_relu (Re  (None, 28, 28, 144)          0         ['block_3_depthwise_BN[0][0]']\n",
            " LU)                                                                                              \n",
            "                                                                                                  \n",
            " block_3_project (Conv2D)    (None, 28, 28, 32)           4608      ['block_3_depthwise_relu[0][0]\n",
            "                                                                    ']                            \n",
            "                                                                                                  \n",
            " block_3_project_BN (BatchN  (None, 28, 28, 32)           128       ['block_3_project[0][0]']     \n",
            " ormalization)                                                                                    \n",
            "                                                                                                  \n",
            " block_4_expand (Conv2D)     (None, 28, 28, 192)          6144      ['block_3_project_BN[0][0]']  \n",
            "                                                                                                  \n",
            " block_4_expand_BN (BatchNo  (None, 28, 28, 192)          768       ['block_4_expand[0][0]']      \n",
            " rmalization)                                                                                     \n",
            "                                                                                                  \n",
            " block_4_expand_relu (ReLU)  (None, 28, 28, 192)          0         ['block_4_expand_BN[0][0]']   \n",
            "                                                                                                  \n",
            " block_4_depthwise (Depthwi  (None, 28, 28, 192)          1728      ['block_4_expand_relu[0][0]'] \n",
            " seConv2D)                                                                                        \n",
            "                                                                                                  \n",
            " block_4_depthwise_BN (Batc  (None, 28, 28, 192)          768       ['block_4_depthwise[0][0]']   \n",
            " hNormalization)                                                                                  \n",
            "                                                                                                  \n",
            " block_4_depthwise_relu (Re  (None, 28, 28, 192)          0         ['block_4_depthwise_BN[0][0]']\n",
            " LU)                                                                                              \n",
            "                                                                                                  \n",
            " block_4_project (Conv2D)    (None, 28, 28, 32)           6144      ['block_4_depthwise_relu[0][0]\n",
            "                                                                    ']                            \n",
            "                                                                                                  \n",
            " block_4_project_BN (BatchN  (None, 28, 28, 32)           128       ['block_4_project[0][0]']     \n",
            " ormalization)                                                                                    \n",
            "                                                                                                  \n",
            " block_4_add (Add)           (None, 28, 28, 32)           0         ['block_3_project_BN[0][0]',  \n",
            "                                                                     'block_4_project_BN[0][0]']  \n",
            "                                                                                                  \n",
            " block_5_expand (Conv2D)     (None, 28, 28, 192)          6144      ['block_4_add[0][0]']         \n",
            "                                                                                                  \n",
            " block_5_expand_BN (BatchNo  (None, 28, 28, 192)          768       ['block_5_expand[0][0]']      \n",
            " rmalization)                                                                                     \n",
            "                                                                                                  \n",
            " block_5_expand_relu (ReLU)  (None, 28, 28, 192)          0         ['block_5_expand_BN[0][0]']   \n",
            "                                                                                                  \n",
            " block_5_depthwise (Depthwi  (None, 28, 28, 192)          1728      ['block_5_expand_relu[0][0]'] \n",
            " seConv2D)                                                                                        \n",
            "                                                                                                  \n",
            " block_5_depthwise_BN (Batc  (None, 28, 28, 192)          768       ['block_5_depthwise[0][0]']   \n",
            " hNormalization)                                                                                  \n",
            "                                                                                                  \n",
            " block_5_depthwise_relu (Re  (None, 28, 28, 192)          0         ['block_5_depthwise_BN[0][0]']\n",
            " LU)                                                                                              \n",
            "                                                                                                  \n",
            " block_5_project (Conv2D)    (None, 28, 28, 32)           6144      ['block_5_depthwise_relu[0][0]\n",
            "                                                                    ']                            \n",
            "                                                                                                  \n",
            " block_5_project_BN (BatchN  (None, 28, 28, 32)           128       ['block_5_project[0][0]']     \n",
            " ormalization)                                                                                    \n",
            "                                                                                                  \n",
            " block_5_add (Add)           (None, 28, 28, 32)           0         ['block_4_add[0][0]',         \n",
            "                                                                     'block_5_project_BN[0][0]']  \n",
            "                                                                                                  \n",
            " block_6_expand (Conv2D)     (None, 28, 28, 192)          6144      ['block_5_add[0][0]']         \n",
            "                                                                                                  \n",
            " block_6_expand_BN (BatchNo  (None, 28, 28, 192)          768       ['block_6_expand[0][0]']      \n",
            " rmalization)                                                                                     \n",
            "                                                                                                  \n",
            " block_6_expand_relu (ReLU)  (None, 28, 28, 192)          0         ['block_6_expand_BN[0][0]']   \n",
            "                                                                                                  \n",
            " block_6_pad (ZeroPadding2D  (None, 29, 29, 192)          0         ['block_6_expand_relu[0][0]'] \n",
            " )                                                                                                \n",
            "                                                                                                  \n",
            " block_6_depthwise (Depthwi  (None, 14, 14, 192)          1728      ['block_6_pad[0][0]']         \n",
            " seConv2D)                                                                                        \n",
            "                                                                                                  \n",
            " block_6_depthwise_BN (Batc  (None, 14, 14, 192)          768       ['block_6_depthwise[0][0]']   \n",
            " hNormalization)                                                                                  \n",
            "                                                                                                  \n",
            " block_6_depthwise_relu (Re  (None, 14, 14, 192)          0         ['block_6_depthwise_BN[0][0]']\n",
            " LU)                                                                                              \n",
            "                                                                                                  \n",
            " block_6_project (Conv2D)    (None, 14, 14, 64)           12288     ['block_6_depthwise_relu[0][0]\n",
            "                                                                    ']                            \n",
            "                                                                                                  \n",
            " block_6_project_BN (BatchN  (None, 14, 14, 64)           256       ['block_6_project[0][0]']     \n",
            " ormalization)                                                                                    \n",
            "                                                                                                  \n",
            " block_7_expand (Conv2D)     (None, 14, 14, 384)          24576     ['block_6_project_BN[0][0]']  \n",
            "                                                                                                  \n",
            " block_7_expand_BN (BatchNo  (None, 14, 14, 384)          1536      ['block_7_expand[0][0]']      \n",
            " rmalization)                                                                                     \n",
            "                                                                                                  \n",
            " block_7_expand_relu (ReLU)  (None, 14, 14, 384)          0         ['block_7_expand_BN[0][0]']   \n",
            "                                                                                                  \n",
            " block_7_depthwise (Depthwi  (None, 14, 14, 384)          3456      ['block_7_expand_relu[0][0]'] \n",
            " seConv2D)                                                                                        \n",
            "                                                                                                  \n",
            " block_7_depthwise_BN (Batc  (None, 14, 14, 384)          1536      ['block_7_depthwise[0][0]']   \n",
            " hNormalization)                                                                                  \n",
            "                                                                                                  \n",
            " block_7_depthwise_relu (Re  (None, 14, 14, 384)          0         ['block_7_depthwise_BN[0][0]']\n",
            " LU)                                                                                              \n",
            "                                                                                                  \n",
            " block_7_project (Conv2D)    (None, 14, 14, 64)           24576     ['block_7_depthwise_relu[0][0]\n",
            "                                                                    ']                            \n",
            "                                                                                                  \n",
            " block_7_project_BN (BatchN  (None, 14, 14, 64)           256       ['block_7_project[0][0]']     \n",
            " ormalization)                                                                                    \n",
            "                                                                                                  \n",
            " block_7_add (Add)           (None, 14, 14, 64)           0         ['block_6_project_BN[0][0]',  \n",
            "                                                                     'block_7_project_BN[0][0]']  \n",
            "                                                                                                  \n",
            " block_8_expand (Conv2D)     (None, 14, 14, 384)          24576     ['block_7_add[0][0]']         \n",
            "                                                                                                  \n",
            " block_8_expand_BN (BatchNo  (None, 14, 14, 384)          1536      ['block_8_expand[0][0]']      \n",
            " rmalization)                                                                                     \n",
            "                                                                                                  \n",
            " block_8_expand_relu (ReLU)  (None, 14, 14, 384)          0         ['block_8_expand_BN[0][0]']   \n",
            "                                                                                                  \n",
            " block_8_depthwise (Depthwi  (None, 14, 14, 384)          3456      ['block_8_expand_relu[0][0]'] \n",
            " seConv2D)                                                                                        \n",
            "                                                                                                  \n",
            " block_8_depthwise_BN (Batc  (None, 14, 14, 384)          1536      ['block_8_depthwise[0][0]']   \n",
            " hNormalization)                                                                                  \n",
            "                                                                                                  \n",
            " block_8_depthwise_relu (Re  (None, 14, 14, 384)          0         ['block_8_depthwise_BN[0][0]']\n",
            " LU)                                                                                              \n",
            "                                                                                                  \n",
            " block_8_project (Conv2D)    (None, 14, 14, 64)           24576     ['block_8_depthwise_relu[0][0]\n",
            "                                                                    ']                            \n",
            "                                                                                                  \n",
            " block_8_project_BN (BatchN  (None, 14, 14, 64)           256       ['block_8_project[0][0]']     \n",
            " ormalization)                                                                                    \n",
            "                                                                                                  \n",
            " block_8_add (Add)           (None, 14, 14, 64)           0         ['block_7_add[0][0]',         \n",
            "                                                                     'block_8_project_BN[0][0]']  \n",
            "                                                                                                  \n",
            " block_9_expand (Conv2D)     (None, 14, 14, 384)          24576     ['block_8_add[0][0]']         \n",
            "                                                                                                  \n",
            " block_9_expand_BN (BatchNo  (None, 14, 14, 384)          1536      ['block_9_expand[0][0]']      \n",
            " rmalization)                                                                                     \n",
            "                                                                                                  \n",
            " block_9_expand_relu (ReLU)  (None, 14, 14, 384)          0         ['block_9_expand_BN[0][0]']   \n",
            "                                                                                                  \n",
            " block_9_depthwise (Depthwi  (None, 14, 14, 384)          3456      ['block_9_expand_relu[0][0]'] \n",
            " seConv2D)                                                                                        \n",
            "                                                                                                  \n",
            " block_9_depthwise_BN (Batc  (None, 14, 14, 384)          1536      ['block_9_depthwise[0][0]']   \n",
            " hNormalization)                                                                                  \n",
            "                                                                                                  \n",
            " block_9_depthwise_relu (Re  (None, 14, 14, 384)          0         ['block_9_depthwise_BN[0][0]']\n",
            " LU)                                                                                              \n",
            "                                                                                                  \n",
            " block_9_project (Conv2D)    (None, 14, 14, 64)           24576     ['block_9_depthwise_relu[0][0]\n",
            "                                                                    ']                            \n",
            "                                                                                                  \n",
            " block_9_project_BN (BatchN  (None, 14, 14, 64)           256       ['block_9_project[0][0]']     \n",
            " ormalization)                                                                                    \n",
            "                                                                                                  \n",
            " block_9_add (Add)           (None, 14, 14, 64)           0         ['block_8_add[0][0]',         \n",
            "                                                                     'block_9_project_BN[0][0]']  \n",
            "                                                                                                  \n",
            " block_10_expand (Conv2D)    (None, 14, 14, 384)          24576     ['block_9_add[0][0]']         \n",
            "                                                                                                  \n",
            " block_10_expand_BN (BatchN  (None, 14, 14, 384)          1536      ['block_10_expand[0][0]']     \n",
            " ormalization)                                                                                    \n",
            "                                                                                                  \n",
            " block_10_expand_relu (ReLU  (None, 14, 14, 384)          0         ['block_10_expand_BN[0][0]']  \n",
            " )                                                                                                \n",
            "                                                                                                  \n",
            " block_10_depthwise (Depthw  (None, 14, 14, 384)          3456      ['block_10_expand_relu[0][0]']\n",
            " iseConv2D)                                                                                       \n",
            "                                                                                                  \n",
            " block_10_depthwise_BN (Bat  (None, 14, 14, 384)          1536      ['block_10_depthwise[0][0]']  \n",
            " chNormalization)                                                                                 \n",
            "                                                                                                  \n",
            " block_10_depthwise_relu (R  (None, 14, 14, 384)          0         ['block_10_depthwise_BN[0][0]'\n",
            " eLU)                                                               ]                             \n",
            "                                                                                                  \n",
            " block_10_project (Conv2D)   (None, 14, 14, 96)           36864     ['block_10_depthwise_relu[0][0\n",
            "                                                                    ]']                           \n",
            "                                                                                                  \n",
            " block_10_project_BN (Batch  (None, 14, 14, 96)           384       ['block_10_project[0][0]']    \n",
            " Normalization)                                                                                   \n",
            "                                                                                                  \n",
            " block_11_expand (Conv2D)    (None, 14, 14, 576)          55296     ['block_10_project_BN[0][0]'] \n",
            "                                                                                                  \n",
            " block_11_expand_BN (BatchN  (None, 14, 14, 576)          2304      ['block_11_expand[0][0]']     \n",
            " ormalization)                                                                                    \n",
            "                                                                                                  \n",
            " block_11_expand_relu (ReLU  (None, 14, 14, 576)          0         ['block_11_expand_BN[0][0]']  \n",
            " )                                                                                                \n",
            "                                                                                                  \n",
            " block_11_depthwise (Depthw  (None, 14, 14, 576)          5184      ['block_11_expand_relu[0][0]']\n",
            " iseConv2D)                                                                                       \n",
            "                                                                                                  \n",
            " block_11_depthwise_BN (Bat  (None, 14, 14, 576)          2304      ['block_11_depthwise[0][0]']  \n",
            " chNormalization)                                                                                 \n",
            "                                                                                                  \n",
            " block_11_depthwise_relu (R  (None, 14, 14, 576)          0         ['block_11_depthwise_BN[0][0]'\n",
            " eLU)                                                               ]                             \n",
            "                                                                                                  \n",
            " block_11_project (Conv2D)   (None, 14, 14, 96)           55296     ['block_11_depthwise_relu[0][0\n",
            "                                                                    ]']                           \n",
            "                                                                                                  \n",
            " block_11_project_BN (Batch  (None, 14, 14, 96)           384       ['block_11_project[0][0]']    \n",
            " Normalization)                                                                                   \n",
            "                                                                                                  \n",
            " block_11_add (Add)          (None, 14, 14, 96)           0         ['block_10_project_BN[0][0]', \n",
            "                                                                     'block_11_project_BN[0][0]'] \n",
            "                                                                                                  \n",
            " block_12_expand (Conv2D)    (None, 14, 14, 576)          55296     ['block_11_add[0][0]']        \n",
            "                                                                                                  \n",
            " block_12_expand_BN (BatchN  (None, 14, 14, 576)          2304      ['block_12_expand[0][0]']     \n",
            " ormalization)                                                                                    \n",
            "                                                                                                  \n",
            " block_12_expand_relu (ReLU  (None, 14, 14, 576)          0         ['block_12_expand_BN[0][0]']  \n",
            " )                                                                                                \n",
            "                                                                                                  \n",
            " block_12_depthwise (Depthw  (None, 14, 14, 576)          5184      ['block_12_expand_relu[0][0]']\n",
            " iseConv2D)                                                                                       \n",
            "                                                                                                  \n",
            " block_12_depthwise_BN (Bat  (None, 14, 14, 576)          2304      ['block_12_depthwise[0][0]']  \n",
            " chNormalization)                                                                                 \n",
            "                                                                                                  \n",
            " block_12_depthwise_relu (R  (None, 14, 14, 576)          0         ['block_12_depthwise_BN[0][0]'\n",
            " eLU)                                                               ]                             \n",
            "                                                                                                  \n",
            " block_12_project (Conv2D)   (None, 14, 14, 96)           55296     ['block_12_depthwise_relu[0][0\n",
            "                                                                    ]']                           \n",
            "                                                                                                  \n",
            " block_12_project_BN (Batch  (None, 14, 14, 96)           384       ['block_12_project[0][0]']    \n",
            " Normalization)                                                                                   \n",
            "                                                                                                  \n",
            " block_12_add (Add)          (None, 14, 14, 96)           0         ['block_11_add[0][0]',        \n",
            "                                                                     'block_12_project_BN[0][0]'] \n",
            "                                                                                                  \n",
            " block_13_expand (Conv2D)    (None, 14, 14, 576)          55296     ['block_12_add[0][0]']        \n",
            "                                                                                                  \n",
            " block_13_expand_BN (BatchN  (None, 14, 14, 576)          2304      ['block_13_expand[0][0]']     \n",
            " ormalization)                                                                                    \n",
            "                                                                                                  \n",
            " block_13_expand_relu (ReLU  (None, 14, 14, 576)          0         ['block_13_expand_BN[0][0]']  \n",
            " )                                                                                                \n",
            "                                                                                                  \n",
            " block_13_pad (ZeroPadding2  (None, 15, 15, 576)          0         ['block_13_expand_relu[0][0]']\n",
            " D)                                                                                               \n",
            "                                                                                                  \n",
            " block_13_depthwise (Depthw  (None, 7, 7, 576)            5184      ['block_13_pad[0][0]']        \n",
            " iseConv2D)                                                                                       \n",
            "                                                                                                  \n",
            " block_13_depthwise_BN (Bat  (None, 7, 7, 576)            2304      ['block_13_depthwise[0][0]']  \n",
            " chNormalization)                                                                                 \n",
            "                                                                                                  \n",
            " block_13_depthwise_relu (R  (None, 7, 7, 576)            0         ['block_13_depthwise_BN[0][0]'\n",
            " eLU)                                                               ]                             \n",
            "                                                                                                  \n",
            " block_13_project (Conv2D)   (None, 7, 7, 160)            92160     ['block_13_depthwise_relu[0][0\n",
            "                                                                    ]']                           \n",
            "                                                                                                  \n",
            " block_13_project_BN (Batch  (None, 7, 7, 160)            640       ['block_13_project[0][0]']    \n",
            " Normalization)                                                                                   \n",
            "                                                                                                  \n",
            " block_14_expand (Conv2D)    (None, 7, 7, 960)            153600    ['block_13_project_BN[0][0]'] \n",
            "                                                                                                  \n",
            " block_14_expand_BN (BatchN  (None, 7, 7, 960)            3840      ['block_14_expand[0][0]']     \n",
            " ormalization)                                                                                    \n",
            "                                                                                                  \n",
            " block_14_expand_relu (ReLU  (None, 7, 7, 960)            0         ['block_14_expand_BN[0][0]']  \n",
            " )                                                                                                \n",
            "                                                                                                  \n",
            " block_14_depthwise (Depthw  (None, 7, 7, 960)            8640      ['block_14_expand_relu[0][0]']\n",
            " iseConv2D)                                                                                       \n",
            "                                                                                                  \n",
            " block_14_depthwise_BN (Bat  (None, 7, 7, 960)            3840      ['block_14_depthwise[0][0]']  \n",
            " chNormalization)                                                                                 \n",
            "                                                                                                  \n",
            " block_14_depthwise_relu (R  (None, 7, 7, 960)            0         ['block_14_depthwise_BN[0][0]'\n",
            " eLU)                                                               ]                             \n",
            "                                                                                                  \n",
            " block_14_project (Conv2D)   (None, 7, 7, 160)            153600    ['block_14_depthwise_relu[0][0\n",
            "                                                                    ]']                           \n",
            "                                                                                                  \n",
            " block_14_project_BN (Batch  (None, 7, 7, 160)            640       ['block_14_project[0][0]']    \n",
            " Normalization)                                                                                   \n",
            "                                                                                                  \n",
            " block_14_add (Add)          (None, 7, 7, 160)            0         ['block_13_project_BN[0][0]', \n",
            "                                                                     'block_14_project_BN[0][0]'] \n",
            "                                                                                                  \n",
            " block_15_expand (Conv2D)    (None, 7, 7, 960)            153600    ['block_14_add[0][0]']        \n",
            "                                                                                                  \n",
            " block_15_expand_BN (BatchN  (None, 7, 7, 960)            3840      ['block_15_expand[0][0]']     \n",
            " ormalization)                                                                                    \n",
            "                                                                                                  \n",
            " block_15_expand_relu (ReLU  (None, 7, 7, 960)            0         ['block_15_expand_BN[0][0]']  \n",
            " )                                                                                                \n",
            "                                                                                                  \n",
            " block_15_depthwise (Depthw  (None, 7, 7, 960)            8640      ['block_15_expand_relu[0][0]']\n",
            " iseConv2D)                                                                                       \n",
            "                                                                                                  \n",
            " block_15_depthwise_BN (Bat  (None, 7, 7, 960)            3840      ['block_15_depthwise[0][0]']  \n",
            " chNormalization)                                                                                 \n",
            "                                                                                                  \n",
            " block_15_depthwise_relu (R  (None, 7, 7, 960)            0         ['block_15_depthwise_BN[0][0]'\n",
            " eLU)                                                               ]                             \n",
            "                                                                                                  \n",
            " block_15_project (Conv2D)   (None, 7, 7, 160)            153600    ['block_15_depthwise_relu[0][0\n",
            "                                                                    ]']                           \n",
            "                                                                                                  \n",
            " block_15_project_BN (Batch  (None, 7, 7, 160)            640       ['block_15_project[0][0]']    \n",
            " Normalization)                                                                                   \n",
            "                                                                                                  \n",
            " block_15_add (Add)          (None, 7, 7, 160)            0         ['block_14_add[0][0]',        \n",
            "                                                                     'block_15_project_BN[0][0]'] \n",
            "                                                                                                  \n",
            " block_16_expand (Conv2D)    (None, 7, 7, 960)            153600    ['block_15_add[0][0]']        \n",
            "                                                                                                  \n",
            " block_16_expand_BN (BatchN  (None, 7, 7, 960)            3840      ['block_16_expand[0][0]']     \n",
            " ormalization)                                                                                    \n",
            "                                                                                                  \n",
            " block_16_expand_relu (ReLU  (None, 7, 7, 960)            0         ['block_16_expand_BN[0][0]']  \n",
            " )                                                                                                \n",
            "                                                                                                  \n",
            " block_16_depthwise (Depthw  (None, 7, 7, 960)            8640      ['block_16_expand_relu[0][0]']\n",
            " iseConv2D)                                                                                       \n",
            "                                                                                                  \n",
            " block_16_depthwise_BN (Bat  (None, 7, 7, 960)            3840      ['block_16_depthwise[0][0]']  \n",
            " chNormalization)                                                                                 \n",
            "                                                                                                  \n",
            " block_16_depthwise_relu (R  (None, 7, 7, 960)            0         ['block_16_depthwise_BN[0][0]'\n",
            " eLU)                                                               ]                             \n",
            "                                                                                                  \n",
            " block_16_project (Conv2D)   (None, 7, 7, 320)            307200    ['block_16_depthwise_relu[0][0\n",
            "                                                                    ]']                           \n",
            "                                                                                                  \n",
            " block_16_project_BN (Batch  (None, 7, 7, 320)            1280      ['block_16_project[0][0]']    \n",
            " Normalization)                                                                                   \n",
            "                                                                                                  \n",
            " Conv_1 (Conv2D)             (None, 7, 7, 1280)           409600    ['block_16_project_BN[0][0]'] \n",
            "                                                                                                  \n",
            " Conv_1_bn (BatchNormalizat  (None, 7, 7, 1280)           5120      ['Conv_1[0][0]']              \n",
            " ion)                                                                                             \n",
            "                                                                                                  \n",
            " out_relu (ReLU)             (None, 7, 7, 1280)           0         ['Conv_1_bn[0][0]']           \n",
            "                                                                                                  \n",
            " flatten_1 (Flatten)         (None, 62720)                0         ['out_relu[0][0]']            \n",
            "                                                                                                  \n",
            " dense_3 (Dense)             (None, 200)                  1254420   ['flatten_1[0][0]']           \n",
            "                                                          0                                       \n",
            "                                                                                                  \n",
            " dense_4 (Dense)             (None, 100)                  20100     ['dense_3[0][0]']             \n",
            "                                                                                                  \n",
            " dense_5 (Dense)             (None, 2)                    202       ['dense_4[0][0]']             \n",
            "                                                                                                  \n",
            "==================================================================================================\n",
            "Total params: 14822486 (56.54 MB)\n",
            "Trainable params: 12564502 (47.93 MB)\n",
            "Non-trainable params: 2257984 (8.61 MB)\n",
            "__________________________________________________________________________________________________\n"
          ]
        }
      ],
      "source": [
        "# view the structure of the model\n",
        "model.summary()\n"
      ]
    },
    {
      "cell_type": "code",
      "execution_count": 37,
      "id": "d5bc5fe7",
      "metadata": {
        "id": "d5bc5fe7"
      },
      "outputs": [],
      "source": [
        "model.compile(\n",
        "  loss='categorical_crossentropy',\n",
        "  optimizer='adam',\n",
        "  metrics=['accuracy']\n",
        ")"
      ]
    },
    {
      "cell_type": "code",
      "source": [],
      "metadata": {
        "colab": {
          "base_uri": "https://localhost:8080/"
        },
        "id": "-rj3uxsHkPqO",
        "outputId": "7fdde7ad-d9d9-4209-eda0-71123bc1d7f6"
      },
      "id": "-rj3uxsHkPqO",
      "execution_count": null,
      "outputs": [
        {
          "output_type": "stream",
          "name": "stdout",
          "text": [
            "Mounted at /content/drive\n"
          ]
        }
      ]
    },
    {
      "cell_type": "code",
      "execution_count": 38,
      "id": "8928f2d7",
      "metadata": {
        "colab": {
          "base_uri": "https://localhost:8080/"
        },
        "id": "8928f2d7",
        "outputId": "01f896bd-1c66-4c20-ebc6-d9f85619dffe"
      },
      "outputs": [
        {
          "output_type": "stream",
          "name": "stdout",
          "text": [
            "Found 144 images belonging to 2 classes.\n",
            "Found 72 images belonging to 2 classes.\n"
          ]
        }
      ],
      "source": [
        "from keras.preprocessing.image import ImageDataGenerator\n",
        "\n",
        "train_datagen = ImageDataGenerator(rescale = 1./255,\n",
        "                                   shear_range = 0.2,\n",
        "                                   zoom_range = 0.2,\n",
        "                                   horizontal_flip = True)\n",
        "\n",
        "test_datagen = ImageDataGenerator(rescale = 1./255)\n",
        "\n",
        "training_set = train_datagen.flow_from_directory('/content/drive/MyDrive/CatractImagesMobileNet/dataset2/CatractDataset/Training-Dataset/',\n",
        "                                                 target_size = (224, 224),\n",
        "                                                 batch_size = 32,\n",
        "                                                 class_mode = 'categorical')\n",
        "\n",
        "test_set = test_datagen.flow_from_directory('/content/drive/MyDrive/CatractImagesMobileNet/dataset2/CatractDataset/Test-Dataset/',\n",
        "                                            target_size = (224, 224),\n",
        "                                            batch_size = 32,\n",
        "                                            class_mode = 'categorical')"
      ]
    },
    {
      "cell_type": "code",
      "execution_count": 26,
      "id": "9281fa52",
      "metadata": {
        "colab": {
          "base_uri": "https://localhost:8080/"
        },
        "id": "9281fa52",
        "outputId": "9554304a-bc07-46f1-bc8f-0838fef8d699"
      },
      "outputs": [
        {
          "output_type": "stream",
          "name": "stdout",
          "text": [
            "[]\n"
          ]
        }
      ],
      "source": [
        "import os\n",
        "cats=[]\n",
        "cat=[]\n",
        "for path, currentDirectory, files in os.walk(\"/content/drive/MyDrive/CatractImagesMobileNet\\dataset2\\CatractDataset\\Training-Dataset\"):\n",
        "    for file in files:\n",
        "        #print(os.path.join(path, file))\n",
        "        #print(file)\n",
        "        cats=path.split(\"\\\\\")\n",
        "        cats=cats[len(cats)-1]\n",
        "        if cats not in cat:\n",
        "            cat.append(cats)\n",
        "            print(cats)\n",
        "cat.sort()\n",
        "print(cat)\n",
        "\n",
        "#images,cls = next(test_set)\n",
        "\n"
      ]
    },
    {
      "cell_type": "code",
      "execution_count": null,
      "id": "0949ed3e",
      "metadata": {
        "id": "0949ed3e"
      },
      "outputs": [],
      "source": [
        "#images,cls = next(test_set)\n",
        "#plt.imshow(images[3])\n",
        "#plt.savefig('D:\\\\imageeee.png')\n",
        "#print(\"ok\")\n",
        "#plt.show()"
      ]
    },
    {
      "cell_type": "code",
      "execution_count": 27,
      "id": "14bdb1b2",
      "metadata": {
        "colab": {
          "base_uri": "https://localhost:8080/"
        },
        "id": "14bdb1b2",
        "outputId": "30498c67-051a-454f-f034-bc85a46f7b98"
      },
      "outputs": [
        {
          "output_type": "execute_result",
          "data": {
            "text/plain": [
              "3"
            ]
          },
          "metadata": {},
          "execution_count": 27
        }
      ],
      "source": [
        "len(test_set)"
      ]
    },
    {
      "cell_type": "code",
      "execution_count": 39,
      "id": "8f1d7de4",
      "metadata": {
        "colab": {
          "base_uri": "https://localhost:8080/"
        },
        "id": "8f1d7de4",
        "outputId": "0d1bcb8a-9691-4e9e-b3aa-a091a9f3af1d"
      },
      "outputs": [
        {
          "output_type": "stream",
          "name": "stdout",
          "text": [
            "Epoch 1/5\n",
            "5/5 [==============================] - 8s 953ms/step - loss: 4.0236 - accuracy: 0.7292 - val_loss: 0.7221 - val_accuracy: 0.9722\n",
            "Epoch 2/5\n",
            "5/5 [==============================] - 4s 848ms/step - loss: 1.0602 - accuracy: 0.9167 - val_loss: 0.9981 - val_accuracy: 0.8889\n",
            "Epoch 3/5\n",
            "5/5 [==============================] - 3s 528ms/step - loss: 1.1144 - accuracy: 0.9444 - val_loss: 0.7578 - val_accuracy: 0.9583\n",
            "Epoch 4/5\n",
            "5/5 [==============================] - 4s 810ms/step - loss: 1.4534 - accuracy: 0.9375 - val_loss: 0.4071 - val_accuracy: 0.9722\n",
            "Epoch 5/5\n",
            "5/5 [==============================] - 3s 542ms/step - loss: 0.2618 - accuracy: 0.9722 - val_loss: 0.0896 - val_accuracy: 0.9861\n"
          ]
        }
      ],
      "source": [
        "# fit the model\n",
        "r = model.fit(\n",
        "  training_set,\n",
        "  validation_data=test_set,\n",
        "  epochs=5,\n",
        "  steps_per_epoch=len(training_set),\n",
        "  validation_steps=len(test_set)\n",
        ")"
      ]
    },
    {
      "cell_type": "code",
      "execution_count": 40,
      "id": "5b6b92e2",
      "metadata": {
        "colab": {
          "base_uri": "https://localhost:8080/",
          "height": 430
        },
        "id": "5b6b92e2",
        "outputId": "5327c90c-c032-4312-e59a-946fc6ff4bb7"
      },
      "outputs": [
        {
          "output_type": "display_data",
          "data": {
            "text/plain": [
              "<Figure size 640x480 with 1 Axes>"
            ],
            "image/png": "[encoded data removed]"
          },
          "metadata": {}
        }
      ],
      "source": [
        "# loss\n",
        "plt.plot(r.history['loss'], label='train loss')\n",
        "plt.plot(r.history['val_loss'], label='val loss')\n",
        "plt.legend()\n",
        "plt.show()\n",
        "#plt.savefig('LossVal_loss')"
      ]
    },
    {
      "cell_type": "code",
      "execution_count": 41,
      "id": "9221b340",
      "metadata": {
        "colab": {
          "base_uri": "https://localhost:8080/",
          "height": 430
        },
        "id": "9221b340",
        "outputId": "27eac9ca-5c9d-4c17-b2c6-d4b4f29dd73a"
      },
      "outputs": [
        {
          "output_type": "display_data",
          "data": {
            "text/plain": [
              "<Figure size 640x480 with 1 Axes>"
            ],
            "image/png": "[encoded data removed]"
          },
          "metadata": {}
        }
      ],
      "source": [
        "# accuracies\n",
        "plt.plot(r.history['accuracy'], label='train acc')\n",
        "plt.plot(r.history['val_accuracy'], label='val acc')\n",
        "plt.legend()\n",
        "plt.show()\n",
        "#plt.savefig('AccVal_acc')"
      ]
    },
    {
      "cell_type": "code",
      "execution_count": null,
      "id": "548eb945",
      "metadata": {
        "id": "548eb945"
      },
      "outputs": [],
      "source": [
        "model.save(\"/content/drive/MyDrive/CatractImagesMobileNet/dataset2/MobileV2CataractModel.h4\")"
      ]
    },
    {
      "cell_type": "code",
      "execution_count": 42,
      "id": "d8dfe263",
      "metadata": {
        "colab": {
          "base_uri": "https://localhost:8080/"
        },
        "id": "d8dfe263",
        "outputId": "54ab604a-dceb-4140-d693-be2222d64745"
      },
      "outputs": [
        {
          "output_type": "stream",
          "name": "stdout",
          "text": [
            "/content/drive/MyDrive/CatractImagesMobileNet/dataset2/CatractDataset/Test-Dataset/cataract/_62_4939088.jpg\n",
            "Found 1 images belonging to 2 classes.\n",
            "1/1 [==============================] - 1s 821ms/step\n",
            "Actual: 0 predicted: 0\n",
            "/content/drive/MyDrive/CatractImagesMobileNet/dataset2/CatractDataset/Test-Dataset/cataract/_52_3704655.jpg\n",
            "Found 1 images belonging to 2 classes.\n",
            "1/1 [==============================] - 0s 40ms/step\n",
            "Actual: 0 predicted: 0\n",
            "/content/drive/MyDrive/CatractImagesMobileNet/dataset2/CatractDataset/Test-Dataset/cataract/_48_7953833.jpg\n",
            "Found 1 images belonging to 2 classes.\n",
            "1/1 [==============================] - 0s 41ms/step\n",
            "Actual: 0 predicted: 0\n",
            "/content/drive/MyDrive/CatractImagesMobileNet/dataset2/CatractDataset/Test-Dataset/cataract/_51_7561724.jpg\n",
            "Found 1 images belonging to 2 classes.\n",
            "1/1 [==============================] - 0s 40ms/step\n",
            "Actual: 0 predicted: 0\n",
            "/content/drive/MyDrive/CatractImagesMobileNet/dataset2/CatractDataset/Test-Dataset/cataract/_52_7569766.jpg\n",
            "Found 1 images belonging to 2 classes.\n",
            "1/1 [==============================] - 0s 43ms/step\n",
            "Actual: 0 predicted: 0\n",
            "/content/drive/MyDrive/CatractImagesMobileNet/dataset2/CatractDataset/Test-Dataset/cataract/_59_8958387.jpg\n",
            "Found 1 images belonging to 2 classes.\n",
            "1/1 [==============================] - 0s 41ms/step\n",
            "Actual: 0 predicted: 0\n",
            "/content/drive/MyDrive/CatractImagesMobileNet/dataset2/CatractDataset/Test-Dataset/cataract/_61_3633947.jpg\n",
            "Found 1 images belonging to 2 classes.\n",
            "1/1 [==============================] - 0s 38ms/step\n",
            "Actual: 0 predicted: 0\n",
            "/content/drive/MyDrive/CatractImagesMobileNet/dataset2/CatractDataset/Test-Dataset/cataract/_46_4314985.jpg\n",
            "Found 1 images belonging to 2 classes.\n",
            "1/1 [==============================] - 0s 40ms/step\n",
            "Actual: 0 predicted: 0\n",
            "/content/drive/MyDrive/CatractImagesMobileNet/dataset2/CatractDataset/Test-Dataset/cataract/_61_2475173.jpg\n",
            "Found 1 images belonging to 2 classes.\n",
            "1/1 [==============================] - 0s 42ms/step\n",
            "Actual: 0 predicted: 0\n",
            "/content/drive/MyDrive/CatractImagesMobileNet/dataset2/CatractDataset/Test-Dataset/cataract/_49_1539697.jpg\n",
            "Found 1 images belonging to 2 classes.\n",
            "1/1 [==============================] - 0s 39ms/step\n",
            "Actual: 0 predicted: 0\n",
            "/content/drive/MyDrive/CatractImagesMobileNet/dataset2/CatractDataset/Test-Dataset/cataract/_47_4608506.jpg\n",
            "Found 1 images belonging to 2 classes.\n",
            "1/1 [==============================] - 0s 38ms/step\n",
            "Actual: 0 predicted: 0\n",
            "/content/drive/MyDrive/CatractImagesMobileNet/dataset2/CatractDataset/Test-Dataset/cataract/_54_2420057.jpg\n",
            "Found 1 images belonging to 2 classes.\n",
            "1/1 [==============================] - 0s 36ms/step\n",
            "Actual: 0 predicted: 0\n",
            "/content/drive/MyDrive/CatractImagesMobileNet/dataset2/CatractDataset/Test-Dataset/cataract/_64_2615880.jpg\n",
            "Found 1 images belonging to 2 classes.\n",
            "1/1 [==============================] - 0s 37ms/step\n",
            "Actual: 0 predicted: 0\n",
            "/content/drive/MyDrive/CatractImagesMobileNet/dataset2/CatractDataset/Test-Dataset/cataract/_60_7070159.jpg\n",
            "Found 1 images belonging to 2 classes.\n",
            "1/1 [==============================] - 0s 53ms/step\n",
            "Actual: 0 predicted: 0\n",
            "/content/drive/MyDrive/CatractImagesMobileNet/dataset2/CatractDataset/Test-Dataset/cataract/_66_625523.jpg\n",
            "Found 1 images belonging to 2 classes.\n",
            "1/1 [==============================] - 0s 49ms/step\n",
            "Actual: 0 predicted: 0\n",
            "/content/drive/MyDrive/CatractImagesMobileNet/dataset2/CatractDataset/Test-Dataset/cataract/_56_3359017.jpg\n",
            "Found 1 images belonging to 2 classes.\n",
            "1/1 [==============================] - 0s 37ms/step\n",
            "Actual: 0 predicted: 0\n",
            "/content/drive/MyDrive/CatractImagesMobileNet/dataset2/CatractDataset/Test-Dataset/cataract/_50_1920746.jpg\n",
            "Found 1 images belonging to 2 classes.\n",
            "1/1 [==============================] - 0s 38ms/step\n",
            "Actual: 0 predicted: 0\n",
            "/content/drive/MyDrive/CatractImagesMobileNet/dataset2/CatractDataset/Test-Dataset/cataract/_62_9491665.jpg\n",
            "Found 1 images belonging to 2 classes.\n",
            "1/1 [==============================] - 0s 40ms/step\n",
            "Actual: 0 predicted: 0\n",
            "/content/drive/MyDrive/CatractImagesMobileNet/dataset2/CatractDataset/Test-Dataset/cataract/_54_6540326.jpg\n",
            "Found 1 images belonging to 2 classes.\n",
            "1/1 [==============================] - 0s 44ms/step\n",
            "Actual: 0 predicted: 0\n",
            "/content/drive/MyDrive/CatractImagesMobileNet/dataset2/CatractDataset/Test-Dataset/cataract/_64_5229674.jpg\n",
            "Found 1 images belonging to 2 classes.\n",
            "1/1 [==============================] - 0s 38ms/step\n",
            "Actual: 0 predicted: 0\n",
            "/content/drive/MyDrive/CatractImagesMobileNet/dataset2/CatractDataset/Test-Dataset/cataract/_58_7683562.jpg\n",
            "Found 1 images belonging to 2 classes.\n",
            "1/1 [==============================] - 0s 41ms/step\n",
            "Actual: 0 predicted: 0\n",
            "/content/drive/MyDrive/CatractImagesMobileNet/dataset2/CatractDataset/Test-Dataset/cataract/_63_7923836.jpg\n",
            "Found 1 images belonging to 2 classes.\n",
            "1/1 [==============================] - 0s 39ms/step\n",
            "Actual: 0 predicted: 0\n",
            "/content/drive/MyDrive/CatractImagesMobileNet/dataset2/CatractDataset/Test-Dataset/cataract/_59_2574195.jpg\n",
            "Found 1 images belonging to 2 classes.\n",
            "1/1 [==============================] - 0s 45ms/step\n",
            "Actual: 0 predicted: 0\n",
            "/content/drive/MyDrive/CatractImagesMobileNet/dataset2/CatractDataset/Test-Dataset/cataract/_50_3163122.jpg\n",
            "Found 1 images belonging to 2 classes.\n",
            "1/1 [==============================] - 0s 62ms/step\n",
            "Actual: 0 predicted: 0\n",
            "/content/drive/MyDrive/CatractImagesMobileNet/dataset2/CatractDataset/Test-Dataset/cataract/_57_3959793.jpg\n",
            "Found 1 images belonging to 2 classes.\n",
            "1/1 [==============================] - 0s 60ms/step\n",
            "Actual: 0 predicted: 0\n",
            "/content/drive/MyDrive/CatractImagesMobileNet/dataset2/CatractDataset/Test-Dataset/cataract/_65_5167591.jpg\n",
            "Found 1 images belonging to 2 classes.\n",
            "1/1 [==============================] - 0s 55ms/step\n",
            "Actual: 0 predicted: 0\n",
            "/content/drive/MyDrive/CatractImagesMobileNet/dataset2/CatractDataset/Test-Dataset/cataract/_48_1110786.jpg\n",
            "Found 1 images belonging to 2 classes.\n",
            "1/1 [==============================] - 0s 57ms/step\n",
            "Actual: 0 predicted: 0\n",
            "/content/drive/MyDrive/CatractImagesMobileNet/dataset2/CatractDataset/Test-Dataset/cataract/_46_7308563.jpg\n",
            "Found 1 images belonging to 2 classes.\n",
            "1/1 [==============================] - 0s 56ms/step\n",
            "Actual: 0 predicted: 0\n",
            "/content/drive/MyDrive/CatractImagesMobileNet/dataset2/CatractDataset/Test-Dataset/cataract/_60_2561089.jpg\n",
            "Found 1 images belonging to 2 classes.\n",
            "1/1 [==============================] - 0s 60ms/step\n",
            "Actual: 0 predicted: 0\n",
            "/content/drive/MyDrive/CatractImagesMobileNet/dataset2/CatractDataset/Test-Dataset/cataract/_49_2405371.jpg\n",
            "Found 1 images belonging to 2 classes.\n",
            "1/1 [==============================] - 0s 59ms/step\n",
            "Actual: 0 predicted: 0\n",
            "/content/drive/MyDrive/CatractImagesMobileNet/dataset2/CatractDataset/Test-Dataset/cataract/_55_8463221.jpg\n",
            "Found 1 images belonging to 2 classes.\n",
            "1/1 [==============================] - 0s 65ms/step\n",
            "Actual: 0 predicted: 0\n",
            "/content/drive/MyDrive/CatractImagesMobileNet/dataset2/CatractDataset/Test-Dataset/cataract/_63_4246818.jpg\n",
            "Found 1 images belonging to 2 classes.\n",
            "1/1 [==============================] - 0s 58ms/step\n",
            "Actual: 0 predicted: 0\n",
            "/content/drive/MyDrive/CatractImagesMobileNet/dataset2/CatractDataset/Test-Dataset/cataract/_49_7277741.jpg\n",
            "Found 1 images belonging to 2 classes.\n",
            "1/1 [==============================] - 0s 56ms/step\n",
            "Actual: 0 predicted: 0\n",
            "/content/drive/MyDrive/CatractImagesMobileNet/dataset2/CatractDataset/Test-Dataset/cataract/_57_8463167.jpg\n",
            "Found 1 images belonging to 2 classes.\n",
            "1/1 [==============================] - 0s 57ms/step\n",
            "Actual: 0 predicted: 1\n",
            "/content/drive/MyDrive/CatractImagesMobileNet/dataset2/CatractDataset/Test-Dataset/cataract/_53_8912600.jpg\n",
            "Found 1 images belonging to 2 classes.\n",
            "1/1 [==============================] - 0s 58ms/step\n",
            "Actual: 0 predicted: 0\n",
            "/content/drive/MyDrive/CatractImagesMobileNet/dataset2/CatractDataset/Test-Dataset/cataract/_62_4386293.jpg\n",
            "Found 1 images belonging to 2 classes.\n",
            "1/1 [==============================] - 0s 53ms/step\n",
            "Actual: 0 predicted: 0\n"
          ]
        }
      ],
      "source": [
        "import os\n",
        "import shutil\n",
        "import numpy as np\n",
        "origin = '/content/drive/MyDrive/CatractImagesMobileNet/dataset2/CatractDataset/Test-Dataset/cataract/'\n",
        "target1 = '/content/drive/MyDrive/CatractImagesMobileNet/TestCheckCataract/cataract/'\n",
        "files = os.listdir(origin)\n",
        "actual=[]\n",
        "predicted=[]\n",
        "values=[]\n",
        "imageName=[]\n",
        "ac=[]\n",
        "pr=[]\n",
        "for file_name in files:\n",
        "    #print(origin+file_name)\n",
        "    #print(target1+file_name)\n",
        "    shutil.copy(origin+file_name, target1+file_name)\n",
        "    imageName.append(str(origin+file_name))\n",
        "    print(str(origin+file_name))\n",
        "    #print(\"Original\" + str(origin+file_name))\n",
        "    test_datagen = ImageDataGenerator(rescale = 1./255)\n",
        "    test_set = test_datagen.flow_from_directory('/content/drive/MyDrive/CatractImagesMobileNet/TestCheckCataract/',\n",
        "                                            target_size = (224, 224),\n",
        "                                            batch_size = 16,\n",
        "                                            class_mode = 'binary')\n",
        "    images,cls = next(test_set)\n",
        "    #print(\"Actual Child\")\n",
        "    pred = model.predict(test_set)\n",
        "\n",
        "    for my_array in pred:\n",
        "      values.append(my_array)\n",
        "      #print(np.argmax(my_array))\n",
        "      max_index = np.argmax(my_array)\n",
        "      print(\"Actual: 0 predicted: \" + str(max_index))\n",
        "      predicted.append(max_index)\n",
        "      actual.append(0)\n",
        "    path = r\"/content/drive/MyDrive/CatractImagesMobileNet/TestCheckCataract/cataract/\"\n",
        "    for fileN in os.listdir(path):\n",
        "        # construct full file path\n",
        "        fi = path + fileN\n",
        "        if os.path.isfile(fi):\n",
        "            #print('Deleting file:', fi)\n",
        "            os.remove(fi)"
      ]
    },
    {
      "cell_type": "code",
      "source": [
        "import os\n",
        "import shutil\n",
        "import numpy as np\n",
        "origin = '/content/drive/MyDrive/CatractImagesMobileNet/dataset2/CatractDataset/Test-Dataset/normal/'\n",
        "target1 = '/content/drive/MyDrive/CatractImagesMobileNet/TestCheckCataract/normal/'\n",
        "files = os.listdir(origin)\n",
        "\n",
        "for file_name in files:\n",
        "    #print(origin+file_name)\n",
        "    #print(target1+file_name)\n",
        "    shutil.copy(origin+file_name, target1+file_name)\n",
        "    imageName.append(str(origin+file_name))\n",
        "    print(str(origin+file_name))\n",
        "    #print(\"Original\" + str(origin+file_name))\n",
        "    test_datagen = ImageDataGenerator(rescale = 1./255)\n",
        "    test_set = test_datagen.flow_from_directory('/content/drive/MyDrive/CatractImagesMobileNet/TestCheckCataract/',\n",
        "                                            target_size = (224, 224),\n",
        "                                            batch_size = 16,\n",
        "                                            class_mode = 'binary')\n",
        "    images,cls = next(test_set)\n",
        "    #print(\"Actual Child\")\n",
        "    pred = model.predict(test_set)\n",
        "\n",
        "    for my_array in pred:\n",
        "      values.append(my_array)\n",
        "      #print(np.argmax(my_array))\n",
        "      max_index = np.argmax(my_array)\n",
        "      print(\"Actual: 1 predicted: \" + str(max_index))\n",
        "      predicted.append(max_index)\n",
        "      actual.append(1)\n",
        "    path = r\"/content/drive/MyDrive/CatractImagesMobileNet/TestCheckCataract/normal/\"\n",
        "    for fileN in os.listdir(path):\n",
        "        # construct full file path\n",
        "        fi = path + fileN\n",
        "        if os.path.isfile(fi):\n",
        "            #print('Deleting file:', fi)\n",
        "            os.remove(fi)"
      ],
      "metadata": {
        "colab": {
          "base_uri": "https://localhost:8080/"
        },
        "id": "achObD1_UmtI",
        "outputId": "e6e13004-ed6e-4c5d-b610-5a3c4fc15ef0"
      },
      "id": "achObD1_UmtI",
      "execution_count": 43,
      "outputs": [
        {
          "output_type": "stream",
          "name": "stdout",
          "text": [
            "/content/drive/MyDrive/CatractImagesMobileNet/dataset2/CatractDataset/Test-Dataset/normal/2394_right.jpg\n",
            "Found 1 images belonging to 2 classes.\n",
            "1/1 [==============================] - 0s 40ms/step\n",
            "Actual: 1 predicted: 1\n",
            "/content/drive/MyDrive/CatractImagesMobileNet/dataset2/CatractDataset/Test-Dataset/normal/2400_right.jpg\n",
            "Found 1 images belonging to 2 classes.\n",
            "1/1 [==============================] - 0s 41ms/step\n",
            "Actual: 1 predicted: 1\n",
            "/content/drive/MyDrive/CatractImagesMobileNet/dataset2/CatractDataset/Test-Dataset/normal/2415_right.jpg\n",
            "Found 1 images belonging to 2 classes.\n",
            "1/1 [==============================] - 0s 41ms/step\n",
            "Actual: 1 predicted: 1\n",
            "/content/drive/MyDrive/CatractImagesMobileNet/dataset2/CatractDataset/Test-Dataset/normal/2397_left.jpg\n",
            "Found 1 images belonging to 2 classes.\n",
            "1/1 [==============================] - 0s 48ms/step\n",
            "Actual: 1 predicted: 1\n",
            "/content/drive/MyDrive/CatractImagesMobileNet/dataset2/CatractDataset/Test-Dataset/normal/2386_right.jpg\n",
            "Found 1 images belonging to 2 classes.\n",
            "1/1 [==============================] - 0s 41ms/step\n",
            "Actual: 1 predicted: 1\n",
            "/content/drive/MyDrive/CatractImagesMobileNet/dataset2/CatractDataset/Test-Dataset/normal/2418_right.jpg\n",
            "Found 1 images belonging to 2 classes.\n",
            "1/1 [==============================] - 0s 50ms/step\n",
            "Actual: 1 predicted: 1\n",
            "/content/drive/MyDrive/CatractImagesMobileNet/dataset2/CatractDataset/Test-Dataset/normal/2395_left.jpg\n",
            "Found 1 images belonging to 2 classes.\n",
            "1/1 [==============================] - 0s 67ms/step\n",
            "Actual: 1 predicted: 1\n",
            "/content/drive/MyDrive/CatractImagesMobileNet/dataset2/CatractDataset/Test-Dataset/normal/2395_right.jpg\n",
            "Found 1 images belonging to 2 classes.\n",
            "1/1 [==============================] - 0s 45ms/step\n",
            "Actual: 1 predicted: 1\n",
            "/content/drive/MyDrive/CatractImagesMobileNet/dataset2/CatractDataset/Test-Dataset/normal/2415_left.jpg\n",
            "Found 1 images belonging to 2 classes.\n",
            "1/1 [==============================] - 0s 42ms/step\n",
            "Actual: 1 predicted: 1\n",
            "/content/drive/MyDrive/CatractImagesMobileNet/dataset2/CatractDataset/Test-Dataset/normal/2403_left.jpg\n",
            "Found 1 images belonging to 2 classes.\n",
            "1/1 [==============================] - 0s 39ms/step\n",
            "Actual: 1 predicted: 1\n",
            "/content/drive/MyDrive/CatractImagesMobileNet/dataset2/CatractDataset/Test-Dataset/normal/2384_left.jpg\n",
            "Found 1 images belonging to 2 classes.\n",
            "1/1 [==============================] - 0s 41ms/step\n",
            "Actual: 1 predicted: 1\n",
            "/content/drive/MyDrive/CatractImagesMobileNet/dataset2/CatractDataset/Test-Dataset/normal/2419_right.jpg\n",
            "Found 1 images belonging to 2 classes.\n",
            "1/1 [==============================] - 0s 43ms/step\n",
            "Actual: 1 predicted: 1\n",
            "/content/drive/MyDrive/CatractImagesMobileNet/dataset2/CatractDataset/Test-Dataset/normal/2384_right.jpg\n",
            "Found 1 images belonging to 2 classes.\n",
            "1/1 [==============================] - 0s 42ms/step\n",
            "Actual: 1 predicted: 1\n",
            "/content/drive/MyDrive/CatractImagesMobileNet/dataset2/CatractDataset/Test-Dataset/normal/2419_left.jpg\n",
            "Found 1 images belonging to 2 classes.\n",
            "1/1 [==============================] - 0s 38ms/step\n",
            "Actual: 1 predicted: 1\n",
            "/content/drive/MyDrive/CatractImagesMobileNet/dataset2/CatractDataset/Test-Dataset/normal/2383_left.jpg\n",
            "Found 1 images belonging to 2 classes.\n",
            "1/1 [==============================] - 0s 38ms/step\n",
            "Actual: 1 predicted: 1\n",
            "/content/drive/MyDrive/CatractImagesMobileNet/dataset2/CatractDataset/Test-Dataset/normal/2418_left.jpg\n",
            "Found 1 images belonging to 2 classes.\n",
            "1/1 [==============================] - 0s 40ms/step\n",
            "Actual: 1 predicted: 1\n",
            "/content/drive/MyDrive/CatractImagesMobileNet/dataset2/CatractDataset/Test-Dataset/normal/2388_left.jpg\n",
            "Found 1 images belonging to 2 classes.\n",
            "1/1 [==============================] - 0s 42ms/step\n",
            "Actual: 1 predicted: 1\n",
            "/content/drive/MyDrive/CatractImagesMobileNet/dataset2/CatractDataset/Test-Dataset/normal/2399_right.jpg\n",
            "Found 1 images belonging to 2 classes.\n",
            "1/1 [==============================] - 0s 40ms/step\n",
            "Actual: 1 predicted: 1\n",
            "/content/drive/MyDrive/CatractImagesMobileNet/dataset2/CatractDataset/Test-Dataset/normal/2393_left.jpg\n",
            "Found 1 images belonging to 2 classes.\n",
            "1/1 [==============================] - 0s 39ms/step\n",
            "Actual: 1 predicted: 1\n",
            "/content/drive/MyDrive/CatractImagesMobileNet/dataset2/CatractDataset/Test-Dataset/normal/2410_left.jpg\n",
            "Found 1 images belonging to 2 classes.\n",
            "1/1 [==============================] - 0s 44ms/step\n",
            "Actual: 1 predicted: 1\n",
            "/content/drive/MyDrive/CatractImagesMobileNet/dataset2/CatractDataset/Test-Dataset/normal/2389_right.jpg\n",
            "Found 1 images belonging to 2 classes.\n",
            "1/1 [==============================] - 0s 48ms/step\n",
            "Actual: 1 predicted: 1\n",
            "/content/drive/MyDrive/CatractImagesMobileNet/dataset2/CatractDataset/Test-Dataset/normal/2394_left.jpg\n",
            "Found 1 images belonging to 2 classes.\n",
            "1/1 [==============================] - 0s 41ms/step\n",
            "Actual: 1 predicted: 1\n",
            "/content/drive/MyDrive/CatractImagesMobileNet/dataset2/CatractDataset/Test-Dataset/normal/2396_right.jpg\n",
            "Found 1 images belonging to 2 classes.\n",
            "1/1 [==============================] - 0s 42ms/step\n",
            "Actual: 1 predicted: 1\n",
            "/content/drive/MyDrive/CatractImagesMobileNet/dataset2/CatractDataset/Test-Dataset/normal/2403_right.jpg\n",
            "Found 1 images belonging to 2 classes.\n",
            "1/1 [==============================] - 0s 40ms/step\n",
            "Actual: 1 predicted: 1\n",
            "/content/drive/MyDrive/CatractImagesMobileNet/dataset2/CatractDataset/Test-Dataset/normal/2399_left.jpg\n",
            "Found 1 images belonging to 2 classes.\n",
            "1/1 [==============================] - 0s 40ms/step\n",
            "Actual: 1 predicted: 1\n",
            "/content/drive/MyDrive/CatractImagesMobileNet/dataset2/CatractDataset/Test-Dataset/normal/2388_right.jpg\n",
            "Found 1 images belonging to 2 classes.\n",
            "1/1 [==============================] - 0s 40ms/step\n",
            "Actual: 1 predicted: 1\n",
            "/content/drive/MyDrive/CatractImagesMobileNet/dataset2/CatractDataset/Test-Dataset/normal/2397_right.jpg\n",
            "Found 1 images belonging to 2 classes.\n",
            "1/1 [==============================] - 0s 43ms/step\n",
            "Actual: 1 predicted: 1\n",
            "/content/drive/MyDrive/CatractImagesMobileNet/dataset2/CatractDataset/Test-Dataset/normal/2386_left.jpg\n",
            "Found 1 images belonging to 2 classes.\n",
            "1/1 [==============================] - 0s 44ms/step\n",
            "Actual: 1 predicted: 1\n",
            "/content/drive/MyDrive/CatractImagesMobileNet/dataset2/CatractDataset/Test-Dataset/normal/2408_right.jpg\n",
            "Found 1 images belonging to 2 classes.\n",
            "1/1 [==============================] - 0s 50ms/step\n",
            "Actual: 1 predicted: 1\n",
            "/content/drive/MyDrive/CatractImagesMobileNet/dataset2/CatractDataset/Test-Dataset/normal/2389_left.jpg\n",
            "Found 1 images belonging to 2 classes.\n",
            "1/1 [==============================] - 0s 43ms/step\n",
            "Actual: 1 predicted: 1\n",
            "/content/drive/MyDrive/CatractImagesMobileNet/dataset2/CatractDataset/Test-Dataset/normal/2396_left.jpg\n",
            "Found 1 images belonging to 2 classes.\n",
            "1/1 [==============================] - 0s 40ms/step\n",
            "Actual: 1 predicted: 1\n",
            "/content/drive/MyDrive/CatractImagesMobileNet/dataset2/CatractDataset/Test-Dataset/normal/2410_right.jpg\n",
            "Found 1 images belonging to 2 classes.\n",
            "1/1 [==============================] - 0s 39ms/step\n",
            "Actual: 1 predicted: 1\n",
            "/content/drive/MyDrive/CatractImagesMobileNet/dataset2/CatractDataset/Test-Dataset/normal/2383_right.jpg\n",
            "Found 1 images belonging to 2 classes.\n",
            "1/1 [==============================] - 0s 42ms/step\n",
            "Actual: 1 predicted: 1\n",
            "/content/drive/MyDrive/CatractImagesMobileNet/dataset2/CatractDataset/Test-Dataset/normal/2408_left.jpg\n",
            "Found 1 images belonging to 2 classes.\n",
            "1/1 [==============================] - 0s 41ms/step\n",
            "Actual: 1 predicted: 1\n",
            "/content/drive/MyDrive/CatractImagesMobileNet/dataset2/CatractDataset/Test-Dataset/normal/2382_right.jpg\n",
            "Found 1 images belonging to 2 classes.\n",
            "1/1 [==============================] - 0s 43ms/step\n",
            "Actual: 1 predicted: 1\n",
            "/content/drive/MyDrive/CatractImagesMobileNet/dataset2/CatractDataset/Test-Dataset/normal/2393_right.jpg\n",
            "Found 1 images belonging to 2 classes.\n",
            "1/1 [==============================] - 0s 41ms/step\n",
            "Actual: 1 predicted: 1\n"
          ]
        }
      ]
    },
    {
      "cell_type": "code",
      "source": [
        "from sklearn.metrics import confusion_matrix\n",
        "cm = confusion_matrix(actual, predicted)"
      ],
      "metadata": {
        "id": "AiMvN-1oUmwc"
      },
      "id": "AiMvN-1oUmwc",
      "execution_count": 44,
      "outputs": []
    },
    {
      "cell_type": "code",
      "source": [
        "cm"
      ],
      "metadata": {
        "colab": {
          "base_uri": "https://localhost:8080/"
        },
        "id": "sqBOVtfrUm0E",
        "outputId": "69b045ec-4cb1-4973-81b7-2780bfa2a4f0"
      },
      "id": "sqBOVtfrUm0E",
      "execution_count": 45,
      "outputs": [
        {
          "output_type": "execute_result",
          "data": {
            "text/plain": [
              "array([[35,  1],\n",
              "       [ 0, 36]])"
            ]
          },
          "metadata": {},
          "execution_count": 45
        }
      ]
    },
    {
      "cell_type": "code",
      "source": [
        "from sklearn.metrics import classification_report\n",
        "print(classification_report(actual, predicted))"
      ],
      "metadata": {
        "colab": {
          "base_uri": "https://localhost:8080/"
        },
        "id": "RozuA71bUm2S",
        "outputId": "1481a323-055b-4bdb-e369-1c7249eb1cc9"
      },
      "id": "RozuA71bUm2S",
      "execution_count": 46,
      "outputs": [
        {
          "output_type": "stream",
          "name": "stdout",
          "text": [
            "              precision    recall  f1-score   support\n",
            "\n",
            "           0       1.00      0.97      0.99        36\n",
            "           1       0.97      1.00      0.99        36\n",
            "\n",
            "    accuracy                           0.99        72\n",
            "   macro avg       0.99      0.99      0.99        72\n",
            "weighted avg       0.99      0.99      0.99        72\n",
            "\n"
          ]
        }
      ]
    },
    {
      "cell_type": "code",
      "source": [
        "from sklearn.metrics import confusion_matrix\n",
        "from matplotlib import pyplot as plt\n",
        "import seaborn as sns\n",
        "#predictions = model.predict(x_test, steps=len(x_test), verbose=0)\n",
        "#y_pred=model.predict(x_test)\n",
        "#y_pred = np.round(y_pred)\n",
        "\n",
        "y_pred = np.argmax(predicted, axis=-1)\n",
        "\n",
        "y_true=np.argmax(actual, axis=-1)\n",
        "\n",
        "cm = confusion_matrix(actual, predicted)\n",
        "\n",
        "## Get Class Labels\n",
        "#labels = le.classes_\n",
        "class_names = [0,1]\n",
        "\n",
        "# Plot confusion matrix in a beautiful manner\n",
        "fig = plt.figure(figsize=(5, 5))\n",
        "ax= plt.subplot()\n",
        "sns.heatmap(cm, annot=True, ax = ax, fmt = 'g'); #annot=True to annotate cells\n",
        "# labels, title and ticks\n",
        "ax.set_xlabel('Predicted', fontsize=20)\n",
        "ax.xaxis.set_label_position('bottom')\n",
        "plt.xticks(rotation=90)\n",
        "ax.xaxis.set_ticklabels(class_names, fontsize = 10)\n",
        "ax.xaxis.tick_bottom()\n",
        "\n",
        "ax.set_ylabel('True', fontsize=20)\n",
        "ax.yaxis.set_ticklabels(class_names, fontsize = 10)\n",
        "plt.yticks(rotation=0)\n",
        "\n",
        "plt.title('Confusion Matrix on Cataract and Normal Eye using MobileNetV2 on Dataset-2', fontsize=10)"
      ],
      "metadata": {
        "colab": {
          "base_uri": "https://localhost:8080/",
          "height": 510
        },
        "id": "wM1nUrytUm5Z",
        "outputId": "0fb78b4c-4a9d-4401-a682-bbe33c8202e7"
      },
      "id": "wM1nUrytUm5Z",
      "execution_count": 47,
      "outputs": [
        {
          "output_type": "execute_result",
          "data": {
            "text/plain": [
              "Text(0.5, 1.0, 'Confusion Matrix on Cataract and Normal Eye using MobileNetV2 on Dataset-2')"
            ]
          },
          "metadata": {},
          "execution_count": 47
        },
        {
          "output_type": "display_data",
          "data": {
            "text/plain": [
              "<Figure size 500x500 with 2 Axes>"
            ],
            "image/png": "[encoded data removed]"
          },
          "metadata": {}
        }
      ]
    },
    {
      "cell_type": "code",
      "source": [],
      "metadata": {
        "id": "agB08yF-Um8h"
      },
      "id": "agB08yF-Um8h",
      "execution_count": null,
      "outputs": []
    },
    {
      "cell_type": "code",
      "source": [],
      "metadata": {
        "id": "-qiY741wUm_4"
      },
      "id": "-qiY741wUm_4",
      "execution_count": null,
      "outputs": []
    },
    {
      "cell_type": "code",
      "source": [],
      "metadata": {
        "id": "1P7xPBWdUnDX"
      },
      "id": "1P7xPBWdUnDX",
      "execution_count": null,
      "outputs": []
    },
    {
      "cell_type": "code",
      "source": [],
      "metadata": {
        "id": "3-vaQsdcUnGj"
      },
      "id": "3-vaQsdcUnGj",
      "execution_count": null,
      "outputs": []
    },
    {
      "cell_type": "code",
      "execution_count": null,
      "id": "8961a368",
      "metadata": {
        "id": "8961a368",
        "outputId": "8c6a0c16-b18c-4113-b93e-79a71139cd1c"
      },
      "outputs": [
        {
          "name": "stdout",
          "output_type": "stream",
          "text": [
            "Found 40 images belonging to 2 classes.\n",
            "[[6.8655385e-21 1.0000000e+00]\n",
            " [1.0000000e+00 3.6590593e-09]\n",
            " [4.5436084e-15 1.0000000e+00]\n",
            " [0.0000000e+00 1.0000000e+00]\n",
            " [1.0000000e+00 7.5790901e-10]\n",
            " [2.5152353e-24 1.0000000e+00]\n",
            " [9.9942613e-01 5.7391904e-04]\n",
            " [1.0000000e+00 8.1631216e-11]\n",
            " [7.4145715e-03 9.9258536e-01]\n",
            " [1.0000000e+00 6.1400980e-18]\n",
            " [1.0000000e+00 5.0638112e-16]\n",
            " [1.0505011e-14 1.0000000e+00]\n",
            " [9.9626166e-01 3.7383370e-03]\n",
            " [1.9223408e-11 1.0000000e+00]\n",
            " [1.0000000e+00 3.5811604e-10]\n",
            " [2.1472514e-34 1.0000000e+00]\n",
            " [1.2296066e-25 1.0000000e+00]\n",
            " [1.0000000e+00 1.4199188e-18]\n",
            " [1.3169962e-28 1.0000000e+00]\n",
            " [1.4411874e-01 8.5588127e-01]\n",
            " [1.7059402e-12 1.0000000e+00]\n",
            " [2.2657498e-04 9.9977344e-01]\n",
            " [1.0000000e+00 3.0655267e-24]\n",
            " [1.0000000e+00 4.1430520e-22]\n",
            " [2.0073756e-20 1.0000000e+00]\n",
            " [3.3160269e-25 1.0000000e+00]\n",
            " [1.0000000e+00 1.4619722e-17]\n",
            " [9.9988270e-01 1.1726055e-04]\n",
            " [4.2863788e-19 1.0000000e+00]\n",
            " [1.4836632e-11 1.0000000e+00]\n",
            " [1.3579433e-26 1.0000000e+00]\n",
            " [1.4242376e-32 1.0000000e+00]\n",
            " [9.9999905e-01 9.8379053e-07]\n",
            " [1.0176122e-01 8.9823878e-01]\n",
            " [1.0000000e+00 8.8263356e-19]\n",
            " [1.0000000e+00 1.3924947e-22]\n",
            " [1.3164024e-37 1.0000000e+00]\n",
            " [1.0000000e+00 8.5438898e-18]\n",
            " [2.6034899e-03 9.9739647e-01]\n",
            " [3.6476659e-13 1.0000000e+00]]\n"
          ]
        }
      ],
      "source": [
        "test_set = test_datagen.flow_from_directory(\"D:\\CatractImagesMobileNet\\cataract\\CatractDataset\\\\Test-Dataset\",\n",
        "                                            target_size = (224, 224),\n",
        "                                            batch_size = 40,\n",
        "                                            class_mode = 'categorical')\n",
        "\n",
        "pred = model.predict(test_set)\n",
        "print(pred)\n"
      ]
    },
    {
      "cell_type": "code",
      "execution_count": null,
      "id": "06036d32",
      "metadata": {
        "id": "06036d32",
        "outputId": "9a188830-554e-4626-db14-ad7a5eaf55c5"
      },
      "outputs": [
        {
          "name": "stdout",
          "output_type": "stream",
          "text": [
            "Found 1 images belonging to 2 classes.\n",
            "[[1.424292e-32 1.000000e+00]]\n"
          ]
        }
      ],
      "source": [
        "test_set = test_datagen.flow_from_directory(\"D:\\CatractImagesMobileNet\\cataract\\CatractDataset\\\\TestC\",\n",
        "                                            target_size = (224, 224),\n",
        "                                            batch_size = 40,\n",
        "                                            class_mode = 'categorical')\n",
        "\n",
        "pred = model.predict(test_set)\n",
        "print(pred)\n"
      ]
    },
    {
      "cell_type": "code",
      "execution_count": null,
      "id": "65cfbf31",
      "metadata": {
        "id": "65cfbf31",
        "outputId": "7c1f7545-8837-4cd8-a9c9-93a831b636ca"
      },
      "outputs": [
        {
          "data": {
            "text/plain": [
              "<matplotlib.image.AxesImage at 0x269dfbc4f70>"
            ]
          },
          "execution_count": 28,
          "metadata": {},
          "output_type": "execute_result"
        },
        {
          "data": {
            "image/png": "[encoded data removed]",
            "text/plain": [
              "<Figure size 432x288 with 1 Axes>"
            ]
          },
          "metadata": {
            "needs_background": "light"
          },
          "output_type": "display_data"
        }
      ],
      "source": [
        "images,cls = next(test_set)\n",
        "plt.imshow(images[0])"
      ]
    },
    {
      "cell_type": "code",
      "execution_count": null,
      "id": "5cf9a9a7",
      "metadata": {
        "id": "5cf9a9a7"
      },
      "outputs": [],
      "source": []
    },
    {
      "cell_type": "code",
      "execution_count": null,
      "id": "797b0618",
      "metadata": {
        "id": "797b0618"
      },
      "outputs": [],
      "source": []
    },
    {
      "cell_type": "code",
      "execution_count": null,
      "id": "a8932942",
      "metadata": {
        "id": "a8932942"
      },
      "outputs": [],
      "source": []
    },
    {
      "cell_type": "code",
      "execution_count": null,
      "id": "29d6968f",
      "metadata": {
        "id": "29d6968f"
      },
      "outputs": [],
      "source": []
    },
    {
      "cell_type": "code",
      "execution_count": null,
      "id": "a3cb4c87",
      "metadata": {
        "id": "a3cb4c87",
        "outputId": "39a6ea53-6c13-4b6c-83c3-336544e00cff"
      },
      "outputs": [
        {
          "name": "stdout",
          "output_type": "stream",
          "text": [
            "0 Actual: cataract\n",
            "File: cataract\\cataract_061.png\n",
            "0predicted: cataract\n",
            "[1. 0.]\n",
            "[1.0, 1.8294927408408178e-14]\n",
            "0 Actual: cataract\n",
            "File: cataract\\cataract_062.png\n",
            "1predicted: normal\n",
            "[1. 0.]\n",
            "[1.1934121196892726e-27, 1.0]\n",
            "0 Actual: cataract\n",
            "File: cataract\\cataract_063.png\n",
            "0predicted: cataract\n",
            "[1. 0.]\n",
            "[1.0, 1.580228368636709e-22]\n",
            "0 Actual: cataract\n",
            "File: cataract\\cataract_064.png\n",
            "0predicted: cataract\n",
            "[1. 0.]\n",
            "[1.0, 4.247984814609392e-24]\n",
            "0 Actual: cataract\n",
            "File: cataract\\cataract_065.png\n",
            "0predicted: cataract\n",
            "[1. 0.]\n",
            "[0.9014812111854553, 0.09851879626512527]\n",
            "0 Actual: cataract\n",
            "File: cataract\\cataract_066.png\n",
            "0predicted: cataract\n",
            "[1. 0.]\n",
            "[0.9999998807907104, 1.5927223273592972e-07]\n",
            "1 Actual: normal\n",
            "File: cataract\\cataract_067.png\n",
            "0predicted: cataract\n",
            "[0. 1.]\n",
            "[1.0, 1.4415678123869818e-13]\n",
            "1 Actual: normal\n",
            "File: cataract\\cataract_068.png\n",
            "0predicted: cataract\n",
            "[0. 1.]\n",
            "[0.9979922771453857, 0.002007740782573819]\n",
            "0 Actual: cataract\n",
            "File: cataract\\cataract_069.png\n",
            "0predicted: cataract\n",
            "[1. 0.]\n",
            "[0.9930564761161804, 0.006943505723029375]\n",
            "0 Actual: cataract\n",
            "File: cataract\\cataract_070.png\n",
            "1predicted: normal\n",
            "[1. 0.]\n",
            "[7.000674173696098e-08, 0.9999998807907104]\n",
            "1 Actual: normal\n",
            "File: cataract\\cataract_071.png\n",
            "0predicted: cataract\n",
            "[0. 1.]\n",
            "[1.0, 2.725046852792137e-18]\n",
            "1 Actual: normal\n",
            "File: cataract\\cataract_072.png\n",
            "1predicted: normal\n",
            "[0. 1.]\n",
            "[4.685029769978209e-23, 1.0]\n",
            "1 Actual: normal\n",
            "File: cataract\\cataract_073.png\n",
            "1predicted: normal\n",
            "[0. 1.]\n",
            "[2.532774120642123e-12, 1.0]\n",
            "0 Actual: cataract\n",
            "File: cataract\\cataract_074.png\n",
            "0predicted: cataract\n",
            "[1. 0.]\n",
            "[1.0, 1.5110060425094218e-10]\n",
            "1 Actual: normal\n",
            "File: cataract\\cataract_075.png\n",
            "1predicted: normal\n",
            "[0. 1.]\n",
            "[1.4285883587206172e-09, 1.0]\n",
            "1 Actual: normal\n",
            "File: cataract\\cataract_076.png\n",
            "1predicted: normal\n",
            "[0. 1.]\n",
            "[1.0346713253247682e-16, 1.0]\n",
            "0 Actual: cataract\n",
            "File: cataract\\cataract_077.png\n",
            "0predicted: cataract\n",
            "[1. 0.]\n",
            "[1.0, 3.204946091096882e-16]\n",
            "0 Actual: cataract\n",
            "File: cataract\\cataract_078.png\n",
            "0predicted: cataract\n",
            "[1. 0.]\n",
            "[0.6624242663383484, 0.3375758230686188]\n",
            "1 Actual: normal\n",
            "File: cataract\\cataract_079.png\n",
            "0predicted: cataract\n",
            "[0. 1.]\n",
            "[0.9331656098365784, 0.06683439016342163]\n",
            "0 Actual: cataract\n",
            "File: cataract\\cataract_080.png\n",
            "0predicted: cataract\n",
            "[1. 0.]\n",
            "[1.0, 4.070500182835075e-24]\n",
            "1 Actual: normal\n",
            "File: normal\\NL_061.png\n",
            "0predicted: cataract\n",
            "[0. 1.]\n",
            "[1.0, 1.0008507800307598e-08]\n",
            "0 Actual: cataract\n",
            "File: normal\\NL_062.png\n",
            "1predicted: normal\n",
            "[1. 0.]\n",
            "[1.3212683985103224e-13, 1.0]\n",
            "1 Actual: normal\n",
            "File: normal\\NL_063.png\n",
            "1predicted: normal\n",
            "[0. 1.]\n",
            "[2.207761781392037e-06, 0.9999977350234985]\n",
            "1 Actual: normal\n",
            "File: normal\\NL_064.png\n",
            "0predicted: cataract\n",
            "[0. 1.]\n",
            "[1.0, 5.589425869119084e-19]\n",
            "1 Actual: normal\n",
            "File: normal\\NL_065.png\n",
            "1predicted: normal\n",
            "[0. 1.]\n",
            "[1.3352332477525874e-12, 1.0]\n",
            "0 Actual: cataract\n",
            "File: normal\\NL_066.png\n",
            "1predicted: normal\n",
            "[1. 0.]\n",
            "[2.9801520895489375e-07, 0.9999997615814209]\n",
            "1 Actual: normal\n",
            "File: normal\\NL_067.png\n",
            "0predicted: cataract\n",
            "[0. 1.]\n",
            "[1.0, 3.2910783431816526e-08]\n",
            "1 Actual: normal\n",
            "File: normal\\NL_068.png\n",
            "0predicted: cataract\n",
            "[0. 1.]\n",
            "[1.0, 3.5425248888845684e-14]\n",
            "0 Actual: cataract\n",
            "File: normal\\NL_069.png\n",
            "0predicted: cataract\n",
            "[1. 0.]\n",
            "[0.9999998807907104, 1.5908521788787766e-07]\n",
            "1 Actual: normal\n",
            "File: normal\\NL_070.png\n",
            "1predicted: normal\n",
            "[0. 1.]\n",
            "[1.454662861886393e-24, 1.0]\n",
            "0 Actual: cataract\n",
            "File: normal\\NL_071.png\n",
            "1predicted: normal\n",
            "[1. 0.]\n",
            "[7.587713552088815e-13, 1.0]\n",
            "1 Actual: normal\n",
            "File: normal\\NL_072.png\n",
            "1predicted: normal\n",
            "[0. 1.]\n",
            "[0.0038564603310078382, 0.9961434602737427]\n",
            "1 Actual: normal\n",
            "File: normal\\NL_073.png\n",
            "1predicted: normal\n",
            "[0. 1.]\n",
            "[2.651624233670399e-18, 1.0]\n",
            "0 Actual: cataract\n",
            "File: normal\\NL_074.png\n",
            "0predicted: cataract\n",
            "[1. 0.]\n",
            "[0.6857084631919861, 0.3142915964126587]\n",
            "0 Actual: cataract\n",
            "File: normal\\NL_075.png\n",
            "1predicted: normal\n",
            "[1. 0.]\n",
            "[1.2515138791968639e-07, 0.9999998807907104]\n",
            "1 Actual: normal\n",
            "File: normal\\NL_076.png\n",
            "1predicted: normal\n",
            "[0. 1.]\n",
            "[1.2491740398773146e-19, 1.0]\n",
            "0 Actual: cataract\n",
            "File: normal\\NL_077.png\n",
            "1predicted: normal\n",
            "[1. 0.]\n",
            "[3.2151879899786073e-13, 1.0]\n",
            "1 Actual: normal\n",
            "File: normal\\NL_078.png\n",
            "1predicted: normal\n",
            "[0. 1.]\n",
            "[0.0009574872674420476, 0.9990424513816833]\n",
            "0 Actual: cataract\n",
            "File: normal\\NL_079.png\n",
            "1predicted: normal\n",
            "[1. 0.]\n",
            "[4.4931675802217796e-05, 0.9999550580978394]\n",
            "1 Actual: normal\n",
            "File: normal\\NL_080.png\n",
            "1predicted: normal\n",
            "[0. 1.]\n",
            "[1.3339669954761584e-25, 1.0]\n"
          ]
        },
        {
          "data": {
            "image/png": "[encoded data removed]",
            "text/plain": [
              "<Figure size 432x288 with 1 Axes>"
            ]
          },
          "metadata": {
            "needs_background": "light"
          },
          "output_type": "display_data"
        }
      ],
      "source": [
        "images,cls = next(test_set)\n",
        "filename=test_set.filenames\n",
        "\n",
        "#plt.imshow(images[0])\n",
        "#print(cls[0])\n",
        "#print(filename[0])\n",
        "i=0\n",
        "actual=[]\n",
        "predicted=[]\n",
        "for cl in cls:\n",
        "    c=cl.tolist()\n",
        "    max_value = max(c)\n",
        "    max_index = c.index(max_value)\n",
        "    print(str(max_index) + \" Actual: \" + cat[max_index])\n",
        "    print(\"File: \"  + filename[i])\n",
        "    plt.imshow(images[i])\n",
        "    actual.append(cat[max_index])\n",
        "\n",
        "    pd=pred[i].tolist()\n",
        "    m_value = max(pd)\n",
        "    #print(max_value)\n",
        "    m_index = pd.index(m_value)\n",
        "    #print(max_index)\n",
        "    print(str(m_index) + \"predicted: \" + cat[m_index])\n",
        "    predicted.append(cat[m_index])\n",
        "    print(cl)\n",
        "    print(pd)\n",
        "    #print(\"file\" + filename[i])\n",
        "    #plt.savefig('D:\\\\CatractImagesMobileNet\\cataract\\Predicted\\Actual-' + str(cat[max_index]) + ' Predicted-' + str(cat[m_index])+ '-' +'Detected Image Name-' + str(filename[i]).split('\\\\')[1] + str(i) +'.png')\n",
        "\n",
        "    i=i+1\n",
        "\n",
        "#print(pd)\n",
        "#plt.savefig('D:\\\\imageeee.png')\n",
        "#print(\"ok\")\n",
        "#plt.show()\n"
      ]
    },
    {
      "cell_type": "code",
      "execution_count": null,
      "id": "7715d09d",
      "metadata": {
        "id": "7715d09d",
        "outputId": "47f6f3b6-f162-4a2e-87cb-81edde373387"
      },
      "outputs": [
        {
          "name": "stdout",
          "output_type": "stream",
          "text": [
            "Found 1 images belonging to 2 classes.\n",
            "[[1.000000e+00 8.760157e-26]]\n"
          ]
        }
      ],
      "source": []
    },
    {
      "cell_type": "code",
      "execution_count": null,
      "id": "410e07f0",
      "metadata": {
        "id": "410e07f0",
        "outputId": "3b8a9ab5-1b48-483f-e234-e71fa2747150"
      },
      "outputs": [
        {
          "data": {
            "text/plain": [
              "<matplotlib.image.AxesImage at 0x2a432e92b80>"
            ]
          },
          "execution_count": 28,
          "metadata": {},
          "output_type": "execute_result"
        },
        {
          "data": {
            "image/png": "[encoded data removed]",
            "text/plain": [
              "<Figure size 432x288 with 1 Axes>"
            ]
          },
          "metadata": {
            "needs_background": "light"
          },
          "output_type": "display_data"
        }
      ],
      "source": [
        "\n"
      ]
    },
    {
      "cell_type": "code",
      "execution_count": null,
      "id": "30d4c81e",
      "metadata": {
        "id": "30d4c81e"
      },
      "outputs": [],
      "source": []
    },
    {
      "cell_type": "code",
      "execution_count": null,
      "id": "6cd688a6",
      "metadata": {
        "id": "6cd688a6"
      },
      "outputs": [],
      "source": []
    },
    {
      "cell_type": "code",
      "execution_count": null,
      "id": "2a75e84d",
      "metadata": {
        "id": "2a75e84d"
      },
      "outputs": [],
      "source": []
    },
    {
      "cell_type": "code",
      "execution_count": null,
      "id": "af57b7f4",
      "metadata": {
        "scrolled": false,
        "id": "af57b7f4"
      },
      "outputs": [],
      "source": []
    },
    {
      "cell_type": "code",
      "execution_count": null,
      "id": "98472e41",
      "metadata": {
        "id": "98472e41",
        "outputId": "e1e1da22-5561-45c8-f224-0969fc01e67b"
      },
      "outputs": [
        {
          "data": {
            "text/plain": [
              "40"
            ]
          },
          "execution_count": 119,
          "metadata": {},
          "output_type": "execute_result"
        }
      ],
      "source": [
        "len(actual)"
      ]
    },
    {
      "cell_type": "code",
      "execution_count": null,
      "id": "2fe02c95",
      "metadata": {
        "id": "2fe02c95",
        "outputId": "47536368-9acd-4a1a-9cde-85835a00ef2f"
      },
      "outputs": [
        {
          "name": "stdout",
          "output_type": "stream",
          "text": [
            "              precision    recall  f1-score   support\n",
            "\n",
            "    cataract       0.12      0.10      0.11        20\n",
            "     glacuma       0.44      0.60      0.51        40\n",
            "      normal       0.50      0.20      0.29        20\n",
            "\n",
            "    accuracy                           0.38        80\n",
            "   macro avg       0.35      0.30      0.30        80\n",
            "weighted avg       0.37      0.38      0.35        80\n",
            "\n"
          ]
        }
      ],
      "source": [
        "from sklearn.metrics import classification_report\n",
        "print(classification_report(actual,predicted))"
      ]
    },
    {
      "cell_type": "code",
      "execution_count": null,
      "id": "b3761ef7",
      "metadata": {
        "id": "b3761ef7"
      },
      "outputs": [],
      "source": []
    },
    {
      "cell_type": "raw",
      "id": "d3553a7e",
      "metadata": {
        "id": "d3553a7e"
      },
      "source": []
    },
    {
      "cell_type": "code",
      "execution_count": null,
      "id": "fa2da6e0",
      "metadata": {
        "id": "fa2da6e0"
      },
      "outputs": [],
      "source": [
        "#for file in test_set.filenames:\n",
        " #   print(file)"
      ]
    },
    {
      "cell_type": "code",
      "execution_count": null,
      "id": "eb32cc09",
      "metadata": {
        "id": "eb32cc09"
      },
      "outputs": [],
      "source": []
    },
    {
      "cell_type": "code",
      "execution_count": null,
      "id": "8300836f",
      "metadata": {
        "id": "8300836f"
      },
      "outputs": [],
      "source": []
    },
    {
      "cell_type": "code",
      "execution_count": null,
      "id": "66922b25",
      "metadata": {
        "id": "66922b25"
      },
      "outputs": [],
      "source": [
        "\n"
      ]
    },
    {
      "cell_type": "code",
      "execution_count": null,
      "id": "21f2bdba",
      "metadata": {
        "scrolled": true,
        "id": "21f2bdba"
      },
      "outputs": [],
      "source": []
    },
    {
      "cell_type": "code",
      "execution_count": null,
      "id": "62c4139d",
      "metadata": {
        "id": "62c4139d"
      },
      "outputs": [],
      "source": []
    },
    {
      "cell_type": "code",
      "execution_count": null,
      "id": "764e0bf0",
      "metadata": {
        "id": "764e0bf0"
      },
      "outputs": [],
      "source": []
    },
    {
      "cell_type": "code",
      "execution_count": null,
      "id": "3c19ae7f",
      "metadata": {
        "id": "3c19ae7f"
      },
      "outputs": [],
      "source": []
    },
    {
      "cell_type": "code",
      "execution_count": null,
      "id": "0c298a00",
      "metadata": {
        "id": "0c298a00"
      },
      "outputs": [],
      "source": []
    },
    {
      "cell_type": "code",
      "execution_count": null,
      "id": "ef9e09eb",
      "metadata": {
        "id": "ef9e09eb"
      },
      "outputs": [],
      "source": []
    },
    {
      "cell_type": "code",
      "execution_count": null,
      "id": "62e60424",
      "metadata": {
        "id": "62e60424"
      },
      "outputs": [],
      "source": [
        "\n",
        "\n",
        "#plt.savefig('D:\\\\imageeee.png')\n",
        "#print(\"ok\")\n",
        "#plt.show()"
      ]
    },
    {
      "cell_type": "code",
      "execution_count": null,
      "id": "0298da14",
      "metadata": {
        "id": "0298da14"
      },
      "outputs": [],
      "source": []
    },
    {
      "cell_type": "code",
      "execution_count": null,
      "id": "14c7a3d4",
      "metadata": {
        "id": "14c7a3d4"
      },
      "outputs": [],
      "source": []
    },
    {
      "cell_type": "code",
      "execution_count": null,
      "id": "9d6a9e24",
      "metadata": {
        "id": "9d6a9e24"
      },
      "outputs": [],
      "source": []
    },
    {
      "cell_type": "code",
      "execution_count": null,
      "id": "291779d4",
      "metadata": {
        "id": "291779d4"
      },
      "outputs": [],
      "source": []
    },
    {
      "cell_type": "code",
      "execution_count": null,
      "id": "3b1be98e",
      "metadata": {
        "id": "3b1be98e"
      },
      "outputs": [],
      "source": []
    },
    {
      "cell_type": "code",
      "execution_count": null,
      "id": "d17dfe9e",
      "metadata": {
        "id": "d17dfe9e"
      },
      "outputs": [],
      "source": []
    },
    {
      "cell_type": "code",
      "execution_count": null,
      "id": "4d57e81a",
      "metadata": {
        "id": "4d57e81a"
      },
      "outputs": [],
      "source": []
    },
    {
      "cell_type": "code",
      "execution_count": null,
      "id": "0a63555a",
      "metadata": {
        "id": "0a63555a"
      },
      "outputs": [],
      "source": []
    },
    {
      "cell_type": "code",
      "execution_count": null,
      "id": "07f0acb1",
      "metadata": {
        "id": "07f0acb1"
      },
      "outputs": [],
      "source": [
        "#for t in test_set:\n",
        " #   print(t)"
      ]
    },
    {
      "cell_type": "code",
      "execution_count": null,
      "id": "c1caacb0",
      "metadata": {
        "id": "c1caacb0"
      },
      "outputs": [],
      "source": []
    },
    {
      "cell_type": "code",
      "execution_count": null,
      "id": "26a93cfb",
      "metadata": {
        "id": "26a93cfb"
      },
      "outputs": [],
      "source": []
    },
    {
      "cell_type": "code",
      "execution_count": null,
      "id": "2d55fcb4",
      "metadata": {
        "id": "2d55fcb4"
      },
      "outputs": [],
      "source": []
    },
    {
      "cell_type": "code",
      "execution_count": null,
      "id": "b7de3798",
      "metadata": {
        "id": "b7de3798",
        "outputId": "edf5cc0f-5a15-4a09-d0d7-50f1d01a63e7"
      },
      "outputs": [
        {
          "name": "stdout",
          "output_type": "stream",
          "text": [
            "32\n",
            "Index0\n",
            "Actual: cataract\n",
            "class [1.0, 0.0]\n",
            "Index0\n",
            "Actual: cataract\n",
            "class [1.0, 0.0]\n",
            "Index0\n",
            "Actual: cataract\n",
            "class [1.0, 0.0]\n",
            "Index0\n",
            "Actual: cataract\n",
            "class [1.0, 0.0]\n",
            "Index1\n",
            "Actual: normal\n",
            "class [0.0, 1.0]\n",
            "Index1\n",
            "Actual: normal\n",
            "class [0.0, 1.0]\n",
            "Index1\n",
            "Actual: normal\n",
            "class [0.0, 1.0]\n",
            "Index1\n",
            "Actual: normal\n",
            "class [0.0, 1.0]\n",
            "Index0\n",
            "Actual: cataract\n",
            "class [1.0, 0.0]\n",
            "Index1\n",
            "Actual: normal\n",
            "class [0.0, 1.0]\n",
            "Index1\n",
            "Actual: normal\n",
            "class [0.0, 1.0]\n",
            "Index0\n",
            "Actual: cataract\n",
            "class [1.0, 0.0]\n",
            "Index0\n",
            "Actual: cataract\n",
            "class [1.0, 0.0]\n",
            "Index0\n",
            "Actual: cataract\n",
            "class [1.0, 0.0]\n",
            "Index0\n",
            "Actual: cataract\n",
            "class [1.0, 0.0]\n",
            "Index0\n",
            "Actual: cataract\n",
            "class [1.0, 0.0]\n",
            "Index1\n",
            "Actual: normal\n",
            "class [0.0, 1.0]\n",
            "Index0\n",
            "Actual: cataract\n",
            "class [1.0, 0.0]\n",
            "Index0\n",
            "Actual: cataract\n",
            "class [1.0, 0.0]\n",
            "Index0\n",
            "Actual: cataract\n",
            "class [1.0, 0.0]\n",
            "Index1\n",
            "Actual: normal\n",
            "class [0.0, 1.0]\n",
            "Index1\n",
            "Actual: normal\n",
            "class [0.0, 1.0]\n",
            "Index1\n",
            "Actual: normal\n",
            "class [0.0, 1.0]\n",
            "Index0\n",
            "Actual: cataract\n",
            "class [1.0, 0.0]\n",
            "Index0\n",
            "Actual: cataract\n",
            "class [1.0, 0.0]\n",
            "Index1\n",
            "Actual: normal\n",
            "class [0.0, 1.0]\n",
            "Index1\n",
            "Actual: normal\n",
            "class [0.0, 1.0]\n",
            "Index1\n",
            "Actual: normal\n",
            "class [0.0, 1.0]\n",
            "Index0\n",
            "Actual: cataract\n",
            "class [1.0, 0.0]\n",
            "Index1\n",
            "Actual: normal\n",
            "class [0.0, 1.0]\n",
            "Index1\n",
            "Actual: normal\n",
            "class [0.0, 1.0]\n",
            "Index1\n",
            "Actual: normal\n",
            "class [0.0, 1.0]\n",
            "8\n",
            "Index1\n",
            "Actual: normal\n",
            "class [0.0, 1.0]\n",
            "Index0\n",
            "Actual: cataract\n",
            "class [1.0, 0.0]\n",
            "Index0\n",
            "Actual: cataract\n",
            "class [1.0, 0.0]\n",
            "Index0\n",
            "Actual: cataract\n",
            "class [1.0, 0.0]\n",
            "Index1\n",
            "Actual: normal\n",
            "class [0.0, 1.0]\n",
            "Index1\n",
            "Actual: normal\n",
            "class [0.0, 1.0]\n",
            "Index1\n",
            "Actual: normal\n",
            "class [0.0, 1.0]\n",
            "Index0\n",
            "Actual: cataract\n",
            "class [1.0, 0.0]\n",
            "32\n",
            "Index0\n",
            "Actual: cataract\n",
            "class [1.0, 0.0]\n",
            "Index0\n",
            "Actual: cataract\n",
            "class [1.0, 0.0]\n",
            "Index1\n",
            "Actual: normal\n",
            "class [0.0, 1.0]\n",
            "Index1\n",
            "Actual: normal\n",
            "class [0.0, 1.0]\n",
            "Index0\n",
            "Actual: cataract\n",
            "class [1.0, 0.0]\n",
            "Index0\n",
            "Actual: cataract\n",
            "class [1.0, 0.0]\n",
            "Index0\n",
            "Actual: cataract\n",
            "class [1.0, 0.0]\n",
            "Index0\n",
            "Actual: cataract\n",
            "class [1.0, 0.0]\n",
            "Index0\n",
            "Actual: cataract\n",
            "class [1.0, 0.0]\n",
            "Index0\n",
            "Actual: cataract\n",
            "class [1.0, 0.0]\n",
            "Index1\n",
            "Actual: normal\n",
            "class [0.0, 1.0]\n",
            "Index1\n",
            "Actual: normal\n",
            "class [0.0, 1.0]\n",
            "Index0\n",
            "Actual: cataract\n",
            "class [1.0, 0.0]\n",
            "Index1\n",
            "Actual: normal\n",
            "class [0.0, 1.0]\n",
            "Index1\n",
            "Actual: normal\n",
            "class [0.0, 1.0]\n",
            "Index1\n",
            "Actual: normal\n",
            "class [0.0, 1.0]\n",
            "Index1\n",
            "Actual: normal\n",
            "class [0.0, 1.0]\n",
            "Index1\n",
            "Actual: normal\n",
            "class [0.0, 1.0]\n",
            "Index1\n",
            "Actual: normal\n",
            "class [0.0, 1.0]\n",
            "Index0\n",
            "Actual: cataract\n",
            "class [1.0, 0.0]\n",
            "Index1\n",
            "Actual: normal\n",
            "class [0.0, 1.0]\n",
            "Index1\n",
            "Actual: normal\n",
            "class [0.0, 1.0]\n",
            "Index0\n",
            "Actual: cataract\n",
            "class [1.0, 0.0]\n",
            "Index1\n",
            "Actual: normal\n",
            "class [0.0, 1.0]\n",
            "Index0\n",
            "Actual: cataract\n",
            "class [1.0, 0.0]\n",
            "Index0\n",
            "Actual: cataract\n",
            "class [1.0, 0.0]\n",
            "Index0\n",
            "Actual: cataract\n",
            "class [1.0, 0.0]\n",
            "Index1\n",
            "Actual: normal\n",
            "class [0.0, 1.0]\n",
            "Index1\n",
            "Actual: normal\n",
            "class [0.0, 1.0]\n",
            "Index1\n",
            "Actual: normal\n",
            "class [0.0, 1.0]\n",
            "Index1\n",
            "Actual: normal\n",
            "class [0.0, 1.0]\n",
            "Index0\n",
            "Actual: cataract\n",
            "class [1.0, 0.0]\n",
            "8\n",
            "Index0\n",
            "Actual: cataract\n",
            "class [1.0, 0.0]\n",
            "Index1\n",
            "Actual: normal\n",
            "class [0.0, 1.0]\n",
            "Index1\n",
            "Actual: normal\n",
            "class [0.0, 1.0]\n",
            "Index0\n",
            "Actual: cataract\n",
            "class [1.0, 0.0]\n",
            "Index0\n",
            "Actual: cataract\n",
            "class [1.0, 0.0]\n",
            "Index1\n",
            "Actual: normal\n",
            "class [0.0, 1.0]\n",
            "Index0\n",
            "Actual: cataract\n",
            "class [1.0, 0.0]\n",
            "Index0\n",
            "Actual: cataract\n",
            "class [1.0, 0.0]\n",
            "32\n",
            "Index0\n",
            "Actual: cataract\n",
            "class [1.0, 0.0]\n",
            "Index1\n",
            "Actual: normal\n",
            "class [0.0, 1.0]\n",
            "Index0\n",
            "Actual: cataract\n",
            "class [1.0, 0.0]\n",
            "Index0\n",
            "Actual: cataract\n",
            "class [1.0, 0.0]\n",
            "Index0\n",
            "Actual: cataract\n",
            "class [1.0, 0.0]\n",
            "Index1\n",
            "Actual: normal\n",
            "class [0.0, 1.0]\n",
            "Index0\n",
            "Actual: cataract\n",
            "class [1.0, 0.0]\n",
            "Index1\n",
            "Actual: normal\n",
            "class [0.0, 1.0]\n",
            "Index0\n",
            "Actual: cataract\n",
            "class [1.0, 0.0]\n",
            "Index1\n",
            "Actual: normal\n",
            "class [0.0, 1.0]\n",
            "Index0\n",
            "Actual: cataract\n",
            "class [1.0, 0.0]\n",
            "Index1\n",
            "Actual: normal\n",
            "class [0.0, 1.0]\n",
            "Index0\n",
            "Actual: cataract\n",
            "class [1.0, 0.0]\n",
            "Index1\n",
            "Actual: normal\n",
            "class [0.0, 1.0]\n",
            "Index1\n",
            "Actual: normal\n",
            "class [0.0, 1.0]\n",
            "Index1\n",
            "Actual: normal\n",
            "class [0.0, 1.0]\n",
            "Index0\n",
            "Actual: cataract\n",
            "class [1.0, 0.0]\n",
            "Index0\n",
            "Actual: cataract\n",
            "class [1.0, 0.0]\n",
            "Index1\n",
            "Actual: normal\n",
            "class [0.0, 1.0]\n",
            "Index1\n",
            "Actual: normal\n",
            "class [0.0, 1.0]\n",
            "Index0\n",
            "Actual: cataract\n",
            "class [1.0, 0.0]\n",
            "Index1\n",
            "Actual: normal\n",
            "class [0.0, 1.0]\n",
            "Index1\n",
            "Actual: normal\n",
            "class [0.0, 1.0]\n",
            "Index0\n",
            "Actual: cataract\n",
            "class [1.0, 0.0]\n",
            "Index0\n",
            "Actual: cataract\n",
            "class [1.0, 0.0]\n",
            "Index1\n",
            "Actual: normal\n",
            "class [0.0, 1.0]\n",
            "Index1\n",
            "Actual: normal\n",
            "class [0.0, 1.0]\n",
            "Index0\n",
            "Actual: cataract\n",
            "class [1.0, 0.0]\n",
            "Index1\n",
            "Actual: normal\n",
            "class [0.0, 1.0]\n",
            "Index1\n",
            "Actual: normal\n",
            "class [0.0, 1.0]\n",
            "Index1\n",
            "Actual: normal\n",
            "class [0.0, 1.0]\n",
            "Index0\n",
            "Actual: cataract\n",
            "class [1.0, 0.0]\n"
          ]
        }
      ],
      "source": [
        "actual=[]\n",
        "img=1\n",
        "row=1\n",
        "for i in range(int(imageCount/8)):\n",
        "    images,cls = next(test_set)\n",
        "    print(len(cls))\n",
        "    #print(\"In in first batch at 3\")\n",
        "    j=0\n",
        "    for c in cls:\n",
        "        cl=c.tolist()\n",
        "        m_value = max(cl)\n",
        "        m_index = cl.index(m_value)\n",
        "        print(\"Index\" + str(m_index))\n",
        "        print(\"Actual: \" + cat[m_index])\n",
        "        print(\"class\", cl)\n",
        "        actual.append(cat[m_index])\n",
        "        worksheet1.write(row, 1, str(cat[m_index]))\n",
        "\n",
        "        #plt.imshow(images[j])\n",
        "        #plt.savefig(\"D:\\\\ImagesForCocoAssesment\\\\MobileNet\\\\TagsForInputImagesGeneratedByProgram\\\\\" + str(img) + \"-\" + str(cat[m_index]) + \".png\")\n",
        "        img=img+1\n",
        "        j=j+1\n",
        "        row=row+1\n",
        "    i=i+1\n",
        "\n"
      ]
    },
    {
      "cell_type": "code",
      "execution_count": null,
      "id": "65868711",
      "metadata": {
        "id": "65868711",
        "outputId": "0de1e3ca-4222-48b3-c727-36145d9efaab"
      },
      "outputs": [
        {
          "name": "stderr",
          "output_type": "stream",
          "text": [
            "C:\\Users\\saqib\\anaconda3\\envs\\TF\\lib\\site-packages\\xlsxwriter\\workbook.py:338: UserWarning: Calling close() on already closed file.\n",
            "  warn(\"Calling close() on already closed file.\")\n"
          ]
        }
      ],
      "source": [
        "workbook.close()\n"
      ]
    },
    {
      "cell_type": "code",
      "execution_count": null,
      "id": "7f8c0ac7",
      "metadata": {
        "id": "7f8c0ac7",
        "outputId": "17f19b5e-fddd-457c-ca66-0103b2aec566"
      },
      "outputs": [
        {
          "data": {
            "text/plain": [
              "['cataract',\n",
              " 'cataract',\n",
              " 'cataract',\n",
              " 'cataract',\n",
              " 'normal',\n",
              " 'normal',\n",
              " 'normal',\n",
              " 'normal',\n",
              " 'cataract',\n",
              " 'normal',\n",
              " 'normal',\n",
              " 'cataract',\n",
              " 'cataract',\n",
              " 'cataract',\n",
              " 'cataract',\n",
              " 'cataract',\n",
              " 'normal',\n",
              " 'cataract',\n",
              " 'cataract',\n",
              " 'cataract',\n",
              " 'normal',\n",
              " 'normal',\n",
              " 'normal',\n",
              " 'cataract',\n",
              " 'cataract',\n",
              " 'normal',\n",
              " 'normal',\n",
              " 'normal',\n",
              " 'cataract',\n",
              " 'normal',\n",
              " 'normal',\n",
              " 'normal',\n",
              " 'normal',\n",
              " 'cataract',\n",
              " 'cataract',\n",
              " 'cataract',\n",
              " 'normal',\n",
              " 'normal',\n",
              " 'normal',\n",
              " 'cataract',\n",
              " 'cataract',\n",
              " 'cataract',\n",
              " 'normal',\n",
              " 'normal',\n",
              " 'cataract',\n",
              " 'cataract',\n",
              " 'cataract',\n",
              " 'cataract',\n",
              " 'cataract',\n",
              " 'cataract',\n",
              " 'normal',\n",
              " 'normal',\n",
              " 'cataract',\n",
              " 'normal',\n",
              " 'normal',\n",
              " 'normal',\n",
              " 'normal',\n",
              " 'normal',\n",
              " 'normal',\n",
              " 'cataract',\n",
              " 'normal',\n",
              " 'normal',\n",
              " 'cataract',\n",
              " 'normal',\n",
              " 'cataract',\n",
              " 'cataract',\n",
              " 'cataract',\n",
              " 'normal',\n",
              " 'normal',\n",
              " 'normal',\n",
              " 'normal',\n",
              " 'cataract',\n",
              " 'cataract',\n",
              " 'normal',\n",
              " 'normal',\n",
              " 'cataract',\n",
              " 'cataract',\n",
              " 'normal',\n",
              " 'cataract',\n",
              " 'cataract',\n",
              " 'cataract',\n",
              " 'normal',\n",
              " 'cataract',\n",
              " 'cataract',\n",
              " 'cataract',\n",
              " 'normal',\n",
              " 'cataract',\n",
              " 'normal',\n",
              " 'cataract',\n",
              " 'normal',\n",
              " 'cataract',\n",
              " 'normal',\n",
              " 'cataract',\n",
              " 'normal',\n",
              " 'normal',\n",
              " 'normal',\n",
              " 'cataract',\n",
              " 'cataract',\n",
              " 'normal',\n",
              " 'normal',\n",
              " 'cataract',\n",
              " 'normal',\n",
              " 'normal',\n",
              " 'cataract',\n",
              " 'cataract',\n",
              " 'normal',\n",
              " 'normal',\n",
              " 'cataract',\n",
              " 'normal',\n",
              " 'normal',\n",
              " 'normal',\n",
              " 'cataract']"
            ]
          },
          "execution_count": 227,
          "metadata": {},
          "output_type": "execute_result"
        }
      ],
      "source": [
        "actual"
      ]
    },
    {
      "cell_type": "code",
      "execution_count": null,
      "id": "0c497178",
      "metadata": {
        "id": "0c497178",
        "outputId": "ac95f69c-2fd1-4dab-ba66-500e9d21f977"
      },
      "outputs": [
        {
          "name": "stdout",
          "output_type": "stream",
          "text": [
            "              precision    recall  f1-score   support\n",
            "\n",
            "    cataract       1.00      1.00      1.00         2\n",
            "      normal       1.00      1.00      1.00         1\n",
            "\n",
            "    accuracy                           1.00         3\n",
            "   macro avg       1.00      1.00      1.00         3\n",
            "weighted avg       1.00      1.00      1.00         3\n",
            "\n"
          ]
        }
      ],
      "source": []
    },
    {
      "cell_type": "code",
      "execution_count": null,
      "id": "1234de94",
      "metadata": {
        "id": "1234de94"
      },
      "outputs": [],
      "source": []
    },
    {
      "cell_type": "code",
      "execution_count": null,
      "id": "ad39bc21",
      "metadata": {
        "id": "ad39bc21"
      },
      "outputs": [],
      "source": []
    },
    {
      "cell_type": "code",
      "execution_count": null,
      "id": "7e02db07",
      "metadata": {
        "id": "7e02db07"
      },
      "outputs": [],
      "source": []
    },
    {
      "cell_type": "code",
      "execution_count": null,
      "id": "be63c6e8",
      "metadata": {
        "id": "be63c6e8",
        "outputId": "5b80eefa-959d-4e56-c0f1-f7b9485b8955"
      },
      "outputs": [
        {
          "data": {
            "text/plain": [
              "32"
            ]
          },
          "execution_count": 208,
          "metadata": {},
          "output_type": "execute_result"
        }
      ],
      "source": []
    },
    {
      "cell_type": "code",
      "execution_count": null,
      "id": "384f47f0",
      "metadata": {
        "id": "384f47f0"
      },
      "outputs": [],
      "source": []
    },
    {
      "cell_type": "code",
      "execution_count": null,
      "id": "c8e8d9b4",
      "metadata": {
        "id": "c8e8d9b4"
      },
      "outputs": [],
      "source": []
    },
    {
      "cell_type": "code",
      "execution_count": null,
      "id": "da72f2ad",
      "metadata": {
        "id": "da72f2ad"
      },
      "outputs": [],
      "source": []
    },
    {
      "cell_type": "code",
      "execution_count": null,
      "id": "3ae78213",
      "metadata": {
        "id": "3ae78213"
      },
      "outputs": [],
      "source": []
    },
    {
      "cell_type": "code",
      "execution_count": null,
      "id": "42ad0160",
      "metadata": {
        "id": "42ad0160"
      },
      "outputs": [],
      "source": []
    },
    {
      "cell_type": "code",
      "execution_count": null,
      "id": "56a1bcb0",
      "metadata": {
        "id": "56a1bcb0"
      },
      "outputs": [],
      "source": []
    },
    {
      "cell_type": "code",
      "execution_count": null,
      "id": "534ab73a",
      "metadata": {
        "id": "534ab73a"
      },
      "outputs": [],
      "source": []
    },
    {
      "cell_type": "code",
      "execution_count": null,
      "id": "8edef539",
      "metadata": {
        "id": "8edef539"
      },
      "outputs": [],
      "source": []
    },
    {
      "cell_type": "code",
      "execution_count": null,
      "id": "193fad91",
      "metadata": {
        "id": "193fad91"
      },
      "outputs": [],
      "source": [
        "\n"
      ]
    },
    {
      "cell_type": "code",
      "execution_count": null,
      "id": "42771e1b",
      "metadata": {
        "id": "42771e1b"
      },
      "outputs": [],
      "source": []
    },
    {
      "cell_type": "code",
      "execution_count": null,
      "id": "fc4149ad",
      "metadata": {
        "id": "fc4149ad"
      },
      "outputs": [],
      "source": []
    },
    {
      "cell_type": "code",
      "execution_count": null,
      "id": "48ef9454",
      "metadata": {
        "id": "48ef9454"
      },
      "outputs": [],
      "source": []
    },
    {
      "cell_type": "code",
      "execution_count": null,
      "id": "1ee7e7cb",
      "metadata": {
        "id": "1ee7e7cb"
      },
      "outputs": [],
      "source": []
    }
  ],
  "metadata": {
    "kernelspec": {
      "display_name": "Python 3",
      "name": "python3"
    },
    "language_info": {
      "codemirror_mode": {
        "name": "ipython",
        "version": 3
      },
      "file_extension": ".py",
      "mimetype": "text/x-python",
      "name": "python",
      "nbconvert_exporter": "python",
      "pygments_lexer": "ipython3",
      "version": "3.8.13"
    },
    "colab": {
      "provenance": [],
      "gpuType": "T4"
    },
    "accelerator": "GPU"
  },
  "nbformat": 4,
  "nbformat_minor": 5
}