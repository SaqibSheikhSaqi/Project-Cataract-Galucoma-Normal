{
  "cells": [
    {
      "cell_type": "code",
      "execution_count": null,
      "id": "b5e2968b",
      "metadata": {
        "id": "b5e2968b"
      },
      "outputs": [],
      "source": [
        "from keras.layers import Input, Lambda, Dense, Flatten\n",
        "from keras.models import Model\n",
        "from keras.applications.mobilenet_v2 import MobileNetV2\n",
        "from keras.applications.vgg16 import preprocess_input\n",
        "from keras.preprocessing import image\n",
        "from keras.preprocessing.image import ImageDataGenerator\n",
        "from keras.models import Sequential\n",
        "import numpy as np\n",
        "from glob import glob\n",
        "import matplotlib.pyplot as plt"
      ]
    },
    {
      "cell_type": "code",
      "source": [
        "from google.colab import drive\n",
        "drive.mount('/content/drive')"
      ],
      "metadata": {
        "colab": {
          "base_uri": "https://localhost:8080/"
        },
        "id": "iYg7A9PeqYMz",
        "outputId": "021b80ef-3958-42b0-a2e3-afc6a7e5e1c8"
      },
      "id": "iYg7A9PeqYMz",
      "execution_count": null,
      "outputs": [
        {
          "output_type": "stream",
          "name": "stdout",
          "text": [
            "Mounted at /content/drive\n"
          ]
        }
      ]
    },
    {
      "cell_type": "code",
      "execution_count": null,
      "id": "c00a89f6",
      "metadata": {
        "colab": {
          "base_uri": "https://localhost:8080/"
        },
        "id": "c00a89f6",
        "outputId": "fcfc8d7b-4a1c-49b6-960a-6e5a21295754"
      },
      "outputs": [
        {
          "output_type": "stream",
          "name": "stdout",
          "text": [
            "Downloading data from https://storage.googleapis.com/tensorflow/keras-applications/mobilenet_v2/mobilenet_v2_weights_tf_dim_ordering_tf_kernels_1.0_224_no_top.h5\n",
            "9406464/9406464 [==============================] - 0s 0us/step\n"
          ]
        }
      ],
      "source": [
        "# re-size all the images to this\n",
        "IMAGE_SIZE = [224, 224]\n",
        "\n",
        "\n",
        "train_path = '/content/drive/MyDrive/CatractImagesMobileNet/dataset2/GlaucomaDataset/Training-Dataset/'\n",
        "valid_path = '/content/drive/MyDrive/CatractImagesMobileNet/dataset2/GlaucomaDataset/Test-Dataset/'\n",
        "\n",
        "# add preprocessing layer to the front of VGG\n",
        "mbnt = MobileNetV2(input_shape=IMAGE_SIZE + [3], weights='imagenet', include_top=False)"
      ]
    },
    {
      "cell_type": "code",
      "source": [
        "pip install xlsxwriter"
      ],
      "metadata": {
        "colab": {
          "base_uri": "https://localhost:8080/"
        },
        "id": "nVVIgOOsw7Nf",
        "outputId": "1ab60b20-f6c1-45a8-bfa2-e7a3aa096403"
      },
      "id": "nVVIgOOsw7Nf",
      "execution_count": null,
      "outputs": [
        {
          "output_type": "stream",
          "name": "stdout",
          "text": [
            "Collecting xlsxwriter\n",
            "  Downloading XlsxWriter-3.2.0-py3-none-any.whl.metadata (2.6 kB)\n",
            "Downloading XlsxWriter-3.2.0-py3-none-any.whl (159 kB)\n",
            "\u001b[?25l   \u001b[90m━━━━━━━━━━━━━━━━━━━━━━━━━━━━━━━━━━━━━━━━\u001b[0m \u001b[32m0.0/159.9 kB\u001b[0m \u001b[31m?\u001b[0m eta \u001b[36m-:--:--\u001b[0m\r\u001b[2K   \u001b[90m━━━━━━━━━━━━━━━━━━━━━━━━━━━━━━━━━━━━━━━━\u001b[0m \u001b[32m159.9/159.9 kB\u001b[0m \u001b[31m5.8 MB/s\u001b[0m eta \u001b[36m0:00:00\u001b[0m\n",
            "\u001b[?25hInstalling collected packages: xlsxwriter\n",
            "Successfully installed xlsxwriter-3.2.0\n"
          ]
        }
      ]
    },
    {
      "cell_type": "code",
      "execution_count": null,
      "id": "4ada9778",
      "metadata": {
        "colab": {
          "base_uri": "https://localhost:8080/"
        },
        "id": "4ada9778",
        "outputId": "2c7e5513-dd3e-4055-dafe-00c1e71cfeb9"
      },
      "outputs": [
        {
          "output_type": "stream",
          "name": "stdout",
          "text": [
            "/content/drive/MyDrive/CatractImagesMobileNet/dataset2/GlaucomaDataset/Test-Dataset/normal/2415_right.jpg\n",
            "/content/drive/MyDrive/CatractImagesMobileNet/dataset2/GlaucomaDataset/Test-Dataset/normal/2397_left.jpg\n",
            "/content/drive/MyDrive/CatractImagesMobileNet/dataset2/GlaucomaDataset/Test-Dataset/normal/2382_right.jpg\n",
            "/content/drive/MyDrive/CatractImagesMobileNet/dataset2/GlaucomaDataset/Test-Dataset/normal/2388_left.jpg\n",
            "/content/drive/MyDrive/CatractImagesMobileNet/dataset2/GlaucomaDataset/Test-Dataset/normal/2395_right.jpg\n",
            "/content/drive/MyDrive/CatractImagesMobileNet/dataset2/GlaucomaDataset/Test-Dataset/normal/2395_left.jpg\n",
            "/content/drive/MyDrive/CatractImagesMobileNet/dataset2/GlaucomaDataset/Test-Dataset/normal/2408_left.jpg\n",
            "/content/drive/MyDrive/CatractImagesMobileNet/dataset2/GlaucomaDataset/Test-Dataset/normal/2393_right.jpg\n",
            "/content/drive/MyDrive/CatractImagesMobileNet/dataset2/GlaucomaDataset/Test-Dataset/normal/2399_right.jpg\n",
            "/content/drive/MyDrive/CatractImagesMobileNet/dataset2/GlaucomaDataset/Test-Dataset/normal/2384_left.jpg\n",
            "/content/drive/MyDrive/CatractImagesMobileNet/dataset2/GlaucomaDataset/Test-Dataset/normal/2397_right.jpg\n",
            "/content/drive/MyDrive/CatractImagesMobileNet/dataset2/GlaucomaDataset/Test-Dataset/normal/2383_left.jpg\n",
            "/content/drive/MyDrive/CatractImagesMobileNet/dataset2/GlaucomaDataset/Test-Dataset/normal/2403_left.jpg\n",
            "/content/drive/MyDrive/CatractImagesMobileNet/dataset2/GlaucomaDataset/Test-Dataset/normal/2394_left.jpg\n",
            "/content/drive/MyDrive/CatractImagesMobileNet/dataset2/GlaucomaDataset/Test-Dataset/normal/2396_right.jpg\n",
            "/content/drive/MyDrive/CatractImagesMobileNet/dataset2/GlaucomaDataset/Test-Dataset/normal/2410_right.jpg\n",
            "/content/drive/MyDrive/CatractImagesMobileNet/dataset2/GlaucomaDataset/Test-Dataset/normal/2386_left.jpg\n",
            "/content/drive/MyDrive/CatractImagesMobileNet/dataset2/GlaucomaDataset/Test-Dataset/normal/2410_left.jpg\n",
            "/content/drive/MyDrive/CatractImagesMobileNet/dataset2/GlaucomaDataset/Test-Dataset/normal/2394_right.jpg\n",
            "/content/drive/MyDrive/CatractImagesMobileNet/dataset2/GlaucomaDataset/Test-Dataset/normal/2384_right.jpg\n",
            "/content/drive/MyDrive/CatractImagesMobileNet/dataset2/GlaucomaDataset/Test-Dataset/normal/2415_left.jpg\n",
            "/content/drive/MyDrive/CatractImagesMobileNet/dataset2/GlaucomaDataset/Test-Dataset/normal/2388_right.jpg\n",
            "/content/drive/MyDrive/CatractImagesMobileNet/dataset2/GlaucomaDataset/Test-Dataset/normal/2399_left.jpg\n",
            "/content/drive/MyDrive/CatractImagesMobileNet/dataset2/GlaucomaDataset/Test-Dataset/normal/2403_right.jpg\n",
            "/content/drive/MyDrive/CatractImagesMobileNet/dataset2/GlaucomaDataset/Test-Dataset/normal/2400_right.jpg\n",
            "/content/drive/MyDrive/CatractImagesMobileNet/dataset2/GlaucomaDataset/Test-Dataset/normal/2389_right.jpg\n",
            "/content/drive/MyDrive/CatractImagesMobileNet/dataset2/GlaucomaDataset/Test-Dataset/normal/2389_left.jpg\n",
            "/content/drive/MyDrive/CatractImagesMobileNet/dataset2/GlaucomaDataset/Test-Dataset/normal/2383_right.jpg\n",
            "/content/drive/MyDrive/CatractImagesMobileNet/dataset2/GlaucomaDataset/Test-Dataset/normal/2396_left.jpg\n",
            "/content/drive/MyDrive/CatractImagesMobileNet/dataset2/GlaucomaDataset/Test-Dataset/normal/2419_right.jpg\n",
            "/content/drive/MyDrive/CatractImagesMobileNet/dataset2/GlaucomaDataset/Test-Dataset/normal/2386_right.jpg\n",
            "/content/drive/MyDrive/CatractImagesMobileNet/dataset2/GlaucomaDataset/Test-Dataset/normal/2393_left.jpg\n",
            "/content/drive/MyDrive/CatractImagesMobileNet/dataset2/GlaucomaDataset/Test-Dataset/normal/2419_left.jpg\n",
            "/content/drive/MyDrive/CatractImagesMobileNet/dataset2/GlaucomaDataset/Test-Dataset/normal/2418_left.jpg\n",
            "/content/drive/MyDrive/CatractImagesMobileNet/dataset2/GlaucomaDataset/Test-Dataset/normal/2408_right.jpg\n",
            "/content/drive/MyDrive/CatractImagesMobileNet/dataset2/GlaucomaDataset/Test-Dataset/normal/2418_right.jpg\n",
            "/content/drive/MyDrive/CatractImagesMobileNet/dataset2/GlaucomaDataset/Test-Dataset/glaucoma/_57_1814825.jpg\n",
            "/content/drive/MyDrive/CatractImagesMobileNet/dataset2/GlaucomaDataset/Test-Dataset/glaucoma/_69_5362173.jpg\n",
            "/content/drive/MyDrive/CatractImagesMobileNet/dataset2/GlaucomaDataset/Test-Dataset/glaucoma/_56_7014018.jpg\n",
            "/content/drive/MyDrive/CatractImagesMobileNet/dataset2/GlaucomaDataset/Test-Dataset/glaucoma/_67_5997765.jpg\n",
            "/content/drive/MyDrive/CatractImagesMobileNet/dataset2/GlaucomaDataset/Test-Dataset/glaucoma/_60_3287251.jpg\n",
            "/content/drive/MyDrive/CatractImagesMobileNet/dataset2/GlaucomaDataset/Test-Dataset/glaucoma/_61_1340813.jpg\n",
            "/content/drive/MyDrive/CatractImagesMobileNet/dataset2/GlaucomaDataset/Test-Dataset/glaucoma/_73_1527609.jpg\n",
            "/content/drive/MyDrive/CatractImagesMobileNet/dataset2/GlaucomaDataset/Test-Dataset/glaucoma/_72_3474284.jpg\n",
            "/content/drive/MyDrive/CatractImagesMobileNet/dataset2/GlaucomaDataset/Test-Dataset/glaucoma/_62_3878139.jpg\n",
            "/content/drive/MyDrive/CatractImagesMobileNet/dataset2/GlaucomaDataset/Test-Dataset/glaucoma/_55_1027321.jpg\n",
            "/content/drive/MyDrive/CatractImagesMobileNet/dataset2/GlaucomaDataset/Test-Dataset/glaucoma/_52_3659415.jpg\n",
            "/content/drive/MyDrive/CatractImagesMobileNet/dataset2/GlaucomaDataset/Test-Dataset/glaucoma/_52_3379279.jpg\n",
            "/content/drive/MyDrive/CatractImagesMobileNet/dataset2/GlaucomaDataset/Test-Dataset/glaucoma/_48_5270520.jpg\n",
            "/content/drive/MyDrive/CatractImagesMobileNet/dataset2/GlaucomaDataset/Test-Dataset/glaucoma/_70_4843073.jpg\n",
            "/content/drive/MyDrive/CatractImagesMobileNet/dataset2/GlaucomaDataset/Test-Dataset/glaucoma/_71_5256438.jpg\n",
            "/content/drive/MyDrive/CatractImagesMobileNet/dataset2/GlaucomaDataset/Test-Dataset/glaucoma/_62_731940.jpg\n",
            "/content/drive/MyDrive/CatractImagesMobileNet/dataset2/GlaucomaDataset/Test-Dataset/glaucoma/_65_9130585.jpg\n",
            "/content/drive/MyDrive/CatractImagesMobileNet/dataset2/GlaucomaDataset/Test-Dataset/glaucoma/_51_5395739.jpg\n",
            "/content/drive/MyDrive/CatractImagesMobileNet/dataset2/GlaucomaDataset/Test-Dataset/glaucoma/_58_180622.jpg\n",
            "/content/drive/MyDrive/CatractImagesMobileNet/dataset2/GlaucomaDataset/Test-Dataset/glaucoma/_68_7591745.jpg\n",
            "/content/drive/MyDrive/CatractImagesMobileNet/dataset2/GlaucomaDataset/Test-Dataset/glaucoma/_54_1709440.jpg\n",
            "/content/drive/MyDrive/CatractImagesMobileNet/dataset2/GlaucomaDataset/Test-Dataset/glaucoma/_60_6481590.jpg\n",
            "/content/drive/MyDrive/CatractImagesMobileNet/dataset2/GlaucomaDataset/Test-Dataset/glaucoma/_59_9153525.jpg\n",
            "/content/drive/MyDrive/CatractImagesMobileNet/dataset2/GlaucomaDataset/Test-Dataset/glaucoma/_54_4840369.jpg\n",
            "/content/drive/MyDrive/CatractImagesMobileNet/dataset2/GlaucomaDataset/Test-Dataset/glaucoma/_53_1457470.jpg\n",
            "/content/drive/MyDrive/CatractImagesMobileNet/dataset2/GlaucomaDataset/Test-Dataset/glaucoma/_64_4692255.jpg\n",
            "/content/drive/MyDrive/CatractImagesMobileNet/dataset2/GlaucomaDataset/Test-Dataset/glaucoma/_63_5036155.jpg\n",
            "/content/drive/MyDrive/CatractImagesMobileNet/dataset2/GlaucomaDataset/Test-Dataset/glaucoma/_48_3684538.jpg\n",
            "/content/drive/MyDrive/CatractImagesMobileNet/dataset2/GlaucomaDataset/Test-Dataset/glaucoma/_67_4921455.jpg\n",
            "/content/drive/MyDrive/CatractImagesMobileNet/dataset2/GlaucomaDataset/Test-Dataset/glaucoma/_49_249201.jpg\n",
            "/content/drive/MyDrive/CatractImagesMobileNet/dataset2/GlaucomaDataset/Test-Dataset/glaucoma/_66_8732996.jpg\n",
            "/content/drive/MyDrive/CatractImagesMobileNet/dataset2/GlaucomaDataset/Test-Dataset/glaucoma/_71_9012457.jpg\n",
            "/content/drive/MyDrive/CatractImagesMobileNet/dataset2/GlaucomaDataset/Test-Dataset/glaucoma/_64_3530889.jpg\n",
            "/content/drive/MyDrive/CatractImagesMobileNet/dataset2/GlaucomaDataset/Test-Dataset/glaucoma/_59_1911492.jpg\n",
            "/content/drive/MyDrive/CatractImagesMobileNet/dataset2/GlaucomaDataset/Test-Dataset/glaucoma/_58_8721967.jpg\n",
            "/content/drive/MyDrive/CatractImagesMobileNet/dataset2/GlaucomaDataset/Test-Dataset/glaucoma/_50_8908104.jpg\n"
          ]
        }
      ],
      "source": [
        "import xlsxwriter\n",
        "workbook = xlsxwriter.Workbook('D:/CatractImagesMobileNet/dataset2/files/MobileNetV2GalucumaImagesAnalysis.xlsx')\n",
        "worksheet1 = workbook.add_worksheet()\n",
        "row=0\n",
        "col=0\n",
        "imageCount=0\n",
        "worksheet1.write(row, 0, str(\"Analysis of Image\"))\n",
        "worksheet1.write(row, 1, str(\"Actual Object\"))\n",
        "worksheet1.write(row, 2, str(\"Percentage for Detected Object\"))\n",
        "worksheet1.write(row, 3, str(\"Detected Object\"))\n",
        "import os\n",
        "\n",
        "row=1\n",
        "for path, currentDirectory, files in os.walk(\"/content/drive/MyDrive/CatractImagesMobileNet/dataset2/GlaucomaDataset/Test-Dataset\"):\n",
        "    for file in files:\n",
        "        print(os.path.join(path, file))\n",
        "        imageCount=imageCount + 1\n",
        "        worksheet1.write(row, 0, str(\"Image-\" + str(imageCount)))\n",
        "        row=row+1\n"
      ]
    },
    {
      "cell_type": "code",
      "execution_count": null,
      "id": "08fc6f09",
      "metadata": {
        "colab": {
          "base_uri": "https://localhost:8080/"
        },
        "id": "08fc6f09",
        "outputId": "cfc74376-b2e2-416c-eb46-e0f64d9220d5"
      },
      "outputs": [
        {
          "output_type": "execute_result",
          "data": {
            "text/plain": [
              "72"
            ]
          },
          "metadata": {},
          "execution_count": 6
        }
      ],
      "source": [
        "imageCount"
      ]
    },
    {
      "cell_type": "code",
      "execution_count": null,
      "id": "0f3da374",
      "metadata": {
        "id": "0f3da374"
      },
      "outputs": [],
      "source": [
        "# don't train existing weights\n",
        "for layer in mbnt.layers:\n",
        "    layer.trainable = False"
      ]
    },
    {
      "cell_type": "code",
      "execution_count": null,
      "id": "70b443ae",
      "metadata": {
        "colab": {
          "base_uri": "https://localhost:8080/"
        },
        "id": "70b443ae",
        "outputId": "ff656061-458b-4b4e-8859-d3321fc62558"
      },
      "outputs": [
        {
          "output_type": "stream",
          "name": "stdout",
          "text": [
            "2\n"
          ]
        }
      ],
      "source": [
        "  # useful for getting number of classes\n",
        "folders = glob('/content/drive/MyDrive/CatractImagesMobileNet/dataset2/GlaucomaDataset/Training-Dataset/*')\n",
        "print(len(folders))"
      ]
    },
    {
      "cell_type": "code",
      "execution_count": null,
      "id": "d2a04a2f",
      "metadata": {
        "id": "d2a04a2f"
      },
      "outputs": [],
      "source": [
        "# our layers - you can add more if you want\n",
        "x = Flatten()(mbnt.output)\n",
        "x = Dense(200, activation='relu')(x)\n",
        "x = Dense(100, activation='relu')(x)\n",
        "prediction = Dense(len(folders), activation='softmax')(x)\n",
        "#prediction = Dense(1, activation='sigmoid')(x)\n"
      ]
    },
    {
      "cell_type": "code",
      "execution_count": null,
      "id": "24278b59",
      "metadata": {
        "id": "24278b59"
      },
      "outputs": [],
      "source": []
    },
    {
      "cell_type": "code",
      "execution_count": null,
      "id": "203ef353",
      "metadata": {
        "id": "203ef353"
      },
      "outputs": [],
      "source": [
        "# create a model object\n",
        "model = Model(inputs=mbnt.input, outputs=prediction)"
      ]
    },
    {
      "cell_type": "code",
      "execution_count": null,
      "id": "0c502cb2",
      "metadata": {
        "colab": {
          "base_uri": "https://localhost:8080/"
        },
        "id": "0c502cb2",
        "outputId": "f6204539-2d86-44bb-ccee-206ec474a63b"
      },
      "outputs": [
        {
          "output_type": "stream",
          "name": "stdout",
          "text": [
            "Model: \"model\"\n",
            "__________________________________________________________________________________________________\n",
            " Layer (type)                Output Shape                 Param #   Connected to                  \n",
            "==================================================================================================\n",
            " input_1 (InputLayer)        [(None, 224, 224, 3)]        0         []                            \n",
            "                                                                                                  \n",
            " Conv1 (Conv2D)              (None, 112, 112, 32)         864       ['input_1[0][0]']             \n",
            "                                                                                                  \n",
            " bn_Conv1 (BatchNormalizati  (None, 112, 112, 32)         128       ['Conv1[0][0]']               \n",
            " on)                                                                                              \n",
            "                                                                                                  \n",
            " Conv1_relu (ReLU)           (None, 112, 112, 32)         0         ['bn_Conv1[0][0]']            \n",
            "                                                                                                  \n",
            " expanded_conv_depthwise (D  (None, 112, 112, 32)         288       ['Conv1_relu[0][0]']          \n",
            " epthwiseConv2D)                                                                                  \n",
            "                                                                                                  \n",
            " expanded_conv_depthwise_BN  (None, 112, 112, 32)         128       ['expanded_conv_depthwise[0][0\n",
            "  (BatchNormalization)                                              ]']                           \n",
            "                                                                                                  \n",
            " expanded_conv_depthwise_re  (None, 112, 112, 32)         0         ['expanded_conv_depthwise_BN[0\n",
            " lu (ReLU)                                                          ][0]']                        \n",
            "                                                                                                  \n",
            " expanded_conv_project (Con  (None, 112, 112, 16)         512       ['expanded_conv_depthwise_relu\n",
            " v2D)                                                               [0][0]']                      \n",
            "                                                                                                  \n",
            " expanded_conv_project_BN (  (None, 112, 112, 16)         64        ['expanded_conv_project[0][0]'\n",
            " BatchNormalization)                                                ]                             \n",
            "                                                                                                  \n",
            " block_1_expand (Conv2D)     (None, 112, 112, 96)         1536      ['expanded_conv_project_BN[0][\n",
            "                                                                    0]']                          \n",
            "                                                                                                  \n",
            " block_1_expand_BN (BatchNo  (None, 112, 112, 96)         384       ['block_1_expand[0][0]']      \n",
            " rmalization)                                                                                     \n",
            "                                                                                                  \n",
            " block_1_expand_relu (ReLU)  (None, 112, 112, 96)         0         ['block_1_expand_BN[0][0]']   \n",
            "                                                                                                  \n",
            " block_1_pad (ZeroPadding2D  (None, 113, 113, 96)         0         ['block_1_expand_relu[0][0]'] \n",
            " )                                                                                                \n",
            "                                                                                                  \n",
            " block_1_depthwise (Depthwi  (None, 56, 56, 96)           864       ['block_1_pad[0][0]']         \n",
            " seConv2D)                                                                                        \n",
            "                                                                                                  \n",
            " block_1_depthwise_BN (Batc  (None, 56, 56, 96)           384       ['block_1_depthwise[0][0]']   \n",
            " hNormalization)                                                                                  \n",
            "                                                                                                  \n",
            " block_1_depthwise_relu (Re  (None, 56, 56, 96)           0         ['block_1_depthwise_BN[0][0]']\n",
            " LU)                                                                                              \n",
            "                                                                                                  \n",
            " block_1_project (Conv2D)    (None, 56, 56, 24)           2304      ['block_1_depthwise_relu[0][0]\n",
            "                                                                    ']                            \n",
            "                                                                                                  \n",
            " block_1_project_BN (BatchN  (None, 56, 56, 24)           96        ['block_1_project[0][0]']     \n",
            " ormalization)                                                                                    \n",
            "                                                                                                  \n",
            " block_2_expand (Conv2D)     (None, 56, 56, 144)          3456      ['block_1_project_BN[0][0]']  \n",
            "                                                                                                  \n",
            " block_2_expand_BN (BatchNo  (None, 56, 56, 144)          576       ['block_2_expand[0][0]']      \n",
            " rmalization)                                                                                     \n",
            "                                                                                                  \n",
            " block_2_expand_relu (ReLU)  (None, 56, 56, 144)          0         ['block_2_expand_BN[0][0]']   \n",
            "                                                                                                  \n",
            " block_2_depthwise (Depthwi  (None, 56, 56, 144)          1296      ['block_2_expand_relu[0][0]'] \n",
            " seConv2D)                                                                                        \n",
            "                                                                                                  \n",
            " block_2_depthwise_BN (Batc  (None, 56, 56, 144)          576       ['block_2_depthwise[0][0]']   \n",
            " hNormalization)                                                                                  \n",
            "                                                                                                  \n",
            " block_2_depthwise_relu (Re  (None, 56, 56, 144)          0         ['block_2_depthwise_BN[0][0]']\n",
            " LU)                                                                                              \n",
            "                                                                                                  \n",
            " block_2_project (Conv2D)    (None, 56, 56, 24)           3456      ['block_2_depthwise_relu[0][0]\n",
            "                                                                    ']                            \n",
            "                                                                                                  \n",
            " block_2_project_BN (BatchN  (None, 56, 56, 24)           96        ['block_2_project[0][0]']     \n",
            " ormalization)                                                                                    \n",
            "                                                                                                  \n",
            " block_2_add (Add)           (None, 56, 56, 24)           0         ['block_1_project_BN[0][0]',  \n",
            "                                                                     'block_2_project_BN[0][0]']  \n",
            "                                                                                                  \n",
            " block_3_expand (Conv2D)     (None, 56, 56, 144)          3456      ['block_2_add[0][0]']         \n",
            "                                                                                                  \n",
            " block_3_expand_BN (BatchNo  (None, 56, 56, 144)          576       ['block_3_expand[0][0]']      \n",
            " rmalization)                                                                                     \n",
            "                                                                                                  \n",
            " block_3_expand_relu (ReLU)  (None, 56, 56, 144)          0         ['block_3_expand_BN[0][0]']   \n",
            "                                                                                                  \n",
            " block_3_pad (ZeroPadding2D  (None, 57, 57, 144)          0         ['block_3_expand_relu[0][0]'] \n",
            " )                                                                                                \n",
            "                                                                                                  \n",
            " block_3_depthwise (Depthwi  (None, 28, 28, 144)          1296      ['block_3_pad[0][0]']         \n",
            " seConv2D)                                                                                        \n",
            "                                                                                                  \n",
            " block_3_depthwise_BN (Batc  (None, 28, 28, 144)          576       ['block_3_depthwise[0][0]']   \n",
            " hNormalization)                                                                                  \n",
            "                                                                                                  \n",
            " block_3_depthwise_relu (Re  (None, 28, 28, 144)          0         ['block_3_depthwise_BN[0][0]']\n",
            " LU)                                                                                              \n",
            "                                                                                                  \n",
            " block_3_project (Conv2D)    (None, 28, 28, 32)           4608      ['block_3_depthwise_relu[0][0]\n",
            "                                                                    ']                            \n",
            "                                                                                                  \n",
            " block_3_project_BN (BatchN  (None, 28, 28, 32)           128       ['block_3_project[0][0]']     \n",
            " ormalization)                                                                                    \n",
            "                                                                                                  \n",
            " block_4_expand (Conv2D)     (None, 28, 28, 192)          6144      ['block_3_project_BN[0][0]']  \n",
            "                                                                                                  \n",
            " block_4_expand_BN (BatchNo  (None, 28, 28, 192)          768       ['block_4_expand[0][0]']      \n",
            " rmalization)                                                                                     \n",
            "                                                                                                  \n",
            " block_4_expand_relu (ReLU)  (None, 28, 28, 192)          0         ['block_4_expand_BN[0][0]']   \n",
            "                                                                                                  \n",
            " block_4_depthwise (Depthwi  (None, 28, 28, 192)          1728      ['block_4_expand_relu[0][0]'] \n",
            " seConv2D)                                                                                        \n",
            "                                                                                                  \n",
            " block_4_depthwise_BN (Batc  (None, 28, 28, 192)          768       ['block_4_depthwise[0][0]']   \n",
            " hNormalization)                                                                                  \n",
            "                                                                                                  \n",
            " block_4_depthwise_relu (Re  (None, 28, 28, 192)          0         ['block_4_depthwise_BN[0][0]']\n",
            " LU)                                                                                              \n",
            "                                                                                                  \n",
            " block_4_project (Conv2D)    (None, 28, 28, 32)           6144      ['block_4_depthwise_relu[0][0]\n",
            "                                                                    ']                            \n",
            "                                                                                                  \n",
            " block_4_project_BN (BatchN  (None, 28, 28, 32)           128       ['block_4_project[0][0]']     \n",
            " ormalization)                                                                                    \n",
            "                                                                                                  \n",
            " block_4_add (Add)           (None, 28, 28, 32)           0         ['block_3_project_BN[0][0]',  \n",
            "                                                                     'block_4_project_BN[0][0]']  \n",
            "                                                                                                  \n",
            " block_5_expand (Conv2D)     (None, 28, 28, 192)          6144      ['block_4_add[0][0]']         \n",
            "                                                                                                  \n",
            " block_5_expand_BN (BatchNo  (None, 28, 28, 192)          768       ['block_5_expand[0][0]']      \n",
            " rmalization)                                                                                     \n",
            "                                                                                                  \n",
            " block_5_expand_relu (ReLU)  (None, 28, 28, 192)          0         ['block_5_expand_BN[0][0]']   \n",
            "                                                                                                  \n",
            " block_5_depthwise (Depthwi  (None, 28, 28, 192)          1728      ['block_5_expand_relu[0][0]'] \n",
            " seConv2D)                                                                                        \n",
            "                                                                                                  \n",
            " block_5_depthwise_BN (Batc  (None, 28, 28, 192)          768       ['block_5_depthwise[0][0]']   \n",
            " hNormalization)                                                                                  \n",
            "                                                                                                  \n",
            " block_5_depthwise_relu (Re  (None, 28, 28, 192)          0         ['block_5_depthwise_BN[0][0]']\n",
            " LU)                                                                                              \n",
            "                                                                                                  \n",
            " block_5_project (Conv2D)    (None, 28, 28, 32)           6144      ['block_5_depthwise_relu[0][0]\n",
            "                                                                    ']                            \n",
            "                                                                                                  \n",
            " block_5_project_BN (BatchN  (None, 28, 28, 32)           128       ['block_5_project[0][0]']     \n",
            " ormalization)                                                                                    \n",
            "                                                                                                  \n",
            " block_5_add (Add)           (None, 28, 28, 32)           0         ['block_4_add[0][0]',         \n",
            "                                                                     'block_5_project_BN[0][0]']  \n",
            "                                                                                                  \n",
            " block_6_expand (Conv2D)     (None, 28, 28, 192)          6144      ['block_5_add[0][0]']         \n",
            "                                                                                                  \n",
            " block_6_expand_BN (BatchNo  (None, 28, 28, 192)          768       ['block_6_expand[0][0]']      \n",
            " rmalization)                                                                                     \n",
            "                                                                                                  \n",
            " block_6_expand_relu (ReLU)  (None, 28, 28, 192)          0         ['block_6_expand_BN[0][0]']   \n",
            "                                                                                                  \n",
            " block_6_pad (ZeroPadding2D  (None, 29, 29, 192)          0         ['block_6_expand_relu[0][0]'] \n",
            " )                                                                                                \n",
            "                                                                                                  \n",
            " block_6_depthwise (Depthwi  (None, 14, 14, 192)          1728      ['block_6_pad[0][0]']         \n",
            " seConv2D)                                                                                        \n",
            "                                                                                                  \n",
            " block_6_depthwise_BN (Batc  (None, 14, 14, 192)          768       ['block_6_depthwise[0][0]']   \n",
            " hNormalization)                                                                                  \n",
            "                                                                                                  \n",
            " block_6_depthwise_relu (Re  (None, 14, 14, 192)          0         ['block_6_depthwise_BN[0][0]']\n",
            " LU)                                                                                              \n",
            "                                                                                                  \n",
            " block_6_project (Conv2D)    (None, 14, 14, 64)           12288     ['block_6_depthwise_relu[0][0]\n",
            "                                                                    ']                            \n",
            "                                                                                                  \n",
            " block_6_project_BN (BatchN  (None, 14, 14, 64)           256       ['block_6_project[0][0]']     \n",
            " ormalization)                                                                                    \n",
            "                                                                                                  \n",
            " block_7_expand (Conv2D)     (None, 14, 14, 384)          24576     ['block_6_project_BN[0][0]']  \n",
            "                                                                                                  \n",
            " block_7_expand_BN (BatchNo  (None, 14, 14, 384)          1536      ['block_7_expand[0][0]']      \n",
            " rmalization)                                                                                     \n",
            "                                                                                                  \n",
            " block_7_expand_relu (ReLU)  (None, 14, 14, 384)          0         ['block_7_expand_BN[0][0]']   \n",
            "                                                                                                  \n",
            " block_7_depthwise (Depthwi  (None, 14, 14, 384)          3456      ['block_7_expand_relu[0][0]'] \n",
            " seConv2D)                                                                                        \n",
            "                                                                                                  \n",
            " block_7_depthwise_BN (Batc  (None, 14, 14, 384)          1536      ['block_7_depthwise[0][0]']   \n",
            " hNormalization)                                                                                  \n",
            "                                                                                                  \n",
            " block_7_depthwise_relu (Re  (None, 14, 14, 384)          0         ['block_7_depthwise_BN[0][0]']\n",
            " LU)                                                                                              \n",
            "                                                                                                  \n",
            " block_7_project (Conv2D)    (None, 14, 14, 64)           24576     ['block_7_depthwise_relu[0][0]\n",
            "                                                                    ']                            \n",
            "                                                                                                  \n",
            " block_7_project_BN (BatchN  (None, 14, 14, 64)           256       ['block_7_project[0][0]']     \n",
            " ormalization)                                                                                    \n",
            "                                                                                                  \n",
            " block_7_add (Add)           (None, 14, 14, 64)           0         ['block_6_project_BN[0][0]',  \n",
            "                                                                     'block_7_project_BN[0][0]']  \n",
            "                                                                                                  \n",
            " block_8_expand (Conv2D)     (None, 14, 14, 384)          24576     ['block_7_add[0][0]']         \n",
            "                                                                                                  \n",
            " block_8_expand_BN (BatchNo  (None, 14, 14, 384)          1536      ['block_8_expand[0][0]']      \n",
            " rmalization)                                                                                     \n",
            "                                                                                                  \n",
            " block_8_expand_relu (ReLU)  (None, 14, 14, 384)          0         ['block_8_expand_BN[0][0]']   \n",
            "                                                                                                  \n",
            " block_8_depthwise (Depthwi  (None, 14, 14, 384)          3456      ['block_8_expand_relu[0][0]'] \n",
            " seConv2D)                                                                                        \n",
            "                                                                                                  \n",
            " block_8_depthwise_BN (Batc  (None, 14, 14, 384)          1536      ['block_8_depthwise[0][0]']   \n",
            " hNormalization)                                                                                  \n",
            "                                                                                                  \n",
            " block_8_depthwise_relu (Re  (None, 14, 14, 384)          0         ['block_8_depthwise_BN[0][0]']\n",
            " LU)                                                                                              \n",
            "                                                                                                  \n",
            " block_8_project (Conv2D)    (None, 14, 14, 64)           24576     ['block_8_depthwise_relu[0][0]\n",
            "                                                                    ']                            \n",
            "                                                                                                  \n",
            " block_8_project_BN (BatchN  (None, 14, 14, 64)           256       ['block_8_project[0][0]']     \n",
            " ormalization)                                                                                    \n",
            "                                                                                                  \n",
            " block_8_add (Add)           (None, 14, 14, 64)           0         ['block_7_add[0][0]',         \n",
            "                                                                     'block_8_project_BN[0][0]']  \n",
            "                                                                                                  \n",
            " block_9_expand (Conv2D)     (None, 14, 14, 384)          24576     ['block_8_add[0][0]']         \n",
            "                                                                                                  \n",
            " block_9_expand_BN (BatchNo  (None, 14, 14, 384)          1536      ['block_9_expand[0][0]']      \n",
            " rmalization)                                                                                     \n",
            "                                                                                                  \n",
            " block_9_expand_relu (ReLU)  (None, 14, 14, 384)          0         ['block_9_expand_BN[0][0]']   \n",
            "                                                                                                  \n",
            " block_9_depthwise (Depthwi  (None, 14, 14, 384)          3456      ['block_9_expand_relu[0][0]'] \n",
            " seConv2D)                                                                                        \n",
            "                                                                                                  \n",
            " block_9_depthwise_BN (Batc  (None, 14, 14, 384)          1536      ['block_9_depthwise[0][0]']   \n",
            " hNormalization)                                                                                  \n",
            "                                                                                                  \n",
            " block_9_depthwise_relu (Re  (None, 14, 14, 384)          0         ['block_9_depthwise_BN[0][0]']\n",
            " LU)                                                                                              \n",
            "                                                                                                  \n",
            " block_9_project (Conv2D)    (None, 14, 14, 64)           24576     ['block_9_depthwise_relu[0][0]\n",
            "                                                                    ']                            \n",
            "                                                                                                  \n",
            " block_9_project_BN (BatchN  (None, 14, 14, 64)           256       ['block_9_project[0][0]']     \n",
            " ormalization)                                                                                    \n",
            "                                                                                                  \n",
            " block_9_add (Add)           (None, 14, 14, 64)           0         ['block_8_add[0][0]',         \n",
            "                                                                     'block_9_project_BN[0][0]']  \n",
            "                                                                                                  \n",
            " block_10_expand (Conv2D)    (None, 14, 14, 384)          24576     ['block_9_add[0][0]']         \n",
            "                                                                                                  \n",
            " block_10_expand_BN (BatchN  (None, 14, 14, 384)          1536      ['block_10_expand[0][0]']     \n",
            " ormalization)                                                                                    \n",
            "                                                                                                  \n",
            " block_10_expand_relu (ReLU  (None, 14, 14, 384)          0         ['block_10_expand_BN[0][0]']  \n",
            " )                                                                                                \n",
            "                                                                                                  \n",
            " block_10_depthwise (Depthw  (None, 14, 14, 384)          3456      ['block_10_expand_relu[0][0]']\n",
            " iseConv2D)                                                                                       \n",
            "                                                                                                  \n",
            " block_10_depthwise_BN (Bat  (None, 14, 14, 384)          1536      ['block_10_depthwise[0][0]']  \n",
            " chNormalization)                                                                                 \n",
            "                                                                                                  \n",
            " block_10_depthwise_relu (R  (None, 14, 14, 384)          0         ['block_10_depthwise_BN[0][0]'\n",
            " eLU)                                                               ]                             \n",
            "                                                                                                  \n",
            " block_10_project (Conv2D)   (None, 14, 14, 96)           36864     ['block_10_depthwise_relu[0][0\n",
            "                                                                    ]']                           \n",
            "                                                                                                  \n",
            " block_10_project_BN (Batch  (None, 14, 14, 96)           384       ['block_10_project[0][0]']    \n",
            " Normalization)                                                                                   \n",
            "                                                                                                  \n",
            " block_11_expand (Conv2D)    (None, 14, 14, 576)          55296     ['block_10_project_BN[0][0]'] \n",
            "                                                                                                  \n",
            " block_11_expand_BN (BatchN  (None, 14, 14, 576)          2304      ['block_11_expand[0][0]']     \n",
            " ormalization)                                                                                    \n",
            "                                                                                                  \n",
            " block_11_expand_relu (ReLU  (None, 14, 14, 576)          0         ['block_11_expand_BN[0][0]']  \n",
            " )                                                                                                \n",
            "                                                                                                  \n",
            " block_11_depthwise (Depthw  (None, 14, 14, 576)          5184      ['block_11_expand_relu[0][0]']\n",
            " iseConv2D)                                                                                       \n",
            "                                                                                                  \n",
            " block_11_depthwise_BN (Bat  (None, 14, 14, 576)          2304      ['block_11_depthwise[0][0]']  \n",
            " chNormalization)                                                                                 \n",
            "                                                                                                  \n",
            " block_11_depthwise_relu (R  (None, 14, 14, 576)          0         ['block_11_depthwise_BN[0][0]'\n",
            " eLU)                                                               ]                             \n",
            "                                                                                                  \n",
            " block_11_project (Conv2D)   (None, 14, 14, 96)           55296     ['block_11_depthwise_relu[0][0\n",
            "                                                                    ]']                           \n",
            "                                                                                                  \n",
            " block_11_project_BN (Batch  (None, 14, 14, 96)           384       ['block_11_project[0][0]']    \n",
            " Normalization)                                                                                   \n",
            "                                                                                                  \n",
            " block_11_add (Add)          (None, 14, 14, 96)           0         ['block_10_project_BN[0][0]', \n",
            "                                                                     'block_11_project_BN[0][0]'] \n",
            "                                                                                                  \n",
            " block_12_expand (Conv2D)    (None, 14, 14, 576)          55296     ['block_11_add[0][0]']        \n",
            "                                                                                                  \n",
            " block_12_expand_BN (BatchN  (None, 14, 14, 576)          2304      ['block_12_expand[0][0]']     \n",
            " ormalization)                                                                                    \n",
            "                                                                                                  \n",
            " block_12_expand_relu (ReLU  (None, 14, 14, 576)          0         ['block_12_expand_BN[0][0]']  \n",
            " )                                                                                                \n",
            "                                                                                                  \n",
            " block_12_depthwise (Depthw  (None, 14, 14, 576)          5184      ['block_12_expand_relu[0][0]']\n",
            " iseConv2D)                                                                                       \n",
            "                                                                                                  \n",
            " block_12_depthwise_BN (Bat  (None, 14, 14, 576)          2304      ['block_12_depthwise[0][0]']  \n",
            " chNormalization)                                                                                 \n",
            "                                                                                                  \n",
            " block_12_depthwise_relu (R  (None, 14, 14, 576)          0         ['block_12_depthwise_BN[0][0]'\n",
            " eLU)                                                               ]                             \n",
            "                                                                                                  \n",
            " block_12_project (Conv2D)   (None, 14, 14, 96)           55296     ['block_12_depthwise_relu[0][0\n",
            "                                                                    ]']                           \n",
            "                                                                                                  \n",
            " block_12_project_BN (Batch  (None, 14, 14, 96)           384       ['block_12_project[0][0]']    \n",
            " Normalization)                                                                                   \n",
            "                                                                                                  \n",
            " block_12_add (Add)          (None, 14, 14, 96)           0         ['block_11_add[0][0]',        \n",
            "                                                                     'block_12_project_BN[0][0]'] \n",
            "                                                                                                  \n",
            " block_13_expand (Conv2D)    (None, 14, 14, 576)          55296     ['block_12_add[0][0]']        \n",
            "                                                                                                  \n",
            " block_13_expand_BN (BatchN  (None, 14, 14, 576)          2304      ['block_13_expand[0][0]']     \n",
            " ormalization)                                                                                    \n",
            "                                                                                                  \n",
            " block_13_expand_relu (ReLU  (None, 14, 14, 576)          0         ['block_13_expand_BN[0][0]']  \n",
            " )                                                                                                \n",
            "                                                                                                  \n",
            " block_13_pad (ZeroPadding2  (None, 15, 15, 576)          0         ['block_13_expand_relu[0][0]']\n",
            " D)                                                                                               \n",
            "                                                                                                  \n",
            " block_13_depthwise (Depthw  (None, 7, 7, 576)            5184      ['block_13_pad[0][0]']        \n",
            " iseConv2D)                                                                                       \n",
            "                                                                                                  \n",
            " block_13_depthwise_BN (Bat  (None, 7, 7, 576)            2304      ['block_13_depthwise[0][0]']  \n",
            " chNormalization)                                                                                 \n",
            "                                                                                                  \n",
            " block_13_depthwise_relu (R  (None, 7, 7, 576)            0         ['block_13_depthwise_BN[0][0]'\n",
            " eLU)                                                               ]                             \n",
            "                                                                                                  \n",
            " block_13_project (Conv2D)   (None, 7, 7, 160)            92160     ['block_13_depthwise_relu[0][0\n",
            "                                                                    ]']                           \n",
            "                                                                                                  \n",
            " block_13_project_BN (Batch  (None, 7, 7, 160)            640       ['block_13_project[0][0]']    \n",
            " Normalization)                                                                                   \n",
            "                                                                                                  \n",
            " block_14_expand (Conv2D)    (None, 7, 7, 960)            153600    ['block_13_project_BN[0][0]'] \n",
            "                                                                                                  \n",
            " block_14_expand_BN (BatchN  (None, 7, 7, 960)            3840      ['block_14_expand[0][0]']     \n",
            " ormalization)                                                                                    \n",
            "                                                                                                  \n",
            " block_14_expand_relu (ReLU  (None, 7, 7, 960)            0         ['block_14_expand_BN[0][0]']  \n",
            " )                                                                                                \n",
            "                                                                                                  \n",
            " block_14_depthwise (Depthw  (None, 7, 7, 960)            8640      ['block_14_expand_relu[0][0]']\n",
            " iseConv2D)                                                                                       \n",
            "                                                                                                  \n",
            " block_14_depthwise_BN (Bat  (None, 7, 7, 960)            3840      ['block_14_depthwise[0][0]']  \n",
            " chNormalization)                                                                                 \n",
            "                                                                                                  \n",
            " block_14_depthwise_relu (R  (None, 7, 7, 960)            0         ['block_14_depthwise_BN[0][0]'\n",
            " eLU)                                                               ]                             \n",
            "                                                                                                  \n",
            " block_14_project (Conv2D)   (None, 7, 7, 160)            153600    ['block_14_depthwise_relu[0][0\n",
            "                                                                    ]']                           \n",
            "                                                                                                  \n",
            " block_14_project_BN (Batch  (None, 7, 7, 160)            640       ['block_14_project[0][0]']    \n",
            " Normalization)                                                                                   \n",
            "                                                                                                  \n",
            " block_14_add (Add)          (None, 7, 7, 160)            0         ['block_13_project_BN[0][0]', \n",
            "                                                                     'block_14_project_BN[0][0]'] \n",
            "                                                                                                  \n",
            " block_15_expand (Conv2D)    (None, 7, 7, 960)            153600    ['block_14_add[0][0]']        \n",
            "                                                                                                  \n",
            " block_15_expand_BN (BatchN  (None, 7, 7, 960)            3840      ['block_15_expand[0][0]']     \n",
            " ormalization)                                                                                    \n",
            "                                                                                                  \n",
            " block_15_expand_relu (ReLU  (None, 7, 7, 960)            0         ['block_15_expand_BN[0][0]']  \n",
            " )                                                                                                \n",
            "                                                                                                  \n",
            " block_15_depthwise (Depthw  (None, 7, 7, 960)            8640      ['block_15_expand_relu[0][0]']\n",
            " iseConv2D)                                                                                       \n",
            "                                                                                                  \n",
            " block_15_depthwise_BN (Bat  (None, 7, 7, 960)            3840      ['block_15_depthwise[0][0]']  \n",
            " chNormalization)                                                                                 \n",
            "                                                                                                  \n",
            " block_15_depthwise_relu (R  (None, 7, 7, 960)            0         ['block_15_depthwise_BN[0][0]'\n",
            " eLU)                                                               ]                             \n",
            "                                                                                                  \n",
            " block_15_project (Conv2D)   (None, 7, 7, 160)            153600    ['block_15_depthwise_relu[0][0\n",
            "                                                                    ]']                           \n",
            "                                                                                                  \n",
            " block_15_project_BN (Batch  (None, 7, 7, 160)            640       ['block_15_project[0][0]']    \n",
            " Normalization)                                                                                   \n",
            "                                                                                                  \n",
            " block_15_add (Add)          (None, 7, 7, 160)            0         ['block_14_add[0][0]',        \n",
            "                                                                     'block_15_project_BN[0][0]'] \n",
            "                                                                                                  \n",
            " block_16_expand (Conv2D)    (None, 7, 7, 960)            153600    ['block_15_add[0][0]']        \n",
            "                                                                                                  \n",
            " block_16_expand_BN (BatchN  (None, 7, 7, 960)            3840      ['block_16_expand[0][0]']     \n",
            " ormalization)                                                                                    \n",
            "                                                                                                  \n",
            " block_16_expand_relu (ReLU  (None, 7, 7, 960)            0         ['block_16_expand_BN[0][0]']  \n",
            " )                                                                                                \n",
            "                                                                                                  \n",
            " block_16_depthwise (Depthw  (None, 7, 7, 960)            8640      ['block_16_expand_relu[0][0]']\n",
            " iseConv2D)                                                                                       \n",
            "                                                                                                  \n",
            " block_16_depthwise_BN (Bat  (None, 7, 7, 960)            3840      ['block_16_depthwise[0][0]']  \n",
            " chNormalization)                                                                                 \n",
            "                                                                                                  \n",
            " block_16_depthwise_relu (R  (None, 7, 7, 960)            0         ['block_16_depthwise_BN[0][0]'\n",
            " eLU)                                                               ]                             \n",
            "                                                                                                  \n",
            " block_16_project (Conv2D)   (None, 7, 7, 320)            307200    ['block_16_depthwise_relu[0][0\n",
            "                                                                    ]']                           \n",
            "                                                                                                  \n",
            " block_16_project_BN (Batch  (None, 7, 7, 320)            1280      ['block_16_project[0][0]']    \n",
            " Normalization)                                                                                   \n",
            "                                                                                                  \n",
            " Conv_1 (Conv2D)             (None, 7, 7, 1280)           409600    ['block_16_project_BN[0][0]'] \n",
            "                                                                                                  \n",
            " Conv_1_bn (BatchNormalizat  (None, 7, 7, 1280)           5120      ['Conv_1[0][0]']              \n",
            " ion)                                                                                             \n",
            "                                                                                                  \n",
            " out_relu (ReLU)             (None, 7, 7, 1280)           0         ['Conv_1_bn[0][0]']           \n",
            "                                                                                                  \n",
            " flatten (Flatten)           (None, 62720)                0         ['out_relu[0][0]']            \n",
            "                                                                                                  \n",
            " dense (Dense)               (None, 200)                  1254420   ['flatten[0][0]']             \n",
            "                                                          0                                       \n",
            "                                                                                                  \n",
            " dense_1 (Dense)             (None, 100)                  20100     ['dense[0][0]']               \n",
            "                                                                                                  \n",
            " dense_2 (Dense)             (None, 2)                    202       ['dense_1[0][0]']             \n",
            "                                                                                                  \n",
            "==================================================================================================\n",
            "Total params: 14822486 (56.54 MB)\n",
            "Trainable params: 12564502 (47.93 MB)\n",
            "Non-trainable params: 2257984 (8.61 MB)\n",
            "__________________________________________________________________________________________________\n"
          ]
        }
      ],
      "source": [
        "# view the structure of the model\n",
        "model.summary()\n"
      ]
    },
    {
      "cell_type": "code",
      "execution_count": null,
      "id": "d5bc5fe7",
      "metadata": {
        "id": "d5bc5fe7"
      },
      "outputs": [],
      "source": [
        "model.compile(\n",
        "  loss='categorical_crossentropy',\n",
        "  optimizer='adam',\n",
        "  metrics=['accuracy']\n",
        ")"
      ]
    },
    {
      "cell_type": "code",
      "execution_count": null,
      "id": "8928f2d7",
      "metadata": {
        "colab": {
          "base_uri": "https://localhost:8080/"
        },
        "id": "8928f2d7",
        "outputId": "257a5ca7-c2b4-46d2-9704-18d87bd01c85"
      },
      "outputs": [
        {
          "output_type": "stream",
          "name": "stdout",
          "text": [
            "Found 144 images belonging to 2 classes.\n",
            "Found 72 images belonging to 2 classes.\n"
          ]
        }
      ],
      "source": [
        "from keras.preprocessing.image import ImageDataGenerator\n",
        "\n",
        "train_datagen = ImageDataGenerator(rescale = 1./255,\n",
        "                                   shear_range = 0.2,\n",
        "                                   zoom_range = 0.2,\n",
        "                                   horizontal_flip = True)\n",
        "\n",
        "test_datagen = ImageDataGenerator(rescale = 1./255)\n",
        "\n",
        "training_set = train_datagen.flow_from_directory('/content/drive/MyDrive/CatractImagesMobileNet/dataset2/GlaucomaDataset/Training-Dataset/',\n",
        "                                                 target_size = (224, 224),\n",
        "                                                 batch_size = 32,\n",
        "                                                 class_mode = 'categorical')\n",
        "\n",
        "test_set = test_datagen.flow_from_directory('/content/drive/MyDrive/CatractImagesMobileNet/dataset2/GlaucomaDataset/Test-Dataset/',\n",
        "                                            target_size = (224, 224),\n",
        "                                            batch_size = 32,\n",
        "                                            class_mode = 'categorical')"
      ]
    },
    {
      "cell_type": "code",
      "execution_count": null,
      "id": "9281fa52",
      "metadata": {
        "colab": {
          "base_uri": "https://localhost:8080/"
        },
        "id": "9281fa52",
        "outputId": "9857d13b-7b06-4a97-88ec-50fd8625323d"
      },
      "outputs": [
        {
          "output_type": "stream",
          "name": "stdout",
          "text": [
            "/content/drive/MyDrive/CatractImagesMobileNet/dataset2/GlaucomaDataset/Test-Dataset/normal\n",
            "/content/drive/MyDrive/CatractImagesMobileNet/dataset2/GlaucomaDataset/Test-Dataset/glaucoma\n",
            "['/content/drive/MyDrive/CatractImagesMobileNet/dataset2/GlaucomaDataset/Test-Dataset/glaucoma', '/content/drive/MyDrive/CatractImagesMobileNet/dataset2/GlaucomaDataset/Test-Dataset/normal']\n"
          ]
        }
      ],
      "source": [
        "import os\n",
        "cats=[]\n",
        "cat=[]\n",
        "for path, currentDirectory, files in os.walk(\"/content/drive/MyDrive/CatractImagesMobileNet/dataset2/GlaucomaDataset/Test-Dataset\"):\n",
        "    for file in files:\n",
        "        #print(os.path.join(path, file))\n",
        "        #print(file)\n",
        "        cats=path.split(\"\\\\\")\n",
        "        cats=cats[len(cats)-1]\n",
        "        if cats not in cat:\n",
        "            cat.append(cats)\n",
        "            print(cats)\n",
        "cat.sort()\n",
        "print(cat)\n",
        "\n",
        "#images,cls = next(test_set)\n",
        "\n"
      ]
    },
    {
      "cell_type": "code",
      "execution_count": null,
      "id": "0949ed3e",
      "metadata": {
        "id": "0949ed3e"
      },
      "outputs": [],
      "source": [
        "#plt.imshow(images[3])\n",
        "#plt.savefig('D:\\\\imageeee.png')\n",
        "#print(\"ok\")\n",
        "#plt.show()"
      ]
    },
    {
      "cell_type": "code",
      "execution_count": null,
      "id": "14bdb1b2",
      "metadata": {
        "colab": {
          "base_uri": "https://localhost:8080/"
        },
        "id": "14bdb1b2",
        "outputId": "fa2e5767-f8cd-4051-8014-334ce46eb49b"
      },
      "outputs": [
        {
          "output_type": "execute_result",
          "data": {
            "text/plain": [
              "3"
            ]
          },
          "metadata": {},
          "execution_count": 15
        }
      ],
      "source": [
        "len(test_set)"
      ]
    },
    {
      "cell_type": "code",
      "execution_count": null,
      "id": "8f1d7de4",
      "metadata": {
        "colab": {
          "base_uri": "https://localhost:8080/"
        },
        "id": "8f1d7de4",
        "outputId": "b5c60d1e-c5b0-409e-de35-fecb2fcbf6d5"
      },
      "outputs": [
        {
          "output_type": "stream",
          "name": "stdout",
          "text": [
            "Epoch 1/20\n",
            "5/5 [==============================] - 75s 14s/step - loss: 10.9206 - accuracy: 0.5139 - val_loss: 3.4288 - val_accuracy: 0.5972\n",
            "Epoch 2/20\n",
            "5/5 [==============================] - 3s 568ms/step - loss: 2.4298 - accuracy: 0.7153 - val_loss: 2.5923 - val_accuracy: 0.6944\n",
            "Epoch 3/20\n",
            "5/5 [==============================] - 3s 597ms/step - loss: 1.0453 - accuracy: 0.8056 - val_loss: 0.9933 - val_accuracy: 0.8056\n",
            "Epoch 4/20\n",
            "5/5 [==============================] - 4s 847ms/step - loss: 0.5264 - accuracy: 0.8750 - val_loss: 0.6618 - val_accuracy: 0.8194\n",
            "Epoch 5/20\n",
            "5/5 [==============================] - 3s 618ms/step - loss: 0.1768 - accuracy: 0.9514 - val_loss: 0.5350 - val_accuracy: 0.8611\n",
            "Epoch 6/20\n",
            "5/5 [==============================] - 3s 605ms/step - loss: 0.0142 - accuracy: 0.9931 - val_loss: 0.8811 - val_accuracy: 0.8333\n",
            "Epoch 7/20\n",
            "5/5 [==============================] - 3s 655ms/step - loss: 0.0309 - accuracy: 0.9931 - val_loss: 0.6264 - val_accuracy: 0.8472\n",
            "Epoch 8/20\n",
            "5/5 [==============================] - 3s 673ms/step - loss: 0.0691 - accuracy: 0.9861 - val_loss: 1.1422 - val_accuracy: 0.7639\n",
            "Epoch 9/20\n",
            "5/5 [==============================] - 3s 484ms/step - loss: 0.0542 - accuracy: 0.9861 - val_loss: 0.0903 - val_accuracy: 0.9444\n",
            "Epoch 10/20\n",
            "5/5 [==============================] - 3s 684ms/step - loss: 0.0632 - accuracy: 0.9792 - val_loss: 0.1029 - val_accuracy: 0.9583\n",
            "Epoch 11/20\n",
            "5/5 [==============================] - 3s 559ms/step - loss: 0.1160 - accuracy: 0.9861 - val_loss: 0.8087 - val_accuracy: 0.8056\n",
            "Epoch 12/20\n",
            "5/5 [==============================] - 3s 605ms/step - loss: 9.7037e-04 - accuracy: 1.0000 - val_loss: 1.0046 - val_accuracy: 0.7917\n",
            "Epoch 13/20\n",
            "5/5 [==============================] - 4s 741ms/step - loss: 0.0317 - accuracy: 0.9931 - val_loss: 0.1113 - val_accuracy: 0.9444\n",
            "Epoch 14/20\n",
            "5/5 [==============================] - 3s 643ms/step - loss: 0.0196 - accuracy: 0.9931 - val_loss: 0.3892 - val_accuracy: 0.9028\n",
            "Epoch 15/20\n",
            "5/5 [==============================] - 3s 576ms/step - loss: 0.0021 - accuracy: 1.0000 - val_loss: 1.2652 - val_accuracy: 0.7500\n",
            "Epoch 16/20\n",
            "5/5 [==============================] - 3s 571ms/step - loss: 0.0211 - accuracy: 0.9931 - val_loss: 0.6188 - val_accuracy: 0.8194\n",
            "Epoch 17/20\n",
            "5/5 [==============================] - 4s 781ms/step - loss: 4.8616e-04 - accuracy: 1.0000 - val_loss: 0.0926 - val_accuracy: 0.9722\n",
            "Epoch 18/20\n",
            "5/5 [==============================] - 2s 497ms/step - loss: 0.0165 - accuracy: 0.9931 - val_loss: 0.2654 - val_accuracy: 0.9444\n",
            "Epoch 19/20\n",
            "5/5 [==============================] - 3s 507ms/step - loss: 0.0226 - accuracy: 0.9931 - val_loss: 2.6777 - val_accuracy: 0.6528\n",
            "Epoch 20/20\n",
            "5/5 [==============================] - 2s 493ms/step - loss: 0.0775 - accuracy: 0.9792 - val_loss: 0.1706 - val_accuracy: 0.9444\n"
          ]
        }
      ],
      "source": [
        "# fit the model\n",
        "r = model.fit(\n",
        "  training_set,\n",
        "  validation_data=test_set,\n",
        "  epochs=20,\n",
        "  steps_per_epoch=len(training_set),\n",
        "  validation_steps=len(test_set)\n",
        ")"
      ]
    },
    {
      "cell_type": "code",
      "execution_count": null,
      "id": "5b6b92e2",
      "metadata": {
        "colab": {
          "base_uri": "https://localhost:8080/",
          "height": 430
        },
        "id": "5b6b92e2",
        "outputId": "f7758ff6-590a-4af0-95b8-78e342224509"
      },
      "outputs": [
        {
          "output_type": "display_data",
          "data": {
            "text/plain": [
              "<Figure size 640x480 with 1 Axes>"
            ],
            "image/png": "[encoded data removed]"
          },
          "metadata": {}
        }
      ],
      "source": [
        "# loss\n",
        "plt.plot(r.history['loss'], label='train loss')\n",
        "plt.plot(r.history['val_loss'], label='val loss')\n",
        "plt.legend()\n",
        "plt.show()\n",
        "#plt.savefig('LossVal_loss')"
      ]
    },
    {
      "cell_type": "code",
      "execution_count": null,
      "id": "9221b340",
      "metadata": {
        "colab": {
          "base_uri": "https://localhost:8080/",
          "height": 430
        },
        "id": "9221b340",
        "outputId": "5c2c6f4d-9d90-4c66-a798-7173bb9bd4dc"
      },
      "outputs": [
        {
          "output_type": "display_data",
          "data": {
            "text/plain": [
              "<Figure size 640x480 with 1 Axes>"
            ],
            "image/png": "[encoded data removed]"
          },
          "metadata": {}
        }
      ],
      "source": [
        "# accuracies\n",
        "plt.plot(r.history['accuracy'], label='train acc')\n",
        "plt.plot(r.history['val_accuracy'], label='val acc')\n",
        "plt.legend()\n",
        "plt.show()\n",
        "#plt.savefig('AccVal_acc')"
      ]
    },
    {
      "cell_type": "code",
      "execution_count": null,
      "id": "548eb945",
      "metadata": {
        "id": "548eb945"
      },
      "outputs": [],
      "source": [
        "model.save(\"/content/drive/MyDrive/CatractImagesMobileNet/dataset2/MobileV2GalucumaModel.h4\")"
      ]
    },
    {
      "cell_type": "code",
      "execution_count": null,
      "id": "d8dfe263",
      "metadata": {
        "colab": {
          "base_uri": "https://localhost:8080/"
        },
        "id": "d8dfe263",
        "outputId": "e63613cb-8fbd-4443-ef74-84a92110a910"
      },
      "outputs": [
        {
          "output_type": "stream",
          "name": "stdout",
          "text": [
            "/content/drive/MyDrive/CatractImagesMobileNet/dataset2/GlaucomaDataset/Test-Dataset/glaucoma/_57_1814825.jpg\n",
            "Found 1 images belonging to 2 classes.\n",
            "1/1 [==============================] - 2s 2s/step\n",
            "Actual: 0 predicted: 0\n",
            "/content/drive/MyDrive/CatractImagesMobileNet/dataset2/GlaucomaDataset/Test-Dataset/glaucoma/_69_5362173.jpg\n",
            "Found 1 images belonging to 2 classes.\n",
            "1/1 [==============================] - 0s 39ms/step\n",
            "Actual: 0 predicted: 0\n",
            "/content/drive/MyDrive/CatractImagesMobileNet/dataset2/GlaucomaDataset/Test-Dataset/glaucoma/_56_7014018.jpg\n",
            "Found 1 images belonging to 2 classes.\n",
            "1/1 [==============================] - 0s 40ms/step\n",
            "Actual: 0 predicted: 0\n",
            "/content/drive/MyDrive/CatractImagesMobileNet/dataset2/GlaucomaDataset/Test-Dataset/glaucoma/_67_5997765.jpg\n",
            "Found 1 images belonging to 2 classes.\n",
            "1/1 [==============================] - 0s 38ms/step\n",
            "Actual: 0 predicted: 0\n",
            "/content/drive/MyDrive/CatractImagesMobileNet/dataset2/GlaucomaDataset/Test-Dataset/glaucoma/_60_3287251.jpg\n",
            "Found 1 images belonging to 2 classes.\n",
            "1/1 [==============================] - 0s 36ms/step\n",
            "Actual: 0 predicted: 0\n",
            "/content/drive/MyDrive/CatractImagesMobileNet/dataset2/GlaucomaDataset/Test-Dataset/glaucoma/_61_1340813.jpg\n",
            "Found 1 images belonging to 2 classes.\n",
            "1/1 [==============================] - 0s 40ms/step\n",
            "Actual: 0 predicted: 0\n",
            "/content/drive/MyDrive/CatractImagesMobileNet/dataset2/GlaucomaDataset/Test-Dataset/glaucoma/_73_1527609.jpg\n",
            "Found 1 images belonging to 2 classes.\n",
            "1/1 [==============================] - 0s 44ms/step\n",
            "Actual: 0 predicted: 0\n",
            "/content/drive/MyDrive/CatractImagesMobileNet/dataset2/GlaucomaDataset/Test-Dataset/glaucoma/_72_3474284.jpg\n",
            "Found 1 images belonging to 2 classes.\n",
            "1/1 [==============================] - 0s 37ms/step\n",
            "Actual: 0 predicted: 0\n",
            "/content/drive/MyDrive/CatractImagesMobileNet/dataset2/GlaucomaDataset/Test-Dataset/glaucoma/_62_3878139.jpg\n",
            "Found 1 images belonging to 2 classes.\n",
            "1/1 [==============================] - 0s 36ms/step\n",
            "Actual: 0 predicted: 0\n",
            "/content/drive/MyDrive/CatractImagesMobileNet/dataset2/GlaucomaDataset/Test-Dataset/glaucoma/_55_1027321.jpg\n",
            "Found 1 images belonging to 2 classes.\n",
            "1/1 [==============================] - 0s 36ms/step\n",
            "Actual: 0 predicted: 0\n",
            "/content/drive/MyDrive/CatractImagesMobileNet/dataset2/GlaucomaDataset/Test-Dataset/glaucoma/_52_3659415.jpg\n",
            "Found 1 images belonging to 2 classes.\n",
            "1/1 [==============================] - 0s 36ms/step\n",
            "Actual: 0 predicted: 0\n",
            "/content/drive/MyDrive/CatractImagesMobileNet/dataset2/GlaucomaDataset/Test-Dataset/glaucoma/_52_3379279.jpg\n",
            "Found 1 images belonging to 2 classes.\n",
            "1/1 [==============================] - 0s 40ms/step\n",
            "Actual: 0 predicted: 1\n",
            "/content/drive/MyDrive/CatractImagesMobileNet/dataset2/GlaucomaDataset/Test-Dataset/glaucoma/_48_5270520.jpg\n",
            "Found 1 images belonging to 2 classes.\n",
            "1/1 [==============================] - 0s 37ms/step\n",
            "Actual: 0 predicted: 0\n",
            "/content/drive/MyDrive/CatractImagesMobileNet/dataset2/GlaucomaDataset/Test-Dataset/glaucoma/_70_4843073.jpg\n",
            "Found 1 images belonging to 2 classes.\n",
            "1/1 [==============================] - 0s 37ms/step\n",
            "Actual: 0 predicted: 0\n",
            "/content/drive/MyDrive/CatractImagesMobileNet/dataset2/GlaucomaDataset/Test-Dataset/glaucoma/_71_5256438.jpg\n",
            "Found 1 images belonging to 2 classes.\n",
            "1/1 [==============================] - 0s 38ms/step\n",
            "Actual: 0 predicted: 0\n",
            "/content/drive/MyDrive/CatractImagesMobileNet/dataset2/GlaucomaDataset/Test-Dataset/glaucoma/_62_731940.jpg\n",
            "Found 1 images belonging to 2 classes.\n",
            "1/1 [==============================] - 0s 46ms/step\n",
            "Actual: 0 predicted: 0\n",
            "/content/drive/MyDrive/CatractImagesMobileNet/dataset2/GlaucomaDataset/Test-Dataset/glaucoma/_65_9130585.jpg\n",
            "Found 1 images belonging to 2 classes.\n",
            "1/1 [==============================] - 0s 39ms/step\n",
            "Actual: 0 predicted: 0\n",
            "/content/drive/MyDrive/CatractImagesMobileNet/dataset2/GlaucomaDataset/Test-Dataset/glaucoma/_51_5395739.jpg\n",
            "Found 1 images belonging to 2 classes.\n",
            "1/1 [==============================] - 0s 37ms/step\n",
            "Actual: 0 predicted: 0\n",
            "/content/drive/MyDrive/CatractImagesMobileNet/dataset2/GlaucomaDataset/Test-Dataset/glaucoma/_58_180622.jpg\n",
            "Found 1 images belonging to 2 classes.\n",
            "1/1 [==============================] - 0s 39ms/step\n",
            "Actual: 0 predicted: 0\n",
            "/content/drive/MyDrive/CatractImagesMobileNet/dataset2/GlaucomaDataset/Test-Dataset/glaucoma/_68_7591745.jpg\n",
            "Found 1 images belonging to 2 classes.\n",
            "1/1 [==============================] - 0s 38ms/step\n",
            "Actual: 0 predicted: 0\n",
            "/content/drive/MyDrive/CatractImagesMobileNet/dataset2/GlaucomaDataset/Test-Dataset/glaucoma/_54_1709440.jpg\n",
            "Found 1 images belonging to 2 classes.\n",
            "1/1 [==============================] - 0s 42ms/step\n",
            "Actual: 0 predicted: 0\n",
            "/content/drive/MyDrive/CatractImagesMobileNet/dataset2/GlaucomaDataset/Test-Dataset/glaucoma/_60_6481590.jpg\n",
            "Found 1 images belonging to 2 classes.\n",
            "1/1 [==============================] - 0s 37ms/step\n",
            "Actual: 0 predicted: 0\n",
            "/content/drive/MyDrive/CatractImagesMobileNet/dataset2/GlaucomaDataset/Test-Dataset/glaucoma/_59_9153525.jpg\n",
            "Found 1 images belonging to 2 classes.\n",
            "1/1 [==============================] - 0s 37ms/step\n",
            "Actual: 0 predicted: 1\n",
            "/content/drive/MyDrive/CatractImagesMobileNet/dataset2/GlaucomaDataset/Test-Dataset/glaucoma/_54_4840369.jpg\n",
            "Found 1 images belonging to 2 classes.\n",
            "1/1 [==============================] - 0s 37ms/step\n",
            "Actual: 0 predicted: 1\n",
            "/content/drive/MyDrive/CatractImagesMobileNet/dataset2/GlaucomaDataset/Test-Dataset/glaucoma/_53_1457470.jpg\n",
            "Found 1 images belonging to 2 classes.\n",
            "1/1 [==============================] - 0s 36ms/step\n",
            "Actual: 0 predicted: 0\n",
            "/content/drive/MyDrive/CatractImagesMobileNet/dataset2/GlaucomaDataset/Test-Dataset/glaucoma/_64_4692255.jpg\n",
            "Found 1 images belonging to 2 classes.\n",
            "1/1 [==============================] - 0s 45ms/step\n",
            "Actual: 0 predicted: 0\n",
            "/content/drive/MyDrive/CatractImagesMobileNet/dataset2/GlaucomaDataset/Test-Dataset/glaucoma/_63_5036155.jpg\n",
            "Found 1 images belonging to 2 classes.\n",
            "1/1 [==============================] - 0s 38ms/step\n",
            "Actual: 0 predicted: 0\n",
            "/content/drive/MyDrive/CatractImagesMobileNet/dataset2/GlaucomaDataset/Test-Dataset/glaucoma/_48_3684538.jpg\n",
            "Found 1 images belonging to 2 classes.\n",
            "1/1 [==============================] - 0s 36ms/step\n",
            "Actual: 0 predicted: 0\n",
            "/content/drive/MyDrive/CatractImagesMobileNet/dataset2/GlaucomaDataset/Test-Dataset/glaucoma/_67_4921455.jpg\n",
            "Found 1 images belonging to 2 classes.\n",
            "1/1 [==============================] - 0s 39ms/step\n",
            "Actual: 0 predicted: 0\n",
            "/content/drive/MyDrive/CatractImagesMobileNet/dataset2/GlaucomaDataset/Test-Dataset/glaucoma/_49_249201.jpg\n",
            "Found 1 images belonging to 2 classes.\n",
            "1/1 [==============================] - 0s 50ms/step\n",
            "Actual: 0 predicted: 0\n",
            "/content/drive/MyDrive/CatractImagesMobileNet/dataset2/GlaucomaDataset/Test-Dataset/glaucoma/_66_8732996.jpg\n",
            "Found 1 images belonging to 2 classes.\n",
            "1/1 [==============================] - 0s 58ms/step\n",
            "Actual: 0 predicted: 0\n",
            "/content/drive/MyDrive/CatractImagesMobileNet/dataset2/GlaucomaDataset/Test-Dataset/glaucoma/_71_9012457.jpg\n",
            "Found 1 images belonging to 2 classes.\n",
            "1/1 [==============================] - 0s 54ms/step\n",
            "Actual: 0 predicted: 0\n",
            "/content/drive/MyDrive/CatractImagesMobileNet/dataset2/GlaucomaDataset/Test-Dataset/glaucoma/_64_3530889.jpg\n",
            "Found 1 images belonging to 2 classes.\n",
            "1/1 [==============================] - 0s 55ms/step\n",
            "Actual: 0 predicted: 0\n",
            "/content/drive/MyDrive/CatractImagesMobileNet/dataset2/GlaucomaDataset/Test-Dataset/glaucoma/_59_1911492.jpg\n",
            "Found 1 images belonging to 2 classes.\n",
            "1/1 [==============================] - 0s 80ms/step\n",
            "Actual: 0 predicted: 1\n",
            "/content/drive/MyDrive/CatractImagesMobileNet/dataset2/GlaucomaDataset/Test-Dataset/glaucoma/_58_8721967.jpg\n",
            "Found 1 images belonging to 2 classes.\n",
            "1/1 [==============================] - 0s 56ms/step\n",
            "Actual: 0 predicted: 0\n",
            "/content/drive/MyDrive/CatractImagesMobileNet/dataset2/GlaucomaDataset/Test-Dataset/glaucoma/_50_8908104.jpg\n",
            "Found 1 images belonging to 2 classes.\n",
            "1/1 [==============================] - 0s 80ms/step\n",
            "Actual: 0 predicted: 0\n"
          ]
        }
      ],
      "source": [
        "import os\n",
        "import shutil\n",
        "import numpy as np\n",
        "origin = '/content/drive/MyDrive/CatractImagesMobileNet/dataset2/GlaucomaDataset/Test-Dataset/glaucoma/'\n",
        "target1 = '/content/drive/MyDrive/CatractImagesMobileNet/TestCheckGlaucoma/glaucoma/'\n",
        "files = os.listdir(origin)\n",
        "actual=[]\n",
        "predicted=[]\n",
        "values=[]\n",
        "imageName=[]\n",
        "ac=[]\n",
        "pr=[]\n",
        "for file_name in files:\n",
        "    #print(origin+file_name)\n",
        "    #print(target1+file_name)\n",
        "    shutil.copy(origin+file_name, target1+file_name)\n",
        "    imageName.append(str(origin+file_name))\n",
        "    print(str(origin+file_name))\n",
        "    #print(\"Original\" + str(origin+file_name))\n",
        "    test_datagen = ImageDataGenerator(rescale = 1./255)\n",
        "    test_set = test_datagen.flow_from_directory('/content/drive/MyDrive/CatractImagesMobileNet/TestCheckGlaucoma/',\n",
        "                                            target_size = (224, 224),\n",
        "                                            batch_size = 16,\n",
        "                                            class_mode = 'binary')\n",
        "    images,cls = next(test_set)\n",
        "    #print(\"Actual Child\")\n",
        "    pred = model.predict(test_set)\n",
        "\n",
        "    for my_array in pred:\n",
        "      values.append(my_array)\n",
        "      #print(np.argmax(my_array))\n",
        "      max_index = np.argmax(my_array)\n",
        "      print(\"Actual: 0 predicted: \" + str(max_index))\n",
        "      predicted.append(max_index)\n",
        "      actual.append(0)\n",
        "    path = r\"/content/drive/MyDrive/CatractImagesMobileNet/TestCheckGlaucoma/glaucoma/\"\n",
        "    for fileN in os.listdir(path):\n",
        "        # construct full file path\n",
        "        fi = path + fileN\n",
        "        if os.path.isfile(fi):\n",
        "            #print('Deleting file:', fi)\n",
        "            os.remove(fi)"
      ]
    },
    {
      "cell_type": "code",
      "source": [
        "import os\n",
        "import shutil\n",
        "import numpy as np\n",
        "origin = '/content/drive/MyDrive/CatractImagesMobileNet/dataset2/GlaucomaDataset/Test-Dataset/normal/'\n",
        "target1 = '/content/drive/MyDrive/CatractImagesMobileNet/TestCheckGlaucoma/normal/'\n",
        "files = os.listdir(origin)\n",
        "\n",
        "for file_name in files:\n",
        "    #print(origin+file_name)\n",
        "    #print(target1+file_name)\n",
        "    shutil.copy(origin+file_name, target1+file_name)\n",
        "    imageName.append(str(origin+file_name))\n",
        "    print(str(origin+file_name))\n",
        "    #print(\"Original\" + str(origin+file_name))\n",
        "    test_datagen = ImageDataGenerator(rescale = 1./255)\n",
        "    test_set = test_datagen.flow_from_directory('/content/drive/MyDrive/CatractImagesMobileNet/TestCheckGlaucoma/',\n",
        "                                            target_size = (224, 224),\n",
        "                                            batch_size = 16,\n",
        "                                            class_mode = 'binary')\n",
        "    images,cls = next(test_set)\n",
        "    #print(\"Actual Child\")\n",
        "    pred = model.predict(test_set)\n",
        "\n",
        "    for my_array in pred:\n",
        "      values.append(my_array)\n",
        "      #print(np.argmax(my_array))\n",
        "      max_index = np.argmax(my_array)\n",
        "      print(\"Actual: 1 predicted: \" + str(max_index))\n",
        "      predicted.append(max_index)\n",
        "      actual.append(1)\n",
        "    path = r\"/content/drive/MyDrive/CatractImagesMobileNet/TestCheckGlaucoma/normal/\"\n",
        "    for fileN in os.listdir(path):\n",
        "        # construct full file path\n",
        "        fi = path + fileN\n",
        "        if os.path.isfile(fi):\n",
        "            #print('Deleting file:', fi)\n",
        "            os.remove(fi)"
      ],
      "metadata": {
        "colab": {
          "base_uri": "https://localhost:8080/"
        },
        "id": "kjwoac9jY-rZ",
        "outputId": "51b94ede-3f78-4ec3-d4b9-ee1b07732226"
      },
      "id": "kjwoac9jY-rZ",
      "execution_count": null,
      "outputs": [
        {
          "output_type": "stream",
          "name": "stdout",
          "text": [
            "/content/drive/MyDrive/CatractImagesMobileNet/dataset2/GlaucomaDataset/Test-Dataset/normal/2415_right.jpg\n",
            "Found 1 images belonging to 2 classes.\n",
            "1/1 [==============================] - 0s 38ms/step\n",
            "Actual: 1 predicted: 1\n",
            "/content/drive/MyDrive/CatractImagesMobileNet/dataset2/GlaucomaDataset/Test-Dataset/normal/2397_left.jpg\n",
            "Found 1 images belonging to 2 classes.\n",
            "1/1 [==============================] - 0s 38ms/step\n",
            "Actual: 1 predicted: 1\n",
            "/content/drive/MyDrive/CatractImagesMobileNet/dataset2/GlaucomaDataset/Test-Dataset/normal/2382_right.jpg\n",
            "Found 1 images belonging to 2 classes.\n",
            "1/1 [==============================] - 0s 44ms/step\n",
            "Actual: 1 predicted: 1\n",
            "/content/drive/MyDrive/CatractImagesMobileNet/dataset2/GlaucomaDataset/Test-Dataset/normal/2388_left.jpg\n",
            "Found 1 images belonging to 2 classes.\n",
            "1/1 [==============================] - 0s 40ms/step\n",
            "Actual: 1 predicted: 1\n",
            "/content/drive/MyDrive/CatractImagesMobileNet/dataset2/GlaucomaDataset/Test-Dataset/normal/2395_right.jpg\n",
            "Found 1 images belonging to 2 classes.\n",
            "1/1 [==============================] - 0s 39ms/step\n",
            "Actual: 1 predicted: 1\n",
            "/content/drive/MyDrive/CatractImagesMobileNet/dataset2/GlaucomaDataset/Test-Dataset/normal/2395_left.jpg\n",
            "Found 1 images belonging to 2 classes.\n",
            "1/1 [==============================] - 0s 41ms/step\n",
            "Actual: 1 predicted: 1\n",
            "/content/drive/MyDrive/CatractImagesMobileNet/dataset2/GlaucomaDataset/Test-Dataset/normal/2408_left.jpg\n",
            "Found 1 images belonging to 2 classes.\n",
            "1/1 [==============================] - 0s 47ms/step\n",
            "Actual: 1 predicted: 1\n",
            "/content/drive/MyDrive/CatractImagesMobileNet/dataset2/GlaucomaDataset/Test-Dataset/normal/2393_right.jpg\n",
            "Found 1 images belonging to 2 classes.\n",
            "1/1 [==============================] - 0s 39ms/step\n",
            "Actual: 1 predicted: 1\n",
            "/content/drive/MyDrive/CatractImagesMobileNet/dataset2/GlaucomaDataset/Test-Dataset/normal/2399_right.jpg\n",
            "Found 1 images belonging to 2 classes.\n",
            "1/1 [==============================] - 0s 39ms/step\n",
            "Actual: 1 predicted: 1\n",
            "/content/drive/MyDrive/CatractImagesMobileNet/dataset2/GlaucomaDataset/Test-Dataset/normal/2384_left.jpg\n",
            "Found 1 images belonging to 2 classes.\n",
            "1/1 [==============================] - 0s 45ms/step\n",
            "Actual: 1 predicted: 1\n",
            "/content/drive/MyDrive/CatractImagesMobileNet/dataset2/GlaucomaDataset/Test-Dataset/normal/2397_right.jpg\n",
            "Found 1 images belonging to 2 classes.\n",
            "1/1 [==============================] - 0s 39ms/step\n",
            "Actual: 1 predicted: 1\n",
            "/content/drive/MyDrive/CatractImagesMobileNet/dataset2/GlaucomaDataset/Test-Dataset/normal/2383_left.jpg\n",
            "Found 1 images belonging to 2 classes.\n",
            "1/1 [==============================] - 0s 39ms/step\n",
            "Actual: 1 predicted: 1\n",
            "/content/drive/MyDrive/CatractImagesMobileNet/dataset2/GlaucomaDataset/Test-Dataset/normal/2403_left.jpg\n",
            "Found 1 images belonging to 2 classes.\n",
            "1/1 [==============================] - 0s 40ms/step\n",
            "Actual: 1 predicted: 1\n",
            "/content/drive/MyDrive/CatractImagesMobileNet/dataset2/GlaucomaDataset/Test-Dataset/normal/2394_left.jpg\n",
            "Found 1 images belonging to 2 classes.\n",
            "1/1 [==============================] - 0s 37ms/step\n",
            "Actual: 1 predicted: 1\n",
            "/content/drive/MyDrive/CatractImagesMobileNet/dataset2/GlaucomaDataset/Test-Dataset/normal/2396_right.jpg\n",
            "Found 1 images belonging to 2 classes.\n",
            "1/1 [==============================] - 0s 37ms/step\n",
            "Actual: 1 predicted: 1\n",
            "/content/drive/MyDrive/CatractImagesMobileNet/dataset2/GlaucomaDataset/Test-Dataset/normal/2410_right.jpg\n",
            "Found 1 images belonging to 2 classes.\n",
            "1/1 [==============================] - 0s 47ms/step\n",
            "Actual: 1 predicted: 1\n",
            "/content/drive/MyDrive/CatractImagesMobileNet/dataset2/GlaucomaDataset/Test-Dataset/normal/2386_left.jpg\n",
            "Found 1 images belonging to 2 classes.\n",
            "1/1 [==============================] - 0s 38ms/step\n",
            "Actual: 1 predicted: 1\n",
            "/content/drive/MyDrive/CatractImagesMobileNet/dataset2/GlaucomaDataset/Test-Dataset/normal/2410_left.jpg\n",
            "Found 1 images belonging to 2 classes.\n",
            "1/1 [==============================] - 0s 39ms/step\n",
            "Actual: 1 predicted: 1\n",
            "/content/drive/MyDrive/CatractImagesMobileNet/dataset2/GlaucomaDataset/Test-Dataset/normal/2394_right.jpg\n",
            "Found 1 images belonging to 2 classes.\n",
            "1/1 [==============================] - 0s 37ms/step\n",
            "Actual: 1 predicted: 1\n",
            "/content/drive/MyDrive/CatractImagesMobileNet/dataset2/GlaucomaDataset/Test-Dataset/normal/2384_right.jpg\n",
            "Found 1 images belonging to 2 classes.\n",
            "1/1 [==============================] - 0s 38ms/step\n",
            "Actual: 1 predicted: 1\n",
            "/content/drive/MyDrive/CatractImagesMobileNet/dataset2/GlaucomaDataset/Test-Dataset/normal/2415_left.jpg\n",
            "Found 1 images belonging to 2 classes.\n",
            "1/1 [==============================] - 0s 45ms/step\n",
            "Actual: 1 predicted: 1\n",
            "/content/drive/MyDrive/CatractImagesMobileNet/dataset2/GlaucomaDataset/Test-Dataset/normal/2388_right.jpg\n",
            "Found 1 images belonging to 2 classes.\n",
            "1/1 [==============================] - 0s 41ms/step\n",
            "Actual: 1 predicted: 1\n",
            "/content/drive/MyDrive/CatractImagesMobileNet/dataset2/GlaucomaDataset/Test-Dataset/normal/2399_left.jpg\n",
            "Found 1 images belonging to 2 classes.\n",
            "1/1 [==============================] - 0s 38ms/step\n",
            "Actual: 1 predicted: 1\n",
            "/content/drive/MyDrive/CatractImagesMobileNet/dataset2/GlaucomaDataset/Test-Dataset/normal/2403_right.jpg\n",
            "Found 1 images belonging to 2 classes.\n",
            "1/1 [==============================] - 0s 38ms/step\n",
            "Actual: 1 predicted: 1\n",
            "/content/drive/MyDrive/CatractImagesMobileNet/dataset2/GlaucomaDataset/Test-Dataset/normal/2400_right.jpg\n",
            "Found 1 images belonging to 2 classes.\n",
            "1/1 [==============================] - 0s 39ms/step\n",
            "Actual: 1 predicted: 1\n",
            "/content/drive/MyDrive/CatractImagesMobileNet/dataset2/GlaucomaDataset/Test-Dataset/normal/2389_right.jpg\n",
            "Found 1 images belonging to 2 classes.\n",
            "1/1 [==============================] - 0s 39ms/step\n",
            "Actual: 1 predicted: 1\n",
            "/content/drive/MyDrive/CatractImagesMobileNet/dataset2/GlaucomaDataset/Test-Dataset/normal/2389_left.jpg\n",
            "Found 1 images belonging to 2 classes.\n",
            "1/1 [==============================] - 0s 37ms/step\n",
            "Actual: 1 predicted: 1\n",
            "/content/drive/MyDrive/CatractImagesMobileNet/dataset2/GlaucomaDataset/Test-Dataset/normal/2383_right.jpg\n",
            "Found 1 images belonging to 2 classes.\n",
            "1/1 [==============================] - 0s 38ms/step\n",
            "Actual: 1 predicted: 1\n",
            "/content/drive/MyDrive/CatractImagesMobileNet/dataset2/GlaucomaDataset/Test-Dataset/normal/2396_left.jpg\n",
            "Found 1 images belonging to 2 classes.\n",
            "1/1 [==============================] - 0s 37ms/step\n",
            "Actual: 1 predicted: 1\n",
            "/content/drive/MyDrive/CatractImagesMobileNet/dataset2/GlaucomaDataset/Test-Dataset/normal/2419_right.jpg\n",
            "Found 1 images belonging to 2 classes.\n",
            "1/1 [==============================] - 0s 38ms/step\n",
            "Actual: 1 predicted: 1\n",
            "/content/drive/MyDrive/CatractImagesMobileNet/dataset2/GlaucomaDataset/Test-Dataset/normal/2386_right.jpg\n",
            "Found 1 images belonging to 2 classes.\n",
            "1/1 [==============================] - 0s 48ms/step\n",
            "Actual: 1 predicted: 1\n",
            "/content/drive/MyDrive/CatractImagesMobileNet/dataset2/GlaucomaDataset/Test-Dataset/normal/2393_left.jpg\n",
            "Found 1 images belonging to 2 classes.\n",
            "1/1 [==============================] - 0s 38ms/step\n",
            "Actual: 1 predicted: 1\n",
            "/content/drive/MyDrive/CatractImagesMobileNet/dataset2/GlaucomaDataset/Test-Dataset/normal/2419_left.jpg\n",
            "Found 1 images belonging to 2 classes.\n",
            "1/1 [==============================] - 0s 38ms/step\n",
            "Actual: 1 predicted: 1\n",
            "/content/drive/MyDrive/CatractImagesMobileNet/dataset2/GlaucomaDataset/Test-Dataset/normal/2418_left.jpg\n",
            "Found 1 images belonging to 2 classes.\n",
            "1/1 [==============================] - 0s 42ms/step\n",
            "Actual: 1 predicted: 1\n",
            "/content/drive/MyDrive/CatractImagesMobileNet/dataset2/GlaucomaDataset/Test-Dataset/normal/2408_right.jpg\n",
            "Found 1 images belonging to 2 classes.\n",
            "1/1 [==============================] - 0s 39ms/step\n",
            "Actual: 1 predicted: 1\n",
            "/content/drive/MyDrive/CatractImagesMobileNet/dataset2/GlaucomaDataset/Test-Dataset/normal/2418_right.jpg\n",
            "Found 1 images belonging to 2 classes.\n",
            "1/1 [==============================] - 0s 42ms/step\n",
            "Actual: 1 predicted: 1\n"
          ]
        }
      ]
    },
    {
      "cell_type": "code",
      "source": [
        "from sklearn.metrics import confusion_matrix\n",
        "cm = confusion_matrix(actual, predicted)"
      ],
      "metadata": {
        "id": "GsE5bxjkY-vA"
      },
      "id": "GsE5bxjkY-vA",
      "execution_count": null,
      "outputs": []
    },
    {
      "cell_type": "code",
      "source": [
        "cm"
      ],
      "metadata": {
        "colab": {
          "base_uri": "https://localhost:8080/"
        },
        "id": "eMaJGqFzY-zB",
        "outputId": "bfbd033b-e35e-4959-88f4-5c07bcde4b1f"
      },
      "id": "eMaJGqFzY-zB",
      "execution_count": null,
      "outputs": [
        {
          "output_type": "execute_result",
          "data": {
            "text/plain": [
              "array([[32,  4],\n",
              "       [ 0, 36]])"
            ]
          },
          "metadata": {},
          "execution_count": 22
        }
      ]
    },
    {
      "cell_type": "code",
      "source": [
        "from sklearn.metrics import classification_report\n",
        "print(classification_report(actual, predicted))"
      ],
      "metadata": {
        "colab": {
          "base_uri": "https://localhost:8080/"
        },
        "id": "J-K4DPjeY-1l",
        "outputId": "34d7e1c5-a74d-49b7-e1cb-82df77df7fb7"
      },
      "id": "J-K4DPjeY-1l",
      "execution_count": null,
      "outputs": [
        {
          "output_type": "stream",
          "name": "stdout",
          "text": [
            "              precision    recall  f1-score   support\n",
            "\n",
            "           0       1.00      0.89      0.94        36\n",
            "           1       0.90      1.00      0.95        36\n",
            "\n",
            "    accuracy                           0.94        72\n",
            "   macro avg       0.95      0.94      0.94        72\n",
            "weighted avg       0.95      0.94      0.94        72\n",
            "\n"
          ]
        }
      ]
    },
    {
      "cell_type": "code",
      "source": [
        "from sklearn.metrics import confusion_matrix\n",
        "from matplotlib import pyplot as plt\n",
        "import seaborn as sns\n",
        "#predictions = model.predict(x_test, steps=len(x_test), verbose=0)\n",
        "#y_pred=model.predict(x_test)\n",
        "#y_pred = np.round(y_pred)\n",
        "\n",
        "y_pred = np.argmax(predicted, axis=-1)\n",
        "\n",
        "y_true=np.argmax(actual, axis=-1)\n",
        "\n",
        "cm = confusion_matrix(actual, predicted)\n",
        "\n",
        "## Get Class Labels\n",
        "#labels = le.classes_\n",
        "class_names = [0,1]\n",
        "\n",
        "# Plot confusion matrix in a beautiful manner\n",
        "fig = plt.figure(figsize=(5, 5))\n",
        "ax= plt.subplot()\n",
        "sns.heatmap(cm, annot=True, ax = ax, fmt = 'g'); #annot=True to annotate cells\n",
        "# labels, title and ticks\n",
        "ax.set_xlabel('Predicted', fontsize=20)\n",
        "ax.xaxis.set_label_position('bottom')\n",
        "plt.xticks(rotation=90)\n",
        "ax.xaxis.set_ticklabels(class_names, fontsize = 10)\n",
        "ax.xaxis.tick_bottom()\n",
        "\n",
        "ax.set_ylabel('True', fontsize=20)\n",
        "ax.yaxis.set_ticklabels(class_names, fontsize = 10)\n",
        "plt.yticks(rotation=0)\n",
        "\n",
        "plt.title('Confusion Matrix on Glaucoma and Normal Eye using MobileNetV2 on Dataset-2', fontsize=10)"
      ],
      "metadata": {
        "colab": {
          "base_uri": "https://localhost:8080/",
          "height": 510
        },
        "id": "EbI7xBJcY-5-",
        "outputId": "c3ec0446-f3c5-436b-9d99-b43272950906"
      },
      "id": "EbI7xBJcY-5-",
      "execution_count": null,
      "outputs": [
        {
          "output_type": "execute_result",
          "data": {
            "text/plain": [
              "Text(0.5, 1.0, 'Confusion Matrix on Glaucoma and Normal Eye using MobileNetV2 on Dataset-2')"
            ]
          },
          "metadata": {},
          "execution_count": 24
        },
        {
          "output_type": "display_data",
          "data": {
            "text/plain": [
              "<Figure size 500x500 with 2 Axes>"
            ],
            "image/png": "[encoded data removed]"
          },
          "metadata": {}
        }
      ]
    },
    {
      "cell_type": "code",
      "source": [],
      "metadata": {
        "id": "NdrYMrHKY-9B"
      },
      "id": "NdrYMrHKY-9B",
      "execution_count": null,
      "outputs": []
    },
    {
      "cell_type": "code",
      "source": [],
      "metadata": {
        "id": "YXE5jGJ2ZfC9"
      },
      "id": "YXE5jGJ2ZfC9",
      "execution_count": null,
      "outputs": []
    },
    {
      "cell_type": "code",
      "source": [],
      "metadata": {
        "id": "BxawNFWcZfJk"
      },
      "id": "BxawNFWcZfJk",
      "execution_count": null,
      "outputs": []
    },
    {
      "cell_type": "code",
      "source": [],
      "metadata": {
        "id": "dRoaPa-lZfM0"
      },
      "id": "dRoaPa-lZfM0",
      "execution_count": null,
      "outputs": []
    },
    {
      "cell_type": "code",
      "source": [],
      "metadata": {
        "id": "BTNVxFecZfPa"
      },
      "id": "BTNVxFecZfPa",
      "execution_count": null,
      "outputs": []
    },
    {
      "cell_type": "code",
      "source": [],
      "metadata": {
        "id": "5gIksotiY_AO"
      },
      "id": "5gIksotiY_AO",
      "execution_count": null,
      "outputs": []
    },
    {
      "cell_type": "code",
      "source": [],
      "metadata": {
        "id": "Y_NYpCWFY_De"
      },
      "id": "Y_NYpCWFY_De",
      "execution_count": null,
      "outputs": []
    },
    {
      "cell_type": "code",
      "execution_count": null,
      "id": "8961a368",
      "metadata": {
        "id": "8961a368",
        "outputId": "1809628d-4d75-40d8-a989-13df0c17f373"
      },
      "outputs": [
        {
          "name": "stdout",
          "output_type": "stream",
          "text": [
            "Found 40 images belonging to 2 classes.\n",
            "[[9.2175305e-01 7.8246929e-02]\n",
            " [9.9991500e-01 8.5048421e-05]\n",
            " [2.0411807e-04 9.9979585e-01]\n",
            " [9.8578602e-01 1.4213971e-02]\n",
            " [9.8057697e-03 9.9019426e-01]\n",
            " [5.0240034e-01 4.9759957e-01]\n",
            " [1.9449224e-01 8.0550778e-01]\n",
            " [4.3318936e-01 5.6681061e-01]\n",
            " [9.7836602e-01 2.1634016e-02]\n",
            " [9.9935359e-01 6.4641208e-04]\n",
            " [9.7249067e-01 2.7509356e-02]\n",
            " [6.0673970e-01 3.9326033e-01]\n",
            " [2.2408648e-01 7.7591360e-01]\n",
            " [2.8822306e-01 7.1177691e-01]\n",
            " [2.9673765e-03 9.9703264e-01]\n",
            " [2.6335919e-01 7.3664081e-01]\n",
            " [1.5454745e-03 9.9845457e-01]\n",
            " [9.8873889e-01 1.1261114e-02]\n",
            " [8.3884799e-01 1.6115206e-01]\n",
            " [9.7423482e-01 2.5765227e-02]\n",
            " [5.1092401e-02 9.4890761e-01]\n",
            " [9.9981886e-01 1.8111958e-04]\n",
            " [4.2131269e-06 9.9999583e-01]\n",
            " [9.2264116e-01 7.7358916e-02]\n",
            " [1.9353246e-02 9.8064673e-01]\n",
            " [5.4885298e-01 4.5114702e-01]\n",
            " [1.9777441e-01 8.0222559e-01]\n",
            " [9.2096758e-05 9.9990785e-01]\n",
            " [9.9164832e-01 8.3517022e-03]\n",
            " [2.3397991e-01 7.6602012e-01]\n",
            " [9.0052789e-01 9.9472187e-02]\n",
            " [9.9536562e-01 4.6344143e-03]\n",
            " [9.0144032e-01 9.8559715e-02]\n",
            " [2.6696294e-03 9.9733043e-01]\n",
            " [9.8096859e-01 1.9031322e-02]\n",
            " [9.5513189e-01 4.4868130e-02]\n",
            " [4.2958462e-05 9.9995708e-01]\n",
            " [8.6064283e-03 9.9139351e-01]\n",
            " [2.0812748e-02 9.7918725e-01]\n",
            " [7.7590412e-01 2.2409591e-01]]\n"
          ]
        }
      ],
      "source": [
        "test_set = test_datagen.flow_from_directory(\"D:\\CatractImagesMobileNet\\cataract\\GlaucomaDataset\\\\Test-Dataset\",\n",
        "                                            target_size = (224, 224),\n",
        "                                            batch_size = 40,\n",
        "                                            class_mode = 'categorical')\n",
        "\n",
        "pred = model.predict(test_set)\n",
        "print(pred)\n"
      ]
    },
    {
      "cell_type": "code",
      "execution_count": null,
      "id": "24e2eb72",
      "metadata": {
        "id": "24e2eb72",
        "outputId": "a62f8ad4-d7d1-48d9-eabc-b96dce413825"
      },
      "outputs": [
        {
          "name": "stdout",
          "output_type": "stream",
          "text": [
            "Found 1 images belonging to 2 classes.\n",
            "[[0.9916482  0.00835176]]\n"
          ]
        }
      ],
      "source": [
        "test_set = test_datagen.flow_from_directory(\"D:\\CatractImagesMobileNet\\cataract\\CatractDataset\\\\TestG\",\n",
        "                                            target_size = (224, 224),\n",
        "                                            batch_size = 40,\n",
        "                                            class_mode = 'categorical')\n",
        "\n",
        "pred = model.predict(test_set)\n",
        "print(pred)\n"
      ]
    },
    {
      "cell_type": "code",
      "execution_count": null,
      "id": "e9e1e48a",
      "metadata": {
        "id": "e9e1e48a",
        "outputId": "177f6d75-ff30-4c5c-c48c-f01bf915c891"
      },
      "outputs": [
        {
          "data": {
            "text/plain": [
              "<matplotlib.image.AxesImage at 0x29c71f19b50>"
            ]
          },
          "execution_count": 47,
          "metadata": {},
          "output_type": "execute_result"
        },
        {
          "data": {
            "image/png": "[encoded data removed]",
            "text/plain": [
              "<Figure size 432x288 with 1 Axes>"
            ]
          },
          "metadata": {
            "needs_background": "light"
          },
          "output_type": "display_data"
        }
      ],
      "source": [
        "images,cls = next(test_set)\n",
        "plt.imshow(images[0])"
      ]
    },
    {
      "cell_type": "code",
      "execution_count": null,
      "id": "73a00b2d",
      "metadata": {
        "id": "73a00b2d"
      },
      "outputs": [],
      "source": []
    },
    {
      "cell_type": "code",
      "execution_count": null,
      "id": "df469e26",
      "metadata": {
        "id": "df469e26"
      },
      "outputs": [],
      "source": []
    },
    {
      "cell_type": "code",
      "execution_count": null,
      "id": "a3cb4c87",
      "metadata": {
        "id": "a3cb4c87",
        "outputId": "540b21bb-8350-4602-f0f9-f4be22e07809"
      },
      "outputs": [
        {
          "name": "stdout",
          "output_type": "stream",
          "text": [
            "0 Actual: glaucoma\n",
            "File: glaucoma\\Glaucoma_061.png\n",
            "1predicted: normal\n",
            "[1. 0.]\n",
            "[0.024408936500549316, 0.9755910634994507]\n",
            "1 Actual: normal\n",
            "File: glaucoma\\Glaucoma_062.png\n",
            "1predicted: normal\n",
            "[0. 1.]\n",
            "[0.011544765904545784, 0.9884551763534546]\n",
            "0 Actual: glaucoma\n",
            "File: glaucoma\\Glaucoma_063.png\n",
            "1predicted: normal\n",
            "[1. 0.]\n",
            "[0.0016614175401628017, 0.9983385801315308]\n",
            "0 Actual: glaucoma\n",
            "File: glaucoma\\Glaucoma_064.png\n",
            "1predicted: normal\n",
            "[1. 0.]\n",
            "[0.0013201436959207058, 0.9986798167228699]\n",
            "0 Actual: glaucoma\n",
            "File: glaucoma\\Glaucoma_065.png\n",
            "1predicted: normal\n",
            "[1. 0.]\n",
            "[1.6366839190595783e-05, 0.9999836683273315]\n",
            "0 Actual: glaucoma\n",
            "File: glaucoma\\Glaucoma_066.png\n",
            "1predicted: normal\n",
            "[1. 0.]\n",
            "[1.2497528132371372e-06, 0.9999988079071045]\n",
            "1 Actual: normal\n",
            "File: glaucoma\\Glaucoma_067.png\n",
            "1predicted: normal\n",
            "[0. 1.]\n",
            "[0.18379011750221252, 0.8162099123001099]\n",
            "1 Actual: normal\n",
            "File: glaucoma\\Glaucoma_068.png\n",
            "1predicted: normal\n",
            "[0. 1.]\n",
            "[3.6091059882892296e-05, 0.9999638795852661]\n",
            "0 Actual: glaucoma\n",
            "File: glaucoma\\Glaucoma_069.png\n",
            "1predicted: normal\n",
            "[1. 0.]\n",
            "[0.003214122960343957, 0.9967858791351318]\n",
            "1 Actual: normal\n",
            "File: glaucoma\\Glaucoma_070.png\n",
            "1predicted: normal\n",
            "[0. 1.]\n",
            "[0.018066413700580597, 0.9819336533546448]\n",
            "1 Actual: normal\n",
            "File: glaucoma\\Glaucoma_071.png\n",
            "1predicted: normal\n",
            "[0. 1.]\n",
            "[0.005216670222580433, 0.994783341884613]\n",
            "1 Actual: normal\n",
            "File: glaucoma\\Glaucoma_072.png\n",
            "1predicted: normal\n",
            "[0. 1.]\n",
            "[1.009804691420868e-06, 0.9999990463256836]\n",
            "1 Actual: normal\n",
            "File: glaucoma\\Glaucoma_073.png\n",
            "1predicted: normal\n",
            "[0. 1.]\n",
            "[0.002862372202798724, 0.9971376657485962]\n",
            "0 Actual: glaucoma\n",
            "File: glaucoma\\Glaucoma_074.png\n",
            "1predicted: normal\n",
            "[1. 0.]\n",
            "[0.1538400650024414, 0.8461599349975586]\n",
            "1 Actual: normal\n",
            "File: glaucoma\\Glaucoma_075.png\n",
            "1predicted: normal\n",
            "[0. 1.]\n",
            "[0.0006595615413971245, 0.9993404746055603]\n",
            "1 Actual: normal\n",
            "File: glaucoma\\Glaucoma_076.png\n",
            "1predicted: normal\n",
            "[0. 1.]\n",
            "[0.005184107925742865, 0.9948158860206604]\n",
            "0 Actual: glaucoma\n",
            "File: glaucoma\\Glaucoma_077.png\n",
            "1predicted: normal\n",
            "[1. 0.]\n",
            "[0.011164146475493908, 0.988835871219635]\n",
            "1 Actual: normal\n",
            "File: glaucoma\\Glaucoma_078.png\n",
            "1predicted: normal\n",
            "[0. 1.]\n",
            "[0.14159616827964783, 0.8584038019180298]\n",
            "1 Actual: normal\n",
            "File: glaucoma\\Glaucoma_079.png\n",
            "1predicted: normal\n",
            "[0. 1.]\n",
            "[3.404406379559077e-05, 0.9999659061431885]\n",
            "1 Actual: normal\n",
            "File: glaucoma\\Glaucoma_080.png\n",
            "1predicted: normal\n",
            "[0. 1.]\n",
            "[0.1218891516327858, 0.8781108856201172]\n",
            "0 Actual: glaucoma\n",
            "File: normal\\NL_061.png\n",
            "1predicted: normal\n",
            "[1. 0.]\n",
            "[0.059114858508110046, 0.9408851265907288]\n",
            "0 Actual: glaucoma\n",
            "File: normal\\NL_062.png\n",
            "1predicted: normal\n",
            "[1. 0.]\n",
            "[0.00503801554441452, 0.9949619770050049]\n",
            "1 Actual: normal\n",
            "File: normal\\NL_063.png\n",
            "1predicted: normal\n",
            "[0. 1.]\n",
            "[0.2914729714393616, 0.7085269689559937]\n",
            "1 Actual: normal\n",
            "File: normal\\NL_064.png\n",
            "1predicted: normal\n",
            "[0. 1.]\n",
            "[0.0001260285498574376, 0.9998739957809448]\n",
            "0 Actual: glaucoma\n",
            "File: normal\\NL_065.png\n",
            "1predicted: normal\n",
            "[1. 0.]\n",
            "[0.0008388155256398022, 0.9991612434387207]\n",
            "1 Actual: normal\n",
            "File: normal\\NL_066.png\n",
            "1predicted: normal\n",
            "[0. 1.]\n",
            "[0.0001652627543080598, 0.9998346567153931]\n",
            "0 Actual: glaucoma\n",
            "File: normal\\NL_067.png\n",
            "1predicted: normal\n",
            "[1. 0.]\n",
            "[0.010449030436575413, 0.9895510077476501]\n",
            "0 Actual: glaucoma\n",
            "File: normal\\NL_068.png\n",
            "1predicted: normal\n",
            "[1. 0.]\n",
            "[3.891366577590816e-05, 0.9999611377716064]\n",
            "1 Actual: normal\n",
            "File: normal\\NL_069.png\n",
            "0predicted: glaucoma\n",
            "[0. 1.]\n",
            "[0.7000332474708557, 0.29996681213378906]\n",
            "1 Actual: normal\n",
            "File: normal\\NL_070.png\n",
            "1predicted: normal\n",
            "[0. 1.]\n",
            "[1.3286088687891606e-05, 0.9999867677688599]\n",
            "0 Actual: glaucoma\n",
            "File: normal\\NL_071.png\n",
            "1predicted: normal\n",
            "[1. 0.]\n",
            "[0.0003388776385691017, 0.9996610879898071]\n",
            "1 Actual: normal\n",
            "File: normal\\NL_072.png\n",
            "1predicted: normal\n",
            "[0. 1.]\n",
            "[0.46133479475975037, 0.5386651754379272]\n",
            "0 Actual: glaucoma\n",
            "File: normal\\NL_073.png\n",
            "1predicted: normal\n",
            "[1. 0.]\n",
            "[0.00022338931739795953, 0.9997766613960266]\n",
            "0 Actual: glaucoma\n",
            "File: normal\\NL_074.png\n",
            "1predicted: normal\n",
            "[1. 0.]\n",
            "[0.1011543720960617, 0.8988456130027771]\n",
            "0 Actual: glaucoma\n",
            "File: normal\\NL_075.png\n",
            "1predicted: normal\n",
            "[1. 0.]\n",
            "[0.024128733202815056, 0.9758712649345398]\n",
            "0 Actual: glaucoma\n",
            "File: normal\\NL_076.png\n",
            "1predicted: normal\n",
            "[1. 0.]\n",
            "[0.000504223455209285, 0.9994957447052002]\n",
            "1 Actual: normal\n",
            "File: normal\\NL_077.png\n",
            "1predicted: normal\n",
            "[0. 1.]\n",
            "[0.00315114576369524, 0.9968488812446594]\n",
            "0 Actual: glaucoma\n",
            "File: normal\\NL_078.png\n",
            "0predicted: glaucoma\n",
            "[1. 0.]\n",
            "[0.7430815100669861, 0.25691846013069153]\n",
            "0 Actual: glaucoma\n",
            "File: normal\\NL_079.png\n",
            "0predicted: glaucoma\n",
            "[1. 0.]\n",
            "[0.6139429211616516, 0.3860570788383484]\n",
            "1 Actual: normal\n",
            "File: normal\\NL_080.png\n",
            "1predicted: normal\n",
            "[0. 1.]\n",
            "[1.6617095752735622e-06, 0.9999983310699463]\n"
          ]
        },
        {
          "data": {
            "image/png": "[encoded data removed]",
            "text/plain": [
              "<Figure size 432x288 with 1 Axes>"
            ]
          },
          "metadata": {
            "needs_background": "light"
          },
          "output_type": "display_data"
        }
      ],
      "source": [
        "images,cls = next(test_set)\n",
        "filename=test_set.filenames\n",
        "\n",
        "#plt.imshow(images[0])\n",
        "#print(cls[0])\n",
        "#print(filename[0])\n",
        "i=0\n",
        "actual=[]\n",
        "predicted=[]\n",
        "for cl in cls:\n",
        "    c=cl.tolist()\n",
        "    max_value = max(c)\n",
        "    max_index = c.index(max_value)\n",
        "    print(str(max_index) + \" Actual: \" + cat[max_index])\n",
        "    print(\"File: \"  + filename[i])\n",
        "    plt.imshow(images[i])\n",
        "    actual.append(cat[max_index])\n",
        "\n",
        "    pd=pred[i].tolist()\n",
        "    m_value = max(pd)\n",
        "    #print(max_value)\n",
        "    m_index = pd.index(m_value)\n",
        "    #print(max_index)\n",
        "    print(str(m_index) + \"predicted: \" + cat[m_index])\n",
        "    predicted.append(cat[m_index])\n",
        "    print(cl)\n",
        "    print(pd)\n",
        "    #print(\"file\" + filename[i])\n",
        "    #plt.savefig('D:\\\\CatractImagesMobileNet\\cataract\\Predicted\\Actual-' + str(cat[max_index]) + ' Predicted-' + str(cat[m_index])+ '-' +'Detected Image Name-' + str(filename[i]).split('\\\\')[1] + str(i) +'.png')\n",
        "\n",
        "    i=i+1\n",
        "\n",
        "#print(pd)\n",
        "#plt.savefig('D:\\\\imageeee.png')\n",
        "#print(\"ok\")\n",
        "#plt.show()\n"
      ]
    },
    {
      "cell_type": "code",
      "execution_count": null,
      "id": "3726b4c6",
      "metadata": {
        "id": "3726b4c6"
      },
      "outputs": [],
      "source": []
    },
    {
      "cell_type": "code",
      "execution_count": null,
      "id": "413fdf9c",
      "metadata": {
        "id": "413fdf9c"
      },
      "outputs": [],
      "source": []
    },
    {
      "cell_type": "code",
      "execution_count": null,
      "id": "09c48755",
      "metadata": {
        "id": "09c48755"
      },
      "outputs": [],
      "source": []
    },
    {
      "cell_type": "code",
      "execution_count": null,
      "id": "0dc43c0c",
      "metadata": {
        "id": "0dc43c0c"
      },
      "outputs": [],
      "source": []
    },
    {
      "cell_type": "code",
      "execution_count": null,
      "id": "a2ae1b25",
      "metadata": {
        "id": "a2ae1b25"
      },
      "outputs": [],
      "source": []
    },
    {
      "cell_type": "code",
      "execution_count": null,
      "id": "7715d09d",
      "metadata": {
        "id": "7715d09d"
      },
      "outputs": [],
      "source": []
    },
    {
      "cell_type": "code",
      "execution_count": null,
      "id": "410e07f0",
      "metadata": {
        "id": "410e07f0"
      },
      "outputs": [],
      "source": []
    },
    {
      "cell_type": "code",
      "execution_count": null,
      "id": "30d4c81e",
      "metadata": {
        "id": "30d4c81e"
      },
      "outputs": [],
      "source": []
    },
    {
      "cell_type": "code",
      "execution_count": null,
      "id": "87f7b8f2",
      "metadata": {
        "id": "87f7b8f2"
      },
      "outputs": [],
      "source": []
    },
    {
      "cell_type": "code",
      "execution_count": null,
      "id": "2a75e84d",
      "metadata": {
        "id": "2a75e84d"
      },
      "outputs": [],
      "source": []
    },
    {
      "cell_type": "code",
      "execution_count": null,
      "id": "af57b7f4",
      "metadata": {
        "scrolled": false,
        "id": "af57b7f4"
      },
      "outputs": [],
      "source": []
    },
    {
      "cell_type": "code",
      "execution_count": null,
      "id": "98472e41",
      "metadata": {
        "id": "98472e41",
        "outputId": "a28c7123-7f62-493f-e1ab-536c123066e6"
      },
      "outputs": [
        {
          "data": {
            "text/plain": [
              "40"
            ]
          },
          "execution_count": 119,
          "metadata": {},
          "output_type": "execute_result"
        }
      ],
      "source": [
        "len(actual)"
      ]
    },
    {
      "cell_type": "code",
      "execution_count": null,
      "id": "2fe02c95",
      "metadata": {
        "id": "2fe02c95",
        "outputId": "194bda06-045f-410b-b34a-5b5c749c975f"
      },
      "outputs": [
        {
          "name": "stdout",
          "output_type": "stream",
          "text": [
            "              precision    recall  f1-score   support\n",
            "\n",
            "    cataract       0.12      0.10      0.11        20\n",
            "     glacuma       0.44      0.60      0.51        40\n",
            "      normal       0.50      0.20      0.29        20\n",
            "\n",
            "    accuracy                           0.38        80\n",
            "   macro avg       0.35      0.30      0.30        80\n",
            "weighted avg       0.37      0.38      0.35        80\n",
            "\n"
          ]
        }
      ],
      "source": [
        "from sklearn.metrics import classification_report\n",
        "print(classification_report(actual,predicted))"
      ]
    },
    {
      "cell_type": "code",
      "execution_count": null,
      "id": "b3761ef7",
      "metadata": {
        "id": "b3761ef7"
      },
      "outputs": [],
      "source": []
    },
    {
      "cell_type": "raw",
      "id": "d3553a7e",
      "metadata": {
        "id": "d3553a7e"
      },
      "source": []
    },
    {
      "cell_type": "code",
      "execution_count": null,
      "id": "fa2da6e0",
      "metadata": {
        "id": "fa2da6e0"
      },
      "outputs": [],
      "source": [
        "#for file in test_set.filenames:\n",
        " #   print(file)"
      ]
    },
    {
      "cell_type": "code",
      "execution_count": null,
      "id": "eb32cc09",
      "metadata": {
        "id": "eb32cc09"
      },
      "outputs": [],
      "source": []
    },
    {
      "cell_type": "code",
      "execution_count": null,
      "id": "8300836f",
      "metadata": {
        "id": "8300836f"
      },
      "outputs": [],
      "source": []
    },
    {
      "cell_type": "code",
      "execution_count": null,
      "id": "66922b25",
      "metadata": {
        "id": "66922b25"
      },
      "outputs": [],
      "source": [
        "\n"
      ]
    },
    {
      "cell_type": "code",
      "execution_count": null,
      "id": "21f2bdba",
      "metadata": {
        "scrolled": true,
        "id": "21f2bdba"
      },
      "outputs": [],
      "source": []
    },
    {
      "cell_type": "code",
      "execution_count": null,
      "id": "62c4139d",
      "metadata": {
        "id": "62c4139d"
      },
      "outputs": [],
      "source": []
    },
    {
      "cell_type": "code",
      "execution_count": null,
      "id": "764e0bf0",
      "metadata": {
        "id": "764e0bf0"
      },
      "outputs": [],
      "source": []
    },
    {
      "cell_type": "code",
      "execution_count": null,
      "id": "3c19ae7f",
      "metadata": {
        "id": "3c19ae7f"
      },
      "outputs": [],
      "source": []
    },
    {
      "cell_type": "code",
      "execution_count": null,
      "id": "0c298a00",
      "metadata": {
        "id": "0c298a00"
      },
      "outputs": [],
      "source": []
    },
    {
      "cell_type": "code",
      "execution_count": null,
      "id": "ef9e09eb",
      "metadata": {
        "id": "ef9e09eb"
      },
      "outputs": [],
      "source": []
    },
    {
      "cell_type": "code",
      "execution_count": null,
      "id": "62e60424",
      "metadata": {
        "id": "62e60424"
      },
      "outputs": [],
      "source": [
        "\n",
        "\n",
        "#plt.savefig('D:\\\\imageeee.png')\n",
        "#print(\"ok\")\n",
        "#plt.show()"
      ]
    },
    {
      "cell_type": "code",
      "execution_count": null,
      "id": "0298da14",
      "metadata": {
        "id": "0298da14"
      },
      "outputs": [],
      "source": []
    },
    {
      "cell_type": "code",
      "execution_count": null,
      "id": "14c7a3d4",
      "metadata": {
        "id": "14c7a3d4"
      },
      "outputs": [],
      "source": []
    },
    {
      "cell_type": "code",
      "execution_count": null,
      "id": "9d6a9e24",
      "metadata": {
        "id": "9d6a9e24"
      },
      "outputs": [],
      "source": []
    },
    {
      "cell_type": "code",
      "execution_count": null,
      "id": "291779d4",
      "metadata": {
        "id": "291779d4"
      },
      "outputs": [],
      "source": []
    },
    {
      "cell_type": "code",
      "execution_count": null,
      "id": "3b1be98e",
      "metadata": {
        "id": "3b1be98e"
      },
      "outputs": [],
      "source": []
    },
    {
      "cell_type": "code",
      "execution_count": null,
      "id": "d17dfe9e",
      "metadata": {
        "id": "d17dfe9e"
      },
      "outputs": [],
      "source": []
    },
    {
      "cell_type": "code",
      "execution_count": null,
      "id": "4d57e81a",
      "metadata": {
        "id": "4d57e81a"
      },
      "outputs": [],
      "source": []
    },
    {
      "cell_type": "code",
      "execution_count": null,
      "id": "0a63555a",
      "metadata": {
        "id": "0a63555a"
      },
      "outputs": [],
      "source": []
    },
    {
      "cell_type": "code",
      "execution_count": null,
      "id": "07f0acb1",
      "metadata": {
        "id": "07f0acb1"
      },
      "outputs": [],
      "source": [
        "#for t in test_set:\n",
        " #   print(t)"
      ]
    },
    {
      "cell_type": "code",
      "execution_count": null,
      "id": "c1caacb0",
      "metadata": {
        "id": "c1caacb0"
      },
      "outputs": [],
      "source": []
    },
    {
      "cell_type": "code",
      "execution_count": null,
      "id": "26a93cfb",
      "metadata": {
        "id": "26a93cfb"
      },
      "outputs": [],
      "source": []
    },
    {
      "cell_type": "code",
      "execution_count": null,
      "id": "2d55fcb4",
      "metadata": {
        "id": "2d55fcb4"
      },
      "outputs": [],
      "source": []
    },
    {
      "cell_type": "code",
      "execution_count": null,
      "id": "b7de3798",
      "metadata": {
        "id": "b7de3798",
        "outputId": "4fdb7362-6d77-4841-c6b7-1e361506b8eb"
      },
      "outputs": [
        {
          "name": "stdout",
          "output_type": "stream",
          "text": [
            "32\n",
            "Index0\n",
            "Actual: cataract\n",
            "class [1.0, 0.0]\n",
            "Index0\n",
            "Actual: cataract\n",
            "class [1.0, 0.0]\n",
            "Index0\n",
            "Actual: cataract\n",
            "class [1.0, 0.0]\n",
            "Index0\n",
            "Actual: cataract\n",
            "class [1.0, 0.0]\n",
            "Index1\n",
            "Actual: normal\n",
            "class [0.0, 1.0]\n",
            "Index1\n",
            "Actual: normal\n",
            "class [0.0, 1.0]\n",
            "Index1\n",
            "Actual: normal\n",
            "class [0.0, 1.0]\n",
            "Index1\n",
            "Actual: normal\n",
            "class [0.0, 1.0]\n",
            "Index0\n",
            "Actual: cataract\n",
            "class [1.0, 0.0]\n",
            "Index1\n",
            "Actual: normal\n",
            "class [0.0, 1.0]\n",
            "Index1\n",
            "Actual: normal\n",
            "class [0.0, 1.0]\n",
            "Index0\n",
            "Actual: cataract\n",
            "class [1.0, 0.0]\n",
            "Index0\n",
            "Actual: cataract\n",
            "class [1.0, 0.0]\n",
            "Index0\n",
            "Actual: cataract\n",
            "class [1.0, 0.0]\n",
            "Index0\n",
            "Actual: cataract\n",
            "class [1.0, 0.0]\n",
            "Index0\n",
            "Actual: cataract\n",
            "class [1.0, 0.0]\n",
            "Index1\n",
            "Actual: normal\n",
            "class [0.0, 1.0]\n",
            "Index0\n",
            "Actual: cataract\n",
            "class [1.0, 0.0]\n",
            "Index0\n",
            "Actual: cataract\n",
            "class [1.0, 0.0]\n",
            "Index0\n",
            "Actual: cataract\n",
            "class [1.0, 0.0]\n",
            "Index1\n",
            "Actual: normal\n",
            "class [0.0, 1.0]\n",
            "Index1\n",
            "Actual: normal\n",
            "class [0.0, 1.0]\n",
            "Index1\n",
            "Actual: normal\n",
            "class [0.0, 1.0]\n",
            "Index0\n",
            "Actual: cataract\n",
            "class [1.0, 0.0]\n",
            "Index0\n",
            "Actual: cataract\n",
            "class [1.0, 0.0]\n",
            "Index1\n",
            "Actual: normal\n",
            "class [0.0, 1.0]\n",
            "Index1\n",
            "Actual: normal\n",
            "class [0.0, 1.0]\n",
            "Index1\n",
            "Actual: normal\n",
            "class [0.0, 1.0]\n",
            "Index0\n",
            "Actual: cataract\n",
            "class [1.0, 0.0]\n",
            "Index1\n",
            "Actual: normal\n",
            "class [0.0, 1.0]\n",
            "Index1\n",
            "Actual: normal\n",
            "class [0.0, 1.0]\n",
            "Index1\n",
            "Actual: normal\n",
            "class [0.0, 1.0]\n",
            "8\n",
            "Index1\n",
            "Actual: normal\n",
            "class [0.0, 1.0]\n",
            "Index0\n",
            "Actual: cataract\n",
            "class [1.0, 0.0]\n",
            "Index0\n",
            "Actual: cataract\n",
            "class [1.0, 0.0]\n",
            "Index0\n",
            "Actual: cataract\n",
            "class [1.0, 0.0]\n",
            "Index1\n",
            "Actual: normal\n",
            "class [0.0, 1.0]\n",
            "Index1\n",
            "Actual: normal\n",
            "class [0.0, 1.0]\n",
            "Index1\n",
            "Actual: normal\n",
            "class [0.0, 1.0]\n",
            "Index0\n",
            "Actual: cataract\n",
            "class [1.0, 0.0]\n",
            "32\n",
            "Index0\n",
            "Actual: cataract\n",
            "class [1.0, 0.0]\n",
            "Index0\n",
            "Actual: cataract\n",
            "class [1.0, 0.0]\n",
            "Index1\n",
            "Actual: normal\n",
            "class [0.0, 1.0]\n",
            "Index1\n",
            "Actual: normal\n",
            "class [0.0, 1.0]\n",
            "Index0\n",
            "Actual: cataract\n",
            "class [1.0, 0.0]\n",
            "Index0\n",
            "Actual: cataract\n",
            "class [1.0, 0.0]\n",
            "Index0\n",
            "Actual: cataract\n",
            "class [1.0, 0.0]\n",
            "Index0\n",
            "Actual: cataract\n",
            "class [1.0, 0.0]\n",
            "Index0\n",
            "Actual: cataract\n",
            "class [1.0, 0.0]\n",
            "Index0\n",
            "Actual: cataract\n",
            "class [1.0, 0.0]\n",
            "Index1\n",
            "Actual: normal\n",
            "class [0.0, 1.0]\n",
            "Index1\n",
            "Actual: normal\n",
            "class [0.0, 1.0]\n",
            "Index0\n",
            "Actual: cataract\n",
            "class [1.0, 0.0]\n",
            "Index1\n",
            "Actual: normal\n",
            "class [0.0, 1.0]\n",
            "Index1\n",
            "Actual: normal\n",
            "class [0.0, 1.0]\n",
            "Index1\n",
            "Actual: normal\n",
            "class [0.0, 1.0]\n",
            "Index1\n",
            "Actual: normal\n",
            "class [0.0, 1.0]\n",
            "Index1\n",
            "Actual: normal\n",
            "class [0.0, 1.0]\n",
            "Index1\n",
            "Actual: normal\n",
            "class [0.0, 1.0]\n",
            "Index0\n",
            "Actual: cataract\n",
            "class [1.0, 0.0]\n",
            "Index1\n",
            "Actual: normal\n",
            "class [0.0, 1.0]\n",
            "Index1\n",
            "Actual: normal\n",
            "class [0.0, 1.0]\n",
            "Index0\n",
            "Actual: cataract\n",
            "class [1.0, 0.0]\n",
            "Index1\n",
            "Actual: normal\n",
            "class [0.0, 1.0]\n",
            "Index0\n",
            "Actual: cataract\n",
            "class [1.0, 0.0]\n",
            "Index0\n",
            "Actual: cataract\n",
            "class [1.0, 0.0]\n",
            "Index0\n",
            "Actual: cataract\n",
            "class [1.0, 0.0]\n",
            "Index1\n",
            "Actual: normal\n",
            "class [0.0, 1.0]\n",
            "Index1\n",
            "Actual: normal\n",
            "class [0.0, 1.0]\n",
            "Index1\n",
            "Actual: normal\n",
            "class [0.0, 1.0]\n",
            "Index1\n",
            "Actual: normal\n",
            "class [0.0, 1.0]\n",
            "Index0\n",
            "Actual: cataract\n",
            "class [1.0, 0.0]\n",
            "8\n",
            "Index0\n",
            "Actual: cataract\n",
            "class [1.0, 0.0]\n",
            "Index1\n",
            "Actual: normal\n",
            "class [0.0, 1.0]\n",
            "Index1\n",
            "Actual: normal\n",
            "class [0.0, 1.0]\n",
            "Index0\n",
            "Actual: cataract\n",
            "class [1.0, 0.0]\n",
            "Index0\n",
            "Actual: cataract\n",
            "class [1.0, 0.0]\n",
            "Index1\n",
            "Actual: normal\n",
            "class [0.0, 1.0]\n",
            "Index0\n",
            "Actual: cataract\n",
            "class [1.0, 0.0]\n",
            "Index0\n",
            "Actual: cataract\n",
            "class [1.0, 0.0]\n",
            "32\n",
            "Index0\n",
            "Actual: cataract\n",
            "class [1.0, 0.0]\n",
            "Index1\n",
            "Actual: normal\n",
            "class [0.0, 1.0]\n",
            "Index0\n",
            "Actual: cataract\n",
            "class [1.0, 0.0]\n",
            "Index0\n",
            "Actual: cataract\n",
            "class [1.0, 0.0]\n",
            "Index0\n",
            "Actual: cataract\n",
            "class [1.0, 0.0]\n",
            "Index1\n",
            "Actual: normal\n",
            "class [0.0, 1.0]\n",
            "Index0\n",
            "Actual: cataract\n",
            "class [1.0, 0.0]\n",
            "Index1\n",
            "Actual: normal\n",
            "class [0.0, 1.0]\n",
            "Index0\n",
            "Actual: cataract\n",
            "class [1.0, 0.0]\n",
            "Index1\n",
            "Actual: normal\n",
            "class [0.0, 1.0]\n",
            "Index0\n",
            "Actual: cataract\n",
            "class [1.0, 0.0]\n",
            "Index1\n",
            "Actual: normal\n",
            "class [0.0, 1.0]\n",
            "Index0\n",
            "Actual: cataract\n",
            "class [1.0, 0.0]\n",
            "Index1\n",
            "Actual: normal\n",
            "class [0.0, 1.0]\n",
            "Index1\n",
            "Actual: normal\n",
            "class [0.0, 1.0]\n",
            "Index1\n",
            "Actual: normal\n",
            "class [0.0, 1.0]\n",
            "Index0\n",
            "Actual: cataract\n",
            "class [1.0, 0.0]\n",
            "Index0\n",
            "Actual: cataract\n",
            "class [1.0, 0.0]\n",
            "Index1\n",
            "Actual: normal\n",
            "class [0.0, 1.0]\n",
            "Index1\n",
            "Actual: normal\n",
            "class [0.0, 1.0]\n",
            "Index0\n",
            "Actual: cataract\n",
            "class [1.0, 0.0]\n",
            "Index1\n",
            "Actual: normal\n",
            "class [0.0, 1.0]\n",
            "Index1\n",
            "Actual: normal\n",
            "class [0.0, 1.0]\n",
            "Index0\n",
            "Actual: cataract\n",
            "class [1.0, 0.0]\n",
            "Index0\n",
            "Actual: cataract\n",
            "class [1.0, 0.0]\n",
            "Index1\n",
            "Actual: normal\n",
            "class [0.0, 1.0]\n",
            "Index1\n",
            "Actual: normal\n",
            "class [0.0, 1.0]\n",
            "Index0\n",
            "Actual: cataract\n",
            "class [1.0, 0.0]\n",
            "Index1\n",
            "Actual: normal\n",
            "class [0.0, 1.0]\n",
            "Index1\n",
            "Actual: normal\n",
            "class [0.0, 1.0]\n",
            "Index1\n",
            "Actual: normal\n",
            "class [0.0, 1.0]\n",
            "Index0\n",
            "Actual: cataract\n",
            "class [1.0, 0.0]\n"
          ]
        }
      ],
      "source": [
        "actual=[]\n",
        "img=1\n",
        "row=1\n",
        "for i in range(int(imageCount/8)):\n",
        "    images,cls = next(test_set)\n",
        "    print(len(cls))\n",
        "    #print(\"In in first batch at 3\")\n",
        "    j=0\n",
        "    for c in cls:\n",
        "        cl=c.tolist()\n",
        "        m_value = max(cl)\n",
        "        m_index = cl.index(m_value)\n",
        "        print(\"Index\" + str(m_index))\n",
        "        print(\"Actual: \" + cat[m_index])\n",
        "        print(\"class\", cl)\n",
        "        actual.append(cat[m_index])\n",
        "        worksheet1.write(row, 1, str(cat[m_index]))\n",
        "\n",
        "        #plt.imshow(images[j])\n",
        "        #plt.savefig(\"D:\\\\ImagesForCocoAssesment\\\\MobileNet\\\\TagsForInputImagesGeneratedByProgram\\\\\" + str(img) + \"-\" + str(cat[m_index]) + \".png\")\n",
        "        img=img+1\n",
        "        j=j+1\n",
        "        row=row+1\n",
        "    i=i+1\n",
        "\n"
      ]
    },
    {
      "cell_type": "code",
      "execution_count": null,
      "id": "65868711",
      "metadata": {
        "id": "65868711",
        "outputId": "b6b9422e-e70b-48c1-a0e6-a85cdf05b794"
      },
      "outputs": [
        {
          "name": "stderr",
          "output_type": "stream",
          "text": [
            "C:\\Users\\saqib\\anaconda3\\envs\\TF\\lib\\site-packages\\xlsxwriter\\workbook.py:338: UserWarning: Calling close() on already closed file.\n",
            "  warn(\"Calling close() on already closed file.\")\n"
          ]
        }
      ],
      "source": [
        "workbook.close()\n"
      ]
    },
    {
      "cell_type": "code",
      "execution_count": null,
      "id": "7f8c0ac7",
      "metadata": {
        "id": "7f8c0ac7",
        "outputId": "b3d228d3-5a09-46ab-9a5c-b1c40464e890"
      },
      "outputs": [
        {
          "data": {
            "text/plain": [
              "['cataract',\n",
              " 'cataract',\n",
              " 'cataract',\n",
              " 'cataract',\n",
              " 'normal',\n",
              " 'normal',\n",
              " 'normal',\n",
              " 'normal',\n",
              " 'cataract',\n",
              " 'normal',\n",
              " 'normal',\n",
              " 'cataract',\n",
              " 'cataract',\n",
              " 'cataract',\n",
              " 'cataract',\n",
              " 'cataract',\n",
              " 'normal',\n",
              " 'cataract',\n",
              " 'cataract',\n",
              " 'cataract',\n",
              " 'normal',\n",
              " 'normal',\n",
              " 'normal',\n",
              " 'cataract',\n",
              " 'cataract',\n",
              " 'normal',\n",
              " 'normal',\n",
              " 'normal',\n",
              " 'cataract',\n",
              " 'normal',\n",
              " 'normal',\n",
              " 'normal',\n",
              " 'normal',\n",
              " 'cataract',\n",
              " 'cataract',\n",
              " 'cataract',\n",
              " 'normal',\n",
              " 'normal',\n",
              " 'normal',\n",
              " 'cataract',\n",
              " 'cataract',\n",
              " 'cataract',\n",
              " 'normal',\n",
              " 'normal',\n",
              " 'cataract',\n",
              " 'cataract',\n",
              " 'cataract',\n",
              " 'cataract',\n",
              " 'cataract',\n",
              " 'cataract',\n",
              " 'normal',\n",
              " 'normal',\n",
              " 'cataract',\n",
              " 'normal',\n",
              " 'normal',\n",
              " 'normal',\n",
              " 'normal',\n",
              " 'normal',\n",
              " 'normal',\n",
              " 'cataract',\n",
              " 'normal',\n",
              " 'normal',\n",
              " 'cataract',\n",
              " 'normal',\n",
              " 'cataract',\n",
              " 'cataract',\n",
              " 'cataract',\n",
              " 'normal',\n",
              " 'normal',\n",
              " 'normal',\n",
              " 'normal',\n",
              " 'cataract',\n",
              " 'cataract',\n",
              " 'normal',\n",
              " 'normal',\n",
              " 'cataract',\n",
              " 'cataract',\n",
              " 'normal',\n",
              " 'cataract',\n",
              " 'cataract',\n",
              " 'cataract',\n",
              " 'normal',\n",
              " 'cataract',\n",
              " 'cataract',\n",
              " 'cataract',\n",
              " 'normal',\n",
              " 'cataract',\n",
              " 'normal',\n",
              " 'cataract',\n",
              " 'normal',\n",
              " 'cataract',\n",
              " 'normal',\n",
              " 'cataract',\n",
              " 'normal',\n",
              " 'normal',\n",
              " 'normal',\n",
              " 'cataract',\n",
              " 'cataract',\n",
              " 'normal',\n",
              " 'normal',\n",
              " 'cataract',\n",
              " 'normal',\n",
              " 'normal',\n",
              " 'cataract',\n",
              " 'cataract',\n",
              " 'normal',\n",
              " 'normal',\n",
              " 'cataract',\n",
              " 'normal',\n",
              " 'normal',\n",
              " 'normal',\n",
              " 'cataract']"
            ]
          },
          "execution_count": 227,
          "metadata": {},
          "output_type": "execute_result"
        }
      ],
      "source": [
        "actual"
      ]
    },
    {
      "cell_type": "code",
      "execution_count": null,
      "id": "0c497178",
      "metadata": {
        "id": "0c497178",
        "outputId": "c9f9dcdb-6065-4acf-f3b8-a22d478020b5"
      },
      "outputs": [
        {
          "name": "stdout",
          "output_type": "stream",
          "text": [
            "              precision    recall  f1-score   support\n",
            "\n",
            "    cataract       1.00      1.00      1.00         2\n",
            "      normal       1.00      1.00      1.00         1\n",
            "\n",
            "    accuracy                           1.00         3\n",
            "   macro avg       1.00      1.00      1.00         3\n",
            "weighted avg       1.00      1.00      1.00         3\n",
            "\n"
          ]
        }
      ],
      "source": []
    },
    {
      "cell_type": "code",
      "execution_count": null,
      "id": "1234de94",
      "metadata": {
        "id": "1234de94"
      },
      "outputs": [],
      "source": []
    },
    {
      "cell_type": "code",
      "execution_count": null,
      "id": "ad39bc21",
      "metadata": {
        "id": "ad39bc21"
      },
      "outputs": [],
      "source": []
    },
    {
      "cell_type": "code",
      "execution_count": null,
      "id": "7e02db07",
      "metadata": {
        "id": "7e02db07"
      },
      "outputs": [],
      "source": []
    },
    {
      "cell_type": "code",
      "execution_count": null,
      "id": "be63c6e8",
      "metadata": {
        "id": "be63c6e8",
        "outputId": "e2b3a034-7cd4-41c9-8278-bed2edfd4e9d"
      },
      "outputs": [
        {
          "data": {
            "text/plain": [
              "32"
            ]
          },
          "execution_count": 208,
          "metadata": {},
          "output_type": "execute_result"
        }
      ],
      "source": []
    },
    {
      "cell_type": "code",
      "execution_count": null,
      "id": "384f47f0",
      "metadata": {
        "id": "384f47f0"
      },
      "outputs": [],
      "source": []
    },
    {
      "cell_type": "code",
      "execution_count": null,
      "id": "c8e8d9b4",
      "metadata": {
        "id": "c8e8d9b4"
      },
      "outputs": [],
      "source": []
    },
    {
      "cell_type": "code",
      "execution_count": null,
      "id": "da72f2ad",
      "metadata": {
        "id": "da72f2ad"
      },
      "outputs": [],
      "source": []
    },
    {
      "cell_type": "code",
      "execution_count": null,
      "id": "3ae78213",
      "metadata": {
        "id": "3ae78213"
      },
      "outputs": [],
      "source": []
    },
    {
      "cell_type": "code",
      "execution_count": null,
      "id": "42ad0160",
      "metadata": {
        "id": "42ad0160"
      },
      "outputs": [],
      "source": []
    },
    {
      "cell_type": "code",
      "execution_count": null,
      "id": "56a1bcb0",
      "metadata": {
        "id": "56a1bcb0"
      },
      "outputs": [],
      "source": []
    },
    {
      "cell_type": "code",
      "execution_count": null,
      "id": "534ab73a",
      "metadata": {
        "id": "534ab73a"
      },
      "outputs": [],
      "source": []
    },
    {
      "cell_type": "code",
      "execution_count": null,
      "id": "8edef539",
      "metadata": {
        "id": "8edef539"
      },
      "outputs": [],
      "source": []
    },
    {
      "cell_type": "code",
      "execution_count": null,
      "id": "193fad91",
      "metadata": {
        "id": "193fad91"
      },
      "outputs": [],
      "source": [
        "\n"
      ]
    },
    {
      "cell_type": "code",
      "execution_count": null,
      "id": "42771e1b",
      "metadata": {
        "id": "42771e1b"
      },
      "outputs": [],
      "source": []
    },
    {
      "cell_type": "code",
      "execution_count": null,
      "id": "fc4149ad",
      "metadata": {
        "id": "fc4149ad"
      },
      "outputs": [],
      "source": []
    },
    {
      "cell_type": "code",
      "execution_count": null,
      "id": "48ef9454",
      "metadata": {
        "id": "48ef9454"
      },
      "outputs": [],
      "source": []
    },
    {
      "cell_type": "code",
      "execution_count": null,
      "id": "1ee7e7cb",
      "metadata": {
        "id": "1ee7e7cb"
      },
      "outputs": [],
      "source": []
    }
  ],
  "metadata": {
    "kernelspec": {
      "display_name": "Python 3",
      "name": "python3"
    },
    "language_info": {
      "codemirror_mode": {
        "name": "ipython",
        "version": 3
      },
      "file_extension": ".py",
      "mimetype": "text/x-python",
      "name": "python",
      "nbconvert_exporter": "python",
      "pygments_lexer": "ipython3",
      "version": "3.8.13"
    },
    "colab": {
      "provenance": [],
      "gpuType": "T4"
    },
    "accelerator": "GPU"
  },
  "nbformat": 4,
  "nbformat_minor": 5
}