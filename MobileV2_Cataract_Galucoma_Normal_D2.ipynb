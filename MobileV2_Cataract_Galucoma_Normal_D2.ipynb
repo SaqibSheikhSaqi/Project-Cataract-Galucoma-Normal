{
  "cells": [
    {
      "cell_type": "code",
      "execution_count": 1,
      "id": "b5e2968b",
      "metadata": {
        "id": "b5e2968b"
      },
      "outputs": [],
      "source": [
        "from keras.layers import Input, Lambda, Dense, Flatten\n",
        "from keras.models import Model\n",
        "from keras.applications.mobilenet_v2 import MobileNetV2\n",
        "from keras.applications.vgg16 import preprocess_input\n",
        "from keras.preprocessing import image\n",
        "from keras.preprocessing.image import ImageDataGenerator\n",
        "from keras.models import Sequential\n",
        "import numpy as np\n",
        "from glob import glob\n",
        "import matplotlib.pyplot as plt"
      ]
    },
    {
      "cell_type": "code",
      "source": [
        "from google.colab import drive\n",
        "drive.mount('/content/drive')"
      ],
      "metadata": {
        "colab": {
          "base_uri": "https://localhost:8080/"
        },
        "id": "Py3VBjhAqah1",
        "outputId": "c8dc76b5-51a3-4608-83fc-8da49e763cc0"
      },
      "id": "Py3VBjhAqah1",
      "execution_count": 2,
      "outputs": [
        {
          "output_type": "stream",
          "name": "stdout",
          "text": [
            "Mounted at /content/drive\n"
          ]
        }
      ]
    },
    {
      "cell_type": "code",
      "execution_count": 3,
      "id": "c00a89f6",
      "metadata": {
        "colab": {
          "base_uri": "https://localhost:8080/"
        },
        "id": "c00a89f6",
        "outputId": "4a3e115a-cfb4-4b01-94b5-a7dd5a46bdd0"
      },
      "outputs": [
        {
          "output_type": "stream",
          "name": "stdout",
          "text": [
            "Downloading data from https://storage.googleapis.com/tensorflow/keras-applications/mobilenet_v2/mobilenet_v2_weights_tf_dim_ordering_tf_kernels_1.0_224_no_top.h5\n",
            "9406464/9406464 [==============================] - 0s 0us/step\n"
          ]
        }
      ],
      "source": [
        "# re-size all the images to this\n",
        "IMAGE_SIZE = [224, 224]\n",
        "\n",
        "\n",
        "train_path = '/content/drive/MyDrive/CatractImagesMobileNet/dataset2/CGN-DataSet/Training-Dataset/'\n",
        "valid_path = '/content/drive/MyDrive/CatractImagesMobileNet/dataset2/CGN-DataSet/Test-Dataset/'\n",
        "# add preprocessing layer to the front of VGG\n",
        "mbnt = MobileNetV2(input_shape=IMAGE_SIZE + [3], weights='imagenet', include_top=False)"
      ]
    },
    {
      "cell_type": "code",
      "source": [
        "pip install xlsxwriter"
      ],
      "metadata": {
        "colab": {
          "base_uri": "https://localhost:8080/"
        },
        "id": "BOkGClN34zZf",
        "outputId": "fa8a1c3c-c0d6-402e-9308-1bdaf0019205"
      },
      "id": "BOkGClN34zZf",
      "execution_count": 4,
      "outputs": [
        {
          "output_type": "stream",
          "name": "stdout",
          "text": [
            "Collecting xlsxwriter\n",
            "  Downloading XlsxWriter-3.2.0-py3-none-any.whl.metadata (2.6 kB)\n",
            "Downloading XlsxWriter-3.2.0-py3-none-any.whl (159 kB)\n",
            "\u001b[?25l   \u001b[90m━━━━━━━━━━━━━━━━━━━━━━━━━━━━━━━━━━━━━━━━\u001b[0m \u001b[32m0.0/159.9 kB\u001b[0m \u001b[31m?\u001b[0m eta \u001b[36m-:--:--\u001b[0m\r\u001b[2K   \u001b[91m━━━━━━━━━━━━━━━━━━━━━━━━━━━━━━━━━━━━━━\u001b[0m\u001b[90m╺\u001b[0m\u001b[90m━\u001b[0m \u001b[32m153.6/159.9 kB\u001b[0m \u001b[31m5.0 MB/s\u001b[0m eta \u001b[36m0:00:01\u001b[0m\r\u001b[2K   \u001b[90m━━━━━━━━━━━━━━━━━━━━━━━━━━━━━━━━━━━━━━━━\u001b[0m \u001b[32m159.9/159.9 kB\u001b[0m \u001b[31m3.5 MB/s\u001b[0m eta \u001b[36m0:00:00\u001b[0m\n",
            "\u001b[?25hInstalling collected packages: xlsxwriter\n",
            "Successfully installed xlsxwriter-3.2.0\n"
          ]
        }
      ]
    },
    {
      "cell_type": "code",
      "execution_count": 5,
      "id": "4ada9778",
      "metadata": {
        "id": "4ada9778"
      },
      "outputs": [],
      "source": [
        "import xlsxwriter\n",
        "workbook = xlsxwriter.Workbook('/content/drive/MyDrive/CatractImagesMobileNet/dataset2/files/MobileNetCatractGlV2ImagesAnalysis.xlsx')\n",
        "worksheet1 = workbook.add_worksheet()\n",
        "row=0\n",
        "col=0\n",
        "imageCount=0\n",
        "worksheet1.write(row, 0, str(\"Analysis of Image\"))\n",
        "worksheet1.write(row, 1, str(\"Actual Object\"))\n",
        "worksheet1.write(row, 2, str(\"Percentage for Detected Object\"))\n",
        "worksheet1.write(row, 3, str(\"Detected Object\"))\n",
        "import os\n",
        "\n",
        "row=1\n",
        "for path, currentDirectory, files in os.walk(\"/content/drive/MyDrive/CatractImagesMobileNet\\dataset2\\CGN-DataSet\\Test-Dataset\"):\n",
        "    for file in files:\n",
        "        print(os.path.join(path, file))\n",
        "        imageCount=imageCount + 1\n",
        "        worksheet1.write(row, 0, str(\"Image-\" + str(imageCount)))\n",
        "        row=row+1\n"
      ]
    },
    {
      "cell_type": "code",
      "execution_count": null,
      "id": "08fc6f09",
      "metadata": {
        "colab": {
          "base_uri": "https://localhost:8080/"
        },
        "id": "08fc6f09",
        "outputId": "06f55f47-743b-426d-87a4-cbe6b1e5770b"
      },
      "outputs": [
        {
          "output_type": "execute_result",
          "data": {
            "text/plain": [
              "0"
            ]
          },
          "metadata": {},
          "execution_count": 6
        }
      ],
      "source": [
        "imageCount"
      ]
    },
    {
      "cell_type": "code",
      "execution_count": 6,
      "id": "0f3da374",
      "metadata": {
        "id": "0f3da374"
      },
      "outputs": [],
      "source": [
        "# don't train existing weights\n",
        "for layer in mbnt.layers:\n",
        "    layer.trainable = False"
      ]
    },
    {
      "cell_type": "code",
      "execution_count": 7,
      "id": "70b443ae",
      "metadata": {
        "colab": {
          "base_uri": "https://localhost:8080/"
        },
        "id": "70b443ae",
        "outputId": "bbac07c8-981a-4885-9fa5-a222577c1465"
      },
      "outputs": [
        {
          "output_type": "stream",
          "name": "stdout",
          "text": [
            "3\n"
          ]
        }
      ],
      "source": [
        "  # useful for getting number of classes\n",
        "folders = glob('/content/drive/MyDrive/CatractImagesMobileNet/dataset2/CGN-DataSet/Training-Dataset/*')\n",
        "print(len(folders))"
      ]
    },
    {
      "cell_type": "code",
      "execution_count": 8,
      "id": "d2a04a2f",
      "metadata": {
        "id": "d2a04a2f"
      },
      "outputs": [],
      "source": [
        "# our layers - you can add more if you want\n",
        "x = Flatten()(mbnt.output)\n",
        "x = Dense(200, activation='relu')(x)\n",
        "x = Dense(100, activation='relu')(x)\n",
        "prediction = Dense(len(folders), activation='softmax')(x)\n",
        "#prediction = Dense(1, activation='sigmoid')(x)\n"
      ]
    },
    {
      "cell_type": "code",
      "execution_count": null,
      "id": "24278b59",
      "metadata": {
        "id": "24278b59"
      },
      "outputs": [],
      "source": []
    },
    {
      "cell_type": "code",
      "execution_count": 9,
      "id": "203ef353",
      "metadata": {
        "id": "203ef353"
      },
      "outputs": [],
      "source": [
        "# create a model object\n",
        "model = Model(inputs=mbnt.input, outputs=prediction)"
      ]
    },
    {
      "cell_type": "code",
      "execution_count": 10,
      "id": "0c502cb2",
      "metadata": {
        "colab": {
          "base_uri": "https://localhost:8080/"
        },
        "id": "0c502cb2",
        "outputId": "8eb4cbef-e487-45cd-aa02-1bed4282d346"
      },
      "outputs": [
        {
          "output_type": "stream",
          "name": "stdout",
          "text": [
            "Model: \"model\"\n",
            "__________________________________________________________________________________________________\n",
            " Layer (type)                Output Shape                 Param #   Connected to                  \n",
            "==================================================================================================\n",
            " input_1 (InputLayer)        [(None, 224, 224, 3)]        0         []                            \n",
            "                                                                                                  \n",
            " Conv1 (Conv2D)              (None, 112, 112, 32)         864       ['input_1[0][0]']             \n",
            "                                                                                                  \n",
            " bn_Conv1 (BatchNormalizati  (None, 112, 112, 32)         128       ['Conv1[0][0]']               \n",
            " on)                                                                                              \n",
            "                                                                                                  \n",
            " Conv1_relu (ReLU)           (None, 112, 112, 32)         0         ['bn_Conv1[0][0]']            \n",
            "                                                                                                  \n",
            " expanded_conv_depthwise (D  (None, 112, 112, 32)         288       ['Conv1_relu[0][0]']          \n",
            " epthwiseConv2D)                                                                                  \n",
            "                                                                                                  \n",
            " expanded_conv_depthwise_BN  (None, 112, 112, 32)         128       ['expanded_conv_depthwise[0][0\n",
            "  (BatchNormalization)                                              ]']                           \n",
            "                                                                                                  \n",
            " expanded_conv_depthwise_re  (None, 112, 112, 32)         0         ['expanded_conv_depthwise_BN[0\n",
            " lu (ReLU)                                                          ][0]']                        \n",
            "                                                                                                  \n",
            " expanded_conv_project (Con  (None, 112, 112, 16)         512       ['expanded_conv_depthwise_relu\n",
            " v2D)                                                               [0][0]']                      \n",
            "                                                                                                  \n",
            " expanded_conv_project_BN (  (None, 112, 112, 16)         64        ['expanded_conv_project[0][0]'\n",
            " BatchNormalization)                                                ]                             \n",
            "                                                                                                  \n",
            " block_1_expand (Conv2D)     (None, 112, 112, 96)         1536      ['expanded_conv_project_BN[0][\n",
            "                                                                    0]']                          \n",
            "                                                                                                  \n",
            " block_1_expand_BN (BatchNo  (None, 112, 112, 96)         384       ['block_1_expand[0][0]']      \n",
            " rmalization)                                                                                     \n",
            "                                                                                                  \n",
            " block_1_expand_relu (ReLU)  (None, 112, 112, 96)         0         ['block_1_expand_BN[0][0]']   \n",
            "                                                                                                  \n",
            " block_1_pad (ZeroPadding2D  (None, 113, 113, 96)         0         ['block_1_expand_relu[0][0]'] \n",
            " )                                                                                                \n",
            "                                                                                                  \n",
            " block_1_depthwise (Depthwi  (None, 56, 56, 96)           864       ['block_1_pad[0][0]']         \n",
            " seConv2D)                                                                                        \n",
            "                                                                                                  \n",
            " block_1_depthwise_BN (Batc  (None, 56, 56, 96)           384       ['block_1_depthwise[0][0]']   \n",
            " hNormalization)                                                                                  \n",
            "                                                                                                  \n",
            " block_1_depthwise_relu (Re  (None, 56, 56, 96)           0         ['block_1_depthwise_BN[0][0]']\n",
            " LU)                                                                                              \n",
            "                                                                                                  \n",
            " block_1_project (Conv2D)    (None, 56, 56, 24)           2304      ['block_1_depthwise_relu[0][0]\n",
            "                                                                    ']                            \n",
            "                                                                                                  \n",
            " block_1_project_BN (BatchN  (None, 56, 56, 24)           96        ['block_1_project[0][0]']     \n",
            " ormalization)                                                                                    \n",
            "                                                                                                  \n",
            " block_2_expand (Conv2D)     (None, 56, 56, 144)          3456      ['block_1_project_BN[0][0]']  \n",
            "                                                                                                  \n",
            " block_2_expand_BN (BatchNo  (None, 56, 56, 144)          576       ['block_2_expand[0][0]']      \n",
            " rmalization)                                                                                     \n",
            "                                                                                                  \n",
            " block_2_expand_relu (ReLU)  (None, 56, 56, 144)          0         ['block_2_expand_BN[0][0]']   \n",
            "                                                                                                  \n",
            " block_2_depthwise (Depthwi  (None, 56, 56, 144)          1296      ['block_2_expand_relu[0][0]'] \n",
            " seConv2D)                                                                                        \n",
            "                                                                                                  \n",
            " block_2_depthwise_BN (Batc  (None, 56, 56, 144)          576       ['block_2_depthwise[0][0]']   \n",
            " hNormalization)                                                                                  \n",
            "                                                                                                  \n",
            " block_2_depthwise_relu (Re  (None, 56, 56, 144)          0         ['block_2_depthwise_BN[0][0]']\n",
            " LU)                                                                                              \n",
            "                                                                                                  \n",
            " block_2_project (Conv2D)    (None, 56, 56, 24)           3456      ['block_2_depthwise_relu[0][0]\n",
            "                                                                    ']                            \n",
            "                                                                                                  \n",
            " block_2_project_BN (BatchN  (None, 56, 56, 24)           96        ['block_2_project[0][0]']     \n",
            " ormalization)                                                                                    \n",
            "                                                                                                  \n",
            " block_2_add (Add)           (None, 56, 56, 24)           0         ['block_1_project_BN[0][0]',  \n",
            "                                                                     'block_2_project_BN[0][0]']  \n",
            "                                                                                                  \n",
            " block_3_expand (Conv2D)     (None, 56, 56, 144)          3456      ['block_2_add[0][0]']         \n",
            "                                                                                                  \n",
            " block_3_expand_BN (BatchNo  (None, 56, 56, 144)          576       ['block_3_expand[0][0]']      \n",
            " rmalization)                                                                                     \n",
            "                                                                                                  \n",
            " block_3_expand_relu (ReLU)  (None, 56, 56, 144)          0         ['block_3_expand_BN[0][0]']   \n",
            "                                                                                                  \n",
            " block_3_pad (ZeroPadding2D  (None, 57, 57, 144)          0         ['block_3_expand_relu[0][0]'] \n",
            " )                                                                                                \n",
            "                                                                                                  \n",
            " block_3_depthwise (Depthwi  (None, 28, 28, 144)          1296      ['block_3_pad[0][0]']         \n",
            " seConv2D)                                                                                        \n",
            "                                                                                                  \n",
            " block_3_depthwise_BN (Batc  (None, 28, 28, 144)          576       ['block_3_depthwise[0][0]']   \n",
            " hNormalization)                                                                                  \n",
            "                                                                                                  \n",
            " block_3_depthwise_relu (Re  (None, 28, 28, 144)          0         ['block_3_depthwise_BN[0][0]']\n",
            " LU)                                                                                              \n",
            "                                                                                                  \n",
            " block_3_project (Conv2D)    (None, 28, 28, 32)           4608      ['block_3_depthwise_relu[0][0]\n",
            "                                                                    ']                            \n",
            "                                                                                                  \n",
            " block_3_project_BN (BatchN  (None, 28, 28, 32)           128       ['block_3_project[0][0]']     \n",
            " ormalization)                                                                                    \n",
            "                                                                                                  \n",
            " block_4_expand (Conv2D)     (None, 28, 28, 192)          6144      ['block_3_project_BN[0][0]']  \n",
            "                                                                                                  \n",
            " block_4_expand_BN (BatchNo  (None, 28, 28, 192)          768       ['block_4_expand[0][0]']      \n",
            " rmalization)                                                                                     \n",
            "                                                                                                  \n",
            " block_4_expand_relu (ReLU)  (None, 28, 28, 192)          0         ['block_4_expand_BN[0][0]']   \n",
            "                                                                                                  \n",
            " block_4_depthwise (Depthwi  (None, 28, 28, 192)          1728      ['block_4_expand_relu[0][0]'] \n",
            " seConv2D)                                                                                        \n",
            "                                                                                                  \n",
            " block_4_depthwise_BN (Batc  (None, 28, 28, 192)          768       ['block_4_depthwise[0][0]']   \n",
            " hNormalization)                                                                                  \n",
            "                                                                                                  \n",
            " block_4_depthwise_relu (Re  (None, 28, 28, 192)          0         ['block_4_depthwise_BN[0][0]']\n",
            " LU)                                                                                              \n",
            "                                                                                                  \n",
            " block_4_project (Conv2D)    (None, 28, 28, 32)           6144      ['block_4_depthwise_relu[0][0]\n",
            "                                                                    ']                            \n",
            "                                                                                                  \n",
            " block_4_project_BN (BatchN  (None, 28, 28, 32)           128       ['block_4_project[0][0]']     \n",
            " ormalization)                                                                                    \n",
            "                                                                                                  \n",
            " block_4_add (Add)           (None, 28, 28, 32)           0         ['block_3_project_BN[0][0]',  \n",
            "                                                                     'block_4_project_BN[0][0]']  \n",
            "                                                                                                  \n",
            " block_5_expand (Conv2D)     (None, 28, 28, 192)          6144      ['block_4_add[0][0]']         \n",
            "                                                                                                  \n",
            " block_5_expand_BN (BatchNo  (None, 28, 28, 192)          768       ['block_5_expand[0][0]']      \n",
            " rmalization)                                                                                     \n",
            "                                                                                                  \n",
            " block_5_expand_relu (ReLU)  (None, 28, 28, 192)          0         ['block_5_expand_BN[0][0]']   \n",
            "                                                                                                  \n",
            " block_5_depthwise (Depthwi  (None, 28, 28, 192)          1728      ['block_5_expand_relu[0][0]'] \n",
            " seConv2D)                                                                                        \n",
            "                                                                                                  \n",
            " block_5_depthwise_BN (Batc  (None, 28, 28, 192)          768       ['block_5_depthwise[0][0]']   \n",
            " hNormalization)                                                                                  \n",
            "                                                                                                  \n",
            " block_5_depthwise_relu (Re  (None, 28, 28, 192)          0         ['block_5_depthwise_BN[0][0]']\n",
            " LU)                                                                                              \n",
            "                                                                                                  \n",
            " block_5_project (Conv2D)    (None, 28, 28, 32)           6144      ['block_5_depthwise_relu[0][0]\n",
            "                                                                    ']                            \n",
            "                                                                                                  \n",
            " block_5_project_BN (BatchN  (None, 28, 28, 32)           128       ['block_5_project[0][0]']     \n",
            " ormalization)                                                                                    \n",
            "                                                                                                  \n",
            " block_5_add (Add)           (None, 28, 28, 32)           0         ['block_4_add[0][0]',         \n",
            "                                                                     'block_5_project_BN[0][0]']  \n",
            "                                                                                                  \n",
            " block_6_expand (Conv2D)     (None, 28, 28, 192)          6144      ['block_5_add[0][0]']         \n",
            "                                                                                                  \n",
            " block_6_expand_BN (BatchNo  (None, 28, 28, 192)          768       ['block_6_expand[0][0]']      \n",
            " rmalization)                                                                                     \n",
            "                                                                                                  \n",
            " block_6_expand_relu (ReLU)  (None, 28, 28, 192)          0         ['block_6_expand_BN[0][0]']   \n",
            "                                                                                                  \n",
            " block_6_pad (ZeroPadding2D  (None, 29, 29, 192)          0         ['block_6_expand_relu[0][0]'] \n",
            " )                                                                                                \n",
            "                                                                                                  \n",
            " block_6_depthwise (Depthwi  (None, 14, 14, 192)          1728      ['block_6_pad[0][0]']         \n",
            " seConv2D)                                                                                        \n",
            "                                                                                                  \n",
            " block_6_depthwise_BN (Batc  (None, 14, 14, 192)          768       ['block_6_depthwise[0][0]']   \n",
            " hNormalization)                                                                                  \n",
            "                                                                                                  \n",
            " block_6_depthwise_relu (Re  (None, 14, 14, 192)          0         ['block_6_depthwise_BN[0][0]']\n",
            " LU)                                                                                              \n",
            "                                                                                                  \n",
            " block_6_project (Conv2D)    (None, 14, 14, 64)           12288     ['block_6_depthwise_relu[0][0]\n",
            "                                                                    ']                            \n",
            "                                                                                                  \n",
            " block_6_project_BN (BatchN  (None, 14, 14, 64)           256       ['block_6_project[0][0]']     \n",
            " ormalization)                                                                                    \n",
            "                                                                                                  \n",
            " block_7_expand (Conv2D)     (None, 14, 14, 384)          24576     ['block_6_project_BN[0][0]']  \n",
            "                                                                                                  \n",
            " block_7_expand_BN (BatchNo  (None, 14, 14, 384)          1536      ['block_7_expand[0][0]']      \n",
            " rmalization)                                                                                     \n",
            "                                                                                                  \n",
            " block_7_expand_relu (ReLU)  (None, 14, 14, 384)          0         ['block_7_expand_BN[0][0]']   \n",
            "                                                                                                  \n",
            " block_7_depthwise (Depthwi  (None, 14, 14, 384)          3456      ['block_7_expand_relu[0][0]'] \n",
            " seConv2D)                                                                                        \n",
            "                                                                                                  \n",
            " block_7_depthwise_BN (Batc  (None, 14, 14, 384)          1536      ['block_7_depthwise[0][0]']   \n",
            " hNormalization)                                                                                  \n",
            "                                                                                                  \n",
            " block_7_depthwise_relu (Re  (None, 14, 14, 384)          0         ['block_7_depthwise_BN[0][0]']\n",
            " LU)                                                                                              \n",
            "                                                                                                  \n",
            " block_7_project (Conv2D)    (None, 14, 14, 64)           24576     ['block_7_depthwise_relu[0][0]\n",
            "                                                                    ']                            \n",
            "                                                                                                  \n",
            " block_7_project_BN (BatchN  (None, 14, 14, 64)           256       ['block_7_project[0][0]']     \n",
            " ormalization)                                                                                    \n",
            "                                                                                                  \n",
            " block_7_add (Add)           (None, 14, 14, 64)           0         ['block_6_project_BN[0][0]',  \n",
            "                                                                     'block_7_project_BN[0][0]']  \n",
            "                                                                                                  \n",
            " block_8_expand (Conv2D)     (None, 14, 14, 384)          24576     ['block_7_add[0][0]']         \n",
            "                                                                                                  \n",
            " block_8_expand_BN (BatchNo  (None, 14, 14, 384)          1536      ['block_8_expand[0][0]']      \n",
            " rmalization)                                                                                     \n",
            "                                                                                                  \n",
            " block_8_expand_relu (ReLU)  (None, 14, 14, 384)          0         ['block_8_expand_BN[0][0]']   \n",
            "                                                                                                  \n",
            " block_8_depthwise (Depthwi  (None, 14, 14, 384)          3456      ['block_8_expand_relu[0][0]'] \n",
            " seConv2D)                                                                                        \n",
            "                                                                                                  \n",
            " block_8_depthwise_BN (Batc  (None, 14, 14, 384)          1536      ['block_8_depthwise[0][0]']   \n",
            " hNormalization)                                                                                  \n",
            "                                                                                                  \n",
            " block_8_depthwise_relu (Re  (None, 14, 14, 384)          0         ['block_8_depthwise_BN[0][0]']\n",
            " LU)                                                                                              \n",
            "                                                                                                  \n",
            " block_8_project (Conv2D)    (None, 14, 14, 64)           24576     ['block_8_depthwise_relu[0][0]\n",
            "                                                                    ']                            \n",
            "                                                                                                  \n",
            " block_8_project_BN (BatchN  (None, 14, 14, 64)           256       ['block_8_project[0][0]']     \n",
            " ormalization)                                                                                    \n",
            "                                                                                                  \n",
            " block_8_add (Add)           (None, 14, 14, 64)           0         ['block_7_add[0][0]',         \n",
            "                                                                     'block_8_project_BN[0][0]']  \n",
            "                                                                                                  \n",
            " block_9_expand (Conv2D)     (None, 14, 14, 384)          24576     ['block_8_add[0][0]']         \n",
            "                                                                                                  \n",
            " block_9_expand_BN (BatchNo  (None, 14, 14, 384)          1536      ['block_9_expand[0][0]']      \n",
            " rmalization)                                                                                     \n",
            "                                                                                                  \n",
            " block_9_expand_relu (ReLU)  (None, 14, 14, 384)          0         ['block_9_expand_BN[0][0]']   \n",
            "                                                                                                  \n",
            " block_9_depthwise (Depthwi  (None, 14, 14, 384)          3456      ['block_9_expand_relu[0][0]'] \n",
            " seConv2D)                                                                                        \n",
            "                                                                                                  \n",
            " block_9_depthwise_BN (Batc  (None, 14, 14, 384)          1536      ['block_9_depthwise[0][0]']   \n",
            " hNormalization)                                                                                  \n",
            "                                                                                                  \n",
            " block_9_depthwise_relu (Re  (None, 14, 14, 384)          0         ['block_9_depthwise_BN[0][0]']\n",
            " LU)                                                                                              \n",
            "                                                                                                  \n",
            " block_9_project (Conv2D)    (None, 14, 14, 64)           24576     ['block_9_depthwise_relu[0][0]\n",
            "                                                                    ']                            \n",
            "                                                                                                  \n",
            " block_9_project_BN (BatchN  (None, 14, 14, 64)           256       ['block_9_project[0][0]']     \n",
            " ormalization)                                                                                    \n",
            "                                                                                                  \n",
            " block_9_add (Add)           (None, 14, 14, 64)           0         ['block_8_add[0][0]',         \n",
            "                                                                     'block_9_project_BN[0][0]']  \n",
            "                                                                                                  \n",
            " block_10_expand (Conv2D)    (None, 14, 14, 384)          24576     ['block_9_add[0][0]']         \n",
            "                                                                                                  \n",
            " block_10_expand_BN (BatchN  (None, 14, 14, 384)          1536      ['block_10_expand[0][0]']     \n",
            " ormalization)                                                                                    \n",
            "                                                                                                  \n",
            " block_10_expand_relu (ReLU  (None, 14, 14, 384)          0         ['block_10_expand_BN[0][0]']  \n",
            " )                                                                                                \n",
            "                                                                                                  \n",
            " block_10_depthwise (Depthw  (None, 14, 14, 384)          3456      ['block_10_expand_relu[0][0]']\n",
            " iseConv2D)                                                                                       \n",
            "                                                                                                  \n",
            " block_10_depthwise_BN (Bat  (None, 14, 14, 384)          1536      ['block_10_depthwise[0][0]']  \n",
            " chNormalization)                                                                                 \n",
            "                                                                                                  \n",
            " block_10_depthwise_relu (R  (None, 14, 14, 384)          0         ['block_10_depthwise_BN[0][0]'\n",
            " eLU)                                                               ]                             \n",
            "                                                                                                  \n",
            " block_10_project (Conv2D)   (None, 14, 14, 96)           36864     ['block_10_depthwise_relu[0][0\n",
            "                                                                    ]']                           \n",
            "                                                                                                  \n",
            " block_10_project_BN (Batch  (None, 14, 14, 96)           384       ['block_10_project[0][0]']    \n",
            " Normalization)                                                                                   \n",
            "                                                                                                  \n",
            " block_11_expand (Conv2D)    (None, 14, 14, 576)          55296     ['block_10_project_BN[0][0]'] \n",
            "                                                                                                  \n",
            " block_11_expand_BN (BatchN  (None, 14, 14, 576)          2304      ['block_11_expand[0][0]']     \n",
            " ormalization)                                                                                    \n",
            "                                                                                                  \n",
            " block_11_expand_relu (ReLU  (None, 14, 14, 576)          0         ['block_11_expand_BN[0][0]']  \n",
            " )                                                                                                \n",
            "                                                                                                  \n",
            " block_11_depthwise (Depthw  (None, 14, 14, 576)          5184      ['block_11_expand_relu[0][0]']\n",
            " iseConv2D)                                                                                       \n",
            "                                                                                                  \n",
            " block_11_depthwise_BN (Bat  (None, 14, 14, 576)          2304      ['block_11_depthwise[0][0]']  \n",
            " chNormalization)                                                                                 \n",
            "                                                                                                  \n",
            " block_11_depthwise_relu (R  (None, 14, 14, 576)          0         ['block_11_depthwise_BN[0][0]'\n",
            " eLU)                                                               ]                             \n",
            "                                                                                                  \n",
            " block_11_project (Conv2D)   (None, 14, 14, 96)           55296     ['block_11_depthwise_relu[0][0\n",
            "                                                                    ]']                           \n",
            "                                                                                                  \n",
            " block_11_project_BN (Batch  (None, 14, 14, 96)           384       ['block_11_project[0][0]']    \n",
            " Normalization)                                                                                   \n",
            "                                                                                                  \n",
            " block_11_add (Add)          (None, 14, 14, 96)           0         ['block_10_project_BN[0][0]', \n",
            "                                                                     'block_11_project_BN[0][0]'] \n",
            "                                                                                                  \n",
            " block_12_expand (Conv2D)    (None, 14, 14, 576)          55296     ['block_11_add[0][0]']        \n",
            "                                                                                                  \n",
            " block_12_expand_BN (BatchN  (None, 14, 14, 576)          2304      ['block_12_expand[0][0]']     \n",
            " ormalization)                                                                                    \n",
            "                                                                                                  \n",
            " block_12_expand_relu (ReLU  (None, 14, 14, 576)          0         ['block_12_expand_BN[0][0]']  \n",
            " )                                                                                                \n",
            "                                                                                                  \n",
            " block_12_depthwise (Depthw  (None, 14, 14, 576)          5184      ['block_12_expand_relu[0][0]']\n",
            " iseConv2D)                                                                                       \n",
            "                                                                                                  \n",
            " block_12_depthwise_BN (Bat  (None, 14, 14, 576)          2304      ['block_12_depthwise[0][0]']  \n",
            " chNormalization)                                                                                 \n",
            "                                                                                                  \n",
            " block_12_depthwise_relu (R  (None, 14, 14, 576)          0         ['block_12_depthwise_BN[0][0]'\n",
            " eLU)                                                               ]                             \n",
            "                                                                                                  \n",
            " block_12_project (Conv2D)   (None, 14, 14, 96)           55296     ['block_12_depthwise_relu[0][0\n",
            "                                                                    ]']                           \n",
            "                                                                                                  \n",
            " block_12_project_BN (Batch  (None, 14, 14, 96)           384       ['block_12_project[0][0]']    \n",
            " Normalization)                                                                                   \n",
            "                                                                                                  \n",
            " block_12_add (Add)          (None, 14, 14, 96)           0         ['block_11_add[0][0]',        \n",
            "                                                                     'block_12_project_BN[0][0]'] \n",
            "                                                                                                  \n",
            " block_13_expand (Conv2D)    (None, 14, 14, 576)          55296     ['block_12_add[0][0]']        \n",
            "                                                                                                  \n",
            " block_13_expand_BN (BatchN  (None, 14, 14, 576)          2304      ['block_13_expand[0][0]']     \n",
            " ormalization)                                                                                    \n",
            "                                                                                                  \n",
            " block_13_expand_relu (ReLU  (None, 14, 14, 576)          0         ['block_13_expand_BN[0][0]']  \n",
            " )                                                                                                \n",
            "                                                                                                  \n",
            " block_13_pad (ZeroPadding2  (None, 15, 15, 576)          0         ['block_13_expand_relu[0][0]']\n",
            " D)                                                                                               \n",
            "                                                                                                  \n",
            " block_13_depthwise (Depthw  (None, 7, 7, 576)            5184      ['block_13_pad[0][0]']        \n",
            " iseConv2D)                                                                                       \n",
            "                                                                                                  \n",
            " block_13_depthwise_BN (Bat  (None, 7, 7, 576)            2304      ['block_13_depthwise[0][0]']  \n",
            " chNormalization)                                                                                 \n",
            "                                                                                                  \n",
            " block_13_depthwise_relu (R  (None, 7, 7, 576)            0         ['block_13_depthwise_BN[0][0]'\n",
            " eLU)                                                               ]                             \n",
            "                                                                                                  \n",
            " block_13_project (Conv2D)   (None, 7, 7, 160)            92160     ['block_13_depthwise_relu[0][0\n",
            "                                                                    ]']                           \n",
            "                                                                                                  \n",
            " block_13_project_BN (Batch  (None, 7, 7, 160)            640       ['block_13_project[0][0]']    \n",
            " Normalization)                                                                                   \n",
            "                                                                                                  \n",
            " block_14_expand (Conv2D)    (None, 7, 7, 960)            153600    ['block_13_project_BN[0][0]'] \n",
            "                                                                                                  \n",
            " block_14_expand_BN (BatchN  (None, 7, 7, 960)            3840      ['block_14_expand[0][0]']     \n",
            " ormalization)                                                                                    \n",
            "                                                                                                  \n",
            " block_14_expand_relu (ReLU  (None, 7, 7, 960)            0         ['block_14_expand_BN[0][0]']  \n",
            " )                                                                                                \n",
            "                                                                                                  \n",
            " block_14_depthwise (Depthw  (None, 7, 7, 960)            8640      ['block_14_expand_relu[0][0]']\n",
            " iseConv2D)                                                                                       \n",
            "                                                                                                  \n",
            " block_14_depthwise_BN (Bat  (None, 7, 7, 960)            3840      ['block_14_depthwise[0][0]']  \n",
            " chNormalization)                                                                                 \n",
            "                                                                                                  \n",
            " block_14_depthwise_relu (R  (None, 7, 7, 960)            0         ['block_14_depthwise_BN[0][0]'\n",
            " eLU)                                                               ]                             \n",
            "                                                                                                  \n",
            " block_14_project (Conv2D)   (None, 7, 7, 160)            153600    ['block_14_depthwise_relu[0][0\n",
            "                                                                    ]']                           \n",
            "                                                                                                  \n",
            " block_14_project_BN (Batch  (None, 7, 7, 160)            640       ['block_14_project[0][0]']    \n",
            " Normalization)                                                                                   \n",
            "                                                                                                  \n",
            " block_14_add (Add)          (None, 7, 7, 160)            0         ['block_13_project_BN[0][0]', \n",
            "                                                                     'block_14_project_BN[0][0]'] \n",
            "                                                                                                  \n",
            " block_15_expand (Conv2D)    (None, 7, 7, 960)            153600    ['block_14_add[0][0]']        \n",
            "                                                                                                  \n",
            " block_15_expand_BN (BatchN  (None, 7, 7, 960)            3840      ['block_15_expand[0][0]']     \n",
            " ormalization)                                                                                    \n",
            "                                                                                                  \n",
            " block_15_expand_relu (ReLU  (None, 7, 7, 960)            0         ['block_15_expand_BN[0][0]']  \n",
            " )                                                                                                \n",
            "                                                                                                  \n",
            " block_15_depthwise (Depthw  (None, 7, 7, 960)            8640      ['block_15_expand_relu[0][0]']\n",
            " iseConv2D)                                                                                       \n",
            "                                                                                                  \n",
            " block_15_depthwise_BN (Bat  (None, 7, 7, 960)            3840      ['block_15_depthwise[0][0]']  \n",
            " chNormalization)                                                                                 \n",
            "                                                                                                  \n",
            " block_15_depthwise_relu (R  (None, 7, 7, 960)            0         ['block_15_depthwise_BN[0][0]'\n",
            " eLU)                                                               ]                             \n",
            "                                                                                                  \n",
            " block_15_project (Conv2D)   (None, 7, 7, 160)            153600    ['block_15_depthwise_relu[0][0\n",
            "                                                                    ]']                           \n",
            "                                                                                                  \n",
            " block_15_project_BN (Batch  (None, 7, 7, 160)            640       ['block_15_project[0][0]']    \n",
            " Normalization)                                                                                   \n",
            "                                                                                                  \n",
            " block_15_add (Add)          (None, 7, 7, 160)            0         ['block_14_add[0][0]',        \n",
            "                                                                     'block_15_project_BN[0][0]'] \n",
            "                                                                                                  \n",
            " block_16_expand (Conv2D)    (None, 7, 7, 960)            153600    ['block_15_add[0][0]']        \n",
            "                                                                                                  \n",
            " block_16_expand_BN (BatchN  (None, 7, 7, 960)            3840      ['block_16_expand[0][0]']     \n",
            " ormalization)                                                                                    \n",
            "                                                                                                  \n",
            " block_16_expand_relu (ReLU  (None, 7, 7, 960)            0         ['block_16_expand_BN[0][0]']  \n",
            " )                                                                                                \n",
            "                                                                                                  \n",
            " block_16_depthwise (Depthw  (None, 7, 7, 960)            8640      ['block_16_expand_relu[0][0]']\n",
            " iseConv2D)                                                                                       \n",
            "                                                                                                  \n",
            " block_16_depthwise_BN (Bat  (None, 7, 7, 960)            3840      ['block_16_depthwise[0][0]']  \n",
            " chNormalization)                                                                                 \n",
            "                                                                                                  \n",
            " block_16_depthwise_relu (R  (None, 7, 7, 960)            0         ['block_16_depthwise_BN[0][0]'\n",
            " eLU)                                                               ]                             \n",
            "                                                                                                  \n",
            " block_16_project (Conv2D)   (None, 7, 7, 320)            307200    ['block_16_depthwise_relu[0][0\n",
            "                                                                    ]']                           \n",
            "                                                                                                  \n",
            " block_16_project_BN (Batch  (None, 7, 7, 320)            1280      ['block_16_project[0][0]']    \n",
            " Normalization)                                                                                   \n",
            "                                                                                                  \n",
            " Conv_1 (Conv2D)             (None, 7, 7, 1280)           409600    ['block_16_project_BN[0][0]'] \n",
            "                                                                                                  \n",
            " Conv_1_bn (BatchNormalizat  (None, 7, 7, 1280)           5120      ['Conv_1[0][0]']              \n",
            " ion)                                                                                             \n",
            "                                                                                                  \n",
            " out_relu (ReLU)             (None, 7, 7, 1280)           0         ['Conv_1_bn[0][0]']           \n",
            "                                                                                                  \n",
            " flatten (Flatten)           (None, 62720)                0         ['out_relu[0][0]']            \n",
            "                                                                                                  \n",
            " dense (Dense)               (None, 200)                  1254420   ['flatten[0][0]']             \n",
            "                                                          0                                       \n",
            "                                                                                                  \n",
            " dense_1 (Dense)             (None, 100)                  20100     ['dense[0][0]']               \n",
            "                                                                                                  \n",
            " dense_2 (Dense)             (None, 3)                    303       ['dense_1[0][0]']             \n",
            "                                                                                                  \n",
            "==================================================================================================\n",
            "Total params: 14822587 (56.54 MB)\n",
            "Trainable params: 12564603 (47.93 MB)\n",
            "Non-trainable params: 2257984 (8.61 MB)\n",
            "__________________________________________________________________________________________________\n"
          ]
        }
      ],
      "source": [
        "# view the structure of the model\n",
        "model.summary()\n"
      ]
    },
    {
      "cell_type": "code",
      "execution_count": 11,
      "id": "d5bc5fe7",
      "metadata": {
        "id": "d5bc5fe7"
      },
      "outputs": [],
      "source": [
        "model.compile(\n",
        "  loss='categorical_crossentropy',\n",
        "  optimizer='adam',\n",
        "  metrics=['accuracy']\n",
        ")"
      ]
    },
    {
      "cell_type": "code",
      "execution_count": 12,
      "id": "8928f2d7",
      "metadata": {
        "colab": {
          "base_uri": "https://localhost:8080/"
        },
        "id": "8928f2d7",
        "outputId": "64e0449e-780b-4a07-b1a0-f61dc36153a1"
      },
      "outputs": [
        {
          "output_type": "stream",
          "name": "stdout",
          "text": [
            "Found 216 images belonging to 3 classes.\n",
            "Found 108 images belonging to 3 classes.\n"
          ]
        }
      ],
      "source": [
        "from keras.preprocessing.image import ImageDataGenerator\n",
        "\n",
        "train_datagen = ImageDataGenerator(rescale = 1./255,\n",
        "                                   shear_range = 0.2,\n",
        "                                   zoom_range = 0.2,\n",
        "                                   horizontal_flip = True)\n",
        "\n",
        "test_datagen = ImageDataGenerator(rescale = 1./255)\n",
        "\n",
        "training_set = train_datagen.flow_from_directory('/content/drive/MyDrive/CatractImagesMobileNet/dataset2/CGN-DataSet/Training-Dataset/',\n",
        "                                                 target_size = (224, 224),\n",
        "                                                 batch_size = 32,\n",
        "                                                 class_mode = 'categorical')\n",
        "\n",
        "test_set = test_datagen.flow_from_directory('/content/drive/MyDrive/CatractImagesMobileNet/dataset2/CGN-DataSet/Test-Dataset/',\n",
        "                                            target_size = (224, 224),\n",
        "                                            batch_size = 32,\n",
        "                                            class_mode = 'categorical')"
      ]
    },
    {
      "cell_type": "code",
      "execution_count": 13,
      "id": "9281fa52",
      "metadata": {
        "colab": {
          "base_uri": "https://localhost:8080/"
        },
        "id": "9281fa52",
        "outputId": "22ab2e0f-01fc-4f40-b51e-872ec26f0cc9"
      },
      "outputs": [
        {
          "output_type": "stream",
          "name": "stdout",
          "text": [
            "[]\n"
          ]
        }
      ],
      "source": [
        "import os\n",
        "cats=[]\n",
        "cat=[]\n",
        "for path, currentDirectory, files in os.walk(\"/content/drive/MyDrive/CatractImagesMobileNet\\dataset2\\CGN-DataSet\\Training-Dataset\"):\n",
        "    for file in files:\n",
        "        #print(os.path.join(path, file))\n",
        "        #print(file)\n",
        "        cats=path.split(\"\\\\\")\n",
        "        cats=cats[len(cats)-1]\n",
        "        if cats not in cat:\n",
        "            cat.append(cats)\n",
        "            print(cats)\n",
        "cat.sort()\n",
        "print(cat)\n",
        "\n",
        "#images,cls = next(test_set)\n",
        "\n"
      ]
    },
    {
      "cell_type": "code",
      "execution_count": null,
      "id": "0949ed3e",
      "metadata": {
        "id": "0949ed3e"
      },
      "outputs": [],
      "source": [
        "#images,cls = next(test_set)\n",
        "#plt.imshow(images[3])\n",
        "#plt.savefig('D:\\\\imageeee.png')\n",
        "#print(\"ok\")\n",
        "#plt.show()"
      ]
    },
    {
      "cell_type": "code",
      "execution_count": 14,
      "id": "14bdb1b2",
      "metadata": {
        "colab": {
          "base_uri": "https://localhost:8080/"
        },
        "id": "14bdb1b2",
        "outputId": "41aee50d-58a1-43bc-b7b0-1aed3747592c"
      },
      "outputs": [
        {
          "output_type": "execute_result",
          "data": {
            "text/plain": [
              "4"
            ]
          },
          "metadata": {},
          "execution_count": 14
        }
      ],
      "source": [
        "len(test_set)"
      ]
    },
    {
      "cell_type": "code",
      "execution_count": 15,
      "id": "8f1d7de4",
      "metadata": {
        "colab": {
          "base_uri": "https://localhost:8080/"
        },
        "id": "8f1d7de4",
        "outputId": "9657b765-a4fe-4a0d-b2e5-7d8d76a1b587"
      },
      "outputs": [
        {
          "output_type": "stream",
          "name": "stdout",
          "text": [
            "Epoch 1/10\n",
            "7/7 [==============================] - 81s 11s/step - loss: 8.5745 - accuracy: 0.5093 - val_loss: 1.7162 - val_accuracy: 0.7870\n",
            "Epoch 2/10\n",
            "7/7 [==============================] - 19s 3s/step - loss: 1.6923 - accuracy: 0.7454 - val_loss: 1.1212 - val_accuracy: 0.8426\n",
            "Epoch 3/10\n",
            "7/7 [==============================] - 19s 3s/step - loss: 1.6181 - accuracy: 0.8241 - val_loss: 1.4117 - val_accuracy: 0.8241\n",
            "Epoch 4/10\n",
            "7/7 [==============================] - 20s 3s/step - loss: 1.2559 - accuracy: 0.8426 - val_loss: 5.8135 - val_accuracy: 0.4907\n",
            "Epoch 5/10\n",
            "7/7 [==============================] - 23s 3s/step - loss: 0.7550 - accuracy: 0.8935 - val_loss: 0.6534 - val_accuracy: 0.8611\n",
            "Epoch 6/10\n",
            "7/7 [==============================] - 21s 3s/step - loss: 0.3950 - accuracy: 0.9259 - val_loss: 3.0452 - val_accuracy: 0.6759\n",
            "Epoch 7/10\n",
            "7/7 [==============================] - 21s 3s/step - loss: 0.5965 - accuracy: 0.8981 - val_loss: 0.8932 - val_accuracy: 0.8519\n",
            "Epoch 8/10\n",
            "7/7 [==============================] - 19s 3s/step - loss: 0.2311 - accuracy: 0.9630 - val_loss: 3.9396 - val_accuracy: 0.6481\n",
            "Epoch 9/10\n",
            "7/7 [==============================] - 18s 3s/step - loss: 0.1381 - accuracy: 0.9676 - val_loss: 0.6618 - val_accuracy: 0.8889\n",
            "Epoch 10/10\n",
            "7/7 [==============================] - 25s 4s/step - loss: 0.0350 - accuracy: 0.9861 - val_loss: 0.6512 - val_accuracy: 0.8889\n"
          ]
        }
      ],
      "source": [
        "# fit the model\n",
        "r = model.fit(\n",
        "  training_set,\n",
        "  validation_data=test_set,\n",
        "  epochs=10,\n",
        "  steps_per_epoch=len(training_set),\n",
        "  validation_steps=len(test_set)\n",
        ")"
      ]
    },
    {
      "cell_type": "code",
      "execution_count": 16,
      "id": "5b6b92e2",
      "metadata": {
        "colab": {
          "base_uri": "https://localhost:8080/",
          "height": 430
        },
        "id": "5b6b92e2",
        "outputId": "59cf5a0e-11e1-45ef-e0c2-a835814d18e1"
      },
      "outputs": [
        {
          "output_type": "display_data",
          "data": {
            "text/plain": [
              "<Figure size 640x480 with 1 Axes>"
            ],
            "image/png": "[encoded data removed]"
          },
          "metadata": {}
        }
      ],
      "source": [
        "# loss\n",
        "plt.plot(r.history['loss'], label='train loss')\n",
        "plt.plot(r.history['val_loss'], label='val loss')\n",
        "plt.legend()\n",
        "plt.show()\n",
        "#plt.savefig('LossVal_loss')"
      ]
    },
    {
      "cell_type": "code",
      "execution_count": 17,
      "id": "9221b340",
      "metadata": {
        "colab": {
          "base_uri": "https://localhost:8080/",
          "height": 430
        },
        "id": "9221b340",
        "outputId": "f9b1c111-9d4a-49d3-fd7f-73b814ac728e"
      },
      "outputs": [
        {
          "output_type": "display_data",
          "data": {
            "text/plain": [
              "<Figure size 640x480 with 1 Axes>"
            ],
            "image/png": "[encoded data removed]"
          },
          "metadata": {}
        }
      ],
      "source": [
        "# accuracies\n",
        "plt.plot(r.history['accuracy'], label='train acc')\n",
        "plt.plot(r.history['val_accuracy'], label='val acc')\n",
        "plt.legend()\n",
        "plt.show()\n",
        "#plt.savefig('AccVal_acc')"
      ]
    },
    {
      "cell_type": "code",
      "source": [
        "model.save(\"/content/drive/MyDrive/CatractImagesMobileNet/dataset2/Mobile1V2CatGalModel.h4\")"
      ],
      "metadata": {
        "id": "8bRTWmsVvact"
      },
      "id": "8bRTWmsVvact",
      "execution_count": null,
      "outputs": []
    },
    {
      "cell_type": "code",
      "source": [],
      "metadata": {
        "id": "JqyIMbnkvagJ"
      },
      "id": "JqyIMbnkvagJ",
      "execution_count": null,
      "outputs": []
    },
    {
      "cell_type": "code",
      "execution_count": 18,
      "metadata": {
        "colab": {
          "base_uri": "https://localhost:8080/"
        },
        "outputId": "4a457f87-1d70-497f-d3eb-262d44ee20a6",
        "id": "jutp6OQd5LgH"
      },
      "outputs": [
        {
          "output_type": "stream",
          "name": "stdout",
          "text": [
            "/content/drive/MyDrive/CatractImagesMobileNet/dataset2/CGN-DataSet/Test-Dataset/glaucoma/_56_7014018.jpg\n",
            "Found 1 images belonging to 3 classes.\n",
            "1/1 [==============================] - 1s 1s/step\n",
            "Actual: 1 predicted: 1\n",
            "/content/drive/MyDrive/CatractImagesMobileNet/dataset2/CGN-DataSet/Test-Dataset/glaucoma/_49_249201.jpg\n",
            "Found 1 images belonging to 3 classes.\n",
            "1/1 [==============================] - 0s 83ms/step\n",
            "Actual: 1 predicted: 1\n",
            "/content/drive/MyDrive/CatractImagesMobileNet/dataset2/CGN-DataSet/Test-Dataset/glaucoma/_67_4921455.jpg\n",
            "Found 1 images belonging to 3 classes.\n",
            "1/1 [==============================] - 0s 90ms/step\n",
            "Actual: 1 predicted: 1\n",
            "/content/drive/MyDrive/CatractImagesMobileNet/dataset2/CGN-DataSet/Test-Dataset/glaucoma/_62_731940.jpg\n",
            "Found 1 images belonging to 3 classes.\n",
            "1/1 [==============================] - 0s 81ms/step\n",
            "Actual: 1 predicted: 1\n",
            "/content/drive/MyDrive/CatractImagesMobileNet/dataset2/CGN-DataSet/Test-Dataset/glaucoma/_58_8721967.jpg\n",
            "Found 1 images belonging to 3 classes.\n",
            "1/1 [==============================] - 0s 77ms/step\n",
            "Actual: 1 predicted: 1\n",
            "/content/drive/MyDrive/CatractImagesMobileNet/dataset2/CGN-DataSet/Test-Dataset/glaucoma/_48_5270520.jpg\n",
            "Found 1 images belonging to 3 classes.\n",
            "1/1 [==============================] - 0s 79ms/step\n",
            "Actual: 1 predicted: 1\n",
            "/content/drive/MyDrive/CatractImagesMobileNet/dataset2/CGN-DataSet/Test-Dataset/glaucoma/_63_5036155.jpg\n",
            "Found 1 images belonging to 3 classes.\n",
            "1/1 [==============================] - 0s 85ms/step\n",
            "Actual: 1 predicted: 1\n",
            "/content/drive/MyDrive/CatractImagesMobileNet/dataset2/CGN-DataSet/Test-Dataset/glaucoma/_53_1457470.jpg\n",
            "Found 1 images belonging to 3 classes.\n",
            "1/1 [==============================] - 0s 83ms/step\n",
            "Actual: 1 predicted: 1\n",
            "/content/drive/MyDrive/CatractImagesMobileNet/dataset2/CGN-DataSet/Test-Dataset/glaucoma/_69_5362173.jpg\n",
            "Found 1 images belonging to 3 classes.\n",
            "1/1 [==============================] - 0s 158ms/step\n",
            "Actual: 1 predicted: 1\n",
            "/content/drive/MyDrive/CatractImagesMobileNet/dataset2/CGN-DataSet/Test-Dataset/glaucoma/_51_5395739.jpg\n",
            "Found 1 images belonging to 3 classes.\n",
            "1/1 [==============================] - 0s 127ms/step\n",
            "Actual: 1 predicted: 1\n",
            "/content/drive/MyDrive/CatractImagesMobileNet/dataset2/CGN-DataSet/Test-Dataset/glaucoma/_54_4840369.jpg\n",
            "Found 1 images belonging to 3 classes.\n",
            "1/1 [==============================] - 0s 107ms/step\n",
            "Actual: 1 predicted: 1\n",
            "/content/drive/MyDrive/CatractImagesMobileNet/dataset2/CGN-DataSet/Test-Dataset/glaucoma/_52_3659415.jpg\n",
            "Found 1 images belonging to 3 classes.\n",
            "1/1 [==============================] - 0s 120ms/step\n",
            "Actual: 1 predicted: 0\n",
            "/content/drive/MyDrive/CatractImagesMobileNet/dataset2/CGN-DataSet/Test-Dataset/glaucoma/_71_9012457.jpg\n",
            "Found 1 images belonging to 3 classes.\n",
            "1/1 [==============================] - 0s 114ms/step\n",
            "Actual: 1 predicted: 2\n",
            "/content/drive/MyDrive/CatractImagesMobileNet/dataset2/CGN-DataSet/Test-Dataset/glaucoma/_54_1709440.jpg\n",
            "Found 1 images belonging to 3 classes.\n",
            "1/1 [==============================] - 0s 132ms/step\n",
            "Actual: 1 predicted: 1\n",
            "/content/drive/MyDrive/CatractImagesMobileNet/dataset2/CGN-DataSet/Test-Dataset/glaucoma/_64_3530889.jpg\n",
            "Found 1 images belonging to 3 classes.\n",
            "1/1 [==============================] - 0s 117ms/step\n",
            "Actual: 1 predicted: 1\n",
            "/content/drive/MyDrive/CatractImagesMobileNet/dataset2/CGN-DataSet/Test-Dataset/glaucoma/_68_7591745.jpg\n",
            "Found 1 images belonging to 3 classes.\n",
            "1/1 [==============================] - 0s 117ms/step\n",
            "Actual: 1 predicted: 1\n",
            "/content/drive/MyDrive/CatractImagesMobileNet/dataset2/CGN-DataSet/Test-Dataset/glaucoma/_55_1027321.jpg\n",
            "Found 1 images belonging to 3 classes.\n",
            "1/1 [==============================] - 0s 114ms/step\n",
            "Actual: 1 predicted: 1\n",
            "/content/drive/MyDrive/CatractImagesMobileNet/dataset2/CGN-DataSet/Test-Dataset/glaucoma/_66_8732996.jpg\n",
            "Found 1 images belonging to 3 classes.\n",
            "1/1 [==============================] - 0s 116ms/step\n",
            "Actual: 1 predicted: 1\n",
            "/content/drive/MyDrive/CatractImagesMobileNet/dataset2/CGN-DataSet/Test-Dataset/glaucoma/_62_3878139.jpg\n",
            "Found 1 images belonging to 3 classes.\n",
            "1/1 [==============================] - 0s 132ms/step\n",
            "Actual: 1 predicted: 1\n",
            "/content/drive/MyDrive/CatractImagesMobileNet/dataset2/CGN-DataSet/Test-Dataset/glaucoma/_67_5997765.jpg\n",
            "Found 1 images belonging to 3 classes.\n",
            "1/1 [==============================] - 0s 139ms/step\n",
            "Actual: 1 predicted: 1\n",
            "/content/drive/MyDrive/CatractImagesMobileNet/dataset2/CGN-DataSet/Test-Dataset/glaucoma/_64_4692255.jpg\n",
            "Found 1 images belonging to 3 classes.\n",
            "1/1 [==============================] - 0s 124ms/step\n",
            "Actual: 1 predicted: 1\n",
            "/content/drive/MyDrive/CatractImagesMobileNet/dataset2/CGN-DataSet/Test-Dataset/glaucoma/_59_9153525.jpg\n",
            "Found 1 images belonging to 3 classes.\n",
            "1/1 [==============================] - 0s 123ms/step\n",
            "Actual: 1 predicted: 2\n",
            "/content/drive/MyDrive/CatractImagesMobileNet/dataset2/CGN-DataSet/Test-Dataset/glaucoma/_60_3287251.jpg\n",
            "Found 1 images belonging to 3 classes.\n",
            "1/1 [==============================] - 0s 125ms/step\n",
            "Actual: 1 predicted: 1\n",
            "/content/drive/MyDrive/CatractImagesMobileNet/dataset2/CGN-DataSet/Test-Dataset/glaucoma/_72_3474284.jpg\n",
            "Found 1 images belonging to 3 classes.\n",
            "1/1 [==============================] - 0s 86ms/step\n",
            "Actual: 1 predicted: 1\n",
            "/content/drive/MyDrive/CatractImagesMobileNet/dataset2/CGN-DataSet/Test-Dataset/glaucoma/_73_1527609.jpg\n",
            "Found 1 images belonging to 3 classes.\n",
            "1/1 [==============================] - 0s 80ms/step\n",
            "Actual: 1 predicted: 1\n",
            "/content/drive/MyDrive/CatractImagesMobileNet/dataset2/CGN-DataSet/Test-Dataset/glaucoma/_70_4843073.jpg\n",
            "Found 1 images belonging to 3 classes.\n",
            "1/1 [==============================] - 0s 77ms/step\n",
            "Actual: 1 predicted: 1\n",
            "/content/drive/MyDrive/CatractImagesMobileNet/dataset2/CGN-DataSet/Test-Dataset/glaucoma/_48_3684538.jpg\n",
            "Found 1 images belonging to 3 classes.\n",
            "1/1 [==============================] - 0s 85ms/step\n",
            "Actual: 1 predicted: 1\n",
            "/content/drive/MyDrive/CatractImagesMobileNet/dataset2/CGN-DataSet/Test-Dataset/glaucoma/_57_1814825.jpg\n",
            "Found 1 images belonging to 3 classes.\n",
            "1/1 [==============================] - 0s 80ms/step\n",
            "Actual: 1 predicted: 1\n",
            "/content/drive/MyDrive/CatractImagesMobileNet/dataset2/CGN-DataSet/Test-Dataset/glaucoma/_50_8908104.jpg\n",
            "Found 1 images belonging to 3 classes.\n",
            "1/1 [==============================] - 0s 82ms/step\n",
            "Actual: 1 predicted: 1\n",
            "/content/drive/MyDrive/CatractImagesMobileNet/dataset2/CGN-DataSet/Test-Dataset/glaucoma/_60_6481590.jpg\n",
            "Found 1 images belonging to 3 classes.\n",
            "1/1 [==============================] - 0s 100ms/step\n",
            "Actual: 1 predicted: 0\n",
            "/content/drive/MyDrive/CatractImagesMobileNet/dataset2/CGN-DataSet/Test-Dataset/glaucoma/_65_9130585.jpg\n",
            "Found 1 images belonging to 3 classes.\n",
            "1/1 [==============================] - 0s 82ms/step\n",
            "Actual: 1 predicted: 1\n",
            "/content/drive/MyDrive/CatractImagesMobileNet/dataset2/CGN-DataSet/Test-Dataset/glaucoma/_71_5256438.jpg\n",
            "Found 1 images belonging to 3 classes.\n",
            "1/1 [==============================] - 0s 81ms/step\n",
            "Actual: 1 predicted: 2\n",
            "/content/drive/MyDrive/CatractImagesMobileNet/dataset2/CGN-DataSet/Test-Dataset/glaucoma/_58_180622.jpg\n",
            "Found 1 images belonging to 3 classes.\n",
            "1/1 [==============================] - 0s 76ms/step\n",
            "Actual: 1 predicted: 1\n",
            "/content/drive/MyDrive/CatractImagesMobileNet/dataset2/CGN-DataSet/Test-Dataset/glaucoma/_61_1340813.jpg\n",
            "Found 1 images belonging to 3 classes.\n",
            "1/1 [==============================] - 0s 87ms/step\n",
            "Actual: 1 predicted: 1\n",
            "/content/drive/MyDrive/CatractImagesMobileNet/dataset2/CGN-DataSet/Test-Dataset/glaucoma/_52_3379279.jpg\n",
            "Found 1 images belonging to 3 classes.\n",
            "1/1 [==============================] - 0s 104ms/step\n",
            "Actual: 1 predicted: 2\n",
            "/content/drive/MyDrive/CatractImagesMobileNet/dataset2/CGN-DataSet/Test-Dataset/glaucoma/_59_1911492.jpg\n",
            "Found 1 images belonging to 3 classes.\n",
            "1/1 [==============================] - 0s 84ms/step\n",
            "Actual: 1 predicted: 1\n"
          ]
        }
      ],
      "source": [
        "import os\n",
        "import shutil\n",
        "import numpy as np\n",
        "origin = '/content/drive/MyDrive/CatractImagesMobileNet/dataset2/CGN-DataSet/Test-Dataset/glaucoma/'\n",
        "target1 = '/content/drive/MyDrive/CatractImagesMobileNet/TestCheckCataractGlaucoma/glaucoma/'\n",
        "files = os.listdir(origin)\n",
        "actual=[]\n",
        "predicted=[]\n",
        "values=[]\n",
        "imageName=[]\n",
        "ac=[]\n",
        "pr=[]\n",
        "for file_name in files:\n",
        "    #print(origin+file_name)\n",
        "    #print(target1+file_name)\n",
        "    shutil.copy(origin+file_name, target1+file_name)\n",
        "    imageName.append(str(origin+file_name))\n",
        "    print(str(origin+file_name))\n",
        "    #print(\"Original\" + str(origin+file_name))\n",
        "    test_datagen = ImageDataGenerator(rescale = 1./255)\n",
        "    test_set = test_datagen.flow_from_directory('/content/drive/MyDrive/CatractImagesMobileNet/TestCheckCataractGlaucoma/',\n",
        "                                            target_size = (224, 224),\n",
        "                                            batch_size = 16,\n",
        "                                            class_mode = 'binary')\n",
        "    images,cls = next(test_set)\n",
        "    #print(\"Actual Child\")\n",
        "    pred = model.predict(test_set)\n",
        "\n",
        "    for my_array in pred:\n",
        "      values.append(my_array)\n",
        "      #print(np.argmax(my_array))\n",
        "      max_index = np.argmax(my_array)\n",
        "      print(\"Actual: 1 predicted: \" + str(max_index))\n",
        "      predicted.append(max_index)\n",
        "      actual.append(1)\n",
        "    path = r\"/content/drive/MyDrive/CatractImagesMobileNet/TestCheckCataractGlaucoma/glaucoma/\"\n",
        "    for fileN in os.listdir(path):\n",
        "        # construct full file path\n",
        "        fi = path + fileN\n",
        "        if os.path.isfile(fi):\n",
        "            #print('Deleting file:', fi)\n",
        "            os.remove(fi)"
      ],
      "id": "jutp6OQd5LgH"
    },
    {
      "cell_type": "code",
      "source": [
        "import os\n",
        "import shutil\n",
        "import numpy as np\n",
        "origin = '/content/drive/MyDrive/CatractImagesMobileNet/dataset2/CGN-DataSet/Test-Dataset/cataract/'\n",
        "target1 = '/content/drive/MyDrive/CatractImagesMobileNet/TestCheckCataractGlaucoma/cataract/'\n",
        "files = os.listdir(origin)\n",
        "\n",
        "for file_name in files:\n",
        "    #print(origin+file_name)\n",
        "    #print(target1+file_name)\n",
        "    shutil.copy(origin+file_name, target1+file_name)\n",
        "    imageName.append(str(origin+file_name))\n",
        "    print(str(origin+file_name))\n",
        "    #print(\"Original\" + str(origin+file_name))\n",
        "    test_datagen = ImageDataGenerator(rescale = 1./255)\n",
        "    test_set = test_datagen.flow_from_directory('/content/drive/MyDrive/CatractImagesMobileNet/TestCheckCataractGlaucoma/',\n",
        "                                            target_size = (224, 224),\n",
        "                                            batch_size = 16,\n",
        "                                            class_mode = 'binary')\n",
        "    images,cls = next(test_set)\n",
        "    #print(\"Actual Child\")\n",
        "    pred = model.predict(test_set)\n",
        "\n",
        "    for my_array in pred:\n",
        "      values.append(my_array)\n",
        "      #print(np.argmax(my_array))\n",
        "      max_index = np.argmax(my_array)\n",
        "      print(\"Actual: 0 predicted: \" + str(max_index))\n",
        "      predicted.append(max_index)\n",
        "      actual.append(0)\n",
        "    path = r\"/content/drive/MyDrive/CatractImagesMobileNet/TestCheckCataractGlaucoma/cataract/\"\n",
        "    for fileN in os.listdir(path):\n",
        "        # construct full file path\n",
        "        fi = path + fileN\n",
        "        if os.path.isfile(fi):\n",
        "            #print('Deleting file:', fi)\n",
        "            os.remove(fi)"
      ],
      "metadata": {
        "colab": {
          "base_uri": "https://localhost:8080/"
        },
        "id": "KoMaxBsAc2kv",
        "outputId": "8c4b7c57-4330-4c9a-9f18-a7af8852b97b"
      },
      "execution_count": 19,
      "outputs": [
        {
          "output_type": "stream",
          "name": "stdout",
          "text": [
            "/content/drive/MyDrive/CatractImagesMobileNet/dataset2/CGN-DataSet/Test-Dataset/cataract/_54_2420057.jpg\n",
            "Found 1 images belonging to 3 classes.\n",
            "1/1 [==============================] - 0s 106ms/step\n",
            "Actual: 0 predicted: 0\n",
            "/content/drive/MyDrive/CatractImagesMobileNet/dataset2/CGN-DataSet/Test-Dataset/cataract/_61_2475173.jpg\n",
            "Found 1 images belonging to 3 classes.\n",
            "1/1 [==============================] - 0s 82ms/step\n",
            "Actual: 0 predicted: 0\n",
            "/content/drive/MyDrive/CatractImagesMobileNet/dataset2/CGN-DataSet/Test-Dataset/cataract/_63_7923836.jpg\n",
            "Found 1 images belonging to 3 classes.\n",
            "1/1 [==============================] - 0s 83ms/step\n",
            "Actual: 0 predicted: 1\n",
            "/content/drive/MyDrive/CatractImagesMobileNet/dataset2/CGN-DataSet/Test-Dataset/cataract/_48_1110786.jpg\n",
            "Found 1 images belonging to 3 classes.\n",
            "1/1 [==============================] - 0s 80ms/step\n",
            "Actual: 0 predicted: 0\n",
            "/content/drive/MyDrive/CatractImagesMobileNet/dataset2/CGN-DataSet/Test-Dataset/cataract/_57_8463167.jpg\n",
            "Found 1 images belonging to 3 classes.\n",
            "1/1 [==============================] - 0s 82ms/step\n",
            "Actual: 0 predicted: 1\n",
            "/content/drive/MyDrive/CatractImagesMobileNet/dataset2/CGN-DataSet/Test-Dataset/cataract/_57_3959793.jpg\n",
            "Found 1 images belonging to 3 classes.\n",
            "1/1 [==============================] - 0s 84ms/step\n",
            "Actual: 0 predicted: 0\n",
            "/content/drive/MyDrive/CatractImagesMobileNet/dataset2/CGN-DataSet/Test-Dataset/cataract/_61_3633947.jpg\n",
            "Found 1 images belonging to 3 classes.\n",
            "1/1 [==============================] - 0s 119ms/step\n",
            "Actual: 0 predicted: 1\n",
            "/content/drive/MyDrive/CatractImagesMobileNet/dataset2/CGN-DataSet/Test-Dataset/cataract/_54_6540326.jpg\n",
            "Found 1 images belonging to 3 classes.\n",
            "1/1 [==============================] - 0s 81ms/step\n",
            "Actual: 0 predicted: 0\n",
            "/content/drive/MyDrive/CatractImagesMobileNet/dataset2/CGN-DataSet/Test-Dataset/cataract/_55_8463221.jpg\n",
            "Found 1 images belonging to 3 classes.\n",
            "1/1 [==============================] - 0s 82ms/step\n",
            "Actual: 0 predicted: 0\n",
            "/content/drive/MyDrive/CatractImagesMobileNet/dataset2/CGN-DataSet/Test-Dataset/cataract/_63_4246818.jpg\n",
            "Found 1 images belonging to 3 classes.\n",
            "1/1 [==============================] - 0s 76ms/step\n",
            "Actual: 0 predicted: 1\n",
            "/content/drive/MyDrive/CatractImagesMobileNet/dataset2/CGN-DataSet/Test-Dataset/cataract/_48_7953833.jpg\n",
            "Found 1 images belonging to 3 classes.\n",
            "1/1 [==============================] - 0s 81ms/step\n",
            "Actual: 0 predicted: 0\n",
            "/content/drive/MyDrive/CatractImagesMobileNet/dataset2/CGN-DataSet/Test-Dataset/cataract/_52_3704655.jpg\n",
            "Found 1 images belonging to 3 classes.\n",
            "1/1 [==============================] - 0s 130ms/step\n",
            "Actual: 0 predicted: 0\n",
            "/content/drive/MyDrive/CatractImagesMobileNet/dataset2/CGN-DataSet/Test-Dataset/cataract/_46_4314985.jpg\n",
            "Found 1 images belonging to 3 classes.\n",
            "1/1 [==============================] - 0s 113ms/step\n",
            "Actual: 0 predicted: 0\n",
            "/content/drive/MyDrive/CatractImagesMobileNet/dataset2/CGN-DataSet/Test-Dataset/cataract/_49_2405371.jpg\n",
            "Found 1 images belonging to 3 classes.\n",
            "1/1 [==============================] - 0s 112ms/step\n",
            "Actual: 0 predicted: 0\n",
            "/content/drive/MyDrive/CatractImagesMobileNet/dataset2/CGN-DataSet/Test-Dataset/cataract/_66_625523.jpg\n",
            "Found 1 images belonging to 3 classes.\n",
            "1/1 [==============================] - 0s 112ms/step\n",
            "Actual: 0 predicted: 0\n",
            "/content/drive/MyDrive/CatractImagesMobileNet/dataset2/CGN-DataSet/Test-Dataset/cataract/_65_5167591.jpg\n",
            "Found 1 images belonging to 3 classes.\n",
            "1/1 [==============================] - 0s 131ms/step\n",
            "Actual: 0 predicted: 0\n",
            "/content/drive/MyDrive/CatractImagesMobileNet/dataset2/CGN-DataSet/Test-Dataset/cataract/_49_1539697.jpg\n",
            "Found 1 images belonging to 3 classes.\n",
            "1/1 [==============================] - 0s 137ms/step\n",
            "Actual: 0 predicted: 0\n",
            "/content/drive/MyDrive/CatractImagesMobileNet/dataset2/CGN-DataSet/Test-Dataset/cataract/_50_3163122.jpg\n",
            "Found 1 images belonging to 3 classes.\n",
            "1/1 [==============================] - 0s 116ms/step\n",
            "Actual: 0 predicted: 0\n",
            "/content/drive/MyDrive/CatractImagesMobileNet/dataset2/CGN-DataSet/Test-Dataset/cataract/_58_7683562.jpg\n",
            "Found 1 images belonging to 3 classes.\n",
            "1/1 [==============================] - 0s 122ms/step\n",
            "Actual: 0 predicted: 0\n",
            "/content/drive/MyDrive/CatractImagesMobileNet/dataset2/CGN-DataSet/Test-Dataset/cataract/_62_4939088.jpg\n",
            "Found 1 images belonging to 3 classes.\n",
            "1/1 [==============================] - 0s 126ms/step\n",
            "Actual: 0 predicted: 1\n",
            "/content/drive/MyDrive/CatractImagesMobileNet/dataset2/CGN-DataSet/Test-Dataset/cataract/_59_2574195.jpg\n",
            "Found 1 images belonging to 3 classes.\n",
            "1/1 [==============================] - 0s 142ms/step\n",
            "Actual: 0 predicted: 0\n",
            "/content/drive/MyDrive/CatractImagesMobileNet/dataset2/CGN-DataSet/Test-Dataset/cataract/_50_1920746.jpg\n",
            "Found 1 images belonging to 3 classes.\n",
            "1/1 [==============================] - 0s 113ms/step\n",
            "Actual: 0 predicted: 0\n",
            "/content/drive/MyDrive/CatractImagesMobileNet/dataset2/CGN-DataSet/Test-Dataset/cataract/_46_7308563.jpg\n",
            "Found 1 images belonging to 3 classes.\n",
            "1/1 [==============================] - 0s 123ms/step\n",
            "Actual: 0 predicted: 0\n",
            "/content/drive/MyDrive/CatractImagesMobileNet/dataset2/CGN-DataSet/Test-Dataset/cataract/_53_8912600.jpg\n",
            "Found 1 images belonging to 3 classes.\n",
            "1/1 [==============================] - 0s 129ms/step\n",
            "Actual: 0 predicted: 0\n",
            "/content/drive/MyDrive/CatractImagesMobileNet/dataset2/CGN-DataSet/Test-Dataset/cataract/_64_5229674.jpg\n",
            "Found 1 images belonging to 3 classes.\n",
            "1/1 [==============================] - 0s 133ms/step\n",
            "Actual: 0 predicted: 0\n",
            "/content/drive/MyDrive/CatractImagesMobileNet/dataset2/CGN-DataSet/Test-Dataset/cataract/_47_4608506.jpg\n",
            "Found 1 images belonging to 3 classes.\n",
            "1/1 [==============================] - 0s 105ms/step\n",
            "Actual: 0 predicted: 0\n",
            "/content/drive/MyDrive/CatractImagesMobileNet/dataset2/CGN-DataSet/Test-Dataset/cataract/_60_2561089.jpg\n",
            "Found 1 images belonging to 3 classes.\n",
            "1/1 [==============================] - 0s 78ms/step\n",
            "Actual: 0 predicted: 0\n",
            "/content/drive/MyDrive/CatractImagesMobileNet/dataset2/CGN-DataSet/Test-Dataset/cataract/_51_7561724.jpg\n",
            "Found 1 images belonging to 3 classes.\n",
            "1/1 [==============================] - 0s 89ms/step\n",
            "Actual: 0 predicted: 0\n",
            "/content/drive/MyDrive/CatractImagesMobileNet/dataset2/CGN-DataSet/Test-Dataset/cataract/_60_7070159.jpg\n",
            "Found 1 images belonging to 3 classes.\n",
            "1/1 [==============================] - 0s 80ms/step\n",
            "Actual: 0 predicted: 0\n",
            "/content/drive/MyDrive/CatractImagesMobileNet/dataset2/CGN-DataSet/Test-Dataset/cataract/_62_4386293.jpg\n",
            "Found 1 images belonging to 3 classes.\n",
            "1/1 [==============================] - 0s 100ms/step\n",
            "Actual: 0 predicted: 1\n",
            "/content/drive/MyDrive/CatractImagesMobileNet/dataset2/CGN-DataSet/Test-Dataset/cataract/_52_7569766.jpg\n",
            "Found 1 images belonging to 3 classes.\n",
            "1/1 [==============================] - 0s 81ms/step\n",
            "Actual: 0 predicted: 0\n",
            "/content/drive/MyDrive/CatractImagesMobileNet/dataset2/CGN-DataSet/Test-Dataset/cataract/_49_7277741.jpg\n",
            "Found 1 images belonging to 3 classes.\n",
            "1/1 [==============================] - 0s 89ms/step\n",
            "Actual: 0 predicted: 0\n",
            "/content/drive/MyDrive/CatractImagesMobileNet/dataset2/CGN-DataSet/Test-Dataset/cataract/_62_9491665.jpg\n",
            "Found 1 images belonging to 3 classes.\n",
            "1/1 [==============================] - 0s 93ms/step\n",
            "Actual: 0 predicted: 0\n",
            "/content/drive/MyDrive/CatractImagesMobileNet/dataset2/CGN-DataSet/Test-Dataset/cataract/_56_3359017.jpg\n",
            "Found 1 images belonging to 3 classes.\n",
            "1/1 [==============================] - 0s 81ms/step\n",
            "Actual: 0 predicted: 0\n",
            "/content/drive/MyDrive/CatractImagesMobileNet/dataset2/CGN-DataSet/Test-Dataset/cataract/_59_8958387.jpg\n",
            "Found 1 images belonging to 3 classes.\n",
            "1/1 [==============================] - 0s 107ms/step\n",
            "Actual: 0 predicted: 0\n",
            "/content/drive/MyDrive/CatractImagesMobileNet/dataset2/CGN-DataSet/Test-Dataset/cataract/_64_2615880.jpg\n",
            "Found 1 images belonging to 3 classes.\n",
            "1/1 [==============================] - 0s 81ms/step\n",
            "Actual: 0 predicted: 0\n"
          ]
        }
      ],
      "id": "KoMaxBsAc2kv"
    },
    {
      "cell_type": "code",
      "source": [],
      "metadata": {
        "id": "sxREUCdy5E0B"
      },
      "id": "sxREUCdy5E0B",
      "execution_count": null,
      "outputs": []
    },
    {
      "cell_type": "code",
      "source": [
        "import os\n",
        "import shutil\n",
        "import numpy as np\n",
        "origin = '/content/drive/MyDrive/CatractImagesMobileNet/dataset2/CGN-DataSet/Test-Dataset/normal/'\n",
        "target1 = '/content/drive/MyDrive/CatractImagesMobileNet/TestCheckCataractGlaucoma/normal/'\n",
        "files = os.listdir(origin)\n",
        "\n",
        "for file_name in files:\n",
        "    #print(origin+file_name)\n",
        "    #print(target1+file_name)\n",
        "    shutil.copy(origin+file_name, target1+file_name)\n",
        "    imageName.append(str(origin+file_name))\n",
        "    print(str(origin+file_name))\n",
        "    #print(\"Original\" + str(origin+file_name))\n",
        "    test_datagen = ImageDataGenerator(rescale = 1./255)\n",
        "    test_set = test_datagen.flow_from_directory('/content/drive/MyDrive/CatractImagesMobileNet/TestCheckCataractGlaucoma/',\n",
        "                                            target_size = (224, 224),\n",
        "                                            batch_size = 16,\n",
        "                                            class_mode = 'binary')\n",
        "    images,cls = next(test_set)\n",
        "    #print(\"Actual Child\")\n",
        "    pred = model.predict(test_set)\n",
        "\n",
        "    for my_array in pred:\n",
        "      values.append(my_array)\n",
        "      #print(np.argmax(my_array))\n",
        "      max_index = np.argmax(my_array)\n",
        "      print(\"Actual: 2 predicted: \" + str(max_index))\n",
        "      predicted.append(max_index)\n",
        "      actual.append(2)\n",
        "    path = r\"/content/drive/MyDrive/CatractImagesMobileNet/TestCheckCataractGlaucoma/normal/\"\n",
        "    for fileN in os.listdir(path):\n",
        "        # construct full file path\n",
        "        fi = path + fileN\n",
        "        if os.path.isfile(fi):\n",
        "            #print('Deleting file:', fi)\n",
        "            os.remove(fi)"
      ],
      "metadata": {
        "colab": {
          "base_uri": "https://localhost:8080/"
        },
        "id": "E4wsFLp-c2n3",
        "outputId": "9c99eb48-4649-4c84-ff35-03186b613cd4"
      },
      "execution_count": 20,
      "outputs": [
        {
          "output_type": "stream",
          "name": "stdout",
          "text": [
            "/content/drive/MyDrive/CatractImagesMobileNet/dataset2/CGN-DataSet/Test-Dataset/normal/2383_left.jpg\n",
            "Found 1 images belonging to 3 classes.\n",
            "1/1 [==============================] - 0s 95ms/step\n",
            "Actual: 2 predicted: 2\n",
            "/content/drive/MyDrive/CatractImagesMobileNet/dataset2/CGN-DataSet/Test-Dataset/normal/2397_left.jpg\n",
            "Found 1 images belonging to 3 classes.\n",
            "1/1 [==============================] - 0s 83ms/step\n",
            "Actual: 2 predicted: 2\n",
            "/content/drive/MyDrive/CatractImagesMobileNet/dataset2/CGN-DataSet/Test-Dataset/normal/2393_right.jpg\n",
            "Found 1 images belonging to 3 classes.\n",
            "1/1 [==============================] - 0s 81ms/step\n",
            "Actual: 2 predicted: 2\n",
            "/content/drive/MyDrive/CatractImagesMobileNet/dataset2/CGN-DataSet/Test-Dataset/normal/2408_left.jpg\n",
            "Found 1 images belonging to 3 classes.\n",
            "1/1 [==============================] - 0s 105ms/step\n",
            "Actual: 2 predicted: 2\n",
            "/content/drive/MyDrive/CatractImagesMobileNet/dataset2/CGN-DataSet/Test-Dataset/normal/2408_right.jpg\n",
            "Found 1 images belonging to 3 classes.\n",
            "1/1 [==============================] - 0s 82ms/step\n",
            "Actual: 2 predicted: 2\n",
            "/content/drive/MyDrive/CatractImagesMobileNet/dataset2/CGN-DataSet/Test-Dataset/normal/2384_right.jpg\n",
            "Found 1 images belonging to 3 classes.\n",
            "1/1 [==============================] - 0s 89ms/step\n",
            "Actual: 2 predicted: 2\n",
            "/content/drive/MyDrive/CatractImagesMobileNet/dataset2/CGN-DataSet/Test-Dataset/normal/2395_right.jpg\n",
            "Found 1 images belonging to 3 classes.\n",
            "1/1 [==============================] - 0s 84ms/step\n",
            "Actual: 2 predicted: 2\n",
            "/content/drive/MyDrive/CatractImagesMobileNet/dataset2/CGN-DataSet/Test-Dataset/normal/2394_right.jpg\n",
            "Found 1 images belonging to 3 classes.\n",
            "1/1 [==============================] - 0s 83ms/step\n",
            "Actual: 2 predicted: 2\n",
            "/content/drive/MyDrive/CatractImagesMobileNet/dataset2/CGN-DataSet/Test-Dataset/normal/2388_left.jpg\n",
            "Found 1 images belonging to 3 classes.\n",
            "1/1 [==============================] - 0s 88ms/step\n",
            "Actual: 2 predicted: 2\n",
            "/content/drive/MyDrive/CatractImagesMobileNet/dataset2/CGN-DataSet/Test-Dataset/normal/2410_left.jpg\n",
            "Found 1 images belonging to 3 classes.\n",
            "1/1 [==============================] - 0s 84ms/step\n",
            "Actual: 2 predicted: 2\n",
            "/content/drive/MyDrive/CatractImagesMobileNet/dataset2/CGN-DataSet/Test-Dataset/normal/2418_right.jpg\n",
            "Found 1 images belonging to 3 classes.\n",
            "1/1 [==============================] - 0s 86ms/step\n",
            "Actual: 2 predicted: 2\n",
            "/content/drive/MyDrive/CatractImagesMobileNet/dataset2/CGN-DataSet/Test-Dataset/normal/2399_right.jpg\n",
            "Found 1 images belonging to 3 classes.\n",
            "1/1 [==============================] - 0s 91ms/step\n",
            "Actual: 2 predicted: 2\n",
            "/content/drive/MyDrive/CatractImagesMobileNet/dataset2/CGN-DataSet/Test-Dataset/normal/2383_right.jpg\n",
            "Found 1 images belonging to 3 classes.\n",
            "1/1 [==============================] - 0s 104ms/step\n",
            "Actual: 2 predicted: 2\n",
            "/content/drive/MyDrive/CatractImagesMobileNet/dataset2/CGN-DataSet/Test-Dataset/normal/2393_left.jpg\n",
            "Found 1 images belonging to 3 classes.\n",
            "1/1 [==============================] - 0s 92ms/step\n",
            "Actual: 2 predicted: 2\n",
            "/content/drive/MyDrive/CatractImagesMobileNet/dataset2/CGN-DataSet/Test-Dataset/normal/2389_right.jpg\n",
            "Found 1 images belonging to 3 classes.\n",
            "1/1 [==============================] - 0s 78ms/step\n",
            "Actual: 2 predicted: 2\n",
            "/content/drive/MyDrive/CatractImagesMobileNet/dataset2/CGN-DataSet/Test-Dataset/normal/2397_right.jpg\n",
            "Found 1 images belonging to 3 classes.\n",
            "1/1 [==============================] - 0s 85ms/step\n",
            "Actual: 2 predicted: 2\n",
            "/content/drive/MyDrive/CatractImagesMobileNet/dataset2/CGN-DataSet/Test-Dataset/normal/2396_left.jpg\n",
            "Found 1 images belonging to 3 classes.\n",
            "1/1 [==============================] - 0s 86ms/step\n",
            "Actual: 2 predicted: 2\n",
            "/content/drive/MyDrive/CatractImagesMobileNet/dataset2/CGN-DataSet/Test-Dataset/normal/2415_right.jpg\n",
            "Found 1 images belonging to 3 classes.\n",
            "1/1 [==============================] - 0s 85ms/step\n",
            "Actual: 2 predicted: 2\n",
            "/content/drive/MyDrive/CatractImagesMobileNet/dataset2/CGN-DataSet/Test-Dataset/normal/2403_right.jpg\n",
            "Found 1 images belonging to 3 classes.\n",
            "1/1 [==============================] - 0s 102ms/step\n",
            "Actual: 2 predicted: 2\n",
            "/content/drive/MyDrive/CatractImagesMobileNet/dataset2/CGN-DataSet/Test-Dataset/normal/2419_right.jpg\n",
            "Found 1 images belonging to 3 classes.\n",
            "1/1 [==============================] - 0s 88ms/step\n",
            "Actual: 2 predicted: 2\n",
            "/content/drive/MyDrive/CatractImagesMobileNet/dataset2/CGN-DataSet/Test-Dataset/normal/2399_left.jpg\n",
            "Found 1 images belonging to 3 classes.\n",
            "1/1 [==============================] - 0s 87ms/step\n",
            "Actual: 2 predicted: 2\n",
            "/content/drive/MyDrive/CatractImagesMobileNet/dataset2/CGN-DataSet/Test-Dataset/normal/2394_left.jpg\n",
            "Found 1 images belonging to 3 classes.\n",
            "1/1 [==============================] - 0s 128ms/step\n",
            "Actual: 2 predicted: 2\n",
            "/content/drive/MyDrive/CatractImagesMobileNet/dataset2/CGN-DataSet/Test-Dataset/normal/2389_left.jpg\n",
            "Found 1 images belonging to 3 classes.\n",
            "1/1 [==============================] - 0s 133ms/step\n",
            "Actual: 2 predicted: 2\n",
            "/content/drive/MyDrive/CatractImagesMobileNet/dataset2/CGN-DataSet/Test-Dataset/normal/2386_right.jpg\n",
            "Found 1 images belonging to 3 classes.\n",
            "1/1 [==============================] - 0s 147ms/step\n",
            "Actual: 2 predicted: 2\n",
            "/content/drive/MyDrive/CatractImagesMobileNet/dataset2/CGN-DataSet/Test-Dataset/normal/2403_left.jpg\n",
            "Found 1 images belonging to 3 classes.\n",
            "1/1 [==============================] - 0s 122ms/step\n",
            "Actual: 2 predicted: 2\n",
            "/content/drive/MyDrive/CatractImagesMobileNet/dataset2/CGN-DataSet/Test-Dataset/normal/2384_left.jpg\n",
            "Found 1 images belonging to 3 classes.\n",
            "1/1 [==============================] - 0s 140ms/step\n",
            "Actual: 2 predicted: 2\n",
            "/content/drive/MyDrive/CatractImagesMobileNet/dataset2/CGN-DataSet/Test-Dataset/normal/2418_left.jpg\n",
            "Found 1 images belonging to 3 classes.\n",
            "1/1 [==============================] - 0s 136ms/step\n",
            "Actual: 2 predicted: 2\n",
            "/content/drive/MyDrive/CatractImagesMobileNet/dataset2/CGN-DataSet/Test-Dataset/normal/2410_right.jpg\n",
            "Found 1 images belonging to 3 classes.\n",
            "1/1 [==============================] - 0s 122ms/step\n",
            "Actual: 2 predicted: 2\n",
            "/content/drive/MyDrive/CatractImagesMobileNet/dataset2/CGN-DataSet/Test-Dataset/normal/2396_right.jpg\n",
            "Found 1 images belonging to 3 classes.\n",
            "1/1 [==============================] - 0s 127ms/step\n",
            "Actual: 2 predicted: 2\n",
            "/content/drive/MyDrive/CatractImagesMobileNet/dataset2/CGN-DataSet/Test-Dataset/normal/2419_left.jpg\n",
            "Found 1 images belonging to 3 classes.\n",
            "1/1 [==============================] - 0s 130ms/step\n",
            "Actual: 2 predicted: 2\n",
            "/content/drive/MyDrive/CatractImagesMobileNet/dataset2/CGN-DataSet/Test-Dataset/normal/2382_right.jpg\n",
            "Found 1 images belonging to 3 classes.\n",
            "1/1 [==============================] - 0s 125ms/step\n",
            "Actual: 2 predicted: 2\n",
            "/content/drive/MyDrive/CatractImagesMobileNet/dataset2/CGN-DataSet/Test-Dataset/normal/2386_left.jpg\n",
            "Found 1 images belonging to 3 classes.\n",
            "1/1 [==============================] - 0s 123ms/step\n",
            "Actual: 2 predicted: 2\n",
            "/content/drive/MyDrive/CatractImagesMobileNet/dataset2/CGN-DataSet/Test-Dataset/normal/2400_right.jpg\n",
            "Found 1 images belonging to 3 classes.\n",
            "1/1 [==============================] - 0s 134ms/step\n",
            "Actual: 2 predicted: 2\n",
            "/content/drive/MyDrive/CatractImagesMobileNet/dataset2/CGN-DataSet/Test-Dataset/normal/2388_right.jpg\n",
            "Found 1 images belonging to 3 classes.\n",
            "1/1 [==============================] - 0s 136ms/step\n",
            "Actual: 2 predicted: 2\n",
            "/content/drive/MyDrive/CatractImagesMobileNet/dataset2/CGN-DataSet/Test-Dataset/normal/2395_left.jpg\n",
            "Found 1 images belonging to 3 classes.\n",
            "1/1 [==============================] - 0s 130ms/step\n",
            "Actual: 2 predicted: 2\n",
            "/content/drive/MyDrive/CatractImagesMobileNet/dataset2/CGN-DataSet/Test-Dataset/normal/2415_left.jpg\n",
            "Found 1 images belonging to 3 classes.\n",
            "1/1 [==============================] - 0s 90ms/step\n",
            "Actual: 2 predicted: 2\n"
          ]
        }
      ],
      "id": "E4wsFLp-c2n3"
    },
    {
      "cell_type": "code",
      "source": [
        "from sklearn.metrics import confusion_matrix\n",
        "cm = confusion_matrix(actual, predicted)"
      ],
      "metadata": {
        "id": "DwcvUopI5E3Q"
      },
      "id": "DwcvUopI5E3Q",
      "execution_count": 21,
      "outputs": []
    },
    {
      "cell_type": "code",
      "source": [
        "cm"
      ],
      "metadata": {
        "colab": {
          "base_uri": "https://localhost:8080/"
        },
        "id": "ZclTFhrC5E59",
        "outputId": "0b772b1a-3541-4f45-d226-60993f75fde5"
      },
      "id": "ZclTFhrC5E59",
      "execution_count": 22,
      "outputs": [
        {
          "output_type": "execute_result",
          "data": {
            "text/plain": [
              "array([[30,  6,  0],\n",
              "       [ 2, 30,  4],\n",
              "       [ 0,  0, 36]])"
            ]
          },
          "metadata": {},
          "execution_count": 22
        }
      ]
    },
    {
      "cell_type": "code",
      "source": [
        "from sklearn.metrics import classification_report\n",
        "print(classification_report(actual, predicted))"
      ],
      "metadata": {
        "colab": {
          "base_uri": "https://localhost:8080/"
        },
        "id": "PHkSnmHf5E86",
        "outputId": "e0a43223-a514-499e-f972-86325dd3052d"
      },
      "id": "PHkSnmHf5E86",
      "execution_count": 23,
      "outputs": [
        {
          "output_type": "stream",
          "name": "stdout",
          "text": [
            "              precision    recall  f1-score   support\n",
            "\n",
            "           0       0.94      0.83      0.88        36\n",
            "           1       0.83      0.83      0.83        36\n",
            "           2       0.90      1.00      0.95        36\n",
            "\n",
            "    accuracy                           0.89       108\n",
            "   macro avg       0.89      0.89      0.89       108\n",
            "weighted avg       0.89      0.89      0.89       108\n",
            "\n"
          ]
        }
      ]
    },
    {
      "cell_type": "code",
      "source": [
        "from sklearn.metrics import confusion_matrix\n",
        "from matplotlib import pyplot as plt\n",
        "import seaborn as sns\n",
        "#predictions = model.predict(x_test, steps=len(x_test), verbose=0)\n",
        "#y_pred=model.predict(x_test)\n",
        "#y_pred = np.round(y_pred)\n",
        "\n",
        "y_pred = np.argmax(predicted, axis=-1)\n",
        "\n",
        "y_true=np.argmax(actual, axis=-1)\n",
        "\n",
        "cm = confusion_matrix(actual, predicted)\n",
        "\n",
        "## Get Class Labels\n",
        "#labels = le.classes_\n",
        "class_names = [0,1,2]\n",
        "\n",
        "# Plot confusion matrix in a beautiful manner\n",
        "fig = plt.figure(figsize=(5, 5))\n",
        "ax= plt.subplot()\n",
        "sns.heatmap(cm, annot=True, ax = ax, fmt = 'g'); #annot=True to annotate cells\n",
        "# labels, title and ticks\n",
        "ax.set_xlabel('Predicted', fontsize=20)\n",
        "ax.xaxis.set_label_position('bottom')\n",
        "plt.xticks(rotation=90)\n",
        "ax.xaxis.set_ticklabels(class_names, fontsize = 10)\n",
        "ax.xaxis.tick_bottom()\n",
        "\n",
        "ax.set_ylabel('True', fontsize=20)\n",
        "ax.yaxis.set_ticklabels(class_names, fontsize = 10)\n",
        "plt.yticks(rotation=0)\n",
        "\n",
        "plt.title('Confusion Matrix on Cataract, Glaucoma and Normal Eye using MobileNetV2 on Dataset2', fontsize=10)"
      ],
      "metadata": {
        "colab": {
          "base_uri": "https://localhost:8080/",
          "height": 510
        },
        "id": "XNrCvKv15E_l",
        "outputId": "97faa6d0-08b7-49ad-91d4-7fbf7fe0f39f"
      },
      "id": "XNrCvKv15E_l",
      "execution_count": 24,
      "outputs": [
        {
          "output_type": "execute_result",
          "data": {
            "text/plain": [
              "Text(0.5, 1.0, 'Confusion Matrix on Cataract, Glaucoma and Normal Eye using MobileNetV2 on Dataset2')"
            ]
          },
          "metadata": {},
          "execution_count": 24
        },
        {
          "output_type": "display_data",
          "data": {
            "text/plain": [
              "<Figure size 500x500 with 2 Axes>"
            ],
            "image/png": "[encoded data removed]"
          },
          "metadata": {}
        }
      ]
    },
    {
      "cell_type": "code",
      "source": [],
      "metadata": {
        "id": "5ieJx4Zu5FCk"
      },
      "id": "5ieJx4Zu5FCk",
      "execution_count": null,
      "outputs": []
    },
    {
      "cell_type": "code",
      "source": [],
      "metadata": {
        "id": "UqyR6AbSvai8"
      },
      "id": "UqyR6AbSvai8",
      "execution_count": null,
      "outputs": []
    },
    {
      "cell_type": "code",
      "source": [],
      "metadata": {
        "id": "67tfMd7LvamX"
      },
      "id": "67tfMd7LvamX",
      "execution_count": null,
      "outputs": []
    },
    {
      "cell_type": "code",
      "source": [],
      "metadata": {
        "id": "beUlQUEXvapC"
      },
      "id": "beUlQUEXvapC",
      "execution_count": null,
      "outputs": []
    },
    {
      "cell_type": "code",
      "source": [],
      "metadata": {
        "id": "k64tImGhvarx"
      },
      "id": "k64tImGhvarx",
      "execution_count": null,
      "outputs": []
    },
    {
      "cell_type": "code",
      "execution_count": null,
      "id": "4b195fc1",
      "metadata": {
        "id": "4b195fc1",
        "outputId": "728a5a3c-25e4-4966-a741-7b7765318833"
      },
      "outputs": [
        {
          "data": {
            "image/png": "[encoded data removed]",
            "text/plain": [
              "<Figure size 144x144 with 1 Axes>"
            ]
          },
          "metadata": {
            "needs_background": "light"
          },
          "output_type": "display_data"
        }
      ],
      "source": [
        "import pandas as pd\n",
        "pd.DataFrame(r.history).plot(figsize=(2,2))\n",
        "plt.show()"
      ]
    },
    {
      "cell_type": "code",
      "execution_count": null,
      "id": "d4d5ac6f",
      "metadata": {
        "id": "d4d5ac6f",
        "outputId": "f0a170b2-6c22-4b57-f272-7c2697dbcf3a"
      },
      "outputs": [
        {
          "name": "stdout",
          "output_type": "stream",
          "text": [
            "2/2 [==============================] - 1s 687ms/step - loss: 1.3549 - accuracy: 0.8500\n",
            "0.8500000238418579\n",
            "1.3548550605773926\n"
          ]
        }
      ],
      "source": [
        "a, acc = model.evaluate(test_set)\n",
        "print(acc)\n",
        "print(a)"
      ]
    },
    {
      "cell_type": "code",
      "execution_count": null,
      "id": "548eb945",
      "metadata": {
        "id": "548eb945",
        "outputId": "c5655cc1-0bed-4f41-fcd7-7753b80a6a15"
      },
      "outputs": [
        {
          "name": "stdout",
          "output_type": "stream",
          "text": [
            "WARNING:tensorflow:From C:\\Users\\saqib\\anaconda3\\envs\\TF\\lib\\site-packages\\tensorflow\\python\\training\\tracking\\tracking.py:111: Model.state_updates (from tensorflow.python.keras.engine.training) is deprecated and will be removed in a future version.\n",
            "Instructions for updating:\n",
            "This property should not be used in TensorFlow 2.0, as updates are applied automatically.\n",
            "WARNING:tensorflow:From C:\\Users\\saqib\\anaconda3\\envs\\TF\\lib\\site-packages\\tensorflow\\python\\training\\tracking\\tracking.py:111: Layer.updates (from tensorflow.python.keras.engine.base_layer) is deprecated and will be removed in a future version.\n",
            "Instructions for updating:\n",
            "This property should not be used in TensorFlow 2.0, as updates are applied automatically.\n",
            "INFO:tensorflow:Assets written to: D:/CatractImagesMobileNet/cataract/Mobile114Model.h4\\assets\n"
          ]
        }
      ],
      "source": [
        "model.save(\"D:/CatractImagesMobileNet/cataract/Mobile114Model.h4\")"
      ]
    },
    {
      "cell_type": "code",
      "execution_count": null,
      "id": "d8dfe263",
      "metadata": {
        "id": "d8dfe263"
      },
      "outputs": [],
      "source": []
    },
    {
      "cell_type": "code",
      "execution_count": null,
      "id": "8961a368",
      "metadata": {
        "id": "8961a368",
        "outputId": "8c04092b-cd17-4240-a942-6877247be2d5"
      },
      "outputs": [
        {
          "name": "stdout",
          "output_type": "stream",
          "text": [
            "Found 60 images belonging to 3 classes.\n",
            "[[2.49519242e-11 2.47780547e-01 7.52219439e-01]\n",
            " [2.41188809e-05 9.73577440e-01 2.63983943e-02]\n",
            " [7.62274476e-06 1.52704818e-02 9.84721959e-01]\n",
            " [1.18594766e-02 7.99362257e-04 9.87341106e-01]\n",
            " [1.94476114e-03 8.30797672e-01 1.67257637e-01]\n",
            " [8.48078728e-01 9.00931098e-03 1.42911986e-01]\n",
            " [3.73410280e-09 3.58956214e-07 9.99999642e-01]\n",
            " [1.00000000e+00 4.54564580e-11 1.38369876e-08]\n",
            " [1.00000000e+00 2.00479771e-19 1.85224400e-15]\n",
            " [1.00000000e+00 6.71675290e-17 2.36046043e-14]\n",
            " [6.94349609e-08 8.28748107e-01 1.71251804e-01]\n",
            " [2.28930373e-13 5.76102780e-03 9.94238973e-01]\n",
            " [4.96846383e-07 9.99228954e-01 7.70588755e-04]\n",
            " [1.39434915e-03 3.03311943e-04 9.98302341e-01]\n",
            " [1.64013656e-08 8.94026816e-05 9.99910593e-01]\n",
            " [3.50884426e-11 9.93067503e-01 6.93249982e-03]\n",
            " [1.24498212e-04 6.17173791e-01 3.82701725e-01]\n",
            " [1.41064555e-03 2.59616852e-01 7.38972545e-01]\n",
            " [9.13949430e-01 5.39068952e-02 3.21437232e-02]\n",
            " [1.00000000e+00 9.56849837e-15 3.95148046e-11]\n",
            " [9.99999404e-01 1.93623562e-10 5.97609926e-07]\n",
            " [1.01074902e-03 1.96052175e-02 9.79384005e-01]\n",
            " [4.32033448e-06 1.54616905e-03 9.98449445e-01]\n",
            " [9.99999881e-01 5.06704345e-10 1.42845337e-07]\n",
            " [8.99212599e-01 3.13943736e-02 6.93930164e-02]\n",
            " [9.99999762e-01 2.01676092e-10 2.84210302e-07]\n",
            " [5.33198499e-06 1.61020015e-03 9.98384476e-01]\n",
            " [3.05660819e-07 4.57647957e-06 9.99995112e-01]\n",
            " [1.00000000e+00 7.32405564e-13 4.80265439e-10]\n",
            " [2.59995635e-04 1.22391339e-03 9.98516142e-01]\n",
            " [9.86004174e-01 1.68168353e-05 1.39789851e-02]\n",
            " [7.12599890e-09 9.98454213e-01 1.54572900e-03]\n",
            " [1.33163482e-07 3.49720061e-01 6.50279820e-01]\n",
            " [9.99912620e-01 9.12802307e-07 8.64747344e-05]\n",
            " [9.99999523e-01 3.65456576e-09 5.00277963e-07]\n",
            " [5.43887495e-08 8.96932408e-02 9.10306692e-01]\n",
            " [1.00000000e+00 5.16192124e-13 1.67458780e-09]\n",
            " [4.38283314e-06 9.16915953e-01 8.30796883e-02]\n",
            " [1.31746419e-04 9.88928318e-01 1.09399315e-02]\n",
            " [8.83402026e-06 9.42559838e-01 5.74313588e-02]\n",
            " [9.95806694e-01 5.81253062e-06 4.18748986e-03]\n",
            " [1.10939584e-06 9.63154316e-01 3.68445478e-02]\n",
            " [4.37104434e-01 2.18364497e-04 5.62677205e-01]\n",
            " [1.07917140e-06 1.08645476e-01 8.91353488e-01]\n",
            " [6.64817568e-15 2.22706050e-03 9.97772872e-01]\n",
            " [2.35479778e-12 6.39388978e-01 3.60611022e-01]\n",
            " [1.00000000e+00 1.24979140e-15 1.91884507e-12]\n",
            " [1.25138822e-09 8.04391220e-06 9.99992013e-01]\n",
            " [3.58589590e-02 2.86907498e-02 9.35450256e-01]\n",
            " [2.96349466e-01 1.77227295e-04 7.03473270e-01]\n",
            " [3.76803570e-07 5.45500159e-01 4.54499364e-01]\n",
            " [1.71367277e-03 9.56480145e-01 4.18062694e-02]\n",
            " [9.95989740e-01 2.27561782e-06 4.00802586e-03]\n",
            " [9.27366855e-05 1.98515922e-01 8.01391363e-01]\n",
            " [9.72158194e-01 2.24617306e-05 2.78193764e-02]\n",
            " [9.99965549e-01 8.45032559e-07 3.35806835e-05]\n",
            " [9.48073983e-01 3.98629829e-02 1.20630506e-02]\n",
            " [2.42532715e-05 8.29575419e-01 1.70400292e-01]\n",
            " [9.99924898e-01 7.58609644e-07 7.43792771e-05]\n",
            " [1.00000000e+00 8.81921966e-11 1.24838417e-10]]\n"
          ]
        }
      ],
      "source": [
        "test_set = test_datagen.flow_from_directory(\"D:\\CatractImagesMobileNet\\cataract\\CGN-DataSet\\\\Test-Dataset\",\n",
        "                                            target_size = (224, 224),\n",
        "                                            batch_size = 40,\n",
        "                                            class_mode = 'categorical')\n",
        "\n",
        "pred = model.predict(test_set)\n",
        "print(pred)\n"
      ]
    },
    {
      "cell_type": "code",
      "execution_count": null,
      "id": "f0e358b6",
      "metadata": {
        "id": "f0e358b6",
        "outputId": "4ca70da7-308e-44fe-fa47-1b0583e8a8f8"
      },
      "outputs": [
        {
          "name": "stdout",
          "output_type": "stream",
          "text": [
            "Found 3 images belonging to 1 classes.\n",
            "[[1.0107529e-03 1.9605255e-02 9.7938401e-01]\n",
            " [1.7136662e-03 9.5648021e-01 4.1806191e-02]\n",
            " [1.0000000e+00 2.0047671e-19 1.8522156e-15]]\n"
          ]
        }
      ],
      "source": [
        "test_set = test_datagen.flow_from_directory(\"D:\\CatractImagesMobileNet\\cataract\\CatractDataset\\\\TestCGN\",\n",
        "                                            target_size = (224, 224),\n",
        "                                            batch_size = 40,\n",
        "                                            class_mode = 'categorical')\n",
        "\n",
        "pred = model.predict(test_set)\n",
        "print(pred)\n"
      ]
    },
    {
      "cell_type": "code",
      "execution_count": null,
      "id": "a0d1884a",
      "metadata": {
        "id": "a0d1884a",
        "outputId": "eac9e2ca-af90-4b4b-9902-a984788110a9"
      },
      "outputs": [
        {
          "data": {
            "text/plain": [
              "<matplotlib.image.AxesImage at 0x269dfbc4f70>"
            ]
          },
          "execution_count": 28,
          "metadata": {},
          "output_type": "execute_result"
        },
        {
          "data": {
            "image/png": "[encoded data removed]",
            "text/plain": [
              "<Figure size 432x288 with 1 Axes>"
            ]
          },
          "metadata": {
            "needs_background": "light"
          },
          "output_type": "display_data"
        }
      ],
      "source": [
        "images,cls = next(test_set)\n",
        "plt.imshow(images[0])"
      ]
    },
    {
      "cell_type": "code",
      "execution_count": null,
      "id": "64938876",
      "metadata": {
        "id": "64938876"
      },
      "outputs": [],
      "source": []
    },
    {
      "cell_type": "code",
      "execution_count": null,
      "id": "197e435e",
      "metadata": {
        "id": "197e435e"
      },
      "outputs": [],
      "source": []
    },
    {
      "cell_type": "code",
      "execution_count": null,
      "id": "34410391",
      "metadata": {
        "id": "34410391"
      },
      "outputs": [],
      "source": []
    },
    {
      "cell_type": "code",
      "execution_count": null,
      "id": "a2ce7318",
      "metadata": {
        "id": "a2ce7318"
      },
      "outputs": [],
      "source": []
    },
    {
      "cell_type": "code",
      "execution_count": null,
      "id": "a3cb4c87",
      "metadata": {
        "id": "a3cb4c87",
        "outputId": "daa78a36-23b2-4e5b-ed27-284e685455b6"
      },
      "outputs": [
        {
          "name": "stdout",
          "output_type": "stream",
          "text": [
            "0 Actual: cataract\n",
            "File: cataract\\cataract_061.png\n",
            "0predicted: cataract\n",
            "[1. 0.]\n",
            "[1.0, 1.8294927408408178e-14]\n",
            "0 Actual: cataract\n",
            "File: cataract\\cataract_062.png\n",
            "1predicted: normal\n",
            "[1. 0.]\n",
            "[1.1934121196892726e-27, 1.0]\n",
            "0 Actual: cataract\n",
            "File: cataract\\cataract_063.png\n",
            "0predicted: cataract\n",
            "[1. 0.]\n",
            "[1.0, 1.580228368636709e-22]\n",
            "0 Actual: cataract\n",
            "File: cataract\\cataract_064.png\n",
            "0predicted: cataract\n",
            "[1. 0.]\n",
            "[1.0, 4.247984814609392e-24]\n",
            "0 Actual: cataract\n",
            "File: cataract\\cataract_065.png\n",
            "0predicted: cataract\n",
            "[1. 0.]\n",
            "[0.9014812111854553, 0.09851879626512527]\n",
            "0 Actual: cataract\n",
            "File: cataract\\cataract_066.png\n",
            "0predicted: cataract\n",
            "[1. 0.]\n",
            "[0.9999998807907104, 1.5927223273592972e-07]\n",
            "1 Actual: normal\n",
            "File: cataract\\cataract_067.png\n",
            "0predicted: cataract\n",
            "[0. 1.]\n",
            "[1.0, 1.4415678123869818e-13]\n",
            "1 Actual: normal\n",
            "File: cataract\\cataract_068.png\n",
            "0predicted: cataract\n",
            "[0. 1.]\n",
            "[0.9979922771453857, 0.002007740782573819]\n",
            "0 Actual: cataract\n",
            "File: cataract\\cataract_069.png\n",
            "0predicted: cataract\n",
            "[1. 0.]\n",
            "[0.9930564761161804, 0.006943505723029375]\n",
            "0 Actual: cataract\n",
            "File: cataract\\cataract_070.png\n",
            "1predicted: normal\n",
            "[1. 0.]\n",
            "[7.000674173696098e-08, 0.9999998807907104]\n",
            "1 Actual: normal\n",
            "File: cataract\\cataract_071.png\n",
            "0predicted: cataract\n",
            "[0. 1.]\n",
            "[1.0, 2.725046852792137e-18]\n",
            "1 Actual: normal\n",
            "File: cataract\\cataract_072.png\n",
            "1predicted: normal\n",
            "[0. 1.]\n",
            "[4.685029769978209e-23, 1.0]\n",
            "1 Actual: normal\n",
            "File: cataract\\cataract_073.png\n",
            "1predicted: normal\n",
            "[0. 1.]\n",
            "[2.532774120642123e-12, 1.0]\n",
            "0 Actual: cataract\n",
            "File: cataract\\cataract_074.png\n",
            "0predicted: cataract\n",
            "[1. 0.]\n",
            "[1.0, 1.5110060425094218e-10]\n",
            "1 Actual: normal\n",
            "File: cataract\\cataract_075.png\n",
            "1predicted: normal\n",
            "[0. 1.]\n",
            "[1.4285883587206172e-09, 1.0]\n",
            "1 Actual: normal\n",
            "File: cataract\\cataract_076.png\n",
            "1predicted: normal\n",
            "[0. 1.]\n",
            "[1.0346713253247682e-16, 1.0]\n",
            "0 Actual: cataract\n",
            "File: cataract\\cataract_077.png\n",
            "0predicted: cataract\n",
            "[1. 0.]\n",
            "[1.0, 3.204946091096882e-16]\n",
            "0 Actual: cataract\n",
            "File: cataract\\cataract_078.png\n",
            "0predicted: cataract\n",
            "[1. 0.]\n",
            "[0.6624242663383484, 0.3375758230686188]\n",
            "1 Actual: normal\n",
            "File: cataract\\cataract_079.png\n",
            "0predicted: cataract\n",
            "[0. 1.]\n",
            "[0.9331656098365784, 0.06683439016342163]\n",
            "0 Actual: cataract\n",
            "File: cataract\\cataract_080.png\n",
            "0predicted: cataract\n",
            "[1. 0.]\n",
            "[1.0, 4.070500182835075e-24]\n",
            "1 Actual: normal\n",
            "File: normal\\NL_061.png\n",
            "0predicted: cataract\n",
            "[0. 1.]\n",
            "[1.0, 1.0008507800307598e-08]\n",
            "0 Actual: cataract\n",
            "File: normal\\NL_062.png\n",
            "1predicted: normal\n",
            "[1. 0.]\n",
            "[1.3212683985103224e-13, 1.0]\n",
            "1 Actual: normal\n",
            "File: normal\\NL_063.png\n",
            "1predicted: normal\n",
            "[0. 1.]\n",
            "[2.207761781392037e-06, 0.9999977350234985]\n",
            "1 Actual: normal\n",
            "File: normal\\NL_064.png\n",
            "0predicted: cataract\n",
            "[0. 1.]\n",
            "[1.0, 5.589425869119084e-19]\n",
            "1 Actual: normal\n",
            "File: normal\\NL_065.png\n",
            "1predicted: normal\n",
            "[0. 1.]\n",
            "[1.3352332477525874e-12, 1.0]\n",
            "0 Actual: cataract\n",
            "File: normal\\NL_066.png\n",
            "1predicted: normal\n",
            "[1. 0.]\n",
            "[2.9801520895489375e-07, 0.9999997615814209]\n",
            "1 Actual: normal\n",
            "File: normal\\NL_067.png\n",
            "0predicted: cataract\n",
            "[0. 1.]\n",
            "[1.0, 3.2910783431816526e-08]\n",
            "1 Actual: normal\n",
            "File: normal\\NL_068.png\n",
            "0predicted: cataract\n",
            "[0. 1.]\n",
            "[1.0, 3.5425248888845684e-14]\n",
            "0 Actual: cataract\n",
            "File: normal\\NL_069.png\n",
            "0predicted: cataract\n",
            "[1. 0.]\n",
            "[0.9999998807907104, 1.5908521788787766e-07]\n",
            "1 Actual: normal\n",
            "File: normal\\NL_070.png\n",
            "1predicted: normal\n",
            "[0. 1.]\n",
            "[1.454662861886393e-24, 1.0]\n",
            "0 Actual: cataract\n",
            "File: normal\\NL_071.png\n",
            "1predicted: normal\n",
            "[1. 0.]\n",
            "[7.587713552088815e-13, 1.0]\n",
            "1 Actual: normal\n",
            "File: normal\\NL_072.png\n",
            "1predicted: normal\n",
            "[0. 1.]\n",
            "[0.0038564603310078382, 0.9961434602737427]\n",
            "1 Actual: normal\n",
            "File: normal\\NL_073.png\n",
            "1predicted: normal\n",
            "[0. 1.]\n",
            "[2.651624233670399e-18, 1.0]\n",
            "0 Actual: cataract\n",
            "File: normal\\NL_074.png\n",
            "0predicted: cataract\n",
            "[1. 0.]\n",
            "[0.6857084631919861, 0.3142915964126587]\n",
            "0 Actual: cataract\n",
            "File: normal\\NL_075.png\n",
            "1predicted: normal\n",
            "[1. 0.]\n",
            "[1.2515138791968639e-07, 0.9999998807907104]\n",
            "1 Actual: normal\n",
            "File: normal\\NL_076.png\n",
            "1predicted: normal\n",
            "[0. 1.]\n",
            "[1.2491740398773146e-19, 1.0]\n",
            "0 Actual: cataract\n",
            "File: normal\\NL_077.png\n",
            "1predicted: normal\n",
            "[1. 0.]\n",
            "[3.2151879899786073e-13, 1.0]\n",
            "1 Actual: normal\n",
            "File: normal\\NL_078.png\n",
            "1predicted: normal\n",
            "[0. 1.]\n",
            "[0.0009574872674420476, 0.9990424513816833]\n",
            "0 Actual: cataract\n",
            "File: normal\\NL_079.png\n",
            "1predicted: normal\n",
            "[1. 0.]\n",
            "[4.4931675802217796e-05, 0.9999550580978394]\n",
            "1 Actual: normal\n",
            "File: normal\\NL_080.png\n",
            "1predicted: normal\n",
            "[0. 1.]\n",
            "[1.3339669954761584e-25, 1.0]\n"
          ]
        },
        {
          "data": {
            "image/png": "[encoded data removed]",
            "text/plain": [
              "<Figure size 432x288 with 1 Axes>"
            ]
          },
          "metadata": {
            "needs_background": "light"
          },
          "output_type": "display_data"
        }
      ],
      "source": [
        "images,cls = next(test_set)\n",
        "filename=test_set.filenames\n",
        "\n",
        "#plt.imshow(images[0])\n",
        "#print(cls[0])\n",
        "#print(filename[0])\n",
        "i=0\n",
        "actual=[]\n",
        "predicted=[]\n",
        "for cl in cls:\n",
        "    c=cl.tolist()\n",
        "    max_value = max(c)\n",
        "    max_index = c.index(max_value)\n",
        "    print(str(max_index) + \" Actual: \" + cat[max_index])\n",
        "    print(\"File: \"  + filename[i])\n",
        "    plt.imshow(images[i])\n",
        "    actual.append(cat[max_index])\n",
        "\n",
        "    pd=pred[i].tolist()\n",
        "    m_value = max(pd)\n",
        "    #print(max_value)\n",
        "    m_index = pd.index(m_value)\n",
        "    #print(max_index)\n",
        "    print(str(m_index) + \"predicted: \" + cat[m_index])\n",
        "    predicted.append(cat[m_index])\n",
        "    print(cl)\n",
        "    print(pd)\n",
        "    #print(\"file\" + filename[i])\n",
        "    #plt.savefig('D:\\\\CatractImagesMobileNet\\cataract\\Predicted\\Actual-' + str(cat[max_index]) + ' Predicted-' + str(cat[m_index])+ '-' +'Detected Image Name-' + str(filename[i]).split('\\\\')[1] + str(i) +'.png')\n",
        "\n",
        "    i=i+1\n",
        "\n",
        "#print(pd)\n",
        "#plt.savefig('D:\\\\imageeee.png')\n",
        "#print(\"ok\")\n",
        "#plt.show()\n"
      ]
    },
    {
      "cell_type": "code",
      "execution_count": null,
      "id": "7715d09d",
      "metadata": {
        "id": "7715d09d",
        "outputId": "7e77359a-fc80-46eb-e482-f6deba078a83"
      },
      "outputs": [
        {
          "name": "stdout",
          "output_type": "stream",
          "text": [
            "Found 1 images belonging to 2 classes.\n",
            "[[1.000000e+00 8.760157e-26]]\n"
          ]
        }
      ],
      "source": []
    },
    {
      "cell_type": "code",
      "execution_count": null,
      "id": "410e07f0",
      "metadata": {
        "id": "410e07f0",
        "outputId": "f35b7b30-7523-49c9-8b7f-d8ec6e99a8e6"
      },
      "outputs": [
        {
          "data": {
            "text/plain": [
              "<matplotlib.image.AxesImage at 0x2a432e92b80>"
            ]
          },
          "execution_count": 28,
          "metadata": {},
          "output_type": "execute_result"
        },
        {
          "data": {
            "image/png": "[encoded data removed]",
            "text/plain": [
              "<Figure size 432x288 with 1 Axes>"
            ]
          },
          "metadata": {
            "needs_background": "light"
          },
          "output_type": "display_data"
        }
      ],
      "source": [
        "\n"
      ]
    },
    {
      "cell_type": "code",
      "execution_count": null,
      "id": "30d4c81e",
      "metadata": {
        "id": "30d4c81e"
      },
      "outputs": [],
      "source": []
    },
    {
      "cell_type": "code",
      "execution_count": null,
      "id": "6cd688a6",
      "metadata": {
        "id": "6cd688a6"
      },
      "outputs": [],
      "source": []
    },
    {
      "cell_type": "code",
      "execution_count": null,
      "id": "2a75e84d",
      "metadata": {
        "id": "2a75e84d"
      },
      "outputs": [],
      "source": []
    },
    {
      "cell_type": "code",
      "execution_count": null,
      "id": "af57b7f4",
      "metadata": {
        "scrolled": false,
        "id": "af57b7f4"
      },
      "outputs": [],
      "source": []
    },
    {
      "cell_type": "code",
      "execution_count": null,
      "id": "98472e41",
      "metadata": {
        "id": "98472e41",
        "outputId": "828ade5b-5121-4c25-d935-80dbf344757a"
      },
      "outputs": [
        {
          "data": {
            "text/plain": [
              "40"
            ]
          },
          "execution_count": 119,
          "metadata": {},
          "output_type": "execute_result"
        }
      ],
      "source": [
        "len(actual)"
      ]
    },
    {
      "cell_type": "code",
      "execution_count": null,
      "id": "2fe02c95",
      "metadata": {
        "id": "2fe02c95",
        "outputId": "28d141e4-cc90-40f1-a11b-8b5c2798903e"
      },
      "outputs": [
        {
          "name": "stdout",
          "output_type": "stream",
          "text": [
            "              precision    recall  f1-score   support\n",
            "\n",
            "    cataract       0.12      0.10      0.11        20\n",
            "     glacuma       0.44      0.60      0.51        40\n",
            "      normal       0.50      0.20      0.29        20\n",
            "\n",
            "    accuracy                           0.38        80\n",
            "   macro avg       0.35      0.30      0.30        80\n",
            "weighted avg       0.37      0.38      0.35        80\n",
            "\n"
          ]
        }
      ],
      "source": [
        "from sklearn.metrics import classification_report\n",
        "print(classification_report(actual,predicted))"
      ]
    },
    {
      "cell_type": "code",
      "execution_count": null,
      "id": "b3761ef7",
      "metadata": {
        "id": "b3761ef7"
      },
      "outputs": [],
      "source": []
    },
    {
      "cell_type": "raw",
      "id": "d3553a7e",
      "metadata": {
        "id": "d3553a7e"
      },
      "source": []
    },
    {
      "cell_type": "code",
      "execution_count": null,
      "id": "fa2da6e0",
      "metadata": {
        "id": "fa2da6e0"
      },
      "outputs": [],
      "source": [
        "#for file in test_set.filenames:\n",
        " #   print(file)"
      ]
    },
    {
      "cell_type": "code",
      "execution_count": null,
      "id": "eb32cc09",
      "metadata": {
        "id": "eb32cc09"
      },
      "outputs": [],
      "source": []
    },
    {
      "cell_type": "code",
      "execution_count": null,
      "id": "8300836f",
      "metadata": {
        "id": "8300836f"
      },
      "outputs": [],
      "source": []
    },
    {
      "cell_type": "code",
      "execution_count": null,
      "id": "66922b25",
      "metadata": {
        "id": "66922b25"
      },
      "outputs": [],
      "source": [
        "\n"
      ]
    },
    {
      "cell_type": "code",
      "execution_count": null,
      "id": "21f2bdba",
      "metadata": {
        "scrolled": true,
        "id": "21f2bdba"
      },
      "outputs": [],
      "source": []
    },
    {
      "cell_type": "code",
      "execution_count": null,
      "id": "62c4139d",
      "metadata": {
        "id": "62c4139d"
      },
      "outputs": [],
      "source": []
    },
    {
      "cell_type": "code",
      "execution_count": null,
      "id": "764e0bf0",
      "metadata": {
        "id": "764e0bf0"
      },
      "outputs": [],
      "source": []
    },
    {
      "cell_type": "code",
      "execution_count": null,
      "id": "3c19ae7f",
      "metadata": {
        "id": "3c19ae7f"
      },
      "outputs": [],
      "source": []
    },
    {
      "cell_type": "code",
      "execution_count": null,
      "id": "0c298a00",
      "metadata": {
        "id": "0c298a00"
      },
      "outputs": [],
      "source": []
    },
    {
      "cell_type": "code",
      "execution_count": null,
      "id": "ef9e09eb",
      "metadata": {
        "id": "ef9e09eb"
      },
      "outputs": [],
      "source": []
    },
    {
      "cell_type": "code",
      "execution_count": null,
      "id": "62e60424",
      "metadata": {
        "id": "62e60424"
      },
      "outputs": [],
      "source": [
        "\n",
        "\n",
        "#plt.savefig('D:\\\\imageeee.png')\n",
        "#print(\"ok\")\n",
        "#plt.show()"
      ]
    },
    {
      "cell_type": "code",
      "execution_count": null,
      "id": "0298da14",
      "metadata": {
        "id": "0298da14"
      },
      "outputs": [],
      "source": []
    },
    {
      "cell_type": "code",
      "execution_count": null,
      "id": "14c7a3d4",
      "metadata": {
        "id": "14c7a3d4"
      },
      "outputs": [],
      "source": []
    },
    {
      "cell_type": "code",
      "execution_count": null,
      "id": "9d6a9e24",
      "metadata": {
        "id": "9d6a9e24"
      },
      "outputs": [],
      "source": []
    },
    {
      "cell_type": "code",
      "execution_count": null,
      "id": "291779d4",
      "metadata": {
        "id": "291779d4"
      },
      "outputs": [],
      "source": []
    },
    {
      "cell_type": "code",
      "execution_count": null,
      "id": "3b1be98e",
      "metadata": {
        "id": "3b1be98e"
      },
      "outputs": [],
      "source": []
    },
    {
      "cell_type": "code",
      "execution_count": null,
      "id": "d17dfe9e",
      "metadata": {
        "id": "d17dfe9e"
      },
      "outputs": [],
      "source": []
    },
    {
      "cell_type": "code",
      "execution_count": null,
      "id": "4d57e81a",
      "metadata": {
        "id": "4d57e81a"
      },
      "outputs": [],
      "source": []
    },
    {
      "cell_type": "code",
      "execution_count": null,
      "id": "0a63555a",
      "metadata": {
        "id": "0a63555a"
      },
      "outputs": [],
      "source": []
    },
    {
      "cell_type": "code",
      "execution_count": null,
      "id": "07f0acb1",
      "metadata": {
        "id": "07f0acb1"
      },
      "outputs": [],
      "source": [
        "#for t in test_set:\n",
        " #   print(t)"
      ]
    },
    {
      "cell_type": "code",
      "execution_count": null,
      "id": "c1caacb0",
      "metadata": {
        "id": "c1caacb0"
      },
      "outputs": [],
      "source": []
    },
    {
      "cell_type": "code",
      "execution_count": null,
      "id": "26a93cfb",
      "metadata": {
        "id": "26a93cfb"
      },
      "outputs": [],
      "source": []
    },
    {
      "cell_type": "code",
      "execution_count": null,
      "id": "2d55fcb4",
      "metadata": {
        "id": "2d55fcb4"
      },
      "outputs": [],
      "source": []
    },
    {
      "cell_type": "code",
      "execution_count": null,
      "id": "b7de3798",
      "metadata": {
        "id": "b7de3798",
        "outputId": "406460a3-69a3-4036-ebf9-0d7deda27b71"
      },
      "outputs": [
        {
          "name": "stdout",
          "output_type": "stream",
          "text": [
            "32\n",
            "Index0\n",
            "Actual: cataract\n",
            "class [1.0, 0.0]\n",
            "Index0\n",
            "Actual: cataract\n",
            "class [1.0, 0.0]\n",
            "Index0\n",
            "Actual: cataract\n",
            "class [1.0, 0.0]\n",
            "Index0\n",
            "Actual: cataract\n",
            "class [1.0, 0.0]\n",
            "Index1\n",
            "Actual: normal\n",
            "class [0.0, 1.0]\n",
            "Index1\n",
            "Actual: normal\n",
            "class [0.0, 1.0]\n",
            "Index1\n",
            "Actual: normal\n",
            "class [0.0, 1.0]\n",
            "Index1\n",
            "Actual: normal\n",
            "class [0.0, 1.0]\n",
            "Index0\n",
            "Actual: cataract\n",
            "class [1.0, 0.0]\n",
            "Index1\n",
            "Actual: normal\n",
            "class [0.0, 1.0]\n",
            "Index1\n",
            "Actual: normal\n",
            "class [0.0, 1.0]\n",
            "Index0\n",
            "Actual: cataract\n",
            "class [1.0, 0.0]\n",
            "Index0\n",
            "Actual: cataract\n",
            "class [1.0, 0.0]\n",
            "Index0\n",
            "Actual: cataract\n",
            "class [1.0, 0.0]\n",
            "Index0\n",
            "Actual: cataract\n",
            "class [1.0, 0.0]\n",
            "Index0\n",
            "Actual: cataract\n",
            "class [1.0, 0.0]\n",
            "Index1\n",
            "Actual: normal\n",
            "class [0.0, 1.0]\n",
            "Index0\n",
            "Actual: cataract\n",
            "class [1.0, 0.0]\n",
            "Index0\n",
            "Actual: cataract\n",
            "class [1.0, 0.0]\n",
            "Index0\n",
            "Actual: cataract\n",
            "class [1.0, 0.0]\n",
            "Index1\n",
            "Actual: normal\n",
            "class [0.0, 1.0]\n",
            "Index1\n",
            "Actual: normal\n",
            "class [0.0, 1.0]\n",
            "Index1\n",
            "Actual: normal\n",
            "class [0.0, 1.0]\n",
            "Index0\n",
            "Actual: cataract\n",
            "class [1.0, 0.0]\n",
            "Index0\n",
            "Actual: cataract\n",
            "class [1.0, 0.0]\n",
            "Index1\n",
            "Actual: normal\n",
            "class [0.0, 1.0]\n",
            "Index1\n",
            "Actual: normal\n",
            "class [0.0, 1.0]\n",
            "Index1\n",
            "Actual: normal\n",
            "class [0.0, 1.0]\n",
            "Index0\n",
            "Actual: cataract\n",
            "class [1.0, 0.0]\n",
            "Index1\n",
            "Actual: normal\n",
            "class [0.0, 1.0]\n",
            "Index1\n",
            "Actual: normal\n",
            "class [0.0, 1.0]\n",
            "Index1\n",
            "Actual: normal\n",
            "class [0.0, 1.0]\n",
            "8\n",
            "Index1\n",
            "Actual: normal\n",
            "class [0.0, 1.0]\n",
            "Index0\n",
            "Actual: cataract\n",
            "class [1.0, 0.0]\n",
            "Index0\n",
            "Actual: cataract\n",
            "class [1.0, 0.0]\n",
            "Index0\n",
            "Actual: cataract\n",
            "class [1.0, 0.0]\n",
            "Index1\n",
            "Actual: normal\n",
            "class [0.0, 1.0]\n",
            "Index1\n",
            "Actual: normal\n",
            "class [0.0, 1.0]\n",
            "Index1\n",
            "Actual: normal\n",
            "class [0.0, 1.0]\n",
            "Index0\n",
            "Actual: cataract\n",
            "class [1.0, 0.0]\n",
            "32\n",
            "Index0\n",
            "Actual: cataract\n",
            "class [1.0, 0.0]\n",
            "Index0\n",
            "Actual: cataract\n",
            "class [1.0, 0.0]\n",
            "Index1\n",
            "Actual: normal\n",
            "class [0.0, 1.0]\n",
            "Index1\n",
            "Actual: normal\n",
            "class [0.0, 1.0]\n",
            "Index0\n",
            "Actual: cataract\n",
            "class [1.0, 0.0]\n",
            "Index0\n",
            "Actual: cataract\n",
            "class [1.0, 0.0]\n",
            "Index0\n",
            "Actual: cataract\n",
            "class [1.0, 0.0]\n",
            "Index0\n",
            "Actual: cataract\n",
            "class [1.0, 0.0]\n",
            "Index0\n",
            "Actual: cataract\n",
            "class [1.0, 0.0]\n",
            "Index0\n",
            "Actual: cataract\n",
            "class [1.0, 0.0]\n",
            "Index1\n",
            "Actual: normal\n",
            "class [0.0, 1.0]\n",
            "Index1\n",
            "Actual: normal\n",
            "class [0.0, 1.0]\n",
            "Index0\n",
            "Actual: cataract\n",
            "class [1.0, 0.0]\n",
            "Index1\n",
            "Actual: normal\n",
            "class [0.0, 1.0]\n",
            "Index1\n",
            "Actual: normal\n",
            "class [0.0, 1.0]\n",
            "Index1\n",
            "Actual: normal\n",
            "class [0.0, 1.0]\n",
            "Index1\n",
            "Actual: normal\n",
            "class [0.0, 1.0]\n",
            "Index1\n",
            "Actual: normal\n",
            "class [0.0, 1.0]\n",
            "Index1\n",
            "Actual: normal\n",
            "class [0.0, 1.0]\n",
            "Index0\n",
            "Actual: cataract\n",
            "class [1.0, 0.0]\n",
            "Index1\n",
            "Actual: normal\n",
            "class [0.0, 1.0]\n",
            "Index1\n",
            "Actual: normal\n",
            "class [0.0, 1.0]\n",
            "Index0\n",
            "Actual: cataract\n",
            "class [1.0, 0.0]\n",
            "Index1\n",
            "Actual: normal\n",
            "class [0.0, 1.0]\n",
            "Index0\n",
            "Actual: cataract\n",
            "class [1.0, 0.0]\n",
            "Index0\n",
            "Actual: cataract\n",
            "class [1.0, 0.0]\n",
            "Index0\n",
            "Actual: cataract\n",
            "class [1.0, 0.0]\n",
            "Index1\n",
            "Actual: normal\n",
            "class [0.0, 1.0]\n",
            "Index1\n",
            "Actual: normal\n",
            "class [0.0, 1.0]\n",
            "Index1\n",
            "Actual: normal\n",
            "class [0.0, 1.0]\n",
            "Index1\n",
            "Actual: normal\n",
            "class [0.0, 1.0]\n",
            "Index0\n",
            "Actual: cataract\n",
            "class [1.0, 0.0]\n",
            "8\n",
            "Index0\n",
            "Actual: cataract\n",
            "class [1.0, 0.0]\n",
            "Index1\n",
            "Actual: normal\n",
            "class [0.0, 1.0]\n",
            "Index1\n",
            "Actual: normal\n",
            "class [0.0, 1.0]\n",
            "Index0\n",
            "Actual: cataract\n",
            "class [1.0, 0.0]\n",
            "Index0\n",
            "Actual: cataract\n",
            "class [1.0, 0.0]\n",
            "Index1\n",
            "Actual: normal\n",
            "class [0.0, 1.0]\n",
            "Index0\n",
            "Actual: cataract\n",
            "class [1.0, 0.0]\n",
            "Index0\n",
            "Actual: cataract\n",
            "class [1.0, 0.0]\n",
            "32\n",
            "Index0\n",
            "Actual: cataract\n",
            "class [1.0, 0.0]\n",
            "Index1\n",
            "Actual: normal\n",
            "class [0.0, 1.0]\n",
            "Index0\n",
            "Actual: cataract\n",
            "class [1.0, 0.0]\n",
            "Index0\n",
            "Actual: cataract\n",
            "class [1.0, 0.0]\n",
            "Index0\n",
            "Actual: cataract\n",
            "class [1.0, 0.0]\n",
            "Index1\n",
            "Actual: normal\n",
            "class [0.0, 1.0]\n",
            "Index0\n",
            "Actual: cataract\n",
            "class [1.0, 0.0]\n",
            "Index1\n",
            "Actual: normal\n",
            "class [0.0, 1.0]\n",
            "Index0\n",
            "Actual: cataract\n",
            "class [1.0, 0.0]\n",
            "Index1\n",
            "Actual: normal\n",
            "class [0.0, 1.0]\n",
            "Index0\n",
            "Actual: cataract\n",
            "class [1.0, 0.0]\n",
            "Index1\n",
            "Actual: normal\n",
            "class [0.0, 1.0]\n",
            "Index0\n",
            "Actual: cataract\n",
            "class [1.0, 0.0]\n",
            "Index1\n",
            "Actual: normal\n",
            "class [0.0, 1.0]\n",
            "Index1\n",
            "Actual: normal\n",
            "class [0.0, 1.0]\n",
            "Index1\n",
            "Actual: normal\n",
            "class [0.0, 1.0]\n",
            "Index0\n",
            "Actual: cataract\n",
            "class [1.0, 0.0]\n",
            "Index0\n",
            "Actual: cataract\n",
            "class [1.0, 0.0]\n",
            "Index1\n",
            "Actual: normal\n",
            "class [0.0, 1.0]\n",
            "Index1\n",
            "Actual: normal\n",
            "class [0.0, 1.0]\n",
            "Index0\n",
            "Actual: cataract\n",
            "class [1.0, 0.0]\n",
            "Index1\n",
            "Actual: normal\n",
            "class [0.0, 1.0]\n",
            "Index1\n",
            "Actual: normal\n",
            "class [0.0, 1.0]\n",
            "Index0\n",
            "Actual: cataract\n",
            "class [1.0, 0.0]\n",
            "Index0\n",
            "Actual: cataract\n",
            "class [1.0, 0.0]\n",
            "Index1\n",
            "Actual: normal\n",
            "class [0.0, 1.0]\n",
            "Index1\n",
            "Actual: normal\n",
            "class [0.0, 1.0]\n",
            "Index0\n",
            "Actual: cataract\n",
            "class [1.0, 0.0]\n",
            "Index1\n",
            "Actual: normal\n",
            "class [0.0, 1.0]\n",
            "Index1\n",
            "Actual: normal\n",
            "class [0.0, 1.0]\n",
            "Index1\n",
            "Actual: normal\n",
            "class [0.0, 1.0]\n",
            "Index0\n",
            "Actual: cataract\n",
            "class [1.0, 0.0]\n"
          ]
        }
      ],
      "source": [
        "actual=[]\n",
        "img=1\n",
        "row=1\n",
        "for i in range(int(imageCount/8)):\n",
        "    images,cls = next(test_set)\n",
        "    print(len(cls))\n",
        "    #print(\"In in first batch at 3\")\n",
        "    j=0\n",
        "    for c in cls:\n",
        "        cl=c.tolist()\n",
        "        m_value = max(cl)\n",
        "        m_index = cl.index(m_value)\n",
        "        print(\"Index\" + str(m_index))\n",
        "        print(\"Actual: \" + cat[m_index])\n",
        "        print(\"class\", cl)\n",
        "        actual.append(cat[m_index])\n",
        "        worksheet1.write(row, 1, str(cat[m_index]))\n",
        "\n",
        "        #plt.imshow(images[j])\n",
        "        #plt.savefig(\"D:\\\\ImagesForCocoAssesment\\\\MobileNet\\\\TagsForInputImagesGeneratedByProgram\\\\\" + str(img) + \"-\" + str(cat[m_index]) + \".png\")\n",
        "        img=img+1\n",
        "        j=j+1\n",
        "        row=row+1\n",
        "    i=i+1\n",
        "\n"
      ]
    },
    {
      "cell_type": "code",
      "execution_count": null,
      "id": "65868711",
      "metadata": {
        "id": "65868711",
        "outputId": "e2431bc1-5918-4edc-a443-735400a9771c"
      },
      "outputs": [
        {
          "name": "stderr",
          "output_type": "stream",
          "text": [
            "C:\\Users\\saqib\\anaconda3\\envs\\TF\\lib\\site-packages\\xlsxwriter\\workbook.py:338: UserWarning: Calling close() on already closed file.\n",
            "  warn(\"Calling close() on already closed file.\")\n"
          ]
        }
      ],
      "source": [
        "workbook.close()\n"
      ]
    },
    {
      "cell_type": "code",
      "execution_count": null,
      "id": "7f8c0ac7",
      "metadata": {
        "id": "7f8c0ac7",
        "outputId": "b6b8c35f-35ec-49cd-cb49-ae327ab81816"
      },
      "outputs": [
        {
          "data": {
            "text/plain": [
              "['cataract',\n",
              " 'cataract',\n",
              " 'cataract',\n",
              " 'cataract',\n",
              " 'normal',\n",
              " 'normal',\n",
              " 'normal',\n",
              " 'normal',\n",
              " 'cataract',\n",
              " 'normal',\n",
              " 'normal',\n",
              " 'cataract',\n",
              " 'cataract',\n",
              " 'cataract',\n",
              " 'cataract',\n",
              " 'cataract',\n",
              " 'normal',\n",
              " 'cataract',\n",
              " 'cataract',\n",
              " 'cataract',\n",
              " 'normal',\n",
              " 'normal',\n",
              " 'normal',\n",
              " 'cataract',\n",
              " 'cataract',\n",
              " 'normal',\n",
              " 'normal',\n",
              " 'normal',\n",
              " 'cataract',\n",
              " 'normal',\n",
              " 'normal',\n",
              " 'normal',\n",
              " 'normal',\n",
              " 'cataract',\n",
              " 'cataract',\n",
              " 'cataract',\n",
              " 'normal',\n",
              " 'normal',\n",
              " 'normal',\n",
              " 'cataract',\n",
              " 'cataract',\n",
              " 'cataract',\n",
              " 'normal',\n",
              " 'normal',\n",
              " 'cataract',\n",
              " 'cataract',\n",
              " 'cataract',\n",
              " 'cataract',\n",
              " 'cataract',\n",
              " 'cataract',\n",
              " 'normal',\n",
              " 'normal',\n",
              " 'cataract',\n",
              " 'normal',\n",
              " 'normal',\n",
              " 'normal',\n",
              " 'normal',\n",
              " 'normal',\n",
              " 'normal',\n",
              " 'cataract',\n",
              " 'normal',\n",
              " 'normal',\n",
              " 'cataract',\n",
              " 'normal',\n",
              " 'cataract',\n",
              " 'cataract',\n",
              " 'cataract',\n",
              " 'normal',\n",
              " 'normal',\n",
              " 'normal',\n",
              " 'normal',\n",
              " 'cataract',\n",
              " 'cataract',\n",
              " 'normal',\n",
              " 'normal',\n",
              " 'cataract',\n",
              " 'cataract',\n",
              " 'normal',\n",
              " 'cataract',\n",
              " 'cataract',\n",
              " 'cataract',\n",
              " 'normal',\n",
              " 'cataract',\n",
              " 'cataract',\n",
              " 'cataract',\n",
              " 'normal',\n",
              " 'cataract',\n",
              " 'normal',\n",
              " 'cataract',\n",
              " 'normal',\n",
              " 'cataract',\n",
              " 'normal',\n",
              " 'cataract',\n",
              " 'normal',\n",
              " 'normal',\n",
              " 'normal',\n",
              " 'cataract',\n",
              " 'cataract',\n",
              " 'normal',\n",
              " 'normal',\n",
              " 'cataract',\n",
              " 'normal',\n",
              " 'normal',\n",
              " 'cataract',\n",
              " 'cataract',\n",
              " 'normal',\n",
              " 'normal',\n",
              " 'cataract',\n",
              " 'normal',\n",
              " 'normal',\n",
              " 'normal',\n",
              " 'cataract']"
            ]
          },
          "execution_count": 227,
          "metadata": {},
          "output_type": "execute_result"
        }
      ],
      "source": [
        "actual"
      ]
    },
    {
      "cell_type": "code",
      "execution_count": null,
      "id": "0c497178",
      "metadata": {
        "id": "0c497178",
        "outputId": "66d83cb0-1c61-4a11-bb79-ce76b0ae3bd0"
      },
      "outputs": [
        {
          "name": "stdout",
          "output_type": "stream",
          "text": [
            "              precision    recall  f1-score   support\n",
            "\n",
            "    cataract       1.00      1.00      1.00         2\n",
            "      normal       1.00      1.00      1.00         1\n",
            "\n",
            "    accuracy                           1.00         3\n",
            "   macro avg       1.00      1.00      1.00         3\n",
            "weighted avg       1.00      1.00      1.00         3\n",
            "\n"
          ]
        }
      ],
      "source": []
    },
    {
      "cell_type": "code",
      "execution_count": null,
      "id": "1234de94",
      "metadata": {
        "id": "1234de94"
      },
      "outputs": [],
      "source": []
    },
    {
      "cell_type": "code",
      "execution_count": null,
      "id": "ad39bc21",
      "metadata": {
        "id": "ad39bc21"
      },
      "outputs": [],
      "source": []
    },
    {
      "cell_type": "code",
      "execution_count": null,
      "id": "7e02db07",
      "metadata": {
        "id": "7e02db07"
      },
      "outputs": [],
      "source": []
    },
    {
      "cell_type": "code",
      "execution_count": null,
      "id": "be63c6e8",
      "metadata": {
        "id": "be63c6e8",
        "outputId": "f3f4147c-5958-47cd-f48e-def60038a69b"
      },
      "outputs": [
        {
          "data": {
            "text/plain": [
              "32"
            ]
          },
          "execution_count": 208,
          "metadata": {},
          "output_type": "execute_result"
        }
      ],
      "source": []
    },
    {
      "cell_type": "code",
      "execution_count": null,
      "id": "384f47f0",
      "metadata": {
        "id": "384f47f0"
      },
      "outputs": [],
      "source": []
    },
    {
      "cell_type": "code",
      "execution_count": null,
      "id": "c8e8d9b4",
      "metadata": {
        "id": "c8e8d9b4"
      },
      "outputs": [],
      "source": []
    },
    {
      "cell_type": "code",
      "execution_count": null,
      "id": "da72f2ad",
      "metadata": {
        "id": "da72f2ad"
      },
      "outputs": [],
      "source": []
    },
    {
      "cell_type": "code",
      "execution_count": null,
      "id": "3ae78213",
      "metadata": {
        "id": "3ae78213"
      },
      "outputs": [],
      "source": []
    },
    {
      "cell_type": "code",
      "execution_count": null,
      "id": "42ad0160",
      "metadata": {
        "id": "42ad0160"
      },
      "outputs": [],
      "source": []
    },
    {
      "cell_type": "code",
      "execution_count": null,
      "id": "56a1bcb0",
      "metadata": {
        "id": "56a1bcb0"
      },
      "outputs": [],
      "source": []
    },
    {
      "cell_type": "code",
      "execution_count": null,
      "id": "534ab73a",
      "metadata": {
        "id": "534ab73a"
      },
      "outputs": [],
      "source": []
    },
    {
      "cell_type": "code",
      "execution_count": null,
      "id": "8edef539",
      "metadata": {
        "id": "8edef539"
      },
      "outputs": [],
      "source": []
    },
    {
      "cell_type": "code",
      "execution_count": null,
      "id": "193fad91",
      "metadata": {
        "id": "193fad91"
      },
      "outputs": [],
      "source": [
        "\n"
      ]
    },
    {
      "cell_type": "code",
      "execution_count": null,
      "id": "42771e1b",
      "metadata": {
        "id": "42771e1b"
      },
      "outputs": [],
      "source": []
    },
    {
      "cell_type": "code",
      "execution_count": null,
      "id": "fc4149ad",
      "metadata": {
        "id": "fc4149ad"
      },
      "outputs": [],
      "source": []
    },
    {
      "cell_type": "code",
      "execution_count": null,
      "id": "48ef9454",
      "metadata": {
        "id": "48ef9454"
      },
      "outputs": [],
      "source": []
    },
    {
      "cell_type": "code",
      "execution_count": null,
      "id": "1ee7e7cb",
      "metadata": {
        "id": "1ee7e7cb"
      },
      "outputs": [],
      "source": []
    }
  ],
  "metadata": {
    "kernelspec": {
      "display_name": "Python 3 (ipykernel)",
      "language": "python",
      "name": "python3"
    },
    "language_info": {
      "codemirror_mode": {
        "name": "ipython",
        "version": 3
      },
      "file_extension": ".py",
      "mimetype": "text/x-python",
      "name": "python",
      "nbconvert_exporter": "python",
      "pygments_lexer": "ipython3",
      "version": "3.8.13"
    },
    "colab": {
      "provenance": []
    }
  },
  "nbformat": 4,
  "nbformat_minor": 5
}