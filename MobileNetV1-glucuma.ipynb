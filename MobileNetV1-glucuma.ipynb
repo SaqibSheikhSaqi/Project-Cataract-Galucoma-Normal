{
 "cells": [
  {
   "cell_type": "code",
   "execution_count": 1,
   "id": "b5e2968b",
   "metadata": {},
   "outputs": [],
   "source": [
    "from keras.layers import Input, Lambda, Dense, Flatten\n",
    "from keras.models import Model\n",
    "from keras.applications.mobilenet import MobileNet\n",
    "from keras.applications.vgg16 import preprocess_input\n",
    "from keras.preprocessing import image\n",
    "from keras.preprocessing.image import ImageDataGenerator\n",
    "from keras.models import Sequential\n",
    "import numpy as np\n",
    "from glob import glob\n",
    "import matplotlib.pyplot as plt"
   ]
  },
  {
   "cell_type": "code",
   "execution_count": 2,
   "id": "c00a89f6",
   "metadata": {},
   "outputs": [],
   "source": [
    "# re-size all the images to this\n",
    "IMAGE_SIZE = [224, 224]\n",
    "\n",
    "\n",
    "train_path = 'D:/CatractImagesMobileNet/cataract/GlaucomaDataset/Training-dataset/'\n",
    "valid_path = 'D:/CatractImagesMobileNet/cataract/GlaucomaDataset/Test-Dataset/'\n",
    "\n",
    "# add preprocessing layer to the front of VGG\n",
    "mbnt = MobileNet(input_shape=IMAGE_SIZE + [3], weights='imagenet', include_top=False)"
   ]
  },
  {
   "cell_type": "code",
   "execution_count": 3,
   "id": "4ada9778",
   "metadata": {},
   "outputs": [
    {
     "name": "stdout",
     "output_type": "stream",
     "text": [
      "D:\\CatractImagesMobileNet\\cataract\\GlaucomaDataset\\Test-Dataset\\glaucoma\\Glaucoma_061.png\n",
      "D:\\CatractImagesMobileNet\\cataract\\GlaucomaDataset\\Test-Dataset\\glaucoma\\Glaucoma_062.png\n",
      "D:\\CatractImagesMobileNet\\cataract\\GlaucomaDataset\\Test-Dataset\\glaucoma\\Glaucoma_063.png\n",
      "D:\\CatractImagesMobileNet\\cataract\\GlaucomaDataset\\Test-Dataset\\glaucoma\\Glaucoma_064.png\n",
      "D:\\CatractImagesMobileNet\\cataract\\GlaucomaDataset\\Test-Dataset\\glaucoma\\Glaucoma_065.png\n",
      "D:\\CatractImagesMobileNet\\cataract\\GlaucomaDataset\\Test-Dataset\\glaucoma\\Glaucoma_066.png\n",
      "D:\\CatractImagesMobileNet\\cataract\\GlaucomaDataset\\Test-Dataset\\glaucoma\\Glaucoma_067.png\n",
      "D:\\CatractImagesMobileNet\\cataract\\GlaucomaDataset\\Test-Dataset\\glaucoma\\Glaucoma_068.png\n",
      "D:\\CatractImagesMobileNet\\cataract\\GlaucomaDataset\\Test-Dataset\\glaucoma\\Glaucoma_069.png\n",
      "D:\\CatractImagesMobileNet\\cataract\\GlaucomaDataset\\Test-Dataset\\glaucoma\\Glaucoma_070.png\n",
      "D:\\CatractImagesMobileNet\\cataract\\GlaucomaDataset\\Test-Dataset\\glaucoma\\Glaucoma_071.png\n",
      "D:\\CatractImagesMobileNet\\cataract\\GlaucomaDataset\\Test-Dataset\\glaucoma\\Glaucoma_072.png\n",
      "D:\\CatractImagesMobileNet\\cataract\\GlaucomaDataset\\Test-Dataset\\glaucoma\\Glaucoma_073.png\n",
      "D:\\CatractImagesMobileNet\\cataract\\GlaucomaDataset\\Test-Dataset\\glaucoma\\Glaucoma_074.png\n",
      "D:\\CatractImagesMobileNet\\cataract\\GlaucomaDataset\\Test-Dataset\\glaucoma\\Glaucoma_075.png\n",
      "D:\\CatractImagesMobileNet\\cataract\\GlaucomaDataset\\Test-Dataset\\glaucoma\\Glaucoma_076.png\n",
      "D:\\CatractImagesMobileNet\\cataract\\GlaucomaDataset\\Test-Dataset\\glaucoma\\Glaucoma_077.png\n",
      "D:\\CatractImagesMobileNet\\cataract\\GlaucomaDataset\\Test-Dataset\\glaucoma\\Glaucoma_078.png\n",
      "D:\\CatractImagesMobileNet\\cataract\\GlaucomaDataset\\Test-Dataset\\glaucoma\\Glaucoma_079.png\n",
      "D:\\CatractImagesMobileNet\\cataract\\GlaucomaDataset\\Test-Dataset\\glaucoma\\Glaucoma_080.png\n",
      "D:\\CatractImagesMobileNet\\cataract\\GlaucomaDataset\\Test-Dataset\\normal\\NL_061.png\n",
      "D:\\CatractImagesMobileNet\\cataract\\GlaucomaDataset\\Test-Dataset\\normal\\NL_062.png\n",
      "D:\\CatractImagesMobileNet\\cataract\\GlaucomaDataset\\Test-Dataset\\normal\\NL_063.png\n",
      "D:\\CatractImagesMobileNet\\cataract\\GlaucomaDataset\\Test-Dataset\\normal\\NL_064.png\n",
      "D:\\CatractImagesMobileNet\\cataract\\GlaucomaDataset\\Test-Dataset\\normal\\NL_065.png\n",
      "D:\\CatractImagesMobileNet\\cataract\\GlaucomaDataset\\Test-Dataset\\normal\\NL_066.png\n",
      "D:\\CatractImagesMobileNet\\cataract\\GlaucomaDataset\\Test-Dataset\\normal\\NL_067.png\n",
      "D:\\CatractImagesMobileNet\\cataract\\GlaucomaDataset\\Test-Dataset\\normal\\NL_068.png\n",
      "D:\\CatractImagesMobileNet\\cataract\\GlaucomaDataset\\Test-Dataset\\normal\\NL_069.png\n",
      "D:\\CatractImagesMobileNet\\cataract\\GlaucomaDataset\\Test-Dataset\\normal\\NL_070.png\n",
      "D:\\CatractImagesMobileNet\\cataract\\GlaucomaDataset\\Test-Dataset\\normal\\NL_071.png\n",
      "D:\\CatractImagesMobileNet\\cataract\\GlaucomaDataset\\Test-Dataset\\normal\\NL_072.png\n",
      "D:\\CatractImagesMobileNet\\cataract\\GlaucomaDataset\\Test-Dataset\\normal\\NL_073.png\n",
      "D:\\CatractImagesMobileNet\\cataract\\GlaucomaDataset\\Test-Dataset\\normal\\NL_074.png\n",
      "D:\\CatractImagesMobileNet\\cataract\\GlaucomaDataset\\Test-Dataset\\normal\\NL_075.png\n",
      "D:\\CatractImagesMobileNet\\cataract\\GlaucomaDataset\\Test-Dataset\\normal\\NL_076.png\n",
      "D:\\CatractImagesMobileNet\\cataract\\GlaucomaDataset\\Test-Dataset\\normal\\NL_077.png\n",
      "D:\\CatractImagesMobileNet\\cataract\\GlaucomaDataset\\Test-Dataset\\normal\\NL_078.png\n",
      "D:\\CatractImagesMobileNet\\cataract\\GlaucomaDataset\\Test-Dataset\\normal\\NL_079.png\n",
      "D:\\CatractImagesMobileNet\\cataract\\GlaucomaDataset\\Test-Dataset\\normal\\NL_080.png\n"
     ]
    }
   ],
   "source": [
    "import xlsxwriter\n",
    "workbook = xlsxwriter.Workbook('D:/CatractImagesMobileNet/cataract/files/MobileNetCatractImagesAnalysis.xlsx')\n",
    "worksheet1 = workbook.add_worksheet()\n",
    "row=0\n",
    "col=0\n",
    "imageCount=0\n",
    "worksheet1.write(row, 0, str(\"Analysis of Image\"))\n",
    "worksheet1.write(row, 1, str(\"Actual Object\"))\n",
    "worksheet1.write(row, 2, str(\"Percentage for Detected Object\"))\n",
    "worksheet1.write(row, 3, str(\"Detected Object\"))\n",
    "import os\n",
    "\n",
    "row=1\n",
    "for path, currentDirectory, files in os.walk(\"D:\\CatractImagesMobileNet\\cataract\\GlaucomaDataset\\Test-Dataset\"):\n",
    "    for file in files:\n",
    "        print(os.path.join(path, file))\n",
    "        imageCount=imageCount + 1\n",
    "        worksheet1.write(row, 0, str(\"Image-\" + str(imageCount)))\n",
    "        row=row+1\n",
    "        "
   ]
  },
  {
   "cell_type": "code",
   "execution_count": 4,
   "id": "08fc6f09",
   "metadata": {},
   "outputs": [
    {
     "data": {
      "text/plain": [
       "40"
      ]
     },
     "execution_count": 4,
     "metadata": {},
     "output_type": "execute_result"
    }
   ],
   "source": [
    "imageCount"
   ]
  },
  {
   "cell_type": "code",
   "execution_count": 5,
   "id": "0f3da374",
   "metadata": {},
   "outputs": [],
   "source": [
    "# don't train existing weights\n",
    "for layer in mbnt.layers:\n",
    "    layer.trainable = False"
   ]
  },
  {
   "cell_type": "code",
   "execution_count": 6,
   "id": "70b443ae",
   "metadata": {},
   "outputs": [
    {
     "name": "stdout",
     "output_type": "stream",
     "text": [
      "2\n"
     ]
    }
   ],
   "source": [
    "  # useful for getting number of classes\n",
    "folders = glob('D:/CatractImagesMobileNet/cataract/GlaucomaDataset/Training-dataset/*')\n",
    "print(len(folders))"
   ]
  },
  {
   "cell_type": "code",
   "execution_count": 7,
   "id": "d2a04a2f",
   "metadata": {},
   "outputs": [],
   "source": [
    "# our layers - you can add more if you want\n",
    "x = Flatten()(mbnt.output)\n",
    "x = Dense(200, activation='relu')(x)\n",
    "x = Dense(100, activation='relu')(x)\n",
    "prediction = Dense(len(folders), activation='softmax')(x)\n",
    "#prediction = Dense(1, activation='sigmoid')(x)\n"
   ]
  },
  {
   "cell_type": "code",
   "execution_count": null,
   "id": "24278b59",
   "metadata": {},
   "outputs": [],
   "source": []
  },
  {
   "cell_type": "code",
   "execution_count": 8,
   "id": "203ef353",
   "metadata": {},
   "outputs": [],
   "source": [
    "# create a model object\n",
    "model = Model(inputs=mbnt.input, outputs=prediction)"
   ]
  },
  {
   "cell_type": "code",
   "execution_count": 9,
   "id": "0c502cb2",
   "metadata": {},
   "outputs": [
    {
     "name": "stdout",
     "output_type": "stream",
     "text": [
      "Model: \"functional_1\"\n",
      "_________________________________________________________________\n",
      "Layer (type)                 Output Shape              Param #   \n",
      "=================================================================\n",
      "input_1 (InputLayer)         [(None, 224, 224, 3)]     0         \n",
      "_________________________________________________________________\n",
      "conv1_pad (ZeroPadding2D)    (None, 225, 225, 3)       0         \n",
      "_________________________________________________________________\n",
      "conv1 (Conv2D)               (None, 112, 112, 32)      864       \n",
      "_________________________________________________________________\n",
      "conv1_bn (BatchNormalization (None, 112, 112, 32)      128       \n",
      "_________________________________________________________________\n",
      "conv1_relu (ReLU)            (None, 112, 112, 32)      0         \n",
      "_________________________________________________________________\n",
      "conv_dw_1 (DepthwiseConv2D)  (None, 112, 112, 32)      288       \n",
      "_________________________________________________________________\n",
      "conv_dw_1_bn (BatchNormaliza (None, 112, 112, 32)      128       \n",
      "_________________________________________________________________\n",
      "conv_dw_1_relu (ReLU)        (None, 112, 112, 32)      0         \n",
      "_________________________________________________________________\n",
      "conv_pw_1 (Conv2D)           (None, 112, 112, 64)      2048      \n",
      "_________________________________________________________________\n",
      "conv_pw_1_bn (BatchNormaliza (None, 112, 112, 64)      256       \n",
      "_________________________________________________________________\n",
      "conv_pw_1_relu (ReLU)        (None, 112, 112, 64)      0         \n",
      "_________________________________________________________________\n",
      "conv_pad_2 (ZeroPadding2D)   (None, 113, 113, 64)      0         \n",
      "_________________________________________________________________\n",
      "conv_dw_2 (DepthwiseConv2D)  (None, 56, 56, 64)        576       \n",
      "_________________________________________________________________\n",
      "conv_dw_2_bn (BatchNormaliza (None, 56, 56, 64)        256       \n",
      "_________________________________________________________________\n",
      "conv_dw_2_relu (ReLU)        (None, 56, 56, 64)        0         \n",
      "_________________________________________________________________\n",
      "conv_pw_2 (Conv2D)           (None, 56, 56, 128)       8192      \n",
      "_________________________________________________________________\n",
      "conv_pw_2_bn (BatchNormaliza (None, 56, 56, 128)       512       \n",
      "_________________________________________________________________\n",
      "conv_pw_2_relu (ReLU)        (None, 56, 56, 128)       0         \n",
      "_________________________________________________________________\n",
      "conv_dw_3 (DepthwiseConv2D)  (None, 56, 56, 128)       1152      \n",
      "_________________________________________________________________\n",
      "conv_dw_3_bn (BatchNormaliza (None, 56, 56, 128)       512       \n",
      "_________________________________________________________________\n",
      "conv_dw_3_relu (ReLU)        (None, 56, 56, 128)       0         \n",
      "_________________________________________________________________\n",
      "conv_pw_3 (Conv2D)           (None, 56, 56, 128)       16384     \n",
      "_________________________________________________________________\n",
      "conv_pw_3_bn (BatchNormaliza (None, 56, 56, 128)       512       \n",
      "_________________________________________________________________\n",
      "conv_pw_3_relu (ReLU)        (None, 56, 56, 128)       0         \n",
      "_________________________________________________________________\n",
      "conv_pad_4 (ZeroPadding2D)   (None, 57, 57, 128)       0         \n",
      "_________________________________________________________________\n",
      "conv_dw_4 (DepthwiseConv2D)  (None, 28, 28, 128)       1152      \n",
      "_________________________________________________________________\n",
      "conv_dw_4_bn (BatchNormaliza (None, 28, 28, 128)       512       \n",
      "_________________________________________________________________\n",
      "conv_dw_4_relu (ReLU)        (None, 28, 28, 128)       0         \n",
      "_________________________________________________________________\n",
      "conv_pw_4 (Conv2D)           (None, 28, 28, 256)       32768     \n",
      "_________________________________________________________________\n",
      "conv_pw_4_bn (BatchNormaliza (None, 28, 28, 256)       1024      \n",
      "_________________________________________________________________\n",
      "conv_pw_4_relu (ReLU)        (None, 28, 28, 256)       0         \n",
      "_________________________________________________________________\n",
      "conv_dw_5 (DepthwiseConv2D)  (None, 28, 28, 256)       2304      \n",
      "_________________________________________________________________\n",
      "conv_dw_5_bn (BatchNormaliza (None, 28, 28, 256)       1024      \n",
      "_________________________________________________________________\n",
      "conv_dw_5_relu (ReLU)        (None, 28, 28, 256)       0         \n",
      "_________________________________________________________________\n",
      "conv_pw_5 (Conv2D)           (None, 28, 28, 256)       65536     \n",
      "_________________________________________________________________\n",
      "conv_pw_5_bn (BatchNormaliza (None, 28, 28, 256)       1024      \n",
      "_________________________________________________________________\n",
      "conv_pw_5_relu (ReLU)        (None, 28, 28, 256)       0         \n",
      "_________________________________________________________________\n",
      "conv_pad_6 (ZeroPadding2D)   (None, 29, 29, 256)       0         \n",
      "_________________________________________________________________\n",
      "conv_dw_6 (DepthwiseConv2D)  (None, 14, 14, 256)       2304      \n",
      "_________________________________________________________________\n",
      "conv_dw_6_bn (BatchNormaliza (None, 14, 14, 256)       1024      \n",
      "_________________________________________________________________\n",
      "conv_dw_6_relu (ReLU)        (None, 14, 14, 256)       0         \n",
      "_________________________________________________________________\n",
      "conv_pw_6 (Conv2D)           (None, 14, 14, 512)       131072    \n",
      "_________________________________________________________________\n",
      "conv_pw_6_bn (BatchNormaliza (None, 14, 14, 512)       2048      \n",
      "_________________________________________________________________\n",
      "conv_pw_6_relu (ReLU)        (None, 14, 14, 512)       0         \n",
      "_________________________________________________________________\n",
      "conv_dw_7 (DepthwiseConv2D)  (None, 14, 14, 512)       4608      \n",
      "_________________________________________________________________\n",
      "conv_dw_7_bn (BatchNormaliza (None, 14, 14, 512)       2048      \n",
      "_________________________________________________________________\n",
      "conv_dw_7_relu (ReLU)        (None, 14, 14, 512)       0         \n",
      "_________________________________________________________________\n",
      "conv_pw_7 (Conv2D)           (None, 14, 14, 512)       262144    \n",
      "_________________________________________________________________\n",
      "conv_pw_7_bn (BatchNormaliza (None, 14, 14, 512)       2048      \n",
      "_________________________________________________________________\n",
      "conv_pw_7_relu (ReLU)        (None, 14, 14, 512)       0         \n",
      "_________________________________________________________________\n",
      "conv_dw_8 (DepthwiseConv2D)  (None, 14, 14, 512)       4608      \n",
      "_________________________________________________________________\n",
      "conv_dw_8_bn (BatchNormaliza (None, 14, 14, 512)       2048      \n",
      "_________________________________________________________________\n",
      "conv_dw_8_relu (ReLU)        (None, 14, 14, 512)       0         \n",
      "_________________________________________________________________\n",
      "conv_pw_8 (Conv2D)           (None, 14, 14, 512)       262144    \n",
      "_________________________________________________________________\n",
      "conv_pw_8_bn (BatchNormaliza (None, 14, 14, 512)       2048      \n",
      "_________________________________________________________________\n",
      "conv_pw_8_relu (ReLU)        (None, 14, 14, 512)       0         \n",
      "_________________________________________________________________\n",
      "conv_dw_9 (DepthwiseConv2D)  (None, 14, 14, 512)       4608      \n",
      "_________________________________________________________________\n",
      "conv_dw_9_bn (BatchNormaliza (None, 14, 14, 512)       2048      \n",
      "_________________________________________________________________\n",
      "conv_dw_9_relu (ReLU)        (None, 14, 14, 512)       0         \n",
      "_________________________________________________________________\n",
      "conv_pw_9 (Conv2D)           (None, 14, 14, 512)       262144    \n",
      "_________________________________________________________________\n",
      "conv_pw_9_bn (BatchNormaliza (None, 14, 14, 512)       2048      \n",
      "_________________________________________________________________\n",
      "conv_pw_9_relu (ReLU)        (None, 14, 14, 512)       0         \n",
      "_________________________________________________________________\n",
      "conv_dw_10 (DepthwiseConv2D) (None, 14, 14, 512)       4608      \n",
      "_________________________________________________________________\n",
      "conv_dw_10_bn (BatchNormaliz (None, 14, 14, 512)       2048      \n",
      "_________________________________________________________________\n",
      "conv_dw_10_relu (ReLU)       (None, 14, 14, 512)       0         \n",
      "_________________________________________________________________\n",
      "conv_pw_10 (Conv2D)          (None, 14, 14, 512)       262144    \n",
      "_________________________________________________________________\n",
      "conv_pw_10_bn (BatchNormaliz (None, 14, 14, 512)       2048      \n",
      "_________________________________________________________________\n",
      "conv_pw_10_relu (ReLU)       (None, 14, 14, 512)       0         \n",
      "_________________________________________________________________\n",
      "conv_dw_11 (DepthwiseConv2D) (None, 14, 14, 512)       4608      \n",
      "_________________________________________________________________\n",
      "conv_dw_11_bn (BatchNormaliz (None, 14, 14, 512)       2048      \n",
      "_________________________________________________________________\n",
      "conv_dw_11_relu (ReLU)       (None, 14, 14, 512)       0         \n",
      "_________________________________________________________________\n",
      "conv_pw_11 (Conv2D)          (None, 14, 14, 512)       262144    \n",
      "_________________________________________________________________\n",
      "conv_pw_11_bn (BatchNormaliz (None, 14, 14, 512)       2048      \n",
      "_________________________________________________________________\n",
      "conv_pw_11_relu (ReLU)       (None, 14, 14, 512)       0         \n",
      "_________________________________________________________________\n",
      "conv_pad_12 (ZeroPadding2D)  (None, 15, 15, 512)       0         \n",
      "_________________________________________________________________\n",
      "conv_dw_12 (DepthwiseConv2D) (None, 7, 7, 512)         4608      \n",
      "_________________________________________________________________\n",
      "conv_dw_12_bn (BatchNormaliz (None, 7, 7, 512)         2048      \n",
      "_________________________________________________________________\n",
      "conv_dw_12_relu (ReLU)       (None, 7, 7, 512)         0         \n",
      "_________________________________________________________________\n",
      "conv_pw_12 (Conv2D)          (None, 7, 7, 1024)        524288    \n",
      "_________________________________________________________________\n",
      "conv_pw_12_bn (BatchNormaliz (None, 7, 7, 1024)        4096      \n",
      "_________________________________________________________________\n",
      "conv_pw_12_relu (ReLU)       (None, 7, 7, 1024)        0         \n",
      "_________________________________________________________________\n",
      "conv_dw_13 (DepthwiseConv2D) (None, 7, 7, 1024)        9216      \n",
      "_________________________________________________________________\n",
      "conv_dw_13_bn (BatchNormaliz (None, 7, 7, 1024)        4096      \n",
      "_________________________________________________________________\n",
      "conv_dw_13_relu (ReLU)       (None, 7, 7, 1024)        0         \n",
      "_________________________________________________________________\n",
      "conv_pw_13 (Conv2D)          (None, 7, 7, 1024)        1048576   \n",
      "_________________________________________________________________\n",
      "conv_pw_13_bn (BatchNormaliz (None, 7, 7, 1024)        4096      \n",
      "_________________________________________________________________\n",
      "conv_pw_13_relu (ReLU)       (None, 7, 7, 1024)        0         \n",
      "_________________________________________________________________\n",
      "flatten (Flatten)            (None, 50176)             0         \n",
      "_________________________________________________________________\n",
      "dense (Dense)                (None, 200)               10035400  \n",
      "_________________________________________________________________\n",
      "dense_1 (Dense)              (None, 100)               20100     \n",
      "_________________________________________________________________\n",
      "dense_2 (Dense)              (None, 2)                 202       \n",
      "=================================================================\n",
      "Total params: 13,284,566\n",
      "Trainable params: 10,055,702\n",
      "Non-trainable params: 3,228,864\n",
      "_________________________________________________________________\n"
     ]
    }
   ],
   "source": [
    "# view the structure of the model\n",
    "model.summary()\n"
   ]
  },
  {
   "cell_type": "code",
   "execution_count": 10,
   "id": "d5bc5fe7",
   "metadata": {},
   "outputs": [],
   "source": [
    "model.compile(\n",
    "  loss='categorical_crossentropy',\n",
    "  optimizer='adam',\n",
    "  metrics=['accuracy']\n",
    ")"
   ]
  },
  {
   "cell_type": "code",
   "execution_count": 11,
   "id": "8928f2d7",
   "metadata": {},
   "outputs": [
    {
     "name": "stdout",
     "output_type": "stream",
     "text": [
      "Found 80 images belonging to 2 classes.\n",
      "Found 40 images belonging to 2 classes.\n"
     ]
    }
   ],
   "source": [
    "from keras.preprocessing.image import ImageDataGenerator\n",
    "\n",
    "train_datagen = ImageDataGenerator(rescale = 1./255,\n",
    "                                   shear_range = 0.2,\n",
    "                                   zoom_range = 0.2,\n",
    "                                   horizontal_flip = True)\n",
    "\n",
    "test_datagen = ImageDataGenerator(rescale = 1./255)\n",
    "  \n",
    "training_set = train_datagen.flow_from_directory('D:/CatractImagesMobileNet/cataract/GlaucomaDataset/Training-dataset/',\n",
    "                                                 target_size = (224, 224),\n",
    "                                                 batch_size = 32,\n",
    "                                                 class_mode = 'categorical')\n",
    "\n",
    "test_set = test_datagen.flow_from_directory('D:/CatractImagesMobileNet/cataract/GlaucomaDataset/Test-Dataset/',\n",
    "                                            target_size = (224, 224),\n",
    "                                            batch_size = 32,\n",
    "                                            class_mode = 'categorical')"
   ]
  },
  {
   "cell_type": "code",
   "execution_count": 12,
   "id": "9281fa52",
   "metadata": {},
   "outputs": [
    {
     "name": "stdout",
     "output_type": "stream",
     "text": [
      "glaucoma\n",
      "normal\n",
      "['glaucoma', 'normal']\n"
     ]
    }
   ],
   "source": [
    "import os\n",
    "cats=[]\n",
    "cat=[]\n",
    "for path, currentDirectory, files in os.walk(\"D:\\CatractImagesMobileNet\\cataract\\GlaucomaDataset\\Training-dataset\"):\n",
    "    for file in files:\n",
    "        #print(os.path.join(path, file))\n",
    "        #print(file)\n",
    "        cats=path.split(\"\\\\\")\n",
    "        cats=cats[len(cats)-1]\n",
    "        if cats not in cat:\n",
    "            cat.append(cats)\n",
    "            print(cats)\n",
    "cat.sort()\n",
    "print(cat)\n",
    "\n",
    "#images,cls = next(test_set)\n",
    "\n"
   ]
  },
  {
   "cell_type": "code",
   "execution_count": 13,
   "id": "0949ed3e",
   "metadata": {},
   "outputs": [],
   "source": [
    "#plt.imshow(images[3])\n",
    "#plt.savefig('D:\\\\imageeee.png')\n",
    "#print(\"ok\")\n",
    "#plt.show()"
   ]
  },
  {
   "cell_type": "code",
   "execution_count": 14,
   "id": "14bdb1b2",
   "metadata": {},
   "outputs": [
    {
     "data": {
      "text/plain": [
       "2"
      ]
     },
     "execution_count": 14,
     "metadata": {},
     "output_type": "execute_result"
    }
   ],
   "source": [
    "len(test_set)"
   ]
  },
  {
   "cell_type": "code",
   "execution_count": 20,
   "id": "8f1d7de4",
   "metadata": {},
   "outputs": [
    {
     "name": "stdout",
     "output_type": "stream",
     "text": [
      "Epoch 1/20\n",
      "3/3 [==============================] - 18s 6s/step - loss: 0.1756 - accuracy: 0.9500 - val_loss: 0.9606 - val_accuracy: 0.8000\n",
      "Epoch 2/20\n",
      "3/3 [==============================] - 16s 5s/step - loss: 0.0152 - accuracy: 0.9875 - val_loss: 1.7424 - val_accuracy: 0.7000\n",
      "Epoch 3/20\n",
      "3/3 [==============================] - 13s 4s/step - loss: 0.2317 - accuracy: 0.9500 - val_loss: 1.1228 - val_accuracy: 0.8000\n",
      "Epoch 4/20\n",
      "3/3 [==============================] - 14s 5s/step - loss: 0.0188 - accuracy: 0.9875 - val_loss: 1.6450 - val_accuracy: 0.7000\n",
      "Epoch 5/20\n",
      "3/3 [==============================] - 16s 5s/step - loss: 0.1371 - accuracy: 0.9500 - val_loss: 2.3027 - val_accuracy: 0.5750\n",
      "Epoch 6/20\n",
      "3/3 [==============================] - 17s 6s/step - loss: 0.1560 - accuracy: 0.9125 - val_loss: 1.3169 - val_accuracy: 0.7750\n",
      "Epoch 7/20\n",
      "3/3 [==============================] - 15s 5s/step - loss: 0.0892 - accuracy: 0.9750 - val_loss: 1.0633 - val_accuracy: 0.7750\n",
      "Epoch 8/20\n",
      "3/3 [==============================] - 19s 6s/step - loss: 0.0039 - accuracy: 1.0000 - val_loss: 1.3287 - val_accuracy: 0.8000\n",
      "Epoch 9/20\n",
      "3/3 [==============================] - 23s 8s/step - loss: 0.0033 - accuracy: 1.0000 - val_loss: 2.1241 - val_accuracy: 0.6500\n",
      "Epoch 10/20\n",
      "3/3 [==============================] - 23s 8s/step - loss: 0.0929 - accuracy: 0.9750 - val_loss: 1.8047 - val_accuracy: 0.6750\n",
      "Epoch 11/20\n",
      "3/3 [==============================] - 21s 7s/step - loss: 0.0145 - accuracy: 1.0000 - val_loss: 1.1823 - val_accuracy: 0.7750\n",
      "Epoch 12/20\n",
      "3/3 [==============================] - 19s 6s/step - loss: 0.0984 - accuracy: 0.9750 - val_loss: 1.5008 - val_accuracy: 0.7500\n",
      "Epoch 13/20\n",
      "3/3 [==============================] - 18s 6s/step - loss: 0.0328 - accuracy: 0.9875 - val_loss: 1.4303 - val_accuracy: 0.7500\n",
      "Epoch 14/20\n",
      "3/3 [==============================] - 25s 8s/step - loss: 2.3006e-04 - accuracy: 1.0000 - val_loss: 1.2888 - val_accuracy: 0.7250\n",
      "Epoch 15/20\n",
      "3/3 [==============================] - 19s 6s/step - loss: 0.0282 - accuracy: 0.9875 - val_loss: 1.6894 - val_accuracy: 0.7250\n",
      "Epoch 16/20\n",
      "3/3 [==============================] - 19s 6s/step - loss: 0.0904 - accuracy: 0.9750 - val_loss: 1.8356 - val_accuracy: 0.7250\n",
      "Epoch 17/20\n",
      "3/3 [==============================] - 19s 6s/step - loss: 0.0026 - accuracy: 1.0000 - val_loss: 1.1989 - val_accuracy: 0.6750\n",
      "Epoch 18/20\n",
      "3/3 [==============================] - 20s 7s/step - loss: 3.6769e-04 - accuracy: 1.0000 - val_loss: 1.6460 - val_accuracy: 0.7000\n",
      "Epoch 19/20\n",
      "3/3 [==============================] - 16s 5s/step - loss: 0.0395 - accuracy: 0.9750 - val_loss: 1.2703 - val_accuracy: 0.7750\n",
      "Epoch 20/20\n",
      "3/3 [==============================] - 16s 5s/step - loss: 0.0310 - accuracy: 0.9875 - val_loss: 1.5280 - val_accuracy: 0.7250\n"
     ]
    }
   ],
   "source": [
    "# fit the model\n",
    "r = model.fit(\n",
    "  training_set,\n",
    "  validation_data=test_set,\n",
    "  epochs=20,\n",
    "  steps_per_epoch=len(training_set),\n",
    "  validation_steps=len(test_set)\n",
    ")"
   ]
  },
  {
   "cell_type": "code",
   "execution_count": 16,
   "id": "5b6b92e2",
   "metadata": {},
   "outputs": [
    {
     "data": {
      "image/png": "[encoded data removed]",
      "text/plain": [
       "<Figure size 432x288 with 1 Axes>"
      ]
     },
     "metadata": {
      "needs_background": "light"
     },
     "output_type": "display_data"
    }
   ],
   "source": [
    "# loss\n",
    "plt.plot(r.history['loss'], label='train loss')\n",
    "plt.plot(r.history['val_loss'], label='val loss')\n",
    "plt.legend()\n",
    "plt.show()\n",
    "#plt.savefig('LossVal_loss')"
   ]
  },
  {
   "cell_type": "code",
   "execution_count": 17,
   "id": "9221b340",
   "metadata": {},
   "outputs": [
    {
     "data": {
      "image/png": "[encoded data removed]",
      "text/plain": [
       "<Figure size 432x288 with 1 Axes>"
      ]
     },
     "metadata": {
      "needs_background": "light"
     },
     "output_type": "display_data"
    }
   ],
   "source": [
    "# accuracies\n",
    "plt.plot(r.history['accuracy'], label='train acc')\n",
    "plt.plot(r.history['val_accuracy'], label='val acc')\n",
    "plt.legend()\n",
    "plt.show()\n",
    "#plt.savefig('AccVal_acc')"
   ]
  },
  {
   "cell_type": "code",
   "execution_count": 18,
   "id": "d4d5ac6f",
   "metadata": {},
   "outputs": [
    {
     "name": "stdout",
     "output_type": "stream",
     "text": [
      "2/2 [==============================] - 1s 312ms/step - loss: 1.9845 - accuracy: 0.6500\n",
      "0.6499999761581421\n",
      "1.9844682216644287\n"
     ]
    }
   ],
   "source": [
    "a, acc = model.evaluate(test_set)\n",
    "print(acc)\n",
    "print(a)"
   ]
  },
  {
   "cell_type": "code",
   "execution_count": 28,
   "id": "548eb945",
   "metadata": {},
   "outputs": [
    {
     "name": "stdout",
     "output_type": "stream",
     "text": [
      "WARNING:tensorflow:From C:\\Users\\saqib\\anaconda3\\envs\\TF\\lib\\site-packages\\tensorflow\\python\\training\\tracking\\tracking.py:111: Model.state_updates (from tensorflow.python.keras.engine.training) is deprecated and will be removed in a future version.\n",
      "Instructions for updating:\n",
      "This property should not be used in TensorFlow 2.0, as updates are applied automatically.\n",
      "WARNING:tensorflow:From C:\\Users\\saqib\\anaconda3\\envs\\TF\\lib\\site-packages\\tensorflow\\python\\training\\tracking\\tracking.py:111: Layer.updates (from tensorflow.python.keras.engine.base_layer) is deprecated and will be removed in a future version.\n",
      "Instructions for updating:\n",
      "This property should not be used in TensorFlow 2.0, as updates are applied automatically.\n",
      "INFO:tensorflow:Assets written to: D:/CatractImagesMobileNet/cataract/Mobile114Model.h4\\assets\n"
     ]
    }
   ],
   "source": [
    "model.save(\"D:/CatractImagesMobileNet/cataract/Mobile114Model.h4\")"
   ]
  },
  {
   "cell_type": "code",
   "execution_count": 181,
   "id": "d8dfe263",
   "metadata": {},
   "outputs": [],
   "source": []
  },
  {
   "cell_type": "code",
   "execution_count": 21,
   "id": "8961a368",
   "metadata": {},
   "outputs": [
    {
     "name": "stdout",
     "output_type": "stream",
     "text": [
      "Found 40 images belonging to 2 classes.\n",
      "[[2.79642493e-01 7.20357537e-01]\n",
      " [9.17692721e-01 8.23073164e-02]\n",
      " [9.99999285e-01 7.35101423e-07]\n",
      " [8.07221532e-01 1.92778468e-01]\n",
      " [9.98786747e-01 1.21329841e-03]\n",
      " [9.99646187e-01 3.53752577e-04]\n",
      " [6.83777258e-02 9.31622267e-01]\n",
      " [9.99998569e-01 1.40070460e-06]\n",
      " [2.60278910e-01 7.39721060e-01]\n",
      " [1.03405505e-01 8.96594465e-01]\n",
      " [1.54044883e-05 9.99984622e-01]\n",
      " [9.99739468e-01 2.60536704e-04]\n",
      " [9.99873519e-01 1.26523068e-04]\n",
      " [2.47766063e-01 7.52233922e-01]\n",
      " [1.00000000e+00 1.41577212e-08]\n",
      " [8.54140759e-01 1.45859212e-01]\n",
      " [9.99511003e-01 4.89012687e-04]\n",
      " [9.97862756e-01 2.13723467e-03]\n",
      " [9.54828113e-02 9.04517174e-01]\n",
      " [9.99994516e-01 5.52241681e-06]\n",
      " [9.99990344e-01 9.61432215e-06]\n",
      " [1.37162511e-04 9.99862790e-01]\n",
      " [8.03630706e-03 9.91963625e-01]\n",
      " [1.66202664e-01 8.33797336e-01]\n",
      " [9.99877453e-01 1.22501922e-04]\n",
      " [2.62482558e-07 9.99999762e-01]\n",
      " [9.99999881e-01 8.48439896e-08]\n",
      " [9.99999523e-01 4.53438247e-07]\n",
      " [9.99990582e-01 9.46049386e-06]\n",
      " [1.18820439e-03 9.98811841e-01]\n",
      " [9.54006970e-01 4.59930450e-02]\n",
      " [9.99997139e-01 2.89798368e-06]\n",
      " [1.22741156e-04 9.99877214e-01]\n",
      " [3.41247171e-02 9.65875328e-01]\n",
      " [3.36769149e-02 9.66323078e-01]\n",
      " [4.69782948e-01 5.30216992e-01]\n",
      " [9.99999523e-01 4.30567127e-07]\n",
      " [9.99999046e-01 9.66981247e-07]\n",
      " [2.77129352e-01 7.22870648e-01]\n",
      " [9.94225442e-01 5.77454083e-03]]\n"
     ]
    }
   ],
   "source": [
    "test_set = test_datagen.flow_from_directory(\"D:\\CatractImagesMobileNet\\cataract\\GlaucomaDataset\\\\Test-Dataset\",\n",
    "                                            target_size = (224, 224),\n",
    "                                            batch_size = 40,\n",
    "                                            class_mode = 'categorical')\n",
    "\n",
    "pred = model.predict(test_set)\n",
    "print(pred)\n",
    "     "
   ]
  },
  {
   "cell_type": "code",
   "execution_count": 24,
   "id": "7c8bf70b",
   "metadata": {},
   "outputs": [
    {
     "name": "stdout",
     "output_type": "stream",
     "text": [
      "Found 1 images belonging to 2 classes.\n",
      "[[9.999906e-01 9.459773e-06]]\n"
     ]
    }
   ],
   "source": [
    "test_set = test_datagen.flow_from_directory(\"D:\\CatractImagesMobileNet\\cataract\\CatractDataset\\\\TestG\",\n",
    "                                            target_size = (224, 224),\n",
    "                                            batch_size = 40,\n",
    "                                            class_mode = 'categorical')\n",
    "\n",
    "pred = model.predict(test_set)\n",
    "print(pred)\n",
    "     "
   ]
  },
  {
   "cell_type": "code",
   "execution_count": 25,
   "id": "1042fd7d",
   "metadata": {},
   "outputs": [
    {
     "data": {
      "text/plain": [
       "<matplotlib.image.AxesImage at 0x182c40918e0>"
      ]
     },
     "execution_count": 25,
     "metadata": {},
     "output_type": "execute_result"
    },
    {
     "data": {
      "image/png": "[encoded data removed]",
      "text/plain": [
       "<Figure size 432x288 with 1 Axes>"
      ]
     },
     "metadata": {
      "needs_background": "light"
     },
     "output_type": "display_data"
    }
   ],
   "source": [
    "images,cls = next(test_set)\n",
    "plt.imshow(images[0])"
   ]
  },
  {
   "cell_type": "code",
   "execution_count": null,
   "id": "e073e424",
   "metadata": {},
   "outputs": [],
   "source": []
  },
  {
   "cell_type": "code",
   "execution_count": null,
   "id": "07f68c1d",
   "metadata": {},
   "outputs": [],
   "source": []
  },
  {
   "cell_type": "code",
   "execution_count": null,
   "id": "c4c12418",
   "metadata": {},
   "outputs": [],
   "source": []
  },
  {
   "cell_type": "code",
   "execution_count": null,
   "id": "825a5173",
   "metadata": {},
   "outputs": [],
   "source": []
  },
  {
   "cell_type": "code",
   "execution_count": null,
   "id": "0759caee",
   "metadata": {},
   "outputs": [],
   "source": []
  },
  {
   "cell_type": "code",
   "execution_count": null,
   "id": "f7368888",
   "metadata": {},
   "outputs": [],
   "source": []
  },
  {
   "cell_type": "code",
   "execution_count": 66,
   "id": "a3cb4c87",
   "metadata": {},
   "outputs": [
    {
     "name": "stdout",
     "output_type": "stream",
     "text": [
      "1 Actual: normal\n",
      "File: glaucoma\\Glaucoma_061.png\n",
      "1predicted: normal\n",
      "[0. 1.]\n",
      "[0.3986419141292572, 0.6013581156730652]\n",
      "1 Actual: normal\n",
      "File: glaucoma\\Glaucoma_062.png\n",
      "0predicted: glaucoma\n",
      "[0. 1.]\n",
      "[0.7191030383110046, 0.28089696168899536]\n",
      "0 Actual: glaucoma\n",
      "File: glaucoma\\Glaucoma_063.png\n",
      "1predicted: normal\n",
      "[1. 0.]\n",
      "[0.0005508147878572345, 0.9994491934776306]\n",
      "0 Actual: glaucoma\n",
      "File: glaucoma\\Glaucoma_064.png\n",
      "1predicted: normal\n",
      "[1. 0.]\n",
      "[0.00011680311581585556, 0.9998831748962402]\n",
      "0 Actual: glaucoma\n",
      "File: glaucoma\\Glaucoma_065.png\n",
      "0predicted: glaucoma\n",
      "[1. 0.]\n",
      "[0.890227198600769, 0.10977286100387573]\n",
      "1 Actual: normal\n",
      "File: glaucoma\\Glaucoma_066.png\n",
      "1predicted: normal\n",
      "[0. 1.]\n",
      "[0.3043575584888458, 0.6956424117088318]\n",
      "1 Actual: normal\n",
      "File: glaucoma\\Glaucoma_067.png\n",
      "1predicted: normal\n",
      "[0. 1.]\n",
      "[0.4978525936603546, 0.5021474361419678]\n",
      "0 Actual: glaucoma\n",
      "File: glaucoma\\Glaucoma_068.png\n",
      "0predicted: glaucoma\n",
      "[1. 0.]\n",
      "[0.9926974177360535, 0.0073025948368012905]\n",
      "1 Actual: normal\n",
      "File: glaucoma\\Glaucoma_069.png\n",
      "0predicted: glaucoma\n",
      "[0. 1.]\n",
      "[0.9848944544792175, 0.015105538070201874]\n",
      "0 Actual: glaucoma\n",
      "File: glaucoma\\Glaucoma_070.png\n",
      "0predicted: glaucoma\n",
      "[1. 0.]\n",
      "[0.993445634841919, 0.006554343272000551]\n",
      "0 Actual: glaucoma\n",
      "File: glaucoma\\Glaucoma_071.png\n",
      "0predicted: glaucoma\n",
      "[1. 0.]\n",
      "[0.9986295700073242, 0.0013704252196475863]\n",
      "1 Actual: normal\n",
      "File: glaucoma\\Glaucoma_072.png\n",
      "1predicted: normal\n",
      "[0. 1.]\n",
      "[0.03378402814269066, 0.966215968132019]\n",
      "1 Actual: normal\n",
      "File: glaucoma\\Glaucoma_073.png\n",
      "0predicted: glaucoma\n",
      "[0. 1.]\n",
      "[0.9699144959449768, 0.03008555807173252]\n",
      "1 Actual: normal\n",
      "File: glaucoma\\Glaucoma_074.png\n",
      "0predicted: glaucoma\n",
      "[0. 1.]\n",
      "[0.9521334767341614, 0.04786653071641922]\n",
      "0 Actual: glaucoma\n",
      "File: glaucoma\\Glaucoma_075.png\n",
      "0predicted: glaucoma\n",
      "[1. 0.]\n",
      "[0.9989331364631653, 0.00106683315243572]\n",
      "0 Actual: glaucoma\n",
      "File: glaucoma\\Glaucoma_076.png\n",
      "1predicted: normal\n",
      "[1. 0.]\n",
      "[0.02682921290397644, 0.973170816898346]\n",
      "0 Actual: glaucoma\n",
      "File: glaucoma\\Glaucoma_077.png\n",
      "0predicted: glaucoma\n",
      "[1. 0.]\n",
      "[0.9999698400497437, 3.0185456125764176e-05]\n",
      "0 Actual: glaucoma\n",
      "File: glaucoma\\Glaucoma_078.png\n",
      "1predicted: normal\n",
      "[1. 0.]\n",
      "[0.07529816031455994, 0.9247018098831177]\n",
      "1 Actual: normal\n",
      "File: glaucoma\\Glaucoma_079.png\n",
      "0predicted: glaucoma\n",
      "[0. 1.]\n",
      "[0.9998949766159058, 0.00010503720841370523]\n",
      "1 Actual: normal\n",
      "File: glaucoma\\Glaucoma_080.png\n",
      "0predicted: glaucoma\n",
      "[0. 1.]\n",
      "[0.6859235763549805, 0.31407642364501953]\n",
      "0 Actual: glaucoma\n",
      "File: normal\\NL_061.png\n",
      "1predicted: normal\n",
      "[1. 0.]\n",
      "[0.0267624631524086, 0.9732375741004944]\n",
      "0 Actual: glaucoma\n",
      "File: normal\\NL_062.png\n",
      "1predicted: normal\n",
      "[1. 0.]\n",
      "[0.025954224169254303, 0.9740458130836487]\n",
      "1 Actual: normal\n",
      "File: normal\\NL_063.png\n",
      "1predicted: normal\n",
      "[0. 1.]\n",
      "[0.0009831191273406148, 0.9990168809890747]\n",
      "1 Actual: normal\n",
      "File: normal\\NL_064.png\n",
      "1predicted: normal\n",
      "[0. 1.]\n",
      "[0.09386090934276581, 0.906139075756073]\n",
      "0 Actual: glaucoma\n",
      "File: normal\\NL_065.png\n",
      "1predicted: normal\n",
      "[1. 0.]\n",
      "[0.06777210533618927, 0.9322279095649719]\n",
      "0 Actual: glaucoma\n",
      "File: normal\\NL_066.png\n",
      "0predicted: glaucoma\n",
      "[1. 0.]\n",
      "[0.9982689619064331, 0.001731009571813047]\n",
      "0 Actual: glaucoma\n",
      "File: normal\\NL_067.png\n",
      "1predicted: normal\n",
      "[1. 0.]\n",
      "[0.05596994608640671, 0.9440301060676575]\n",
      "1 Actual: normal\n",
      "File: normal\\NL_068.png\n",
      "0predicted: glaucoma\n",
      "[0. 1.]\n",
      "[0.9143109321594238, 0.08568910509347916]\n",
      "0 Actual: glaucoma\n",
      "File: normal\\NL_069.png\n",
      "0predicted: glaucoma\n",
      "[1. 0.]\n",
      "[0.976232647895813, 0.023767346516251564]\n",
      "1 Actual: normal\n",
      "File: normal\\NL_070.png\n",
      "1predicted: normal\n",
      "[0. 1.]\n",
      "[2.1467558326548897e-05, 0.9999785423278809]\n",
      "1 Actual: normal\n",
      "File: normal\\NL_071.png\n",
      "0predicted: glaucoma\n",
      "[0. 1.]\n",
      "[0.9761709570884705, 0.023829026147723198]\n",
      "1 Actual: normal\n",
      "File: normal\\NL_072.png\n",
      "1predicted: normal\n",
      "[0. 1.]\n",
      "[0.406916081905365, 0.5930839776992798]\n",
      "1 Actual: normal\n",
      "File: normal\\NL_073.png\n",
      "1predicted: normal\n",
      "[0. 1.]\n",
      "[6.125270010670647e-05, 0.9999387264251709]\n",
      "1 Actual: normal\n",
      "File: normal\\NL_074.png\n",
      "1predicted: normal\n",
      "[0. 1.]\n",
      "[0.0032274627592414618, 0.9967724680900574]\n",
      "0 Actual: glaucoma\n",
      "File: normal\\NL_075.png\n",
      "0predicted: glaucoma\n",
      "[1. 0.]\n",
      "[0.8696591854095459, 0.13034087419509888]\n",
      "0 Actual: glaucoma\n",
      "File: normal\\NL_076.png\n",
      "1predicted: normal\n",
      "[1. 0.]\n",
      "[0.03596141189336777, 0.964038610458374]\n",
      "0 Actual: glaucoma\n",
      "File: normal\\NL_077.png\n",
      "1predicted: normal\n",
      "[1. 0.]\n",
      "[0.0154576376080513, 0.9845423698425293]\n",
      "1 Actual: normal\n",
      "File: normal\\NL_078.png\n",
      "1predicted: normal\n",
      "[0. 1.]\n",
      "[0.06517523527145386, 0.9348247647285461]\n",
      "0 Actual: glaucoma\n",
      "File: normal\\NL_079.png\n",
      "1predicted: normal\n",
      "[1. 0.]\n",
      "[0.02287971042096615, 0.9771202802658081]\n",
      "1 Actual: normal\n",
      "File: normal\\NL_080.png\n",
      "0predicted: glaucoma\n",
      "[0. 1.]\n",
      "[0.9753406047821045, 0.024659354239702225]\n"
     ]
    },
    {
     "data": {
      "image/png": "[encoded data removed]",
      "text/plain": [
       "<Figure size 432x288 with 1 Axes>"
      ]
     },
     "metadata": {
      "needs_background": "light"
     },
     "output_type": "display_data"
    }
   ],
   "source": [
    "images,cls = next(test_set)\n",
    "filename=test_set.filenames\n",
    "\n",
    "#plt.imshow(images[0])\n",
    "#print(cls[0])\n",
    "#print(filename[0])\n",
    "i=0\n",
    "actual=[]\n",
    "predicted=[]\n",
    "for cl in cls:\n",
    "    c=cl.tolist()\n",
    "    max_value = max(c)\n",
    "    max_index = c.index(max_value)\n",
    "    print(str(max_index) + \" Actual: \" + cat[max_index])\n",
    "    print(\"File: \"  + filename[i])\n",
    "    plt.imshow(images[i])\n",
    "    actual.append(cat[max_index])\n",
    "    \n",
    "    pd=pred[i].tolist()\n",
    "    m_value = max(pd)\n",
    "    #print(max_value)\n",
    "    m_index = pd.index(m_value)\n",
    "    #print(max_index)\n",
    "    print(str(m_index) + \"predicted: \" + cat[m_index])\n",
    "    predicted.append(cat[m_index])\n",
    "    print(cl)\n",
    "    print(pd)\n",
    "    plt.savefig('D:\\\\CatractImagesMobileNet\\cataract\\Predicted\\Actual-' + str(cat[max_index]) + ' Predicted-' + str(cat[m_index])+ '-' + str(i) +'.png')\n",
    "    i=i+1\n",
    "    \n",
    "#print(pd)\n",
    "#plt.savefig('D:\\\\imageeee.png')\n",
    "#print(\"ok\")\n",
    "#plt.show()\n"
   ]
  },
  {
   "cell_type": "code",
   "execution_count": 67,
   "id": "7715d09d",
   "metadata": {},
   "outputs": [
    {
     "name": "stdout",
     "output_type": "stream",
     "text": [
      "[0. 1.]\n",
      "glaucoma\\Glaucoma_062.png\n"
     ]
    },
    {
     "data": {
      "image/png": "[encoded data removed]",
      "text/plain": [
       "<Figure size 432x288 with 1 Axes>"
      ]
     },
     "metadata": {
      "needs_background": "light"
     },
     "output_type": "display_data"
    }
   ],
   "source": [
    "plt.imshow(images[1])\n",
    "print(cls[1])\n",
    "print(filename[1])\n"
   ]
  },
  {
   "cell_type": "code",
   "execution_count": 68,
   "id": "410e07f0",
   "metadata": {},
   "outputs": [
    {
     "name": "stdout",
     "output_type": "stream",
     "text": [
      "[1. 0.]\n",
      "glaucoma\\Glaucoma_063.png\n"
     ]
    },
    {
     "data": {
      "image/png": "[encoded data removed]",
      "text/plain": [
       "<Figure size 432x288 with 1 Axes>"
      ]
     },
     "metadata": {
      "needs_background": "light"
     },
     "output_type": "display_data"
    }
   ],
   "source": [
    "plt.imshow(images[2])\n",
    "print(cls[2])\n",
    "print(filename[2])"
   ]
  },
  {
   "cell_type": "code",
   "execution_count": 69,
   "id": "30d4c81e",
   "metadata": {},
   "outputs": [
    {
     "name": "stdout",
     "output_type": "stream",
     "text": [
      "[1. 0.]\n",
      "glaucoma\\Glaucoma_064.png\n"
     ]
    },
    {
     "data": {
      "image/png": "[encoded data removed]",
      "text/plain": [
       "<Figure size 432x288 with 1 Axes>"
      ]
     },
     "metadata": {
      "needs_background": "light"
     },
     "output_type": "display_data"
    }
   ],
   "source": [
    "plt.imshow(images[3])\n",
    "print(cls[3])\n",
    "print(filename[3])"
   ]
  },
  {
   "cell_type": "code",
   "execution_count": null,
   "id": "a33e78c3",
   "metadata": {},
   "outputs": [],
   "source": []
  },
  {
   "cell_type": "code",
   "execution_count": 70,
   "id": "2a75e84d",
   "metadata": {},
   "outputs": [
    {
     "data": {
      "text/plain": [
       "['normal',\n",
       " 'normal',\n",
       " 'glaucoma',\n",
       " 'glaucoma',\n",
       " 'glaucoma',\n",
       " 'normal',\n",
       " 'normal',\n",
       " 'glaucoma',\n",
       " 'normal',\n",
       " 'glaucoma',\n",
       " 'glaucoma',\n",
       " 'normal',\n",
       " 'normal',\n",
       " 'normal',\n",
       " 'glaucoma',\n",
       " 'glaucoma',\n",
       " 'glaucoma',\n",
       " 'glaucoma',\n",
       " 'normal',\n",
       " 'normal',\n",
       " 'glaucoma',\n",
       " 'glaucoma',\n",
       " 'normal',\n",
       " 'normal',\n",
       " 'glaucoma',\n",
       " 'glaucoma',\n",
       " 'glaucoma',\n",
       " 'normal',\n",
       " 'glaucoma',\n",
       " 'normal',\n",
       " 'normal',\n",
       " 'normal',\n",
       " 'normal',\n",
       " 'normal',\n",
       " 'glaucoma',\n",
       " 'glaucoma',\n",
       " 'glaucoma',\n",
       " 'normal',\n",
       " 'glaucoma',\n",
       " 'normal']"
      ]
     },
     "execution_count": 70,
     "metadata": {},
     "output_type": "execute_result"
    }
   ],
   "source": [
    "actual"
   ]
  },
  {
   "cell_type": "code",
   "execution_count": 71,
   "id": "af57b7f4",
   "metadata": {
    "scrolled": false
   },
   "outputs": [
    {
     "name": "stdout",
     "output_type": "stream",
     "text": [
      "[0.3986419141292572, 0.6013581156730652]\n",
      "1predicted: normal\n",
      "[0.7191030383110046, 0.28089696168899536]\n",
      "0predicted: glaucoma\n",
      "[0.0005508147878572345, 0.9994491934776306]\n",
      "1predicted: normal\n",
      "[0.00011680311581585556, 0.9998831748962402]\n",
      "1predicted: normal\n",
      "[0.890227198600769, 0.10977286100387573]\n",
      "0predicted: glaucoma\n",
      "[0.3043575584888458, 0.6956424117088318]\n",
      "1predicted: normal\n",
      "[0.4978525936603546, 0.5021474361419678]\n",
      "1predicted: normal\n",
      "[0.9926974177360535, 0.0073025948368012905]\n",
      "0predicted: glaucoma\n",
      "[0.9848944544792175, 0.015105538070201874]\n",
      "0predicted: glaucoma\n",
      "[0.993445634841919, 0.006554343272000551]\n",
      "0predicted: glaucoma\n",
      "[0.9986295700073242, 0.0013704252196475863]\n",
      "0predicted: glaucoma\n",
      "[0.03378402814269066, 0.966215968132019]\n",
      "1predicted: normal\n",
      "[0.9699144959449768, 0.03008555807173252]\n",
      "0predicted: glaucoma\n",
      "[0.9521334767341614, 0.04786653071641922]\n",
      "0predicted: glaucoma\n",
      "[0.9989331364631653, 0.00106683315243572]\n",
      "0predicted: glaucoma\n",
      "[0.02682921290397644, 0.973170816898346]\n",
      "1predicted: normal\n",
      "[0.9999698400497437, 3.0185456125764176e-05]\n",
      "0predicted: glaucoma\n",
      "[0.07529816031455994, 0.9247018098831177]\n",
      "1predicted: normal\n",
      "[0.9998949766159058, 0.00010503720841370523]\n",
      "0predicted: glaucoma\n",
      "[0.6859235763549805, 0.31407642364501953]\n",
      "0predicted: glaucoma\n",
      "[0.0267624631524086, 0.9732375741004944]\n",
      "1predicted: normal\n",
      "[0.025954224169254303, 0.9740458130836487]\n",
      "1predicted: normal\n",
      "[0.0009831191273406148, 0.9990168809890747]\n",
      "1predicted: normal\n",
      "[0.09386090934276581, 0.906139075756073]\n",
      "1predicted: normal\n",
      "[0.06777210533618927, 0.9322279095649719]\n",
      "1predicted: normal\n",
      "[0.9982689619064331, 0.001731009571813047]\n",
      "0predicted: glaucoma\n",
      "[0.05596994608640671, 0.9440301060676575]\n",
      "1predicted: normal\n",
      "[0.9143109321594238, 0.08568910509347916]\n",
      "0predicted: glaucoma\n",
      "[0.976232647895813, 0.023767346516251564]\n",
      "0predicted: glaucoma\n",
      "[2.1467558326548897e-05, 0.9999785423278809]\n",
      "1predicted: normal\n",
      "[0.9761709570884705, 0.023829026147723198]\n",
      "0predicted: glaucoma\n",
      "[0.406916081905365, 0.5930839776992798]\n",
      "1predicted: normal\n",
      "[6.125270010670647e-05, 0.9999387264251709]\n",
      "1predicted: normal\n",
      "[0.0032274627592414618, 0.9967724680900574]\n",
      "1predicted: normal\n",
      "[0.8696591854095459, 0.13034087419509888]\n",
      "0predicted: glaucoma\n",
      "[0.03596141189336777, 0.964038610458374]\n",
      "1predicted: normal\n",
      "[0.0154576376080513, 0.9845423698425293]\n",
      "1predicted: normal\n",
      "[0.06517523527145386, 0.9348247647285461]\n",
      "1predicted: normal\n",
      "[0.02287971042096615, 0.9771202802658081]\n",
      "1predicted: normal\n",
      "[0.9753406047821045, 0.024659354239702225]\n",
      "0predicted: glaucoma\n"
     ]
    }
   ],
   "source": [
    "predicted=[]\n",
    "pre=pred.tolist()\n",
    "for pd in pre:\n",
    "    max_value = max(pd)\n",
    "    print(pd)\n",
    "    #print(max_value)\n",
    "    max_index = pd.index(max_value)\n",
    "    #print(max_index)\n",
    "    print(str(max_index) + \"predicted: \" + cat[max_index])\n",
    "    predicted.append(cat[max_index])"
   ]
  },
  {
   "cell_type": "code",
   "execution_count": 72,
   "id": "98472e41",
   "metadata": {},
   "outputs": [
    {
     "data": {
      "text/plain": [
       "40"
      ]
     },
     "execution_count": 72,
     "metadata": {},
     "output_type": "execute_result"
    }
   ],
   "source": [
    "len(actual)"
   ]
  },
  {
   "cell_type": "code",
   "execution_count": 73,
   "id": "2fe02c95",
   "metadata": {},
   "outputs": [
    {
     "name": "stdout",
     "output_type": "stream",
     "text": [
      "              precision    recall  f1-score   support\n",
      "\n",
      "    glaucoma       0.50      0.45      0.47        20\n",
      "      normal       0.50      0.55      0.52        20\n",
      "\n",
      "    accuracy                           0.50        40\n",
      "   macro avg       0.50      0.50      0.50        40\n",
      "weighted avg       0.50      0.50      0.50        40\n",
      "\n"
     ]
    }
   ],
   "source": [
    "from sklearn.metrics import classification_report\n",
    "print(classification_report(actual,predicted))"
   ]
  },
  {
   "cell_type": "code",
   "execution_count": null,
   "id": "b3761ef7",
   "metadata": {},
   "outputs": [],
   "source": []
  },
  {
   "cell_type": "raw",
   "id": "d3553a7e",
   "metadata": {},
   "source": []
  },
  {
   "cell_type": "code",
   "execution_count": 208,
   "id": "fa2da6e0",
   "metadata": {},
   "outputs": [],
   "source": [
    "#for file in test_set.filenames:\n",
    " #   print(file)"
   ]
  },
  {
   "cell_type": "code",
   "execution_count": null,
   "id": "eb32cc09",
   "metadata": {},
   "outputs": [],
   "source": []
  },
  {
   "cell_type": "code",
   "execution_count": null,
   "id": "8300836f",
   "metadata": {},
   "outputs": [],
   "source": []
  },
  {
   "cell_type": "code",
   "execution_count": null,
   "id": "66922b25",
   "metadata": {},
   "outputs": [],
   "source": [
    "\n"
   ]
  },
  {
   "cell_type": "code",
   "execution_count": null,
   "id": "21f2bdba",
   "metadata": {
    "scrolled": true
   },
   "outputs": [],
   "source": []
  },
  {
   "cell_type": "code",
   "execution_count": null,
   "id": "62c4139d",
   "metadata": {},
   "outputs": [],
   "source": []
  },
  {
   "cell_type": "code",
   "execution_count": null,
   "id": "764e0bf0",
   "metadata": {},
   "outputs": [],
   "source": []
  },
  {
   "cell_type": "code",
   "execution_count": null,
   "id": "3c19ae7f",
   "metadata": {},
   "outputs": [],
   "source": []
  },
  {
   "cell_type": "code",
   "execution_count": null,
   "id": "0c298a00",
   "metadata": {},
   "outputs": [],
   "source": []
  },
  {
   "cell_type": "code",
   "execution_count": null,
   "id": "ef9e09eb",
   "metadata": {},
   "outputs": [],
   "source": []
  },
  {
   "cell_type": "code",
   "execution_count": 210,
   "id": "62e60424",
   "metadata": {},
   "outputs": [],
   "source": [
    "\n",
    "\n",
    "#plt.savefig('D:\\\\imageeee.png')\n",
    "#print(\"ok\")\n",
    "#plt.show()"
   ]
  },
  {
   "cell_type": "code",
   "execution_count": null,
   "id": "0298da14",
   "metadata": {},
   "outputs": [],
   "source": []
  },
  {
   "cell_type": "code",
   "execution_count": null,
   "id": "14c7a3d4",
   "metadata": {},
   "outputs": [],
   "source": []
  },
  {
   "cell_type": "code",
   "execution_count": null,
   "id": "9d6a9e24",
   "metadata": {},
   "outputs": [],
   "source": []
  },
  {
   "cell_type": "code",
   "execution_count": null,
   "id": "291779d4",
   "metadata": {},
   "outputs": [],
   "source": []
  },
  {
   "cell_type": "code",
   "execution_count": null,
   "id": "3b1be98e",
   "metadata": {},
   "outputs": [],
   "source": []
  },
  {
   "cell_type": "code",
   "execution_count": null,
   "id": "d17dfe9e",
   "metadata": {},
   "outputs": [],
   "source": []
  },
  {
   "cell_type": "code",
   "execution_count": 211,
   "id": "4d57e81a",
   "metadata": {},
   "outputs": [],
   "source": []
  },
  {
   "cell_type": "code",
   "execution_count": null,
   "id": "0a63555a",
   "metadata": {},
   "outputs": [],
   "source": []
  },
  {
   "cell_type": "code",
   "execution_count": 20,
   "id": "07f0acb1",
   "metadata": {},
   "outputs": [],
   "source": [
    "#for t in test_set:\n",
    " #   print(t)"
   ]
  },
  {
   "cell_type": "code",
   "execution_count": null,
   "id": "c1caacb0",
   "metadata": {},
   "outputs": [],
   "source": []
  },
  {
   "cell_type": "code",
   "execution_count": null,
   "id": "26a93cfb",
   "metadata": {},
   "outputs": [],
   "source": []
  },
  {
   "cell_type": "code",
   "execution_count": null,
   "id": "2d55fcb4",
   "metadata": {},
   "outputs": [],
   "source": []
  },
  {
   "cell_type": "code",
   "execution_count": 24,
   "id": "b7de3798",
   "metadata": {},
   "outputs": [
    {
     "name": "stdout",
     "output_type": "stream",
     "text": [
      "32\n",
      "Index0\n",
      "Actual: cataract\n",
      "class [1.0, 0.0]\n",
      "Index0\n",
      "Actual: cataract\n",
      "class [1.0, 0.0]\n",
      "Index0\n",
      "Actual: cataract\n",
      "class [1.0, 0.0]\n",
      "Index0\n",
      "Actual: cataract\n",
      "class [1.0, 0.0]\n",
      "Index1\n",
      "Actual: normal\n",
      "class [0.0, 1.0]\n",
      "Index1\n",
      "Actual: normal\n",
      "class [0.0, 1.0]\n",
      "Index1\n",
      "Actual: normal\n",
      "class [0.0, 1.0]\n",
      "Index1\n",
      "Actual: normal\n",
      "class [0.0, 1.0]\n",
      "Index0\n",
      "Actual: cataract\n",
      "class [1.0, 0.0]\n",
      "Index1\n",
      "Actual: normal\n",
      "class [0.0, 1.0]\n",
      "Index1\n",
      "Actual: normal\n",
      "class [0.0, 1.0]\n",
      "Index0\n",
      "Actual: cataract\n",
      "class [1.0, 0.0]\n",
      "Index0\n",
      "Actual: cataract\n",
      "class [1.0, 0.0]\n",
      "Index0\n",
      "Actual: cataract\n",
      "class [1.0, 0.0]\n",
      "Index0\n",
      "Actual: cataract\n",
      "class [1.0, 0.0]\n",
      "Index0\n",
      "Actual: cataract\n",
      "class [1.0, 0.0]\n",
      "Index1\n",
      "Actual: normal\n",
      "class [0.0, 1.0]\n",
      "Index0\n",
      "Actual: cataract\n",
      "class [1.0, 0.0]\n",
      "Index0\n",
      "Actual: cataract\n",
      "class [1.0, 0.0]\n",
      "Index0\n",
      "Actual: cataract\n",
      "class [1.0, 0.0]\n",
      "Index1\n",
      "Actual: normal\n",
      "class [0.0, 1.0]\n",
      "Index1\n",
      "Actual: normal\n",
      "class [0.0, 1.0]\n",
      "Index1\n",
      "Actual: normal\n",
      "class [0.0, 1.0]\n",
      "Index0\n",
      "Actual: cataract\n",
      "class [1.0, 0.0]\n",
      "Index0\n",
      "Actual: cataract\n",
      "class [1.0, 0.0]\n",
      "Index1\n",
      "Actual: normal\n",
      "class [0.0, 1.0]\n",
      "Index1\n",
      "Actual: normal\n",
      "class [0.0, 1.0]\n",
      "Index1\n",
      "Actual: normal\n",
      "class [0.0, 1.0]\n",
      "Index0\n",
      "Actual: cataract\n",
      "class [1.0, 0.0]\n",
      "Index1\n",
      "Actual: normal\n",
      "class [0.0, 1.0]\n",
      "Index1\n",
      "Actual: normal\n",
      "class [0.0, 1.0]\n",
      "Index1\n",
      "Actual: normal\n",
      "class [0.0, 1.0]\n",
      "8\n",
      "Index1\n",
      "Actual: normal\n",
      "class [0.0, 1.0]\n",
      "Index0\n",
      "Actual: cataract\n",
      "class [1.0, 0.0]\n",
      "Index0\n",
      "Actual: cataract\n",
      "class [1.0, 0.0]\n",
      "Index0\n",
      "Actual: cataract\n",
      "class [1.0, 0.0]\n",
      "Index1\n",
      "Actual: normal\n",
      "class [0.0, 1.0]\n",
      "Index1\n",
      "Actual: normal\n",
      "class [0.0, 1.0]\n",
      "Index1\n",
      "Actual: normal\n",
      "class [0.0, 1.0]\n",
      "Index0\n",
      "Actual: cataract\n",
      "class [1.0, 0.0]\n",
      "32\n",
      "Index0\n",
      "Actual: cataract\n",
      "class [1.0, 0.0]\n",
      "Index0\n",
      "Actual: cataract\n",
      "class [1.0, 0.0]\n",
      "Index1\n",
      "Actual: normal\n",
      "class [0.0, 1.0]\n",
      "Index1\n",
      "Actual: normal\n",
      "class [0.0, 1.0]\n",
      "Index0\n",
      "Actual: cataract\n",
      "class [1.0, 0.0]\n",
      "Index0\n",
      "Actual: cataract\n",
      "class [1.0, 0.0]\n",
      "Index0\n",
      "Actual: cataract\n",
      "class [1.0, 0.0]\n",
      "Index0\n",
      "Actual: cataract\n",
      "class [1.0, 0.0]\n",
      "Index0\n",
      "Actual: cataract\n",
      "class [1.0, 0.0]\n",
      "Index0\n",
      "Actual: cataract\n",
      "class [1.0, 0.0]\n",
      "Index1\n",
      "Actual: normal\n",
      "class [0.0, 1.0]\n",
      "Index1\n",
      "Actual: normal\n",
      "class [0.0, 1.0]\n",
      "Index0\n",
      "Actual: cataract\n",
      "class [1.0, 0.0]\n",
      "Index1\n",
      "Actual: normal\n",
      "class [0.0, 1.0]\n",
      "Index1\n",
      "Actual: normal\n",
      "class [0.0, 1.0]\n",
      "Index1\n",
      "Actual: normal\n",
      "class [0.0, 1.0]\n",
      "Index1\n",
      "Actual: normal\n",
      "class [0.0, 1.0]\n",
      "Index1\n",
      "Actual: normal\n",
      "class [0.0, 1.0]\n",
      "Index1\n",
      "Actual: normal\n",
      "class [0.0, 1.0]\n",
      "Index0\n",
      "Actual: cataract\n",
      "class [1.0, 0.0]\n",
      "Index1\n",
      "Actual: normal\n",
      "class [0.0, 1.0]\n",
      "Index1\n",
      "Actual: normal\n",
      "class [0.0, 1.0]\n",
      "Index0\n",
      "Actual: cataract\n",
      "class [1.0, 0.0]\n",
      "Index1\n",
      "Actual: normal\n",
      "class [0.0, 1.0]\n",
      "Index0\n",
      "Actual: cataract\n",
      "class [1.0, 0.0]\n",
      "Index0\n",
      "Actual: cataract\n",
      "class [1.0, 0.0]\n",
      "Index0\n",
      "Actual: cataract\n",
      "class [1.0, 0.0]\n",
      "Index1\n",
      "Actual: normal\n",
      "class [0.0, 1.0]\n",
      "Index1\n",
      "Actual: normal\n",
      "class [0.0, 1.0]\n",
      "Index1\n",
      "Actual: normal\n",
      "class [0.0, 1.0]\n",
      "Index1\n",
      "Actual: normal\n",
      "class [0.0, 1.0]\n",
      "Index0\n",
      "Actual: cataract\n",
      "class [1.0, 0.0]\n",
      "8\n",
      "Index0\n",
      "Actual: cataract\n",
      "class [1.0, 0.0]\n",
      "Index1\n",
      "Actual: normal\n",
      "class [0.0, 1.0]\n",
      "Index1\n",
      "Actual: normal\n",
      "class [0.0, 1.0]\n",
      "Index0\n",
      "Actual: cataract\n",
      "class [1.0, 0.0]\n",
      "Index0\n",
      "Actual: cataract\n",
      "class [1.0, 0.0]\n",
      "Index1\n",
      "Actual: normal\n",
      "class [0.0, 1.0]\n",
      "Index0\n",
      "Actual: cataract\n",
      "class [1.0, 0.0]\n",
      "Index0\n",
      "Actual: cataract\n",
      "class [1.0, 0.0]\n",
      "32\n",
      "Index0\n",
      "Actual: cataract\n",
      "class [1.0, 0.0]\n",
      "Index1\n",
      "Actual: normal\n",
      "class [0.0, 1.0]\n",
      "Index0\n",
      "Actual: cataract\n",
      "class [1.0, 0.0]\n",
      "Index0\n",
      "Actual: cataract\n",
      "class [1.0, 0.0]\n",
      "Index0\n",
      "Actual: cataract\n",
      "class [1.0, 0.0]\n",
      "Index1\n",
      "Actual: normal\n",
      "class [0.0, 1.0]\n",
      "Index0\n",
      "Actual: cataract\n",
      "class [1.0, 0.0]\n",
      "Index1\n",
      "Actual: normal\n",
      "class [0.0, 1.0]\n",
      "Index0\n",
      "Actual: cataract\n",
      "class [1.0, 0.0]\n",
      "Index1\n",
      "Actual: normal\n",
      "class [0.0, 1.0]\n",
      "Index0\n",
      "Actual: cataract\n",
      "class [1.0, 0.0]\n",
      "Index1\n",
      "Actual: normal\n",
      "class [0.0, 1.0]\n",
      "Index0\n",
      "Actual: cataract\n",
      "class [1.0, 0.0]\n",
      "Index1\n",
      "Actual: normal\n",
      "class [0.0, 1.0]\n",
      "Index1\n",
      "Actual: normal\n",
      "class [0.0, 1.0]\n",
      "Index1\n",
      "Actual: normal\n",
      "class [0.0, 1.0]\n",
      "Index0\n",
      "Actual: cataract\n",
      "class [1.0, 0.0]\n",
      "Index0\n",
      "Actual: cataract\n",
      "class [1.0, 0.0]\n",
      "Index1\n",
      "Actual: normal\n",
      "class [0.0, 1.0]\n",
      "Index1\n",
      "Actual: normal\n",
      "class [0.0, 1.0]\n",
      "Index0\n",
      "Actual: cataract\n",
      "class [1.0, 0.0]\n",
      "Index1\n",
      "Actual: normal\n",
      "class [0.0, 1.0]\n",
      "Index1\n",
      "Actual: normal\n",
      "class [0.0, 1.0]\n",
      "Index0\n",
      "Actual: cataract\n",
      "class [1.0, 0.0]\n",
      "Index0\n",
      "Actual: cataract\n",
      "class [1.0, 0.0]\n",
      "Index1\n",
      "Actual: normal\n",
      "class [0.0, 1.0]\n",
      "Index1\n",
      "Actual: normal\n",
      "class [0.0, 1.0]\n",
      "Index0\n",
      "Actual: cataract\n",
      "class [1.0, 0.0]\n",
      "Index1\n",
      "Actual: normal\n",
      "class [0.0, 1.0]\n",
      "Index1\n",
      "Actual: normal\n",
      "class [0.0, 1.0]\n",
      "Index1\n",
      "Actual: normal\n",
      "class [0.0, 1.0]\n",
      "Index0\n",
      "Actual: cataract\n",
      "class [1.0, 0.0]\n"
     ]
    }
   ],
   "source": [
    "actual=[]\n",
    "img=1\n",
    "row=1\n",
    "for i in range(int(imageCount/8)):\n",
    "    images,cls = next(test_set)\n",
    "    print(len(cls))\n",
    "    #print(\"In in first batch at 3\")\n",
    "    j=0\n",
    "    for c in cls:\n",
    "        cl=c.tolist()\n",
    "        m_value = max(cl)\n",
    "        m_index = cl.index(m_value)\n",
    "        print(\"Index\" + str(m_index))\n",
    "        print(\"Actual: \" + cat[m_index])\n",
    "        print(\"class\", cl)\n",
    "        actual.append(cat[m_index])\n",
    "        worksheet1.write(row, 1, str(cat[m_index]))\n",
    "        \n",
    "        #plt.imshow(images[j])\n",
    "        #plt.savefig(\"D:\\\\ImagesForCocoAssesment\\\\MobileNet\\\\TagsForInputImagesGeneratedByProgram\\\\\" + str(img) + \"-\" + str(cat[m_index]) + \".png\")\n",
    "        img=img+1\n",
    "        j=j+1\n",
    "        row=row+1\n",
    "    i=i+1\n",
    " \n"
   ]
  },
  {
   "cell_type": "code",
   "execution_count": 72,
   "id": "65868711",
   "metadata": {},
   "outputs": [
    {
     "name": "stderr",
     "output_type": "stream",
     "text": [
      "C:\\Users\\saqib\\anaconda3\\envs\\TF\\lib\\site-packages\\xlsxwriter\\workbook.py:338: UserWarning: Calling close() on already closed file.\n",
      "  warn(\"Calling close() on already closed file.\")\n"
     ]
    }
   ],
   "source": [
    "workbook.close()    \n",
    "    "
   ]
  },
  {
   "cell_type": "code",
   "execution_count": 227,
   "id": "7f8c0ac7",
   "metadata": {},
   "outputs": [
    {
     "data": {
      "text/plain": [
       "['cataract',\n",
       " 'cataract',\n",
       " 'cataract',\n",
       " 'cataract',\n",
       " 'normal',\n",
       " 'normal',\n",
       " 'normal',\n",
       " 'normal',\n",
       " 'cataract',\n",
       " 'normal',\n",
       " 'normal',\n",
       " 'cataract',\n",
       " 'cataract',\n",
       " 'cataract',\n",
       " 'cataract',\n",
       " 'cataract',\n",
       " 'normal',\n",
       " 'cataract',\n",
       " 'cataract',\n",
       " 'cataract',\n",
       " 'normal',\n",
       " 'normal',\n",
       " 'normal',\n",
       " 'cataract',\n",
       " 'cataract',\n",
       " 'normal',\n",
       " 'normal',\n",
       " 'normal',\n",
       " 'cataract',\n",
       " 'normal',\n",
       " 'normal',\n",
       " 'normal',\n",
       " 'normal',\n",
       " 'cataract',\n",
       " 'cataract',\n",
       " 'cataract',\n",
       " 'normal',\n",
       " 'normal',\n",
       " 'normal',\n",
       " 'cataract',\n",
       " 'cataract',\n",
       " 'cataract',\n",
       " 'normal',\n",
       " 'normal',\n",
       " 'cataract',\n",
       " 'cataract',\n",
       " 'cataract',\n",
       " 'cataract',\n",
       " 'cataract',\n",
       " 'cataract',\n",
       " 'normal',\n",
       " 'normal',\n",
       " 'cataract',\n",
       " 'normal',\n",
       " 'normal',\n",
       " 'normal',\n",
       " 'normal',\n",
       " 'normal',\n",
       " 'normal',\n",
       " 'cataract',\n",
       " 'normal',\n",
       " 'normal',\n",
       " 'cataract',\n",
       " 'normal',\n",
       " 'cataract',\n",
       " 'cataract',\n",
       " 'cataract',\n",
       " 'normal',\n",
       " 'normal',\n",
       " 'normal',\n",
       " 'normal',\n",
       " 'cataract',\n",
       " 'cataract',\n",
       " 'normal',\n",
       " 'normal',\n",
       " 'cataract',\n",
       " 'cataract',\n",
       " 'normal',\n",
       " 'cataract',\n",
       " 'cataract',\n",
       " 'cataract',\n",
       " 'normal',\n",
       " 'cataract',\n",
       " 'cataract',\n",
       " 'cataract',\n",
       " 'normal',\n",
       " 'cataract',\n",
       " 'normal',\n",
       " 'cataract',\n",
       " 'normal',\n",
       " 'cataract',\n",
       " 'normal',\n",
       " 'cataract',\n",
       " 'normal',\n",
       " 'normal',\n",
       " 'normal',\n",
       " 'cataract',\n",
       " 'cataract',\n",
       " 'normal',\n",
       " 'normal',\n",
       " 'cataract',\n",
       " 'normal',\n",
       " 'normal',\n",
       " 'cataract',\n",
       " 'cataract',\n",
       " 'normal',\n",
       " 'normal',\n",
       " 'cataract',\n",
       " 'normal',\n",
       " 'normal',\n",
       " 'normal',\n",
       " 'cataract']"
      ]
     },
     "execution_count": 227,
     "metadata": {},
     "output_type": "execute_result"
    }
   ],
   "source": [
    "actual"
   ]
  },
  {
   "cell_type": "code",
   "execution_count": 242,
   "id": "0c497178",
   "metadata": {},
   "outputs": [
    {
     "name": "stdout",
     "output_type": "stream",
     "text": [
      "              precision    recall  f1-score   support\n",
      "\n",
      "    cataract       1.00      1.00      1.00         2\n",
      "      normal       1.00      1.00      1.00         1\n",
      "\n",
      "    accuracy                           1.00         3\n",
      "   macro avg       1.00      1.00      1.00         3\n",
      "weighted avg       1.00      1.00      1.00         3\n",
      "\n"
     ]
    }
   ],
   "source": []
  },
  {
   "cell_type": "code",
   "execution_count": null,
   "id": "1234de94",
   "metadata": {},
   "outputs": [],
   "source": []
  },
  {
   "cell_type": "code",
   "execution_count": null,
   "id": "ad39bc21",
   "metadata": {},
   "outputs": [],
   "source": []
  },
  {
   "cell_type": "code",
   "execution_count": null,
   "id": "7e02db07",
   "metadata": {},
   "outputs": [],
   "source": []
  },
  {
   "cell_type": "code",
   "execution_count": 208,
   "id": "be63c6e8",
   "metadata": {},
   "outputs": [
    {
     "data": {
      "text/plain": [
       "32"
      ]
     },
     "execution_count": 208,
     "metadata": {},
     "output_type": "execute_result"
    }
   ],
   "source": []
  },
  {
   "cell_type": "code",
   "execution_count": null,
   "id": "384f47f0",
   "metadata": {},
   "outputs": [],
   "source": []
  },
  {
   "cell_type": "code",
   "execution_count": null,
   "id": "c8e8d9b4",
   "metadata": {},
   "outputs": [],
   "source": []
  },
  {
   "cell_type": "code",
   "execution_count": null,
   "id": "da72f2ad",
   "metadata": {},
   "outputs": [],
   "source": []
  },
  {
   "cell_type": "code",
   "execution_count": null,
   "id": "3ae78213",
   "metadata": {},
   "outputs": [],
   "source": []
  },
  {
   "cell_type": "code",
   "execution_count": null,
   "id": "42ad0160",
   "metadata": {},
   "outputs": [],
   "source": []
  },
  {
   "cell_type": "code",
   "execution_count": null,
   "id": "56a1bcb0",
   "metadata": {},
   "outputs": [],
   "source": []
  },
  {
   "cell_type": "code",
   "execution_count": null,
   "id": "534ab73a",
   "metadata": {},
   "outputs": [],
   "source": []
  },
  {
   "cell_type": "code",
   "execution_count": null,
   "id": "8edef539",
   "metadata": {},
   "outputs": [],
   "source": []
  },
  {
   "cell_type": "code",
   "execution_count": null,
   "id": "193fad91",
   "metadata": {},
   "outputs": [],
   "source": [
    "\n"
   ]
  },
  {
   "cell_type": "code",
   "execution_count": null,
   "id": "42771e1b",
   "metadata": {},
   "outputs": [],
   "source": []
  },
  {
   "cell_type": "code",
   "execution_count": null,
   "id": "fc4149ad",
   "metadata": {},
   "outputs": [],
   "source": []
  },
  {
   "cell_type": "code",
   "execution_count": null,
   "id": "48ef9454",
   "metadata": {},
   "outputs": [],
   "source": []
  },
  {
   "cell_type": "code",
   "execution_count": null,
   "id": "1ee7e7cb",
   "metadata": {},
   "outputs": [],
   "source": []
  }
 ],
 "metadata": {
  "kernelspec": {
   "display_name": "Python 3 (ipykernel)",
   "language": "python",
   "name": "python3"
  },
  "language_info": {
   "codemirror_mode": {
    "name": "ipython",
    "version": 3
   },
   "file_extension": ".py",
   "mimetype": "text/x-python",
   "name": "python",
   "nbconvert_exporter": "python",
   "pygments_lexer": "ipython3",
   "version": "3.8.13"
  }
 },
 "nbformat": 4,
 "nbformat_minor": 5
}
